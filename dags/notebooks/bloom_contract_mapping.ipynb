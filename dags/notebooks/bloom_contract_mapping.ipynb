{
 "cells": [
  {
   "cell_type": "code",
   "execution_count": 1,
   "metadata": {
    "collapsed": true
   },
   "outputs": [
    {
     "data": {
      "text/plain": "\u001B[1;33m/tmp/ipykernel_3559/\u001B[0m\u001B[1;33m1888061882.py\u001B[0m\u001B[1;33m:\u001B[0m\u001B[1;33m8\u001B[0m\u001B[1;33m DeprecationWarning\u001B[0m\u001B[33m: The \u001B[0m\u001B[33m\"schema\"\u001B[0m\u001B[33m arg has been renamed to \u001B[0m\u001B[33m\"database\"\u001B[0m\u001B[33m as it contained the database name.Please use \u001B[0m\u001B[33m\"database\"\u001B[0m\u001B[33m to set the database name.\u001B[0m\n",
      "text/html": "<pre style=\"white-space:pre;overflow-x:auto;line-height:normal;font-family:Menlo,'DejaVu Sans Mono',consolas,'Courier New',monospace\"><span style=\"color: #808000; text-decoration-color: #808000; font-weight: bold\">/tmp/ipykernel_3559/1888061882.py:</span><span style=\"color: #808000; text-decoration-color: #808000; font-weight: bold\">8</span><span style=\"color: #808000; text-decoration-color: #808000; font-weight: bold\"> DeprecationWarning</span><span style=\"color: #808000; text-decoration-color: #808000\">: The </span><span style=\"color: #808000; text-decoration-color: #808000\">\"schema\"</span><span style=\"color: #808000; text-decoration-color: #808000\"> arg has been renamed to </span><span style=\"color: #808000; text-decoration-color: #808000\">\"database\"</span><span style=\"color: #808000; text-decoration-color: #808000\"> as it contained the database name.Please use </span><span style=\"color: #808000; text-decoration-color: #808000\">\"database\"</span><span style=\"color: #808000; text-decoration-color: #808000\"> to set the database name.</span>\n</pre>\n"
     },
     "metadata": {},
     "output_type": "display_data"
    },
    {
     "data": {
      "text/plain": "\u001B[1;33m/tmp/ipykernel_3559/\u001B[0m\u001B[1;33m1888061882.py\u001B[0m\u001B[1;33m:\u001B[0m\u001B[1;33m11\u001B[0m\u001B[1;33m DeprecationWarning\u001B[0m\u001B[33m: The \u001B[0m\u001B[33m\"schema\"\u001B[0m\u001B[33m arg has been renamed to \u001B[0m\u001B[33m\"database\"\u001B[0m\u001B[33m as it contained the database name.Please use \u001B[0m\u001B[33m\"database\"\u001B[0m\u001B[33m to set the database name.\u001B[0m\n",
      "text/html": "<pre style=\"white-space:pre;overflow-x:auto;line-height:normal;font-family:Menlo,'DejaVu Sans Mono',consolas,'Courier New',monospace\"><span style=\"color: #808000; text-decoration-color: #808000; font-weight: bold\">/tmp/ipykernel_3559/1888061882.py:</span><span style=\"color: #808000; text-decoration-color: #808000; font-weight: bold\">11</span><span style=\"color: #808000; text-decoration-color: #808000; font-weight: bold\"> DeprecationWarning</span><span style=\"color: #808000; text-decoration-color: #808000\">: The </span><span style=\"color: #808000; text-decoration-color: #808000\">\"schema\"</span><span style=\"color: #808000; text-decoration-color: #808000\"> arg has been renamed to </span><span style=\"color: #808000; text-decoration-color: #808000\">\"database\"</span><span style=\"color: #808000; text-decoration-color: #808000\"> as it contained the database name.Please use </span><span style=\"color: #808000; text-decoration-color: #808000\">\"database\"</span><span style=\"color: #808000; text-decoration-color: #808000\"> to set the database name.</span>\n</pre>\n"
     },
     "metadata": {},
     "output_type": "display_data"
    }
   ],
   "source": [
    "import json\n",
    "import pandas as pd\n",
    "import numpy as np\n",
    "import datetime\n",
    "from airflow.providers.postgres.hooks.postgres import PostgresHook\n",
    "from airflow.providers.mysql.hooks.mysql import MySqlHook\n",
    "import seaborn as sns\n",
    "warehouse_hook = PostgresHook(postgres_conn_id='rds_afsg_ds_prod_postgresql_dwh', schema='afsg_ds_prod_postgresql_dwh')\n",
    "mifos_hook = MySqlHook(mysql_conn_id='mifos_db', schema='mifostenant-safaricom')\n",
    "airflow_hook = MySqlHook(mysql_conn_id='mysql_airflow', schema='bloom_pipeline')\n",
    "middleware_hook = PostgresHook(postgres_conn_id='asante_mfs_middleware', schema='asante_datawarehouse')\n",
    "jubilee_hook = MySqlHook(mysql_conn_id='mifos_db', schema='mifostenant-jubilee')\n",
    "solv_hook = MySqlHook(mysql_conn_id='solv_ke', schema='solvke_staging')"
   ]
  },
  {
   "cell_type": "code",
   "execution_count": 2,
   "outputs": [],
   "source": [
    "dt = pd.read_excel('~/data/Accounts with Null Blances - Investigated 20230706.xlsx')"
   ],
   "metadata": {
    "collapsed": false
   }
  },
  {
   "cell_type": "code",
   "execution_count": 3,
   "outputs": [
    {
     "data": {
      "text/plain": "     CFID  LOAN ID            DEBTOR NAME      IDENTIFICATION  MEMBER NO  \\\n0  170153   315334   Gauku Samuel Mugambi            35196652     174390   \n1  170042   315146            Daisy Jerop  201300000020855891     159769   \n2  170044   315088  David Mbede Mwambacha            11310184      56324   \n3  169701   314264    Peter Ngigi Wanjiku            26399734      13059   \n4  169530   314231  Samwel Machoni Ongaro            39428343      99262   \n\n   ACCOUNT NO    CONTACT(s)  EMAIL(s)  PRINCIPAL AMOUNT  LOAN AMOUNT  ...  \\\n0      315334  254790449667       NaN              1200      1205.76  ...   \n1      315146  254715507379       NaN              1600      1607.68  ...   \n2      315088  254716393718       NaN              1300      1306.24  ...   \n3      314264  254768021277       NaN             13200     13611.84  ...   \n4      314231  254115653233       NaN              6100      6290.32  ...   \n\n   LAST PAY AMOUNT     LAST ACTION DATE     NEXT ACTION DATE  EMPLOYERS  \\\n0              0.0  2023-07-06 08:24:36  2023-07-07 08:24:00        NaN   \n1              0.0  2023-07-06 08:09:05  2023-07-07 08:09:00        NaN   \n2              0.0  2023-07-03 09:28:07  2023-07-06 09:28:00        NaN   \n3              0.0  2023-07-05 08:41:47  2023-07-07 08:41:00        NaN   \n4              0.0  2023-07-04 10:22:33  2023-07-04 00:00:00        NaN   \n\n  SEGMENTS CONTRACT ID Balance as per Statement Details File (5th July 2023)  \\\n0      NaN         NaN                                                NaN      \n1      NaN         NaN                                                NaN      \n2      NaN         NaN                                                NaN      \n3      NaN         NaN                                                NaN      \n4      NaN         NaN                                                NaN      \n\n  In Closed Contracts? Closure Date Total Repayments by Closure Date  \n0                  NaN          NaN                              NaN  \n1                  NaN          NaN                              NaN  \n2                  NaN          NaN                              NaN  \n3                  NaN          NaN                              NaN  \n4                  NaN          NaN                              NaN  \n\n[5 rows x 36 columns]",
      "text/html": "<div>\n<style scoped>\n    .dataframe tbody tr th:only-of-type {\n        vertical-align: middle;\n    }\n\n    .dataframe tbody tr th {\n        vertical-align: top;\n    }\n\n    .dataframe thead th {\n        text-align: right;\n    }\n</style>\n<table border=\"1\" class=\"dataframe\">\n  <thead>\n    <tr style=\"text-align: right;\">\n      <th></th>\n      <th>CFID</th>\n      <th>LOAN ID</th>\n      <th>DEBTOR NAME</th>\n      <th>IDENTIFICATION</th>\n      <th>MEMBER NO</th>\n      <th>ACCOUNT NO</th>\n      <th>CONTACT(s)</th>\n      <th>EMAIL(s)</th>\n      <th>PRINCIPAL AMOUNT</th>\n      <th>LOAN AMOUNT</th>\n      <th>...</th>\n      <th>LAST PAY AMOUNT</th>\n      <th>LAST ACTION DATE</th>\n      <th>NEXT ACTION DATE</th>\n      <th>EMPLOYERS</th>\n      <th>SEGMENTS</th>\n      <th>CONTRACT ID</th>\n      <th>Balance as per Statement Details File (5th July 2023)</th>\n      <th>In Closed Contracts?</th>\n      <th>Closure Date</th>\n      <th>Total Repayments by Closure Date</th>\n    </tr>\n  </thead>\n  <tbody>\n    <tr>\n      <th>0</th>\n      <td>170153</td>\n      <td>315334</td>\n      <td>Gauku Samuel Mugambi</td>\n      <td>35196652</td>\n      <td>174390</td>\n      <td>315334</td>\n      <td>254790449667</td>\n      <td>NaN</td>\n      <td>1200</td>\n      <td>1205.76</td>\n      <td>...</td>\n      <td>0.0</td>\n      <td>2023-07-06 08:24:36</td>\n      <td>2023-07-07 08:24:00</td>\n      <td>NaN</td>\n      <td>NaN</td>\n      <td>NaN</td>\n      <td>NaN</td>\n      <td>NaN</td>\n      <td>NaN</td>\n      <td>NaN</td>\n    </tr>\n    <tr>\n      <th>1</th>\n      <td>170042</td>\n      <td>315146</td>\n      <td>Daisy Jerop</td>\n      <td>201300000020855891</td>\n      <td>159769</td>\n      <td>315146</td>\n      <td>254715507379</td>\n      <td>NaN</td>\n      <td>1600</td>\n      <td>1607.68</td>\n      <td>...</td>\n      <td>0.0</td>\n      <td>2023-07-06 08:09:05</td>\n      <td>2023-07-07 08:09:00</td>\n      <td>NaN</td>\n      <td>NaN</td>\n      <td>NaN</td>\n      <td>NaN</td>\n      <td>NaN</td>\n      <td>NaN</td>\n      <td>NaN</td>\n    </tr>\n    <tr>\n      <th>2</th>\n      <td>170044</td>\n      <td>315088</td>\n      <td>David Mbede Mwambacha</td>\n      <td>11310184</td>\n      <td>56324</td>\n      <td>315088</td>\n      <td>254716393718</td>\n      <td>NaN</td>\n      <td>1300</td>\n      <td>1306.24</td>\n      <td>...</td>\n      <td>0.0</td>\n      <td>2023-07-03 09:28:07</td>\n      <td>2023-07-06 09:28:00</td>\n      <td>NaN</td>\n      <td>NaN</td>\n      <td>NaN</td>\n      <td>NaN</td>\n      <td>NaN</td>\n      <td>NaN</td>\n      <td>NaN</td>\n    </tr>\n    <tr>\n      <th>3</th>\n      <td>169701</td>\n      <td>314264</td>\n      <td>Peter Ngigi Wanjiku</td>\n      <td>26399734</td>\n      <td>13059</td>\n      <td>314264</td>\n      <td>254768021277</td>\n      <td>NaN</td>\n      <td>13200</td>\n      <td>13611.84</td>\n      <td>...</td>\n      <td>0.0</td>\n      <td>2023-07-05 08:41:47</td>\n      <td>2023-07-07 08:41:00</td>\n      <td>NaN</td>\n      <td>NaN</td>\n      <td>NaN</td>\n      <td>NaN</td>\n      <td>NaN</td>\n      <td>NaN</td>\n      <td>NaN</td>\n    </tr>\n    <tr>\n      <th>4</th>\n      <td>169530</td>\n      <td>314231</td>\n      <td>Samwel Machoni Ongaro</td>\n      <td>39428343</td>\n      <td>99262</td>\n      <td>314231</td>\n      <td>254115653233</td>\n      <td>NaN</td>\n      <td>6100</td>\n      <td>6290.32</td>\n      <td>...</td>\n      <td>0.0</td>\n      <td>2023-07-04 10:22:33</td>\n      <td>2023-07-04 00:00:00</td>\n      <td>NaN</td>\n      <td>NaN</td>\n      <td>NaN</td>\n      <td>NaN</td>\n      <td>NaN</td>\n      <td>NaN</td>\n      <td>NaN</td>\n    </tr>\n  </tbody>\n</table>\n<p>5 rows × 36 columns</p>\n</div>"
     },
     "execution_count": 3,
     "metadata": {},
     "output_type": "execute_result"
    }
   ],
   "source": [
    "dt.head()"
   ],
   "metadata": {
    "collapsed": false
   }
  },
  {
   "cell_type": "code",
   "execution_count": 4,
   "outputs": [
    {
     "name": "stdout",
     "output_type": "stream",
     "text": [
      "[\u001B[34m2023-07-10 11:27:53,269\u001B[0m] {\u001B[34mbase.py:\u001B[0m73} INFO\u001B[0m - Using connection ID 'rds_afsg_ds_prod_postgresql_dwh' for task execution.\u001B[0m\n"
     ]
    },
    {
     "data": {
      "text/plain": "\u001B[1;33m/home/henrykuria/airflow_venv/lib/python3.10/site-packages/pandas/io/\u001B[0m\u001B[1;33msql.py\u001B[0m\u001B[1;33m:\u001B[0m\u001B[1;33m761\u001B[0m\u001B[1;33m UserWarning\u001B[0m\u001B[33m: pandas only support SQLAlchemy \u001B[0m\u001B[1;33mconnectable\u001B[0m\u001B[1;33m(\u001B[0m\u001B[33mengine/connection\u001B[0m\u001B[1;33m)\u001B[0m\u001B[33m ordatabase string URI or sqlite3 DBAPI2 connectionother DBAPI2 objects are not tested, please consider using SQLAlchemy\u001B[0m\n",
      "text/html": "<pre style=\"white-space:pre;overflow-x:auto;line-height:normal;font-family:Menlo,'DejaVu Sans Mono',consolas,'Courier New',monospace\"><span style=\"color: #808000; text-decoration-color: #808000; font-weight: bold\">/home/henrykuria/airflow_venv/lib/python3.10/site-packages/pandas/io/sql.py:</span><span style=\"color: #808000; text-decoration-color: #808000; font-weight: bold\">761</span><span style=\"color: #808000; text-decoration-color: #808000; font-weight: bold\"> UserWarning</span><span style=\"color: #808000; text-decoration-color: #808000\">: pandas only support SQLAlchemy </span><span style=\"color: #808000; text-decoration-color: #808000; font-weight: bold\">connectable(</span><span style=\"color: #808000; text-decoration-color: #808000\">engine/connection</span><span style=\"color: #808000; text-decoration-color: #808000; font-weight: bold\">)</span><span style=\"color: #808000; text-decoration-color: #808000\"> ordatabase string URI or sqlite3 DBAPI2 connectionother DBAPI2 objects are not tested, please consider using SQLAlchemy</span>\n</pre>\n"
     },
     "metadata": {},
     "output_type": "display_data"
    }
   ],
   "source": [
    "dt['CONTRACT ID2'] = dt['CONTRACT ID'].apply(lambda x: str(x).split('_')[1] if not pd.isnull(x) else x)\n",
    "\n",
    "by_cntrct = warehouse_hook.get_pandas_df(\n",
    "    sql=\"\"\"select loan_mifos_id, cntrct_id, bloom_version, safaricom_loan_balance, safaricom_loan_balance_date from bloomlive.loans_fact_table_materialized_summary_view where cntrct_id in %(ci)s\"\"\",\n",
    "    parameters={'ci': tuple(dt['CONTRACT ID2'].dropna().tolist())}\n",
    ")"
   ],
   "metadata": {
    "collapsed": false
   }
  },
  {
   "cell_type": "code",
   "execution_count": 5,
   "outputs": [
    {
     "data": {
      "text/plain": "     loan_mifos_id           cntrct_id bloom_version  safaricom_loan_balance  \\\n0           243252  110200000001334244             2                     NaN   \n1           194004  110900000001183064             2                     NaN   \n2           243208  110700000001336251             2                     NaN   \n3           243306  110100000001341117             2                     NaN   \n4           153175  111100000001093075             2                     NaN   \n..             ...                 ...           ...                     ...   \n474         282652  110200000014837596             2                     0.0   \n475         301926  111400000029892705             2                     NaN   \n476         256808  110700000001354626             2                     0.0   \n477         293146  110800000022365689             2                     0.0   \n478         298443  110200000026956404             2                     0.0   \n\n    safaricom_loan_balance_date  \n0                          None  \n1                          None  \n2                          None  \n3                          None  \n4                          None  \n..                          ...  \n474                  2023-06-02  \n475                        None  \n476         2023-05-30 21:49:39  \n477         2023-05-06 21:13:38  \n478         2023-07-05 15:21:01  \n\n[479 rows x 5 columns]",
      "text/html": "<div>\n<style scoped>\n    .dataframe tbody tr th:only-of-type {\n        vertical-align: middle;\n    }\n\n    .dataframe tbody tr th {\n        vertical-align: top;\n    }\n\n    .dataframe thead th {\n        text-align: right;\n    }\n</style>\n<table border=\"1\" class=\"dataframe\">\n  <thead>\n    <tr style=\"text-align: right;\">\n      <th></th>\n      <th>loan_mifos_id</th>\n      <th>cntrct_id</th>\n      <th>bloom_version</th>\n      <th>safaricom_loan_balance</th>\n      <th>safaricom_loan_balance_date</th>\n    </tr>\n  </thead>\n  <tbody>\n    <tr>\n      <th>0</th>\n      <td>243252</td>\n      <td>110200000001334244</td>\n      <td>2</td>\n      <td>NaN</td>\n      <td>None</td>\n    </tr>\n    <tr>\n      <th>1</th>\n      <td>194004</td>\n      <td>110900000001183064</td>\n      <td>2</td>\n      <td>NaN</td>\n      <td>None</td>\n    </tr>\n    <tr>\n      <th>2</th>\n      <td>243208</td>\n      <td>110700000001336251</td>\n      <td>2</td>\n      <td>NaN</td>\n      <td>None</td>\n    </tr>\n    <tr>\n      <th>3</th>\n      <td>243306</td>\n      <td>110100000001341117</td>\n      <td>2</td>\n      <td>NaN</td>\n      <td>None</td>\n    </tr>\n    <tr>\n      <th>4</th>\n      <td>153175</td>\n      <td>111100000001093075</td>\n      <td>2</td>\n      <td>NaN</td>\n      <td>None</td>\n    </tr>\n    <tr>\n      <th>...</th>\n      <td>...</td>\n      <td>...</td>\n      <td>...</td>\n      <td>...</td>\n      <td>...</td>\n    </tr>\n    <tr>\n      <th>474</th>\n      <td>282652</td>\n      <td>110200000014837596</td>\n      <td>2</td>\n      <td>0.0</td>\n      <td>2023-06-02</td>\n    </tr>\n    <tr>\n      <th>475</th>\n      <td>301926</td>\n      <td>111400000029892705</td>\n      <td>2</td>\n      <td>NaN</td>\n      <td>None</td>\n    </tr>\n    <tr>\n      <th>476</th>\n      <td>256808</td>\n      <td>110700000001354626</td>\n      <td>2</td>\n      <td>0.0</td>\n      <td>2023-05-30 21:49:39</td>\n    </tr>\n    <tr>\n      <th>477</th>\n      <td>293146</td>\n      <td>110800000022365689</td>\n      <td>2</td>\n      <td>0.0</td>\n      <td>2023-05-06 21:13:38</td>\n    </tr>\n    <tr>\n      <th>478</th>\n      <td>298443</td>\n      <td>110200000026956404</td>\n      <td>2</td>\n      <td>0.0</td>\n      <td>2023-07-05 15:21:01</td>\n    </tr>\n  </tbody>\n</table>\n<p>479 rows × 5 columns</p>\n</div>"
     },
     "execution_count": 5,
     "metadata": {},
     "output_type": "execute_result"
    }
   ],
   "source": [
    "by_cntrct"
   ],
   "metadata": {
    "collapsed": false
   }
  },
  {
   "cell_type": "code",
   "execution_count": 15,
   "outputs": [
    {
     "data": {
      "text/plain": "        CFID  LOAN ID               DEBTOR NAME      IDENTIFICATION  \\\n44    158925   308433      Boniface Somba Muema  201200000005955534   \n45    158996   308116       Moses Wekesa Masika            23038784   \n46    158881   307986         Michael Kinyanjui  200200000004823000   \n47    158890   307969      Julius Maina Njoroge  200400000004927000   \n48    158796   307962    Felistus Kasiva Masila            23160853   \n...      ...      ...                       ...                 ...   \n6558   21148     3769    Eunice Nyaguthi Munene            25376069   \n6559   21147     3772  Rachel Mkombola Mkombola            26025703   \n6560   21152     3760      Julius Mutahi Mutahi            12946569   \n6561   21149     3768     Omondi Otieno Charles            28032692   \n6562   21154     3749   Timothy Kariuki Kariuki            28888494   \n\n      MEMBER NO  ACCOUNT NO    CONTACT(s)  EMAIL(s)  PRINCIPAL AMOUNT  \\\n44       134077      308433  254705478304       NaN              1200   \n45        41262      308116  254720868275       NaN             70000   \n46       109642      307986  254726635001       NaN            160000   \n47       111173      307969  254798378937       NaN             20000   \n48        49371      307962  254721110556       NaN            200000   \n...         ...         ...           ...       ...               ...   \n6558      13871        3769  254725398897       NaN             15000   \n6559      26006        3772  254721169162       NaN             27000   \n6560      14029        3760  254701079029       NaN             80000   \n6561      13067        3768  254717913531       NaN             31000   \n6562       4718        3749  254719145200       NaN              8000   \n\n      LOAN AMOUNT  ...     LAST ACTION DATE     NEXT ACTION DATE  EMPLOYERS  \\\n44        1205.76  ...  2023-07-05 11:54:01  2023-07-12 11:54:00        NaN   \n45       72184.00  ...  2023-07-03 11:53:57  2023-07-06 11:53:00        NaN   \n46      164992.00  ...  2023-07-05 12:01:18  2023-07-12 12:01:00        NaN   \n47       20624.00  ...  2023-07-01 11:32:15  2023-07-06 11:32:00        NaN   \n48      206240.00  ...  2023-07-01 11:32:00  2023-07-06 11:32:00        NaN   \n...           ...  ...                  ...                  ...        ...   \n6558     18777.22  ...                  NaN                  NaN        NaN   \n6559     39572.72  ...                  NaN                  NaN        NaN   \n6560    119142.74  ...                  NaN                  NaN        NaN   \n6561     46415.81  ...                  NaN                  NaN        NaN   \n6562     11866.27  ...                  NaN                  NaN        NaN   \n\n      SEGMENTS                    CONTRACT ID  \\\n44         NaN  ContractID_111200000045838814   \n45         NaN  ContractID_110300000044639636   \n46         NaN  ContractID_110200000044037540   \n47         NaN  ContractID_110400000044017111   \n48         NaN  ContractID_110300000043950587   \n...        ...                            ...   \n6558       NaN  ContractID_110800000000612416   \n6559       NaN  ContractID_110900000000608480   \n6560       NaN  ContractID_111100000000614355   \n6561       NaN  ContractID_111400000000615315   \n6562       NaN  ContractID_110400000000611288   \n\n     Balance as per Statement Details File (5th July 2023)  \\\n44                                Not in open contracts      \n45                                Not in open contracts      \n46                                Not in open contracts      \n47                                Not in open contracts      \n48                                Not in open contracts      \n...                                                 ...      \n6558                                              32325      \n6559                                              46400      \n6560                                             162400      \n6561                                              65255      \n6562                                              16904      \n\n     In Closed Contracts?   Closure Date Total Repayments by Closure Date  \\\n44                     NO  Not Available                    Not Available   \n45                     NO  Not Available                    Not Available   \n46                     NO  Not Available                    Not Available   \n47                     NO  Not Available                    Not Available   \n48                     NO  Not Available                    Not Available   \n...                   ...            ...                              ...   \n6558                   NO  Not Available                    Not Available   \n6559                   NO  Not Available                    Not Available   \n6560                   NO  Not Available                    Not Available   \n6561                   NO  Not Available                    Not Available   \n6562                   NO  Not Available                    Not Available   \n\n            CONTRACT ID2  \n44    111200000045838814  \n45    110300000044639636  \n46    110200000044037540  \n47    110400000044017111  \n48    110300000043950587  \n...                  ...  \n6558  110800000000612416  \n6559  110900000000608480  \n6560  111100000000614355  \n6561  111400000000615315  \n6562  110400000000611288  \n\n[6097 rows x 37 columns]",
      "text/html": "<div>\n<style scoped>\n    .dataframe tbody tr th:only-of-type {\n        vertical-align: middle;\n    }\n\n    .dataframe tbody tr th {\n        vertical-align: top;\n    }\n\n    .dataframe thead th {\n        text-align: right;\n    }\n</style>\n<table border=\"1\" class=\"dataframe\">\n  <thead>\n    <tr style=\"text-align: right;\">\n      <th></th>\n      <th>CFID</th>\n      <th>LOAN ID</th>\n      <th>DEBTOR NAME</th>\n      <th>IDENTIFICATION</th>\n      <th>MEMBER NO</th>\n      <th>ACCOUNT NO</th>\n      <th>CONTACT(s)</th>\n      <th>EMAIL(s)</th>\n      <th>PRINCIPAL AMOUNT</th>\n      <th>LOAN AMOUNT</th>\n      <th>...</th>\n      <th>LAST ACTION DATE</th>\n      <th>NEXT ACTION DATE</th>\n      <th>EMPLOYERS</th>\n      <th>SEGMENTS</th>\n      <th>CONTRACT ID</th>\n      <th>Balance as per Statement Details File (5th July 2023)</th>\n      <th>In Closed Contracts?</th>\n      <th>Closure Date</th>\n      <th>Total Repayments by Closure Date</th>\n      <th>CONTRACT ID2</th>\n    </tr>\n  </thead>\n  <tbody>\n    <tr>\n      <th>44</th>\n      <td>158925</td>\n      <td>308433</td>\n      <td>Boniface Somba Muema</td>\n      <td>201200000005955534</td>\n      <td>134077</td>\n      <td>308433</td>\n      <td>254705478304</td>\n      <td>NaN</td>\n      <td>1200</td>\n      <td>1205.76</td>\n      <td>...</td>\n      <td>2023-07-05 11:54:01</td>\n      <td>2023-07-12 11:54:00</td>\n      <td>NaN</td>\n      <td>NaN</td>\n      <td>ContractID_111200000045838814</td>\n      <td>Not in open contracts</td>\n      <td>NO</td>\n      <td>Not Available</td>\n      <td>Not Available</td>\n      <td>111200000045838814</td>\n    </tr>\n    <tr>\n      <th>45</th>\n      <td>158996</td>\n      <td>308116</td>\n      <td>Moses Wekesa Masika</td>\n      <td>23038784</td>\n      <td>41262</td>\n      <td>308116</td>\n      <td>254720868275</td>\n      <td>NaN</td>\n      <td>70000</td>\n      <td>72184.00</td>\n      <td>...</td>\n      <td>2023-07-03 11:53:57</td>\n      <td>2023-07-06 11:53:00</td>\n      <td>NaN</td>\n      <td>NaN</td>\n      <td>ContractID_110300000044639636</td>\n      <td>Not in open contracts</td>\n      <td>NO</td>\n      <td>Not Available</td>\n      <td>Not Available</td>\n      <td>110300000044639636</td>\n    </tr>\n    <tr>\n      <th>46</th>\n      <td>158881</td>\n      <td>307986</td>\n      <td>Michael Kinyanjui</td>\n      <td>200200000004823000</td>\n      <td>109642</td>\n      <td>307986</td>\n      <td>254726635001</td>\n      <td>NaN</td>\n      <td>160000</td>\n      <td>164992.00</td>\n      <td>...</td>\n      <td>2023-07-05 12:01:18</td>\n      <td>2023-07-12 12:01:00</td>\n      <td>NaN</td>\n      <td>NaN</td>\n      <td>ContractID_110200000044037540</td>\n      <td>Not in open contracts</td>\n      <td>NO</td>\n      <td>Not Available</td>\n      <td>Not Available</td>\n      <td>110200000044037540</td>\n    </tr>\n    <tr>\n      <th>47</th>\n      <td>158890</td>\n      <td>307969</td>\n      <td>Julius Maina Njoroge</td>\n      <td>200400000004927000</td>\n      <td>111173</td>\n      <td>307969</td>\n      <td>254798378937</td>\n      <td>NaN</td>\n      <td>20000</td>\n      <td>20624.00</td>\n      <td>...</td>\n      <td>2023-07-01 11:32:15</td>\n      <td>2023-07-06 11:32:00</td>\n      <td>NaN</td>\n      <td>NaN</td>\n      <td>ContractID_110400000044017111</td>\n      <td>Not in open contracts</td>\n      <td>NO</td>\n      <td>Not Available</td>\n      <td>Not Available</td>\n      <td>110400000044017111</td>\n    </tr>\n    <tr>\n      <th>48</th>\n      <td>158796</td>\n      <td>307962</td>\n      <td>Felistus Kasiva Masila</td>\n      <td>23160853</td>\n      <td>49371</td>\n      <td>307962</td>\n      <td>254721110556</td>\n      <td>NaN</td>\n      <td>200000</td>\n      <td>206240.00</td>\n      <td>...</td>\n      <td>2023-07-01 11:32:00</td>\n      <td>2023-07-06 11:32:00</td>\n      <td>NaN</td>\n      <td>NaN</td>\n      <td>ContractID_110300000043950587</td>\n      <td>Not in open contracts</td>\n      <td>NO</td>\n      <td>Not Available</td>\n      <td>Not Available</td>\n      <td>110300000043950587</td>\n    </tr>\n    <tr>\n      <th>...</th>\n      <td>...</td>\n      <td>...</td>\n      <td>...</td>\n      <td>...</td>\n      <td>...</td>\n      <td>...</td>\n      <td>...</td>\n      <td>...</td>\n      <td>...</td>\n      <td>...</td>\n      <td>...</td>\n      <td>...</td>\n      <td>...</td>\n      <td>...</td>\n      <td>...</td>\n      <td>...</td>\n      <td>...</td>\n      <td>...</td>\n      <td>...</td>\n      <td>...</td>\n      <td>...</td>\n    </tr>\n    <tr>\n      <th>6558</th>\n      <td>21148</td>\n      <td>3769</td>\n      <td>Eunice Nyaguthi Munene</td>\n      <td>25376069</td>\n      <td>13871</td>\n      <td>3769</td>\n      <td>254725398897</td>\n      <td>NaN</td>\n      <td>15000</td>\n      <td>18777.22</td>\n      <td>...</td>\n      <td>NaN</td>\n      <td>NaN</td>\n      <td>NaN</td>\n      <td>NaN</td>\n      <td>ContractID_110800000000612416</td>\n      <td>32325</td>\n      <td>NO</td>\n      <td>Not Available</td>\n      <td>Not Available</td>\n      <td>110800000000612416</td>\n    </tr>\n    <tr>\n      <th>6559</th>\n      <td>21147</td>\n      <td>3772</td>\n      <td>Rachel Mkombola Mkombola</td>\n      <td>26025703</td>\n      <td>26006</td>\n      <td>3772</td>\n      <td>254721169162</td>\n      <td>NaN</td>\n      <td>27000</td>\n      <td>39572.72</td>\n      <td>...</td>\n      <td>NaN</td>\n      <td>NaN</td>\n      <td>NaN</td>\n      <td>NaN</td>\n      <td>ContractID_110900000000608480</td>\n      <td>46400</td>\n      <td>NO</td>\n      <td>Not Available</td>\n      <td>Not Available</td>\n      <td>110900000000608480</td>\n    </tr>\n    <tr>\n      <th>6560</th>\n      <td>21152</td>\n      <td>3760</td>\n      <td>Julius Mutahi Mutahi</td>\n      <td>12946569</td>\n      <td>14029</td>\n      <td>3760</td>\n      <td>254701079029</td>\n      <td>NaN</td>\n      <td>80000</td>\n      <td>119142.74</td>\n      <td>...</td>\n      <td>NaN</td>\n      <td>NaN</td>\n      <td>NaN</td>\n      <td>NaN</td>\n      <td>ContractID_111100000000614355</td>\n      <td>162400</td>\n      <td>NO</td>\n      <td>Not Available</td>\n      <td>Not Available</td>\n      <td>111100000000614355</td>\n    </tr>\n    <tr>\n      <th>6561</th>\n      <td>21149</td>\n      <td>3768</td>\n      <td>Omondi Otieno Charles</td>\n      <td>28032692</td>\n      <td>13067</td>\n      <td>3768</td>\n      <td>254717913531</td>\n      <td>NaN</td>\n      <td>31000</td>\n      <td>46415.81</td>\n      <td>...</td>\n      <td>NaN</td>\n      <td>NaN</td>\n      <td>NaN</td>\n      <td>NaN</td>\n      <td>ContractID_111400000000615315</td>\n      <td>65255</td>\n      <td>NO</td>\n      <td>Not Available</td>\n      <td>Not Available</td>\n      <td>111400000000615315</td>\n    </tr>\n    <tr>\n      <th>6562</th>\n      <td>21154</td>\n      <td>3749</td>\n      <td>Timothy Kariuki Kariuki</td>\n      <td>28888494</td>\n      <td>4718</td>\n      <td>3749</td>\n      <td>254719145200</td>\n      <td>NaN</td>\n      <td>8000</td>\n      <td>11866.27</td>\n      <td>...</td>\n      <td>NaN</td>\n      <td>NaN</td>\n      <td>NaN</td>\n      <td>NaN</td>\n      <td>ContractID_110400000000611288</td>\n      <td>16904</td>\n      <td>NO</td>\n      <td>Not Available</td>\n      <td>Not Available</td>\n      <td>110400000000611288</td>\n    </tr>\n  </tbody>\n</table>\n<p>6097 rows × 37 columns</p>\n</div>"
     },
     "execution_count": 15,
     "metadata": {},
     "output_type": "execute_result"
    }
   ],
   "source": [
    "dt[dt['CONTRACT ID2'].notna()]"
   ],
   "metadata": {
    "collapsed": false
   }
  },
  {
   "cell_type": "code",
   "execution_count": 6,
   "outputs": [],
   "source": [
    "dt_1 = dt[~dt['CONTRACT ID2'].isin(by_cntrct['cntrct_id'].tolist())]"
   ],
   "metadata": {
    "collapsed": false
   }
  },
  {
   "cell_type": "code",
   "execution_count": 7,
   "outputs": [
    {
     "name": "stdout",
     "output_type": "stream",
     "text": [
      "[\u001B[34m2023-07-10 11:28:22,396\u001B[0m] {\u001B[34mbase.py:\u001B[0m73} INFO\u001B[0m - Using connection ID 'rds_afsg_ds_prod_postgresql_dwh' for task execution.\u001B[0m\n"
     ]
    },
    {
     "data": {
      "text/plain": "\u001B[1;33m/home/henrykuria/airflow_venv/lib/python3.10/site-packages/pandas/io/\u001B[0m\u001B[1;33msql.py\u001B[0m\u001B[1;33m:\u001B[0m\u001B[1;33m761\u001B[0m\u001B[1;33m UserWarning\u001B[0m\u001B[33m: pandas only support SQLAlchemy \u001B[0m\u001B[1;33mconnectable\u001B[0m\u001B[1;33m(\u001B[0m\u001B[33mengine/connection\u001B[0m\u001B[1;33m)\u001B[0m\u001B[33m ordatabase string URI or sqlite3 DBAPI2 connectionother DBAPI2 objects are not tested, please consider using SQLAlchemy\u001B[0m\n",
      "text/html": "<pre style=\"white-space:pre;overflow-x:auto;line-height:normal;font-family:Menlo,'DejaVu Sans Mono',consolas,'Courier New',monospace\"><span style=\"color: #808000; text-decoration-color: #808000; font-weight: bold\">/home/henrykuria/airflow_venv/lib/python3.10/site-packages/pandas/io/sql.py:</span><span style=\"color: #808000; text-decoration-color: #808000; font-weight: bold\">761</span><span style=\"color: #808000; text-decoration-color: #808000; font-weight: bold\"> UserWarning</span><span style=\"color: #808000; text-decoration-color: #808000\">: pandas only support SQLAlchemy </span><span style=\"color: #808000; text-decoration-color: #808000; font-weight: bold\">connectable(</span><span style=\"color: #808000; text-decoration-color: #808000\">engine/connection</span><span style=\"color: #808000; text-decoration-color: #808000; font-weight: bold\">)</span><span style=\"color: #808000; text-decoration-color: #808000\"> ordatabase string URI or sqlite3 DBAPI2 connectionother DBAPI2 objects are not tested, please consider using SQLAlchemy</span>\n</pre>\n"
     },
     "metadata": {},
     "output_type": "display_data"
    }
   ],
   "source": [
    "dmp_trxns = warehouse_hook.get_pandas_df(\n",
    "    sql=\"\"\"select * from bloomlive.transactions_data_dump where is_disbursement and id_loan_cntrct in %(ilc)s\"\"\",\n",
    "    parameters={'ilc': tuple(dt_1['CONTRACT ID2'].dropna().tolist())}\n",
    ")"
   ],
   "metadata": {
    "collapsed": false
   }
  },
  {
   "cell_type": "code",
   "execution_count": 8,
   "outputs": [],
   "source": [
    "dt_2 = dt_1[~dt_1['CONTRACT ID2'].isin(dmp_trxns['id_loan_cntrct'].tolist())]"
   ],
   "metadata": {
    "collapsed": false
   }
  },
  {
   "cell_type": "code",
   "execution_count": 14,
   "outputs": [
    {
     "data": {
      "text/plain": "'2022-04-24'"
     },
     "execution_count": 14,
     "metadata": {},
     "output_type": "execute_result"
    }
   ],
   "source": [
    "dt_2.dropna(subset=['CONTRACT ID2'])['TAKEN DATE'].max()"
   ],
   "metadata": {
    "collapsed": false
   }
  },
  {
   "cell_type": "code",
   "execution_count": 2,
   "outputs": [],
   "source": [
    "dt = pd.read_excel('~/data/Missing Loan refs May 2023.xlsx')"
   ],
   "metadata": {
    "collapsed": false
   }
  },
  {
   "cell_type": "code",
   "execution_count": 3,
   "outputs": [],
   "source": [
    "dt['ContractID2'] = dt['ContractID'].apply(lambda x: str(x).split('_')[1])"
   ],
   "metadata": {
    "collapsed": false
   }
  },
  {
   "cell_type": "code",
   "execution_count": 4,
   "outputs": [
    {
     "name": "stdout",
     "output_type": "stream",
     "text": [
      "[\u001B[34m2023-06-09 14:47:19,344\u001B[0m] {\u001B[34mbase.py:\u001B[0m73} INFO\u001B[0m - Using connection ID 'rds_afsg_ds_prod_postgresql_dwh' for task execution.\u001B[0m\n"
     ]
    },
    {
     "data": {
      "text/plain": "\u001B[1;33m/home/henrykuria/airflow_venv/lib/python3.10/site-packages/pandas/io/\u001B[0m\u001B[1;33msql.py\u001B[0m\u001B[1;33m:\u001B[0m\u001B[1;33m761\u001B[0m\u001B[1;33m UserWarning\u001B[0m\u001B[33m: pandas only support SQLAlchemy \u001B[0m\u001B[1;33mconnectable\u001B[0m\u001B[1;33m(\u001B[0m\u001B[33mengine/connection\u001B[0m\u001B[1;33m)\u001B[0m\u001B[33m ordatabase string URI or sqlite3 DBAPI2 connectionother DBAPI2 objects are not tested, please consider using SQLAlchemy\u001B[0m\n",
      "text/html": "<pre style=\"white-space:pre;overflow-x:auto;line-height:normal;font-family:Menlo,'DejaVu Sans Mono',consolas,'Courier New',monospace\"><span style=\"color: #808000; text-decoration-color: #808000; font-weight: bold\">/home/henrykuria/airflow_venv/lib/python3.10/site-packages/pandas/io/sql.py:</span><span style=\"color: #808000; text-decoration-color: #808000; font-weight: bold\">761</span><span style=\"color: #808000; text-decoration-color: #808000; font-weight: bold\"> UserWarning</span><span style=\"color: #808000; text-decoration-color: #808000\">: pandas only support SQLAlchemy </span><span style=\"color: #808000; text-decoration-color: #808000; font-weight: bold\">connectable(</span><span style=\"color: #808000; text-decoration-color: #808000\">engine/connection</span><span style=\"color: #808000; text-decoration-color: #808000; font-weight: bold\">)</span><span style=\"color: #808000; text-decoration-color: #808000\"> ordatabase string URI or sqlite3 DBAPI2 connectionother DBAPI2 objects are not tested, please consider using SQLAlchemy</span>\n</pre>\n"
     },
     "metadata": {},
     "output_type": "display_data"
    }
   ],
   "source": [
    "lns = warehouse_hook.get_pandas_df(\n",
    "    sql=\"\"\"select cntrct_id, loan_mifos_id, bloom_version from bloomlive.loans_fact_table_materialized_summary_view where cntrct_id in %(cntrcts)s\"\"\",\n",
    "    parameters={'cntrcts': tuple(dt['ContractID2'].tolist())}\n",
    ")"
   ],
   "metadata": {
    "collapsed": false
   }
  },
  {
   "cell_type": "code",
   "execution_count": 15,
   "outputs": [
    {
     "data": {
      "text/plain": "Empty DataFrame\nColumns: [cntrct_id, loan_mifos_id, bloom_version]\nIndex: []",
      "text/html": "<div>\n<style scoped>\n    .dataframe tbody tr th:only-of-type {\n        vertical-align: middle;\n    }\n\n    .dataframe tbody tr th {\n        vertical-align: top;\n    }\n\n    .dataframe thead th {\n        text-align: right;\n    }\n</style>\n<table border=\"1\" class=\"dataframe\">\n  <thead>\n    <tr style=\"text-align: right;\">\n      <th></th>\n      <th>cntrct_id</th>\n      <th>loan_mifos_id</th>\n      <th>bloom_version</th>\n    </tr>\n  </thead>\n  <tbody>\n  </tbody>\n</table>\n</div>"
     },
     "execution_count": 15,
     "metadata": {},
     "output_type": "execute_result"
    }
   ],
   "source": [
    "lns.head()"
   ],
   "metadata": {
    "collapsed": false
   }
  }
 ],
 "metadata": {
  "kernelspec": {
   "display_name": "Python 3",
   "language": "python",
   "name": "python3"
  },
  "language_info": {
   "codemirror_mode": {
    "name": "ipython",
    "version": 2
   },
   "file_extension": ".py",
   "mimetype": "text/x-python",
   "name": "python",
   "nbconvert_exporter": "python",
   "pygments_lexer": "ipython2",
   "version": "2.7.6"
  }
 },
 "nbformat": 4,
 "nbformat_minor": 0
}
