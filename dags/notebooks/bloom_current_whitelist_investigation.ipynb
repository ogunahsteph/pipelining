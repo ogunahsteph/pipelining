{
 "cells": [
  {
   "cell_type": "code",
   "execution_count": 19,
   "metadata": {
    "collapsed": true
   },
   "outputs": [
    {
     "data": {
      "text/plain": "\u001B[1;33m/tmp/ipykernel_23503/\u001B[0m\u001B[1;33m1888061882.py\u001B[0m\u001B[1;33m:\u001B[0m\u001B[1;33m8\u001B[0m\u001B[1;33m DeprecationWarning\u001B[0m\u001B[33m: The \u001B[0m\u001B[33m\"schema\"\u001B[0m\u001B[33m arg has been renamed to \u001B[0m\u001B[33m\"database\"\u001B[0m\u001B[33m as it contained the database name.Please use \u001B[0m\u001B[33m\"database\"\u001B[0m\u001B[33m to set the database name.\u001B[0m\n",
      "text/html": "<pre style=\"white-space:pre;overflow-x:auto;line-height:normal;font-family:Menlo,'DejaVu Sans Mono',consolas,'Courier New',monospace\"><span style=\"color: #808000; text-decoration-color: #808000; font-weight: bold\">/tmp/ipykernel_23503/1888061882.py:</span><span style=\"color: #808000; text-decoration-color: #808000; font-weight: bold\">8</span><span style=\"color: #808000; text-decoration-color: #808000; font-weight: bold\"> DeprecationWarning</span><span style=\"color: #808000; text-decoration-color: #808000\">: The </span><span style=\"color: #808000; text-decoration-color: #808000\">\"schema\"</span><span style=\"color: #808000; text-decoration-color: #808000\"> arg has been renamed to </span><span style=\"color: #808000; text-decoration-color: #808000\">\"database\"</span><span style=\"color: #808000; text-decoration-color: #808000\"> as it contained the database name.Please use </span><span style=\"color: #808000; text-decoration-color: #808000\">\"database\"</span><span style=\"color: #808000; text-decoration-color: #808000\"> to set the database name.</span>\n</pre>\n"
     },
     "metadata": {},
     "output_type": "display_data"
    },
    {
     "data": {
      "text/plain": "\u001B[1;33m/tmp/ipykernel_23503/\u001B[0m\u001B[1;33m1888061882.py\u001B[0m\u001B[1;33m:\u001B[0m\u001B[1;33m11\u001B[0m\u001B[1;33m DeprecationWarning\u001B[0m\u001B[33m: The \u001B[0m\u001B[33m\"schema\"\u001B[0m\u001B[33m arg has been renamed to \u001B[0m\u001B[33m\"database\"\u001B[0m\u001B[33m as it contained the database name.Please use \u001B[0m\u001B[33m\"database\"\u001B[0m\u001B[33m to set the database name.\u001B[0m\n",
      "text/html": "<pre style=\"white-space:pre;overflow-x:auto;line-height:normal;font-family:Menlo,'DejaVu Sans Mono',consolas,'Courier New',monospace\"><span style=\"color: #808000; text-decoration-color: #808000; font-weight: bold\">/tmp/ipykernel_23503/1888061882.py:</span><span style=\"color: #808000; text-decoration-color: #808000; font-weight: bold\">11</span><span style=\"color: #808000; text-decoration-color: #808000; font-weight: bold\"> DeprecationWarning</span><span style=\"color: #808000; text-decoration-color: #808000\">: The </span><span style=\"color: #808000; text-decoration-color: #808000\">\"schema\"</span><span style=\"color: #808000; text-decoration-color: #808000\"> arg has been renamed to </span><span style=\"color: #808000; text-decoration-color: #808000\">\"database\"</span><span style=\"color: #808000; text-decoration-color: #808000\"> as it contained the database name.Please use </span><span style=\"color: #808000; text-decoration-color: #808000\">\"database\"</span><span style=\"color: #808000; text-decoration-color: #808000\"> to set the database name.</span>\n</pre>\n"
     },
     "metadata": {},
     "output_type": "display_data"
    }
   ],
   "source": [
    "import json\n",
    "import pandas as pd\n",
    "import numpy as np\n",
    "import datetime\n",
    "from airflow.providers.postgres.hooks.postgres import PostgresHook\n",
    "from airflow.providers.mysql.hooks.mysql import MySqlHook\n",
    "import seaborn as sns\n",
    "warehouse_hook = PostgresHook(postgres_conn_id='rds_afsg_ds_prod_postgresql_dwh', schema='afsg_ds_prod_postgresql_dwh')\n",
    "mifos_hook = MySqlHook(mysql_conn_id='mifos_db', schema='mifostenant-safaricom')\n",
    "airflow_hook = MySqlHook(mysql_conn_id='mysql_airflow', schema='bloom_pipeline')\n",
    "middleware_hook = PostgresHook(postgres_conn_id='asante_mfs_middleware', schema='asante_datawarehouse')\n",
    "jubilee_hook = MySqlHook(mysql_conn_id='mifos_db', schema='mifostenant-jubilee')\n",
    "solv_hook = MySqlHook(mysql_conn_id='solv_ke', schema='solvke_staging')"
   ]
  },
  {
   "cell_type": "markdown",
   "source": [
    "#### Get whitelists"
   ],
   "metadata": {
    "collapsed": false
   }
  },
  {
   "cell_type": "code",
   "execution_count": 20,
   "outputs": [
    {
     "name": "stdout",
     "output_type": "stream",
     "text": [
      "[\u001B[34m2023-06-08 11:07:11,883\u001B[0m] {\u001B[34mbase.py:\u001B[0m73} INFO\u001B[0m - Using connection ID 'rds_afsg_ds_prod_postgresql_dwh' for task execution.\u001B[0m\n"
     ]
    },
    {
     "data": {
      "text/plain": "\u001B[1;33m/home/henrykuria/airflow_venv/lib/python3.10/site-packages/pandas/io/\u001B[0m\u001B[1;33msql.py\u001B[0m\u001B[1;33m:\u001B[0m\u001B[1;33m761\u001B[0m\u001B[1;33m UserWarning\u001B[0m\u001B[33m: pandas only support SQLAlchemy \u001B[0m\u001B[1;33mconnectable\u001B[0m\u001B[1;33m(\u001B[0m\u001B[33mengine/connection\u001B[0m\u001B[1;33m)\u001B[0m\u001B[33m ordatabase string URI or sqlite3 DBAPI2 connectionother DBAPI2 objects are not tested, please consider using SQLAlchemy\u001B[0m\n",
      "text/html": "<pre style=\"white-space:pre;overflow-x:auto;line-height:normal;font-family:Menlo,'DejaVu Sans Mono',consolas,'Courier New',monospace\"><span style=\"color: #808000; text-decoration-color: #808000; font-weight: bold\">/home/henrykuria/airflow_venv/lib/python3.10/site-packages/pandas/io/sql.py:</span><span style=\"color: #808000; text-decoration-color: #808000; font-weight: bold\">761</span><span style=\"color: #808000; text-decoration-color: #808000; font-weight: bold\"> UserWarning</span><span style=\"color: #808000; text-decoration-color: #808000\">: pandas only support SQLAlchemy </span><span style=\"color: #808000; text-decoration-color: #808000; font-weight: bold\">connectable(</span><span style=\"color: #808000; text-decoration-color: #808000\">engine/connection</span><span style=\"color: #808000; text-decoration-color: #808000; font-weight: bold\">)</span><span style=\"color: #808000; text-decoration-color: #808000\"> ordatabase string URI or sqlite3 DBAPI2 connectionother DBAPI2 objects are not tested, please consider using SQLAlchemy</span>\n</pre>\n"
     },
     "metadata": {},
     "output_type": "display_data"
    },
    {
     "name": "stdout",
     "output_type": "stream",
     "text": [
      "[\u001B[34m2023-06-08 11:08:28,674\u001B[0m] {\u001B[34mbase.py:\u001B[0m73} INFO\u001B[0m - Using connection ID 'mysql_airflow' for task execution.\u001B[0m\n"
     ]
    },
    {
     "data": {
      "text/plain": "\u001B[1;33m/home/henrykuria/airflow_venv/lib/python3.10/site-packages/pandas/io/\u001B[0m\u001B[1;33msql.py\u001B[0m\u001B[1;33m:\u001B[0m\u001B[1;33m761\u001B[0m\u001B[1;33m UserWarning\u001B[0m\u001B[33m: pandas only support SQLAlchemy \u001B[0m\u001B[1;33mconnectable\u001B[0m\u001B[1;33m(\u001B[0m\u001B[33mengine/connection\u001B[0m\u001B[1;33m)\u001B[0m\u001B[33m ordatabase string URI or sqlite3 DBAPI2 connectionother DBAPI2 objects are not tested, please consider using SQLAlchemy\u001B[0m\n",
      "text/html": "<pre style=\"white-space:pre;overflow-x:auto;line-height:normal;font-family:Menlo,'DejaVu Sans Mono',consolas,'Courier New',monospace\"><span style=\"color: #808000; text-decoration-color: #808000; font-weight: bold\">/home/henrykuria/airflow_venv/lib/python3.10/site-packages/pandas/io/sql.py:</span><span style=\"color: #808000; text-decoration-color: #808000; font-weight: bold\">761</span><span style=\"color: #808000; text-decoration-color: #808000; font-weight: bold\"> UserWarning</span><span style=\"color: #808000; text-decoration-color: #808000\">: pandas only support SQLAlchemy </span><span style=\"color: #808000; text-decoration-color: #808000; font-weight: bold\">connectable(</span><span style=\"color: #808000; text-decoration-color: #808000\">engine/connection</span><span style=\"color: #808000; text-decoration-color: #808000; font-weight: bold\">)</span><span style=\"color: #808000; text-decoration-color: #808000\"> ordatabase string URI or sqlite3 DBAPI2 connectionother DBAPI2 objects are not tested, please consider using SQLAlchemy</span>\n</pre>\n"
     },
     "metadata": {},
     "output_type": "display_data"
    }
   ],
   "source": [
    "warehouse_whitelist = warehouse_hook.get_pandas_df(sql=\"select * from bloomlive.scoring_results where model_version = (select max(model_version) from bloomlive.scoring_results)\")\n",
    "current_whitelist = airflow_hook.get_pandas_df(sql=\"select * from bloom_pipeline.current_whitelist_mock\")"
   ],
   "metadata": {
    "collapsed": false
   }
  },
  {
   "cell_type": "markdown",
   "source": [
    "#### Get missing data"
   ],
   "metadata": {
    "collapsed": false
   }
  },
  {
   "cell_type": "code",
   "execution_count": 54,
   "outputs": [
    {
     "name": "stdout",
     "output_type": "stream",
     "text": [
      "Empty DataFrame\n",
      "Columns: [Store_Number, Asante_Blacklist_Flag, Asante_Credit_Limit_1_Day, Asante_Credit_Limit_7_Day, Asante_Credit_Limit_21_Day, CreatedOn_Date, ModifiedOn_Date, id, record_created_on_timestamp]\n",
      "Index: []\n",
      "Empty DataFrame\n",
      "Columns: [Store_Number, Asante_Blacklist_Flag, Asante_Credit_Limit_1_Day, Asante_Credit_Limit_7_Day, Asante_Credit_Limit_21_Day, CreatedOn_Date, ModifiedOn_Date, id, record_created_on_timestamp]\n",
      "Index: []\n",
      "Empty DataFrame\n",
      "Columns: [Store_Number, Asante_Blacklist_Flag, Asante_Credit_Limit_1_Day, Asante_Credit_Limit_7_Day, Asante_Credit_Limit_21_Day, CreatedOn_Date, ModifiedOn_Date, id, record_created_on_timestamp]\n",
      "Index: []\n"
     ]
    },
    {
     "data": {
      "text/plain": "       Store_Number  Asante_Blacklist_Flag  Asante_Credit_Limit_1_Day  \\\n1685        7249107                      0                        0.0   \n1697        7322856                      0                        0.0   \n1703        7363190                      0                        0.0   \n1713        7388600                      0                        0.0   \n1715        7390586                      0                        0.0   \n...             ...                    ...                        ...   \n188497      7200214                      0                        0.0   \n188506      7303256                      0                        0.0   \n188525      7387388                      0                        0.0   \n188558      7949001                      0                        0.0   \n188566      8003105                      0                        0.0   \n\n        Asante_Credit_Limit_7_Day  Asante_Credit_Limit_21_Day  \\\n1685                          0.0                         0.0   \n1697                          0.0                         0.0   \n1703                          0.0                         0.0   \n1713                          0.0                         0.0   \n1715                          0.0                         0.0   \n...                           ...                         ...   \n188497                        0.0                         0.0   \n188506                        0.0                         0.0   \n188525                        0.0                         0.0   \n188558                        0.0                         0.0   \n188566                        0.0                         0.0   \n\n            CreatedOn_Date     ModifiedOn_Date         id  \\\n1685   2023-05-13 05:34:57 2023-05-13 05:34:57  407149169   \n1697   2023-05-13 05:34:57 2023-05-13 05:34:57  407149181   \n1703   2023-05-13 05:34:57 2023-05-13 05:34:57  407149187   \n1713   2023-05-13 05:34:57 2023-05-13 05:34:57  407149197   \n1715   2023-05-13 05:34:57 2023-05-13 05:34:57  407149199   \n...                    ...                 ...        ...   \n188497 2023-05-06 15:37:51 2023-05-06 15:37:51  407335981   \n188506 2023-05-06 15:37:51 2023-05-06 15:37:51  407335990   \n188525 2023-05-06 15:37:51 2023-05-06 15:37:51  407336009   \n188558 2023-05-06 15:37:51 2023-05-06 15:37:51  407336042   \n188566 2023-05-06 15:37:51 2023-05-06 15:37:51  407336050   \n\n       record_created_on_timestamp  \n1685           2023-06-08 07:58:43  \n1697           2023-06-08 07:58:43  \n1703           2023-06-08 07:58:43  \n1713           2023-06-08 07:58:43  \n1715           2023-06-08 07:58:43  \n...                            ...  \n188497         2023-06-08 07:59:19  \n188506         2023-06-08 07:59:19  \n188525         2023-06-08 07:59:19  \n188558         2023-06-08 07:59:19  \n188566         2023-06-08 07:59:19  \n\n[143 rows x 9 columns]",
      "text/html": "<div>\n<style scoped>\n    .dataframe tbody tr th:only-of-type {\n        vertical-align: middle;\n    }\n\n    .dataframe tbody tr th {\n        vertical-align: top;\n    }\n\n    .dataframe thead th {\n        text-align: right;\n    }\n</style>\n<table border=\"1\" class=\"dataframe\">\n  <thead>\n    <tr style=\"text-align: right;\">\n      <th></th>\n      <th>Store_Number</th>\n      <th>Asante_Blacklist_Flag</th>\n      <th>Asante_Credit_Limit_1_Day</th>\n      <th>Asante_Credit_Limit_7_Day</th>\n      <th>Asante_Credit_Limit_21_Day</th>\n      <th>CreatedOn_Date</th>\n      <th>ModifiedOn_Date</th>\n      <th>id</th>\n      <th>record_created_on_timestamp</th>\n    </tr>\n  </thead>\n  <tbody>\n    <tr>\n      <th>1685</th>\n      <td>7249107</td>\n      <td>0</td>\n      <td>0.0</td>\n      <td>0.0</td>\n      <td>0.0</td>\n      <td>2023-05-13 05:34:57</td>\n      <td>2023-05-13 05:34:57</td>\n      <td>407149169</td>\n      <td>2023-06-08 07:58:43</td>\n    </tr>\n    <tr>\n      <th>1697</th>\n      <td>7322856</td>\n      <td>0</td>\n      <td>0.0</td>\n      <td>0.0</td>\n      <td>0.0</td>\n      <td>2023-05-13 05:34:57</td>\n      <td>2023-05-13 05:34:57</td>\n      <td>407149181</td>\n      <td>2023-06-08 07:58:43</td>\n    </tr>\n    <tr>\n      <th>1703</th>\n      <td>7363190</td>\n      <td>0</td>\n      <td>0.0</td>\n      <td>0.0</td>\n      <td>0.0</td>\n      <td>2023-05-13 05:34:57</td>\n      <td>2023-05-13 05:34:57</td>\n      <td>407149187</td>\n      <td>2023-06-08 07:58:43</td>\n    </tr>\n    <tr>\n      <th>1713</th>\n      <td>7388600</td>\n      <td>0</td>\n      <td>0.0</td>\n      <td>0.0</td>\n      <td>0.0</td>\n      <td>2023-05-13 05:34:57</td>\n      <td>2023-05-13 05:34:57</td>\n      <td>407149197</td>\n      <td>2023-06-08 07:58:43</td>\n    </tr>\n    <tr>\n      <th>1715</th>\n      <td>7390586</td>\n      <td>0</td>\n      <td>0.0</td>\n      <td>0.0</td>\n      <td>0.0</td>\n      <td>2023-05-13 05:34:57</td>\n      <td>2023-05-13 05:34:57</td>\n      <td>407149199</td>\n      <td>2023-06-08 07:58:43</td>\n    </tr>\n    <tr>\n      <th>...</th>\n      <td>...</td>\n      <td>...</td>\n      <td>...</td>\n      <td>...</td>\n      <td>...</td>\n      <td>...</td>\n      <td>...</td>\n      <td>...</td>\n      <td>...</td>\n    </tr>\n    <tr>\n      <th>188497</th>\n      <td>7200214</td>\n      <td>0</td>\n      <td>0.0</td>\n      <td>0.0</td>\n      <td>0.0</td>\n      <td>2023-05-06 15:37:51</td>\n      <td>2023-05-06 15:37:51</td>\n      <td>407335981</td>\n      <td>2023-06-08 07:59:19</td>\n    </tr>\n    <tr>\n      <th>188506</th>\n      <td>7303256</td>\n      <td>0</td>\n      <td>0.0</td>\n      <td>0.0</td>\n      <td>0.0</td>\n      <td>2023-05-06 15:37:51</td>\n      <td>2023-05-06 15:37:51</td>\n      <td>407335990</td>\n      <td>2023-06-08 07:59:19</td>\n    </tr>\n    <tr>\n      <th>188525</th>\n      <td>7387388</td>\n      <td>0</td>\n      <td>0.0</td>\n      <td>0.0</td>\n      <td>0.0</td>\n      <td>2023-05-06 15:37:51</td>\n      <td>2023-05-06 15:37:51</td>\n      <td>407336009</td>\n      <td>2023-06-08 07:59:19</td>\n    </tr>\n    <tr>\n      <th>188558</th>\n      <td>7949001</td>\n      <td>0</td>\n      <td>0.0</td>\n      <td>0.0</td>\n      <td>0.0</td>\n      <td>2023-05-06 15:37:51</td>\n      <td>2023-05-06 15:37:51</td>\n      <td>407336042</td>\n      <td>2023-06-08 07:59:19</td>\n    </tr>\n    <tr>\n      <th>188566</th>\n      <td>8003105</td>\n      <td>0</td>\n      <td>0.0</td>\n      <td>0.0</td>\n      <td>0.0</td>\n      <td>2023-05-06 15:37:51</td>\n      <td>2023-05-06 15:37:51</td>\n      <td>407336050</td>\n      <td>2023-06-08 07:59:19</td>\n    </tr>\n  </tbody>\n</table>\n<p>143 rows × 9 columns</p>\n</div>"
     },
     "execution_count": 54,
     "metadata": {},
     "output_type": "execute_result"
    }
   ],
   "source": [
    "missing_on_warehouse = current_whitelist[~current_whitelist['Store_Number'].astype(str).isin(warehouse_whitelist['store_number'].tolist())]\n",
    "print(missing_on_warehouse[missing_on_warehouse['Asante_Credit_Limit_1_Day'] > 0])\n",
    "print(missing_on_warehouse[missing_on_warehouse['Asante_Credit_Limit_7_Day'] > 0])\n",
    "print(missing_on_warehouse[missing_on_warehouse['Asante_Credit_Limit_21_Day'] > 0])\n",
    "missing_on_warehouse"
   ],
   "metadata": {
    "collapsed": false
   }
  },
  {
   "cell_type": "code",
   "execution_count": 22,
   "outputs": [
    {
     "data": {
      "text/plain": "        surrogate_id store_number         national_id  final_21_limit  \\\n12702        8113338       003227            24125861             0.0   \n29973        8130621       000030  201300000004442884             0.0   \n30813        8131461       003215            29333437             0.0   \n41087        8141739       058133             9554143             0.0   \n42485        8143138       000085                None             0.0   \n...              ...          ...                 ...             ...   \n183951       8284664       074600       C82002/074600             0.0   \n184867       8285580       067800       C82002/067800             0.0   \n186596       8287309       070600       C82002/070600             0.0   \n186740       8287453       016000       C82002/016000             0.0   \n188785       8289498       035600       C82002/035600             0.0   \n\n        final_7_limit  final_1_limit idm_recommendation  limit_factor_21  \\\n12702             0.0            0.0            Approve              0.5   \n29973             0.0            0.0            Approve              0.5   \n30813             0.0            0.0            Approve              0.5   \n41087         40300.0            0.0            Approve              0.5   \n42485             0.0            0.0            Approve              0.5   \n...               ...            ...                ...              ...   \n183951            0.0            0.0                NaN              NaN   \n184867            0.0            0.0                NaN              NaN   \n186596            0.0            0.0                NaN              NaN   \n186740            0.0            0.0                NaN              NaN   \n188785            0.0            0.0                NaN              NaN   \n\n        limit_factor_7  limit_factor_1                     model_version  \\\n12702             0.17            0.17  2023-012[2023-05-18, 2023-05-31]   \n29973             0.17            0.17  2023-012[2023-05-18, 2023-05-31]   \n30813             0.17            0.17  2023-012[2023-05-18, 2023-05-31]   \n41087             0.17            0.17  2023-012[2023-05-18, 2023-05-31]   \n42485             0.17            0.17  2023-012[2023-05-18, 2023-05-31]   \n...                ...             ...                               ...   \n183951             NaN             NaN  2023-012[2023-05-18, 2023-05-31]   \n184867             NaN             NaN  2023-012[2023-05-18, 2023-05-31]   \n186596             NaN             NaN  2023-012[2023-05-18, 2023-05-31]   \n186740             NaN             NaN  2023-012[2023-05-18, 2023-05-31]   \n188785             NaN             NaN  2023-012[2023-05-18, 2023-05-31]   \n\n        blacklist_flag  created_at record_added_to_warehouse_on_timestamp  \\\n12702                1  2023-05-31             2023-05-31 13:42:30:231841   \n29973                1  2023-05-31             2023-05-31 13:42:30:231841   \n30813                1  2023-05-31             2023-05-31 13:42:30:231841   \n41087                0  2023-05-31             2023-05-31 13:42:30:231841   \n42485                0  2023-05-31             2023-05-31 13:42:30:231841   \n...                ...         ...                                    ...   \n183951               0  2023-05-31             2023-05-31 13:42:30:231841   \n184867               0  2023-05-31             2023-05-31 13:42:30:231841   \n186596               0  2023-05-31             2023-05-31 13:42:30:231841   \n186740               0  2023-05-31             2023-05-31 13:42:30:231841   \n188785               0  2023-05-31             2023-05-31 13:42:30:231841   \n\n       limit_reason  \n12702            A2  \n29973            A2  \n30813            A2  \n41087            G1  \n42485            E1  \n...             ...  \n183951           B3  \n184867           B3  \n186596           B3  \n186740           B3  \n188785           B3  \n\n[110 rows x 15 columns]",
      "text/html": "<div>\n<style scoped>\n    .dataframe tbody tr th:only-of-type {\n        vertical-align: middle;\n    }\n\n    .dataframe tbody tr th {\n        vertical-align: top;\n    }\n\n    .dataframe thead th {\n        text-align: right;\n    }\n</style>\n<table border=\"1\" class=\"dataframe\">\n  <thead>\n    <tr style=\"text-align: right;\">\n      <th></th>\n      <th>surrogate_id</th>\n      <th>store_number</th>\n      <th>national_id</th>\n      <th>final_21_limit</th>\n      <th>final_7_limit</th>\n      <th>final_1_limit</th>\n      <th>idm_recommendation</th>\n      <th>limit_factor_21</th>\n      <th>limit_factor_7</th>\n      <th>limit_factor_1</th>\n      <th>model_version</th>\n      <th>blacklist_flag</th>\n      <th>created_at</th>\n      <th>record_added_to_warehouse_on_timestamp</th>\n      <th>limit_reason</th>\n    </tr>\n  </thead>\n  <tbody>\n    <tr>\n      <th>12702</th>\n      <td>8113338</td>\n      <td>003227</td>\n      <td>24125861</td>\n      <td>0.0</td>\n      <td>0.0</td>\n      <td>0.0</td>\n      <td>Approve</td>\n      <td>0.5</td>\n      <td>0.17</td>\n      <td>0.17</td>\n      <td>2023-012[2023-05-18, 2023-05-31]</td>\n      <td>1</td>\n      <td>2023-05-31</td>\n      <td>2023-05-31 13:42:30:231841</td>\n      <td>A2</td>\n    </tr>\n    <tr>\n      <th>29973</th>\n      <td>8130621</td>\n      <td>000030</td>\n      <td>201300000004442884</td>\n      <td>0.0</td>\n      <td>0.0</td>\n      <td>0.0</td>\n      <td>Approve</td>\n      <td>0.5</td>\n      <td>0.17</td>\n      <td>0.17</td>\n      <td>2023-012[2023-05-18, 2023-05-31]</td>\n      <td>1</td>\n      <td>2023-05-31</td>\n      <td>2023-05-31 13:42:30:231841</td>\n      <td>A2</td>\n    </tr>\n    <tr>\n      <th>30813</th>\n      <td>8131461</td>\n      <td>003215</td>\n      <td>29333437</td>\n      <td>0.0</td>\n      <td>0.0</td>\n      <td>0.0</td>\n      <td>Approve</td>\n      <td>0.5</td>\n      <td>0.17</td>\n      <td>0.17</td>\n      <td>2023-012[2023-05-18, 2023-05-31]</td>\n      <td>1</td>\n      <td>2023-05-31</td>\n      <td>2023-05-31 13:42:30:231841</td>\n      <td>A2</td>\n    </tr>\n    <tr>\n      <th>41087</th>\n      <td>8141739</td>\n      <td>058133</td>\n      <td>9554143</td>\n      <td>0.0</td>\n      <td>40300.0</td>\n      <td>0.0</td>\n      <td>Approve</td>\n      <td>0.5</td>\n      <td>0.17</td>\n      <td>0.17</td>\n      <td>2023-012[2023-05-18, 2023-05-31]</td>\n      <td>0</td>\n      <td>2023-05-31</td>\n      <td>2023-05-31 13:42:30:231841</td>\n      <td>G1</td>\n    </tr>\n    <tr>\n      <th>42485</th>\n      <td>8143138</td>\n      <td>000085</td>\n      <td>None</td>\n      <td>0.0</td>\n      <td>0.0</td>\n      <td>0.0</td>\n      <td>Approve</td>\n      <td>0.5</td>\n      <td>0.17</td>\n      <td>0.17</td>\n      <td>2023-012[2023-05-18, 2023-05-31]</td>\n      <td>0</td>\n      <td>2023-05-31</td>\n      <td>2023-05-31 13:42:30:231841</td>\n      <td>E1</td>\n    </tr>\n    <tr>\n      <th>...</th>\n      <td>...</td>\n      <td>...</td>\n      <td>...</td>\n      <td>...</td>\n      <td>...</td>\n      <td>...</td>\n      <td>...</td>\n      <td>...</td>\n      <td>...</td>\n      <td>...</td>\n      <td>...</td>\n      <td>...</td>\n      <td>...</td>\n      <td>...</td>\n      <td>...</td>\n    </tr>\n    <tr>\n      <th>183951</th>\n      <td>8284664</td>\n      <td>074600</td>\n      <td>C82002/074600</td>\n      <td>0.0</td>\n      <td>0.0</td>\n      <td>0.0</td>\n      <td>NaN</td>\n      <td>NaN</td>\n      <td>NaN</td>\n      <td>NaN</td>\n      <td>2023-012[2023-05-18, 2023-05-31]</td>\n      <td>0</td>\n      <td>2023-05-31</td>\n      <td>2023-05-31 13:42:30:231841</td>\n      <td>B3</td>\n    </tr>\n    <tr>\n      <th>184867</th>\n      <td>8285580</td>\n      <td>067800</td>\n      <td>C82002/067800</td>\n      <td>0.0</td>\n      <td>0.0</td>\n      <td>0.0</td>\n      <td>NaN</td>\n      <td>NaN</td>\n      <td>NaN</td>\n      <td>NaN</td>\n      <td>2023-012[2023-05-18, 2023-05-31]</td>\n      <td>0</td>\n      <td>2023-05-31</td>\n      <td>2023-05-31 13:42:30:231841</td>\n      <td>B3</td>\n    </tr>\n    <tr>\n      <th>186596</th>\n      <td>8287309</td>\n      <td>070600</td>\n      <td>C82002/070600</td>\n      <td>0.0</td>\n      <td>0.0</td>\n      <td>0.0</td>\n      <td>NaN</td>\n      <td>NaN</td>\n      <td>NaN</td>\n      <td>NaN</td>\n      <td>2023-012[2023-05-18, 2023-05-31]</td>\n      <td>0</td>\n      <td>2023-05-31</td>\n      <td>2023-05-31 13:42:30:231841</td>\n      <td>B3</td>\n    </tr>\n    <tr>\n      <th>186740</th>\n      <td>8287453</td>\n      <td>016000</td>\n      <td>C82002/016000</td>\n      <td>0.0</td>\n      <td>0.0</td>\n      <td>0.0</td>\n      <td>NaN</td>\n      <td>NaN</td>\n      <td>NaN</td>\n      <td>NaN</td>\n      <td>2023-012[2023-05-18, 2023-05-31]</td>\n      <td>0</td>\n      <td>2023-05-31</td>\n      <td>2023-05-31 13:42:30:231841</td>\n      <td>B3</td>\n    </tr>\n    <tr>\n      <th>188785</th>\n      <td>8289498</td>\n      <td>035600</td>\n      <td>C82002/035600</td>\n      <td>0.0</td>\n      <td>0.0</td>\n      <td>0.0</td>\n      <td>NaN</td>\n      <td>NaN</td>\n      <td>NaN</td>\n      <td>NaN</td>\n      <td>2023-012[2023-05-18, 2023-05-31]</td>\n      <td>0</td>\n      <td>2023-05-31</td>\n      <td>2023-05-31 13:42:30:231841</td>\n      <td>B3</td>\n    </tr>\n  </tbody>\n</table>\n<p>110 rows × 15 columns</p>\n</div>"
     },
     "execution_count": 22,
     "metadata": {},
     "output_type": "execute_result"
    }
   ],
   "source": [
    "missing_on_saf = warehouse_whitelist[~warehouse_whitelist['store_number'].astype(str).isin(current_whitelist['Store_Number'].tolist())]\n",
    "missing_on_saf"
   ],
   "metadata": {
    "collapsed": false
   }
  },
  {
   "cell_type": "markdown",
   "source": [
    "#### Merge datasets"
   ],
   "metadata": {
    "collapsed": false
   }
  },
  {
   "cell_type": "code",
   "execution_count": 44,
   "outputs": [],
   "source": [
    "merged = current_whitelist.merge(\n",
    "    warehouse_whitelist,\n",
    "    left_on='Store_Number',\n",
    "    right_on='store_number',\n",
    "    how='outer'\n",
    ").dropna(subset=['Store_Number', 'store_number'], how='any')"
   ],
   "metadata": {
    "collapsed": false
   }
  },
  {
   "cell_type": "code",
   "execution_count": 45,
   "outputs": [
    {
     "data": {
      "text/plain": "  Store_Number  Asante_Blacklist_Flag  Asante_Credit_Limit_1_Day  \\\n0      7346057                    0.0                        0.0   \n1      6026001                    0.0                        0.0   \n2      7348921                    0.0                        0.0   \n3      7349309                    0.0                        0.0   \n4      7351485                    0.0                        0.0   \n\n   Asante_Credit_Limit_7_Day  Asante_Credit_Limit_21_Day      CreatedOn_Date  \\\n0                        0.0                         0.0 2023-05-13 05:34:57   \n1                        0.0                         0.0 2023-05-25 11:27:57   \n2                        0.0                         0.0 2023-05-13 05:34:57   \n3                        0.0                         0.0 2023-05-13 05:34:57   \n4                        0.0                         0.0 2023-05-13 05:34:57   \n\n      ModifiedOn_Date           id record_created_on_timestamp  surrogate_id  \\\n0 2023-05-13 05:34:57  407147484.0         2023-06-08 07:58:42     8161226.0   \n1 2023-05-25 11:27:57  407147485.0         2023-06-08 07:58:42     8146702.0   \n2 2023-05-13 05:34:57  407147486.0         2023-06-08 07:58:42     8161297.0   \n3 2023-05-13 05:34:57  407147487.0         2023-06-08 07:58:42     8161314.0   \n4 2023-05-13 05:34:57  407147488.0         2023-06-08 07:58:42     8161371.0   \n\n   ... final_1_limit idm_recommendation  limit_factor_21  limit_factor_7  \\\n0  ...           0.0            Approve              0.5            0.17   \n1  ...           0.0            Approve              0.5            0.17   \n2  ...           0.0            Approve              0.5            0.17   \n3  ...           0.0            Approve              0.5            0.17   \n4  ...           0.0            Approve              0.5            0.17   \n\n   limit_factor_1                     model_version  blacklist_flag  \\\n0            0.17  2023-012[2023-05-18, 2023-05-31]             0.0   \n1            0.17  2023-012[2023-05-18, 2023-05-31]             0.0   \n2            0.17  2023-012[2023-05-18, 2023-05-31]             0.0   \n3            0.17  2023-012[2023-05-18, 2023-05-31]             0.0   \n4            0.17  2023-012[2023-05-18, 2023-05-31]             0.0   \n\n   created_at  record_added_to_warehouse_on_timestamp limit_reason  \n0  2023-05-31              2023-05-31 13:42:30:231841           E1  \n1  2023-05-31              2023-05-31 13:42:30:231841           E1  \n2  2023-05-31              2023-05-31 13:42:30:231841           E1  \n3  2023-05-31              2023-05-31 13:42:30:231841           E1  \n4  2023-05-31              2023-05-31 13:42:30:231841           E1  \n\n[5 rows x 24 columns]",
      "text/html": "<div>\n<style scoped>\n    .dataframe tbody tr th:only-of-type {\n        vertical-align: middle;\n    }\n\n    .dataframe tbody tr th {\n        vertical-align: top;\n    }\n\n    .dataframe thead th {\n        text-align: right;\n    }\n</style>\n<table border=\"1\" class=\"dataframe\">\n  <thead>\n    <tr style=\"text-align: right;\">\n      <th></th>\n      <th>Store_Number</th>\n      <th>Asante_Blacklist_Flag</th>\n      <th>Asante_Credit_Limit_1_Day</th>\n      <th>Asante_Credit_Limit_7_Day</th>\n      <th>Asante_Credit_Limit_21_Day</th>\n      <th>CreatedOn_Date</th>\n      <th>ModifiedOn_Date</th>\n      <th>id</th>\n      <th>record_created_on_timestamp</th>\n      <th>surrogate_id</th>\n      <th>...</th>\n      <th>final_1_limit</th>\n      <th>idm_recommendation</th>\n      <th>limit_factor_21</th>\n      <th>limit_factor_7</th>\n      <th>limit_factor_1</th>\n      <th>model_version</th>\n      <th>blacklist_flag</th>\n      <th>created_at</th>\n      <th>record_added_to_warehouse_on_timestamp</th>\n      <th>limit_reason</th>\n    </tr>\n  </thead>\n  <tbody>\n    <tr>\n      <th>0</th>\n      <td>7346057</td>\n      <td>0.0</td>\n      <td>0.0</td>\n      <td>0.0</td>\n      <td>0.0</td>\n      <td>2023-05-13 05:34:57</td>\n      <td>2023-05-13 05:34:57</td>\n      <td>407147484.0</td>\n      <td>2023-06-08 07:58:42</td>\n      <td>8161226.0</td>\n      <td>...</td>\n      <td>0.0</td>\n      <td>Approve</td>\n      <td>0.5</td>\n      <td>0.17</td>\n      <td>0.17</td>\n      <td>2023-012[2023-05-18, 2023-05-31]</td>\n      <td>0.0</td>\n      <td>2023-05-31</td>\n      <td>2023-05-31 13:42:30:231841</td>\n      <td>E1</td>\n    </tr>\n    <tr>\n      <th>1</th>\n      <td>6026001</td>\n      <td>0.0</td>\n      <td>0.0</td>\n      <td>0.0</td>\n      <td>0.0</td>\n      <td>2023-05-25 11:27:57</td>\n      <td>2023-05-25 11:27:57</td>\n      <td>407147485.0</td>\n      <td>2023-06-08 07:58:42</td>\n      <td>8146702.0</td>\n      <td>...</td>\n      <td>0.0</td>\n      <td>Approve</td>\n      <td>0.5</td>\n      <td>0.17</td>\n      <td>0.17</td>\n      <td>2023-012[2023-05-18, 2023-05-31]</td>\n      <td>0.0</td>\n      <td>2023-05-31</td>\n      <td>2023-05-31 13:42:30:231841</td>\n      <td>E1</td>\n    </tr>\n    <tr>\n      <th>2</th>\n      <td>7348921</td>\n      <td>0.0</td>\n      <td>0.0</td>\n      <td>0.0</td>\n      <td>0.0</td>\n      <td>2023-05-13 05:34:57</td>\n      <td>2023-05-13 05:34:57</td>\n      <td>407147486.0</td>\n      <td>2023-06-08 07:58:42</td>\n      <td>8161297.0</td>\n      <td>...</td>\n      <td>0.0</td>\n      <td>Approve</td>\n      <td>0.5</td>\n      <td>0.17</td>\n      <td>0.17</td>\n      <td>2023-012[2023-05-18, 2023-05-31]</td>\n      <td>0.0</td>\n      <td>2023-05-31</td>\n      <td>2023-05-31 13:42:30:231841</td>\n      <td>E1</td>\n    </tr>\n    <tr>\n      <th>3</th>\n      <td>7349309</td>\n      <td>0.0</td>\n      <td>0.0</td>\n      <td>0.0</td>\n      <td>0.0</td>\n      <td>2023-05-13 05:34:57</td>\n      <td>2023-05-13 05:34:57</td>\n      <td>407147487.0</td>\n      <td>2023-06-08 07:58:42</td>\n      <td>8161314.0</td>\n      <td>...</td>\n      <td>0.0</td>\n      <td>Approve</td>\n      <td>0.5</td>\n      <td>0.17</td>\n      <td>0.17</td>\n      <td>2023-012[2023-05-18, 2023-05-31]</td>\n      <td>0.0</td>\n      <td>2023-05-31</td>\n      <td>2023-05-31 13:42:30:231841</td>\n      <td>E1</td>\n    </tr>\n    <tr>\n      <th>4</th>\n      <td>7351485</td>\n      <td>0.0</td>\n      <td>0.0</td>\n      <td>0.0</td>\n      <td>0.0</td>\n      <td>2023-05-13 05:34:57</td>\n      <td>2023-05-13 05:34:57</td>\n      <td>407147488.0</td>\n      <td>2023-06-08 07:58:42</td>\n      <td>8161371.0</td>\n      <td>...</td>\n      <td>0.0</td>\n      <td>Approve</td>\n      <td>0.5</td>\n      <td>0.17</td>\n      <td>0.17</td>\n      <td>2023-012[2023-05-18, 2023-05-31]</td>\n      <td>0.0</td>\n      <td>2023-05-31</td>\n      <td>2023-05-31 13:42:30:231841</td>\n      <td>E1</td>\n    </tr>\n  </tbody>\n</table>\n<p>5 rows × 24 columns</p>\n</div>"
     },
     "execution_count": 45,
     "metadata": {},
     "output_type": "execute_result"
    }
   ],
   "source": [
    "merged.head()"
   ],
   "metadata": {
    "collapsed": false
   }
  },
  {
   "cell_type": "code",
   "execution_count": 46,
   "outputs": [
    {
     "data": {
      "text/plain": "Empty DataFrame\nColumns: [store_number, blacklist_flag, Asante_Blacklist_Flag, Store_Number, store_number]\nIndex: []",
      "text/html": "<div>\n<style scoped>\n    .dataframe tbody tr th:only-of-type {\n        vertical-align: middle;\n    }\n\n    .dataframe tbody tr th {\n        vertical-align: top;\n    }\n\n    .dataframe thead th {\n        text-align: right;\n    }\n</style>\n<table border=\"1\" class=\"dataframe\">\n  <thead>\n    <tr style=\"text-align: right;\">\n      <th></th>\n      <th>store_number</th>\n      <th>blacklist_flag</th>\n      <th>Asante_Blacklist_Flag</th>\n      <th>Store_Number</th>\n      <th>store_number</th>\n    </tr>\n  </thead>\n  <tbody>\n  </tbody>\n</table>\n</div>"
     },
     "execution_count": 46,
     "metadata": {},
     "output_type": "execute_result"
    }
   ],
   "source": [
    "merged[merged['blacklist_flag'] != merged['Asante_Blacklist_Flag']][['store_number', 'blacklist_flag', 'Asante_Blacklist_Flag', 'Store_Number', 'store_number']]"
   ],
   "metadata": {
    "collapsed": false
   }
  },
  {
   "cell_type": "code",
   "execution_count": 47,
   "outputs": [
    {
     "data": {
      "text/plain": "Empty DataFrame\nColumns: [store_number, final_1_limit, Asante_Credit_Limit_1_Day]\nIndex: []",
      "text/html": "<div>\n<style scoped>\n    .dataframe tbody tr th:only-of-type {\n        vertical-align: middle;\n    }\n\n    .dataframe tbody tr th {\n        vertical-align: top;\n    }\n\n    .dataframe thead th {\n        text-align: right;\n    }\n</style>\n<table border=\"1\" class=\"dataframe\">\n  <thead>\n    <tr style=\"text-align: right;\">\n      <th></th>\n      <th>store_number</th>\n      <th>final_1_limit</th>\n      <th>Asante_Credit_Limit_1_Day</th>\n    </tr>\n  </thead>\n  <tbody>\n  </tbody>\n</table>\n</div>"
     },
     "execution_count": 47,
     "metadata": {},
     "output_type": "execute_result"
    }
   ],
   "source": [
    "merged[merged['final_1_limit'] != merged['Asante_Credit_Limit_1_Day']][['store_number', 'final_1_limit', 'Asante_Credit_Limit_1_Day']]"
   ],
   "metadata": {
    "collapsed": false
   }
  },
  {
   "cell_type": "code",
   "execution_count": 48,
   "outputs": [
    {
     "data": {
      "text/plain": "Empty DataFrame\nColumns: [store_number, final_7_limit, Asante_Credit_Limit_7_Day]\nIndex: []",
      "text/html": "<div>\n<style scoped>\n    .dataframe tbody tr th:only-of-type {\n        vertical-align: middle;\n    }\n\n    .dataframe tbody tr th {\n        vertical-align: top;\n    }\n\n    .dataframe thead th {\n        text-align: right;\n    }\n</style>\n<table border=\"1\" class=\"dataframe\">\n  <thead>\n    <tr style=\"text-align: right;\">\n      <th></th>\n      <th>store_number</th>\n      <th>final_7_limit</th>\n      <th>Asante_Credit_Limit_7_Day</th>\n    </tr>\n  </thead>\n  <tbody>\n  </tbody>\n</table>\n</div>"
     },
     "execution_count": 48,
     "metadata": {},
     "output_type": "execute_result"
    }
   ],
   "source": [
    "merged[merged['final_7_limit'] != merged['Asante_Credit_Limit_7_Day']][['store_number', 'final_7_limit', 'Asante_Credit_Limit_7_Day']]"
   ],
   "metadata": {
    "collapsed": false
   }
  },
  {
   "cell_type": "code",
   "execution_count": 49,
   "outputs": [
    {
     "data": {
      "text/plain": "Empty DataFrame\nColumns: [store_number, final_21_limit, Asante_Credit_Limit_21_Day]\nIndex: []",
      "text/html": "<div>\n<style scoped>\n    .dataframe tbody tr th:only-of-type {\n        vertical-align: middle;\n    }\n\n    .dataframe tbody tr th {\n        vertical-align: top;\n    }\n\n    .dataframe thead th {\n        text-align: right;\n    }\n</style>\n<table border=\"1\" class=\"dataframe\">\n  <thead>\n    <tr style=\"text-align: right;\">\n      <th></th>\n      <th>store_number</th>\n      <th>final_21_limit</th>\n      <th>Asante_Credit_Limit_21_Day</th>\n    </tr>\n  </thead>\n  <tbody>\n  </tbody>\n</table>\n</div>"
     },
     "execution_count": 49,
     "metadata": {},
     "output_type": "execute_result"
    }
   ],
   "source": [
    "merged[merged['final_21_limit'] != merged['Asante_Credit_Limit_21_Day']][['store_number', 'final_21_limit', 'Asante_Credit_Limit_21_Day']]"
   ],
   "metadata": {
    "collapsed": false
   }
  },
  {
   "cell_type": "code",
   "execution_count": 51,
   "outputs": [
    {
     "name": "stdout",
     "output_type": "stream",
     "text": [
      "0\n",
      "0\n"
     ]
    }
   ],
   "source": [
    "print(merged[merged['blacklist_flag'] == 0].shape[0] - merged[merged['Asante_Blacklist_Flag'] == 0].shape[0])\n",
    "print(merged[merged['blacklist_flag'] == 1].shape[0] - merged[merged['Asante_Blacklist_Flag'] == 1].shape[0])"
   ],
   "metadata": {
    "collapsed": false
   }
  }
 ],
 "metadata": {
  "kernelspec": {
   "display_name": "Python 3",
   "language": "python",
   "name": "python3"
  },
  "language_info": {
   "codemirror_mode": {
    "name": "ipython",
    "version": 2
   },
   "file_extension": ".py",
   "mimetype": "text/x-python",
   "name": "python",
   "nbconvert_exporter": "python",
   "pygments_lexer": "ipython2",
   "version": "2.7.6"
  }
 },
 "nbformat": 4,
 "nbformat_minor": 0
}
