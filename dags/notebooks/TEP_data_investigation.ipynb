{
 "cells": [
  {
   "cell_type": "code",
   "execution_count": 1,
   "metadata": {
    "collapsed": true
   },
   "outputs": [
    {
     "data": {
      "text/plain": "\u001B[1;33m/tmp/ipykernel_1950/\u001B[0m\u001B[1;33m1102278957.py\u001B[0m\u001B[1;33m:\u001B[0m\u001B[1;33m15\u001B[0m\u001B[1;33m DeprecationWarning\u001B[0m\u001B[33m: The \u001B[0m\u001B[33m\"schema\"\u001B[0m\u001B[33m arg has been renamed to \u001B[0m\u001B[33m\"database\"\u001B[0m\u001B[33m as it contained the database name.Please use \u001B[0m\u001B[33m\"database\"\u001B[0m\u001B[33m to set the database name.\u001B[0m\n",
      "text/html": "<pre style=\"white-space:pre;overflow-x:auto;line-height:normal;font-family:Menlo,'DejaVu Sans Mono',consolas,'Courier New',monospace\"><span style=\"color: #808000; text-decoration-color: #808000; font-weight: bold\">/tmp/ipykernel_1950/1102278957.py:</span><span style=\"color: #808000; text-decoration-color: #808000; font-weight: bold\">15</span><span style=\"color: #808000; text-decoration-color: #808000; font-weight: bold\"> DeprecationWarning</span><span style=\"color: #808000; text-decoration-color: #808000\">: The </span><span style=\"color: #808000; text-decoration-color: #808000\">\"schema\"</span><span style=\"color: #808000; text-decoration-color: #808000\"> arg has been renamed to </span><span style=\"color: #808000; text-decoration-color: #808000\">\"database\"</span><span style=\"color: #808000; text-decoration-color: #808000\"> as it contained the database name.Please use </span><span style=\"color: #808000; text-decoration-color: #808000\">\"database\"</span><span style=\"color: #808000; text-decoration-color: #808000\"> to set the database name.</span>\n</pre>\n"
     },
     "metadata": {},
     "output_type": "display_data"
    }
   ],
   "source": [
    "import sys\n",
    "import json\n",
    "import logging\n",
    "import numpy as np\n",
    "import datetime\n",
    "import pandas as pd\n",
    "from airflow.models import Variable\n",
    "from pandas.tseries.offsets import MonthEnd\n",
    "from dateutil.relativedelta import relativedelta\n",
    "from airflow.providers.mysql.hooks.mysql import MySqlHook\n",
    "from airflow.providers.postgres.hooks.postgres import PostgresHook\n",
    "\n",
    "# remita_hook = MySqlHook(mysql_conn_id='remita_server', database='remita_staging')\n",
    "mifos_hook = MySqlHook(mysql_conn_id='mifos_db', schema='mifostenant-pronto')\n",
    "warehouse_hook = PostgresHook(postgres_conn_id='rds_afsg_ds_prod_postgresql_dwh', schema='afsg_ds_prod_postgresql_dwh')\n",
    "log_format = \"%(asctime)s: %(message)s\"\n",
    "logging.basicConfig(format=log_format, level=logging.WARNING, datefmt=\"%H:%M:%S\")"
   ]
  },
  {
   "cell_type": "code",
   "execution_count": 7,
   "outputs": [
    {
     "name": "stdout",
     "output_type": "stream",
     "text": [
      "[\u001B[34m2023-06-13 08:28:34,845\u001B[0m] {\u001B[34mbase.py:\u001B[0m73} INFO\u001B[0m - Using connection ID 'rds_afsg_ds_prod_postgresql_dwh' for task execution.\u001B[0m\n"
     ]
    },
    {
     "data": {
      "text/plain": "\u001B[1;33m/home/henrykuria/airflow_venv/lib/python3.10/site-packages/pandas/io/\u001B[0m\u001B[1;33msql.py\u001B[0m\u001B[1;33m:\u001B[0m\u001B[1;33m761\u001B[0m\u001B[1;33m UserWarning\u001B[0m\u001B[33m: pandas only support SQLAlchemy \u001B[0m\u001B[1;33mconnectable\u001B[0m\u001B[1;33m(\u001B[0m\u001B[33mengine/connection\u001B[0m\u001B[1;33m)\u001B[0m\u001B[33m ordatabase string URI or sqlite3 DBAPI2 connectionother DBAPI2 objects are not tested, please consider using SQLAlchemy\u001B[0m\n",
      "text/html": "<pre style=\"white-space:pre;overflow-x:auto;line-height:normal;font-family:Menlo,'DejaVu Sans Mono',consolas,'Courier New',monospace\"><span style=\"color: #808000; text-decoration-color: #808000; font-weight: bold\">/home/henrykuria/airflow_venv/lib/python3.10/site-packages/pandas/io/sql.py:</span><span style=\"color: #808000; text-decoration-color: #808000; font-weight: bold\">761</span><span style=\"color: #808000; text-decoration-color: #808000; font-weight: bold\"> UserWarning</span><span style=\"color: #808000; text-decoration-color: #808000\">: pandas only support SQLAlchemy </span><span style=\"color: #808000; text-decoration-color: #808000; font-weight: bold\">connectable(</span><span style=\"color: #808000; text-decoration-color: #808000\">engine/connection</span><span style=\"color: #808000; text-decoration-color: #808000; font-weight: bold\">)</span><span style=\"color: #808000; text-decoration-color: #808000\"> ordatabase string URI or sqlite3 DBAPI2 connectionother DBAPI2 objects are not tested, please consider using SQLAlchemy</span>\n</pre>\n"
     },
     "metadata": {},
     "output_type": "display_data"
    }
   ],
   "source": [
    "TEP = warehouse_hook.get_pandas_df(\n",
    "    sql=\"\"\"\n",
    "        select fund_movement_transaction_id, true as is_repayment, false as is_disbursement, transaction_date_time from bloomlive.raw_tep_repayments where transaction_date_time > '2023-06-08'\n",
    "        union\n",
    "        select fund_movement_transaction_id, false as is_repayment, true as is_disbursement, application_date_time as transaction_date_time from bloomlive.raw_tep_disbursements where application_date_time > '2023-06-08'\n",
    "        \"\"\"\n",
    ")\n",
    "MPESA_rep = pd.read_csv('~/data/ORG_4018601_Loan Repayment Account_Completed_20230612160944.csv', skiprows=6)\n",
    "MPESA_disb = pd.read_csv('~/data/ORG_4018601_Loan Disbursement Account_Completed_20230612160904.csv', skiprows=6)"
   ],
   "metadata": {
    "collapsed": false
   }
  },
  {
   "cell_type": "code",
   "execution_count": 27,
   "outputs": [
    {
     "data": {
      "text/plain": "     receipt_number      completion_time      initiation_time  \\\n0        RFC6VAC184  12-06-2023 16:07:17  12-06-2023 16:07:17   \n1        RFC2VABUFA  12-06-2023 16:07:15  12-06-2023 16:07:15   \n2        RFC6VA07ZI  12-06-2023 16:04:09  12-06-2023 16:04:09   \n3        RFC2V9LIUS  12-06-2023 15:59:52  12-06-2023 15:59:52   \n4        RFC7V9HWSZ  12-06-2023 15:58:55  12-06-2023 15:58:55   \n...             ...                  ...                  ...   \n1081     RF97L2YSQV  09-06-2023 00:17:50  09-06-2023 00:17:50   \n1082     RF90L2SHIO  09-06-2023 00:09:05  09-06-2023 00:09:05   \n1083     RF99L2S33H  09-06-2023 00:07:53  09-06-2023 00:07:53   \n1084     RF91L2PKR1  09-06-2023 00:04:21  09-06-2023 00:04:21   \n1085     RF94L2NKBW  09-06-2023 00:02:10  09-06-2023 00:02:10   \n\n                  Details transaction_status   paid_in  Withdrawn     Balance  \\\n0     Loan Soko Repayment          Completed    900.00        NaN  4523729.06   \n1     Loan Soko Repayment          Completed  12374.40        NaN  4522829.06   \n2     Loan Soko Repayment          Completed   1000.00        NaN  4510454.66   \n3     Loan Soko Repayment          Completed     58.00        NaN  4509454.66   \n4     Loan Soko Repayment          Completed   2213.29        NaN  4509396.66   \n...                   ...                ...       ...        ...         ...   \n1081  Loan Soko Repayment          Completed    200.00        NaN  6036846.73   \n1082  Loan Soko Repayment          Completed   6500.00        NaN  6036646.73   \n1083  Loan Soko Repayment          Completed    100.00        NaN  6030146.73   \n1084  Loan Soko Repayment          Completed    409.36        NaN  6030046.73   \n1085  Loan Soko Repayment          Completed   3000.00        NaN  6029637.37   \n\n      balance_confirmed                   reason_type  \\\n0                  True  Merchant Loan Soko Repayment   \n1                  True  Merchant Loan Soko Repayment   \n2                  True  Merchant Loan Soko Repayment   \n3                  True  Merchant Loan Soko Repayment   \n4                  True  Merchant Loan Soko Repayment   \n...                 ...                           ...   \n1081               True  Merchant Loan Soko Repayment   \n1082               True  Merchant Loan Soko Repayment   \n1083               True  Merchant Loan Soko Repayment   \n1084               True  Merchant Loan Soko Repayment   \n1085               True  Merchant Loan Soko Repayment   \n\n                           other_party_info  linked_transaction_id  \\\n0     7544114 -    WEGA BIZNA ENTERPRISE                       NaN   \n1                 908842 - DUKA MOJA SHOP B                    NaN   \n2     417946 - Wakaguku malimaliconnections                    NaN   \n3                  7303354 - SUSCET WANJA 5                    NaN   \n4     7015065 - NANCY KEMUMA GECHIKO                           NaN   \n...                                     ...                    ...   \n1081            7403114 -    DENNIS BOSUBEN                    NaN   \n1082        7009774 - BEATRICE  MUMBI                          NaN   \n1083   7436670 -    BENJAMINE KIMUYU KYUNGU                    NaN   \n1084    7415050 -   NICODEMUS MUTIA SYENGO                     NaN   \n1085               975423 - DE CULTURE  BAR                    NaN   \n\n      account_number  \n0                NaN  \n1                NaN  \n2                NaN  \n3                NaN  \n4                NaN  \n...              ...  \n1081             NaN  \n1082             NaN  \n1083             NaN  \n1084             NaN  \n1085             NaN  \n\n[1086 rows x 13 columns]",
      "text/html": "<div>\n<style scoped>\n    .dataframe tbody tr th:only-of-type {\n        vertical-align: middle;\n    }\n\n    .dataframe tbody tr th {\n        vertical-align: top;\n    }\n\n    .dataframe thead th {\n        text-align: right;\n    }\n</style>\n<table border=\"1\" class=\"dataframe\">\n  <thead>\n    <tr style=\"text-align: right;\">\n      <th></th>\n      <th>receipt_number</th>\n      <th>completion_time</th>\n      <th>initiation_time</th>\n      <th>Details</th>\n      <th>transaction_status</th>\n      <th>paid_in</th>\n      <th>Withdrawn</th>\n      <th>Balance</th>\n      <th>balance_confirmed</th>\n      <th>reason_type</th>\n      <th>other_party_info</th>\n      <th>linked_transaction_id</th>\n      <th>account_number</th>\n    </tr>\n  </thead>\n  <tbody>\n    <tr>\n      <th>0</th>\n      <td>RFC6VAC184</td>\n      <td>12-06-2023 16:07:17</td>\n      <td>12-06-2023 16:07:17</td>\n      <td>Loan Soko Repayment</td>\n      <td>Completed</td>\n      <td>900.00</td>\n      <td>NaN</td>\n      <td>4523729.06</td>\n      <td>True</td>\n      <td>Merchant Loan Soko Repayment</td>\n      <td>7544114 -    WEGA BIZNA ENTERPRISE</td>\n      <td>NaN</td>\n      <td>NaN</td>\n    </tr>\n    <tr>\n      <th>1</th>\n      <td>RFC2VABUFA</td>\n      <td>12-06-2023 16:07:15</td>\n      <td>12-06-2023 16:07:15</td>\n      <td>Loan Soko Repayment</td>\n      <td>Completed</td>\n      <td>12374.40</td>\n      <td>NaN</td>\n      <td>4522829.06</td>\n      <td>True</td>\n      <td>Merchant Loan Soko Repayment</td>\n      <td>908842 - DUKA MOJA SHOP B</td>\n      <td>NaN</td>\n      <td>NaN</td>\n    </tr>\n    <tr>\n      <th>2</th>\n      <td>RFC6VA07ZI</td>\n      <td>12-06-2023 16:04:09</td>\n      <td>12-06-2023 16:04:09</td>\n      <td>Loan Soko Repayment</td>\n      <td>Completed</td>\n      <td>1000.00</td>\n      <td>NaN</td>\n      <td>4510454.66</td>\n      <td>True</td>\n      <td>Merchant Loan Soko Repayment</td>\n      <td>417946 - Wakaguku malimaliconnections</td>\n      <td>NaN</td>\n      <td>NaN</td>\n    </tr>\n    <tr>\n      <th>3</th>\n      <td>RFC2V9LIUS</td>\n      <td>12-06-2023 15:59:52</td>\n      <td>12-06-2023 15:59:52</td>\n      <td>Loan Soko Repayment</td>\n      <td>Completed</td>\n      <td>58.00</td>\n      <td>NaN</td>\n      <td>4509454.66</td>\n      <td>True</td>\n      <td>Merchant Loan Soko Repayment</td>\n      <td>7303354 - SUSCET WANJA 5</td>\n      <td>NaN</td>\n      <td>NaN</td>\n    </tr>\n    <tr>\n      <th>4</th>\n      <td>RFC7V9HWSZ</td>\n      <td>12-06-2023 15:58:55</td>\n      <td>12-06-2023 15:58:55</td>\n      <td>Loan Soko Repayment</td>\n      <td>Completed</td>\n      <td>2213.29</td>\n      <td>NaN</td>\n      <td>4509396.66</td>\n      <td>True</td>\n      <td>Merchant Loan Soko Repayment</td>\n      <td>7015065 - NANCY KEMUMA GECHIKO</td>\n      <td>NaN</td>\n      <td>NaN</td>\n    </tr>\n    <tr>\n      <th>...</th>\n      <td>...</td>\n      <td>...</td>\n      <td>...</td>\n      <td>...</td>\n      <td>...</td>\n      <td>...</td>\n      <td>...</td>\n      <td>...</td>\n      <td>...</td>\n      <td>...</td>\n      <td>...</td>\n      <td>...</td>\n      <td>...</td>\n    </tr>\n    <tr>\n      <th>1081</th>\n      <td>RF97L2YSQV</td>\n      <td>09-06-2023 00:17:50</td>\n      <td>09-06-2023 00:17:50</td>\n      <td>Loan Soko Repayment</td>\n      <td>Completed</td>\n      <td>200.00</td>\n      <td>NaN</td>\n      <td>6036846.73</td>\n      <td>True</td>\n      <td>Merchant Loan Soko Repayment</td>\n      <td>7403114 -    DENNIS BOSUBEN</td>\n      <td>NaN</td>\n      <td>NaN</td>\n    </tr>\n    <tr>\n      <th>1082</th>\n      <td>RF90L2SHIO</td>\n      <td>09-06-2023 00:09:05</td>\n      <td>09-06-2023 00:09:05</td>\n      <td>Loan Soko Repayment</td>\n      <td>Completed</td>\n      <td>6500.00</td>\n      <td>NaN</td>\n      <td>6036646.73</td>\n      <td>True</td>\n      <td>Merchant Loan Soko Repayment</td>\n      <td>7009774 - BEATRICE  MUMBI</td>\n      <td>NaN</td>\n      <td>NaN</td>\n    </tr>\n    <tr>\n      <th>1083</th>\n      <td>RF99L2S33H</td>\n      <td>09-06-2023 00:07:53</td>\n      <td>09-06-2023 00:07:53</td>\n      <td>Loan Soko Repayment</td>\n      <td>Completed</td>\n      <td>100.00</td>\n      <td>NaN</td>\n      <td>6030146.73</td>\n      <td>True</td>\n      <td>Merchant Loan Soko Repayment</td>\n      <td>7436670 -    BENJAMINE KIMUYU KYUNGU</td>\n      <td>NaN</td>\n      <td>NaN</td>\n    </tr>\n    <tr>\n      <th>1084</th>\n      <td>RF91L2PKR1</td>\n      <td>09-06-2023 00:04:21</td>\n      <td>09-06-2023 00:04:21</td>\n      <td>Loan Soko Repayment</td>\n      <td>Completed</td>\n      <td>409.36</td>\n      <td>NaN</td>\n      <td>6030046.73</td>\n      <td>True</td>\n      <td>Merchant Loan Soko Repayment</td>\n      <td>7415050 -   NICODEMUS MUTIA SYENGO</td>\n      <td>NaN</td>\n      <td>NaN</td>\n    </tr>\n    <tr>\n      <th>1085</th>\n      <td>RF94L2NKBW</td>\n      <td>09-06-2023 00:02:10</td>\n      <td>09-06-2023 00:02:10</td>\n      <td>Loan Soko Repayment</td>\n      <td>Completed</td>\n      <td>3000.00</td>\n      <td>NaN</td>\n      <td>6029637.37</td>\n      <td>True</td>\n      <td>Merchant Loan Soko Repayment</td>\n      <td>975423 - DE CULTURE  BAR</td>\n      <td>NaN</td>\n      <td>NaN</td>\n    </tr>\n  </tbody>\n</table>\n<p>1086 rows × 13 columns</p>\n</div>"
     },
     "execution_count": 27,
     "metadata": {},
     "output_type": "execute_result"
    }
   ],
   "source": [
    "MPESA_rep.rename(columns={\n",
    "    'Receipt No.': 'receipt_number', 'Completion Time': 'completion_time', 'Initiation Time': 'initiation_time',\n",
    "    'Transaction Status': 'transaction_status', 'Paid In': 'paid_in', 'Balance Confirmed': 'balance_confirmed',\n",
    "    'Reason Type': 'reason_type', 'Other Party Info': 'other_party_info', 'Linked Transaction ID': 'linked_transaction_id',\n",
    "    'A/C No.': 'account_number',\n",
    "}).columns"
   ],
   "metadata": {
    "collapsed": false
   }
  },
  {
   "cell_type": "code",
   "execution_count": 26,
   "outputs": [
    {
     "data": {
      "text/plain": "  Receipt No.      Completion Time      Initiation Time  \\\n0  RFC4VAFG0C  12-06-2023 16:08:16  12-06-2023 16:08:16   \n1  RFC4VAFG0C  12-06-2023 16:08:16  12-06-2023 16:08:16   \n2  RFC8VAB2YK  12-06-2023 16:07:08  12-06-2023 16:07:08   \n3  RFC8VAB2YK  12-06-2023 16:07:08  12-06-2023 16:07:08   \n4  RFC1VA98UD  12-06-2023 16:06:41  12-06-2023 16:06:41   \n\n                                             Details Transaction Status  \\\n0                        SP Commission for Loan Soko          Completed   \n1  Merchant Loan Soko Disbursement to 276946 - RO...          Completed   \n2                        SP Commission for Loan Soko          Completed   \n3  7 days Merchant Loan Soko Disbursement to 7284...          Completed   \n4                        SP Commission for Loan Soko          Completed   \n\n   Paid In  Withdrawn    Balance  Balance Confirmed  \\\n0      NaN   -3467.50  331060.70               True   \n1      NaN  -95000.00  334528.20               True   \n2      NaN    -866.25  429528.20               True   \n3      NaN  -69300.00  430394.45               True   \n4      NaN     -35.00  499694.45               True   \n\n                               Reason Type                  Other Party Info  \\\n0  21 days Merchant Loan Soko Disbursement                               NaN   \n1  21 days Merchant Loan Soko Disbursement  276946 - ROYAL SENATOR PALACE…..   \n2   7 days Merchant Loan Soko Disbursement                               NaN   \n3   7 days Merchant Loan Soko Disbursement   7284044 - Eunice Kathetha Kinga   \n4   7 days Merchant Loan Soko Disbursement                               NaN   \n\n   Linked Transaction ID  A/C No.  \n0                    NaN      NaN  \n1                    NaN      NaN  \n2                    NaN      NaN  \n3                    NaN      NaN  \n4                    NaN      NaN  ",
      "text/html": "<div>\n<style scoped>\n    .dataframe tbody tr th:only-of-type {\n        vertical-align: middle;\n    }\n\n    .dataframe tbody tr th {\n        vertical-align: top;\n    }\n\n    .dataframe thead th {\n        text-align: right;\n    }\n</style>\n<table border=\"1\" class=\"dataframe\">\n  <thead>\n    <tr style=\"text-align: right;\">\n      <th></th>\n      <th>Receipt No.</th>\n      <th>Completion Time</th>\n      <th>Initiation Time</th>\n      <th>Details</th>\n      <th>Transaction Status</th>\n      <th>Paid In</th>\n      <th>Withdrawn</th>\n      <th>Balance</th>\n      <th>Balance Confirmed</th>\n      <th>Reason Type</th>\n      <th>Other Party Info</th>\n      <th>Linked Transaction ID</th>\n      <th>A/C No.</th>\n    </tr>\n  </thead>\n  <tbody>\n    <tr>\n      <th>0</th>\n      <td>RFC4VAFG0C</td>\n      <td>12-06-2023 16:08:16</td>\n      <td>12-06-2023 16:08:16</td>\n      <td>SP Commission for Loan Soko</td>\n      <td>Completed</td>\n      <td>NaN</td>\n      <td>-3467.50</td>\n      <td>331060.70</td>\n      <td>True</td>\n      <td>21 days Merchant Loan Soko Disbursement</td>\n      <td>NaN</td>\n      <td>NaN</td>\n      <td>NaN</td>\n    </tr>\n    <tr>\n      <th>1</th>\n      <td>RFC4VAFG0C</td>\n      <td>12-06-2023 16:08:16</td>\n      <td>12-06-2023 16:08:16</td>\n      <td>Merchant Loan Soko Disbursement to 276946 - RO...</td>\n      <td>Completed</td>\n      <td>NaN</td>\n      <td>-95000.00</td>\n      <td>334528.20</td>\n      <td>True</td>\n      <td>21 days Merchant Loan Soko Disbursement</td>\n      <td>276946 - ROYAL SENATOR PALACE…..</td>\n      <td>NaN</td>\n      <td>NaN</td>\n    </tr>\n    <tr>\n      <th>2</th>\n      <td>RFC8VAB2YK</td>\n      <td>12-06-2023 16:07:08</td>\n      <td>12-06-2023 16:07:08</td>\n      <td>SP Commission for Loan Soko</td>\n      <td>Completed</td>\n      <td>NaN</td>\n      <td>-866.25</td>\n      <td>429528.20</td>\n      <td>True</td>\n      <td>7 days Merchant Loan Soko Disbursement</td>\n      <td>NaN</td>\n      <td>NaN</td>\n      <td>NaN</td>\n    </tr>\n    <tr>\n      <th>3</th>\n      <td>RFC8VAB2YK</td>\n      <td>12-06-2023 16:07:08</td>\n      <td>12-06-2023 16:07:08</td>\n      <td>7 days Merchant Loan Soko Disbursement to 7284...</td>\n      <td>Completed</td>\n      <td>NaN</td>\n      <td>-69300.00</td>\n      <td>430394.45</td>\n      <td>True</td>\n      <td>7 days Merchant Loan Soko Disbursement</td>\n      <td>7284044 - Eunice Kathetha Kinga</td>\n      <td>NaN</td>\n      <td>NaN</td>\n    </tr>\n    <tr>\n      <th>4</th>\n      <td>RFC1VA98UD</td>\n      <td>12-06-2023 16:06:41</td>\n      <td>12-06-2023 16:06:41</td>\n      <td>SP Commission for Loan Soko</td>\n      <td>Completed</td>\n      <td>NaN</td>\n      <td>-35.00</td>\n      <td>499694.45</td>\n      <td>True</td>\n      <td>7 days Merchant Loan Soko Disbursement</td>\n      <td>NaN</td>\n      <td>NaN</td>\n      <td>NaN</td>\n    </tr>\n  </tbody>\n</table>\n</div>"
     },
     "execution_count": 26,
     "metadata": {},
     "output_type": "execute_result"
    }
   ],
   "source": [
    "MPESA_disb.head()"
   ],
   "metadata": {
    "collapsed": false
   }
  },
  {
   "cell_type": "markdown",
   "source": [
    "#### missing REP on TEP"
   ],
   "metadata": {
    "collapsed": false
   }
  },
  {
   "cell_type": "code",
   "execution_count": 8,
   "outputs": [
    {
     "data": {
      "text/plain": "\u001B[1;33m/tmp/ipykernel_1950/\u001B[0m\u001B[1;33m2910002647.py\u001B[0m\u001B[1;33m:\u001B[0m\u001B[1;33m3\u001B[0m\u001B[1;33m SettingWithCopyWarning\u001B[0m\u001B[33m: \u001B[0m\n\u001B[33mA value is trying to be set on a copy of a slice from a DataFrame.\u001B[0m\n\u001B[33mTry using .loc\u001B[0m\u001B[1;33m[\u001B[0m\u001B[33mrow_indexer,col_indexer\u001B[0m\u001B[1;33m]\u001B[0m\u001B[33m = value instead\u001B[0m\n\n\u001B[33mSee the caveats in the documentation: \u001B[0m\u001B[4;33mhttps://pandas.pydata.org/pandas-docs/stable/user_guide/indexing.html#returning-a-view-versus-a-copy\u001B[0m\n",
      "text/html": "<pre style=\"white-space:pre;overflow-x:auto;line-height:normal;font-family:Menlo,'DejaVu Sans Mono',consolas,'Courier New',monospace\"><span style=\"color: #808000; text-decoration-color: #808000; font-weight: bold\">/tmp/ipykernel_1950/2910002647.py:</span><span style=\"color: #808000; text-decoration-color: #808000; font-weight: bold\">3</span><span style=\"color: #808000; text-decoration-color: #808000; font-weight: bold\"> SettingWithCopyWarning</span><span style=\"color: #808000; text-decoration-color: #808000\">: </span>\n<span style=\"color: #808000; text-decoration-color: #808000\">A value is trying to be set on a copy of a slice from a DataFrame.</span>\n<span style=\"color: #808000; text-decoration-color: #808000\">Try using .loc</span><span style=\"color: #808000; text-decoration-color: #808000; font-weight: bold\">[</span><span style=\"color: #808000; text-decoration-color: #808000\">row_indexer,col_indexer</span><span style=\"color: #808000; text-decoration-color: #808000; font-weight: bold\">]</span><span style=\"color: #808000; text-decoration-color: #808000\"> = value instead</span>\n\n<span style=\"color: #808000; text-decoration-color: #808000\">See the caveats in the documentation: </span><span style=\"color: #808000; text-decoration-color: #808000; text-decoration: underline\">https://pandas.pydata.org/pandas-docs/stable/user_guide/indexing.html#returning-a-view-versus-a-copy</span>\n</pre>\n"
     },
     "metadata": {},
     "output_type": "display_data"
    },
    {
     "data": {
      "text/plain": "Initiation Time2\n2023-06-09     6\n2023-06-10     6\n2023-06-11    61\n2023-06-12    51\nName: count_of_missing, dtype: int64"
     },
     "execution_count": 8,
     "metadata": {},
     "output_type": "execute_result"
    }
   ],
   "source": [
    "TEP_rep = TEP[TEP['is_repayment']]\n",
    "missing_rep_on_TEP = MPESA_rep[~MPESA_rep['Receipt No.'].isin(TEP_rep['fund_movement_transaction_id'].tolist())]\n",
    "missing_rep_on_TEP['Initiation Time2'] = pd.to_datetime(missing_rep_on_TEP['Initiation Time'], format='%d-%m-%Y %H:%M:%S').dt.date\n",
    "missing_rep_on_TEP.drop_duplicates(subset=['Receipt No.']).groupby('Initiation Time2').size().rename('count_of_missing')"
   ],
   "metadata": {
    "collapsed": false
   }
  },
  {
   "cell_type": "markdown",
   "source": [
    "#### missing DISB on TEP"
   ],
   "metadata": {
    "collapsed": false
   }
  },
  {
   "cell_type": "code",
   "execution_count": 9,
   "outputs": [
    {
     "data": {
      "text/plain": "\u001B[1;33m/tmp/ipykernel_1950/\u001B[0m\u001B[1;33m3317468166.py\u001B[0m\u001B[1;33m:\u001B[0m\u001B[1;33m3\u001B[0m\u001B[1;33m SettingWithCopyWarning\u001B[0m\u001B[33m: \u001B[0m\n\u001B[33mA value is trying to be set on a copy of a slice from a DataFrame.\u001B[0m\n\u001B[33mTry using .loc\u001B[0m\u001B[1;33m[\u001B[0m\u001B[33mrow_indexer,col_indexer\u001B[0m\u001B[1;33m]\u001B[0m\u001B[33m = value instead\u001B[0m\n\n\u001B[33mSee the caveats in the documentation: \u001B[0m\u001B[4;33mhttps://pandas.pydata.org/pandas-docs/stable/user_guide/indexing.html#returning-a-view-versus-a-copy\u001B[0m\n",
      "text/html": "<pre style=\"white-space:pre;overflow-x:auto;line-height:normal;font-family:Menlo,'DejaVu Sans Mono',consolas,'Courier New',monospace\"><span style=\"color: #808000; text-decoration-color: #808000; font-weight: bold\">/tmp/ipykernel_1950/3317468166.py:</span><span style=\"color: #808000; text-decoration-color: #808000; font-weight: bold\">3</span><span style=\"color: #808000; text-decoration-color: #808000; font-weight: bold\"> SettingWithCopyWarning</span><span style=\"color: #808000; text-decoration-color: #808000\">: </span>\n<span style=\"color: #808000; text-decoration-color: #808000\">A value is trying to be set on a copy of a slice from a DataFrame.</span>\n<span style=\"color: #808000; text-decoration-color: #808000\">Try using .loc</span><span style=\"color: #808000; text-decoration-color: #808000; font-weight: bold\">[</span><span style=\"color: #808000; text-decoration-color: #808000\">row_indexer,col_indexer</span><span style=\"color: #808000; text-decoration-color: #808000; font-weight: bold\">]</span><span style=\"color: #808000; text-decoration-color: #808000\"> = value instead</span>\n\n<span style=\"color: #808000; text-decoration-color: #808000\">See the caveats in the documentation: </span><span style=\"color: #808000; text-decoration-color: #808000; text-decoration: underline\">https://pandas.pydata.org/pandas-docs/stable/user_guide/indexing.html#returning-a-view-versus-a-copy</span>\n</pre>\n"
     },
     "metadata": {},
     "output_type": "display_data"
    },
    {
     "data": {
      "text/plain": "Initiation Time2\n2023-06-09    11\n2023-06-10     9\n2023-06-11    41\n2023-06-12    36\nName: count_of_missing, dtype: int64"
     },
     "execution_count": 9,
     "metadata": {},
     "output_type": "execute_result"
    }
   ],
   "source": [
    "TEP_disb = TEP[may_june_TEP['is_disbursement']]\n",
    "missing_disb_on_TEP = MPESA_disb[~MPESA_disb['Receipt No.'].isin(TEP_disb['fund_movement_transaction_id'].tolist())]\n",
    "missing_disb_on_TEP['Initiation Time2'] = pd.to_datetime(missing_disb_on_TEP['Initiation Time'], format='%d-%m-%Y %H:%M:%S').dt.date\n",
    "missing_disb_on_TEP.drop_duplicates(subset=['Receipt No.']).groupby('Initiation Time2').size().rename('count_of_missing')"
   ],
   "metadata": {
    "collapsed": false
   }
  },
  {
   "cell_type": "code",
   "execution_count": 21,
   "outputs": [],
   "source": [
    "missing_rep_on_TEP[missing_rep_on_TEP['Initiation Time2'] == datetime.datetime.strptime('2023-06-12', '%Y-%m-%d').date()][['Receipt No.', 'Completion Time', 'Initiation Time', 'Transaction Status']].drop_duplicates(subset=['Receipt No.']).to_csv('~/data/missing_REP_on_TEP_20230612.csv', index=False)"
   ],
   "metadata": {
    "collapsed": false
   }
  },
  {
   "cell_type": "code",
   "execution_count": 22,
   "outputs": [],
   "source": [
    "missing_disb_on_TEP[missing_disb_on_TEP['Initiation Time2'] == datetime.datetime.strptime('2023-06-12', '%Y-%m-%d').date()][['Receipt No.', 'Completion Time', 'Initiation Time', 'Transaction Status']].drop_duplicates(subset=['Receipt No.']).to_csv('~/data/missing_DISB_on_TEP_20230612.csv', index=False)"
   ],
   "metadata": {
    "collapsed": false
   }
  },
  {
   "cell_type": "markdown",
   "source": [
    "#### missing REP on Dumps"
   ],
   "metadata": {
    "collapsed": false
   }
  },
  {
   "cell_type": "code",
   "execution_count": null,
   "outputs": [],
   "source": [
    "may_june_Dump_rep = may_june_DataDumps[may_june_DataDumps['is_repayment']]\n",
    "missing_rep_on_DUMP = may_june_MPESA_rep[\n",
    "    (~may_june_MPESA_rep['Receipt No.'].isin(may_june_Dump_rep['id_trxn_linkd'].tolist()))\n",
    "]\n",
    "missing_rep_on_DUMP['Initiation Time2'] = pd.to_datetime(missing_rep_on_DUMP['Initiation Time'], format='%d-%m-%Y %H:%M:%S').dt.date\n",
    "missing_rep_on_DUMP.groupby('Initiation Time2').size()"
   ],
   "metadata": {
    "collapsed": false
   }
  },
  {
   "cell_type": "markdown",
   "source": [
    "#### missing DISB on dumps"
   ],
   "metadata": {
    "collapsed": false
   }
  },
  {
   "cell_type": "code",
   "execution_count": null,
   "outputs": [],
   "source": [
    "may_june_Dump_disb = may_june_DataDumps[may_june_DataDumps['is_disbursement']]\n",
    "missing_disb_on_DUMP = may_june_MPESA_disb[\n",
    "    (~may_june_MPESA_disb['Receipt No.'].isin(may_june_Dump_disb['id_trxn_linkd'].tolist()))\n",
    "]\n",
    "missing_disb_on_DUMP['Initiation Time2'] = pd.to_datetime(missing_disb_on_DUMP['Initiation Time'], format='%d-%m-%Y %H:%M:%S').dt.date\n",
    "missing_disb_on_DUMP.groupby('Initiation Time2').size()"
   ],
   "metadata": {
    "collapsed": false
   }
  }
 ],
 "metadata": {
  "kernelspec": {
   "display_name": "Python 3",
   "language": "python",
   "name": "python3"
  },
  "language_info": {
   "codemirror_mode": {
    "name": "ipython",
    "version": 2
   },
   "file_extension": ".py",
   "mimetype": "text/x-python",
   "name": "python",
   "nbconvert_exporter": "python",
   "pygments_lexer": "ipython2",
   "version": "2.7.6"
  }
 },
 "nbformat": 4,
 "nbformat_minor": 0
}
