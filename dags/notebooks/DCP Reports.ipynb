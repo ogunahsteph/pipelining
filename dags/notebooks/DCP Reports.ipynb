{
 "cells": [
  {
   "cell_type": "code",
   "execution_count": 1,
   "metadata": {
    "collapsed": true
   },
   "outputs": [
    {
     "data": {
      "text/plain": "\u001B[1;33m/tmp/ipykernel_13349/\u001B[0m\u001B[1;33m4044894059.py\u001B[0m\u001B[1;33m:\u001B[0m\u001B[1;33m6\u001B[0m\u001B[1;33m DeprecationWarning\u001B[0m\u001B[33m: The \u001B[0m\u001B[33m\"schema\"\u001B[0m\u001B[33m arg has been renamed to \u001B[0m\u001B[33m\"database\"\u001B[0m\u001B[33m as it contained the database name.Please use \u001B[0m\u001B[33m\"database\"\u001B[0m\u001B[33m to set the database name.\u001B[0m\n",
      "text/html": "<pre style=\"white-space:pre;overflow-x:auto;line-height:normal;font-family:Menlo,'DejaVu Sans Mono',consolas,'Courier New',monospace\"><span style=\"color: #808000; text-decoration-color: #808000; font-weight: bold\">/tmp/ipykernel_13349/4044894059.py:</span><span style=\"color: #808000; text-decoration-color: #808000; font-weight: bold\">6</span><span style=\"color: #808000; text-decoration-color: #808000; font-weight: bold\"> DeprecationWarning</span><span style=\"color: #808000; text-decoration-color: #808000\">: The </span><span style=\"color: #808000; text-decoration-color: #808000\">\"schema\"</span><span style=\"color: #808000; text-decoration-color: #808000\"> arg has been renamed to </span><span style=\"color: #808000; text-decoration-color: #808000\">\"database\"</span><span style=\"color: #808000; text-decoration-color: #808000\"> as it contained the database name.Please use </span><span style=\"color: #808000; text-decoration-color: #808000\">\"database\"</span><span style=\"color: #808000; text-decoration-color: #808000\"> to set the database name.</span>\n</pre>\n"
     },
     "metadata": {},
     "output_type": "display_data"
    }
   ],
   "source": [
    "import numpy as np\n",
    "import pandas as pd\n",
    "import datetime\n",
    "from airflow.providers.postgres.hooks.postgres import PostgresHook\n",
    "\n",
    "warehouse_hook = PostgresHook(postgres_conn_id='rds_afsg_ds_prod_postgresql_dwh', schema='afsg_ds_prod_postgresql_dwh')"
   ]
  },
  {
   "cell_type": "markdown",
   "source": [
    "#### Files"
   ],
   "metadata": {
    "collapsed": false
   }
  },
  {
   "cell_type": "markdown",
   "source": [
    "# Safaricom Bloom"
   ],
   "metadata": {
    "collapsed": false
   }
  },
  {
   "cell_type": "markdown",
   "source": [
    "### Digital Loans Account Data"
   ],
   "metadata": {
    "collapsed": false
   },
   "execution_count": 1
  },
  {
   "cell_type": "code",
   "execution_count": 4,
   "outputs": [
    {
     "name": "stdout",
     "output_type": "stream",
     "text": [
      "[\u001B[34m2023-07-07 11:14:38,663\u001B[0m] {\u001B[34mbase.py:\u001B[0m73} INFO\u001B[0m - Using connection ID 'rds_afsg_ds_prod_postgresql_dwh' for task execution.\u001B[0m\n"
     ]
    },
    {
     "data": {
      "text/plain": "\u001B[1;33m/home/henrykuria/airflow_venv/lib/python3.10/site-packages/pandas/io/\u001B[0m\u001B[1;33msql.py\u001B[0m\u001B[1;33m:\u001B[0m\u001B[1;33m761\u001B[0m\u001B[1;33m UserWarning\u001B[0m\u001B[33m: pandas only support SQLAlchemy \u001B[0m\u001B[1;33mconnectable\u001B[0m\u001B[1;33m(\u001B[0m\u001B[33mengine/connection\u001B[0m\u001B[1;33m)\u001B[0m\u001B[33m ordatabase string URI or sqlite3 DBAPI2 connectionother DBAPI2 objects are not tested, please consider using SQLAlchemy\u001B[0m\n",
      "text/html": "<pre style=\"white-space:pre;overflow-x:auto;line-height:normal;font-family:Menlo,'DejaVu Sans Mono',consolas,'Courier New',monospace\"><span style=\"color: #808000; text-decoration-color: #808000; font-weight: bold\">/home/henrykuria/airflow_venv/lib/python3.10/site-packages/pandas/io/sql.py:</span><span style=\"color: #808000; text-decoration-color: #808000; font-weight: bold\">761</span><span style=\"color: #808000; text-decoration-color: #808000; font-weight: bold\"> UserWarning</span><span style=\"color: #808000; text-decoration-color: #808000\">: pandas only support SQLAlchemy </span><span style=\"color: #808000; text-decoration-color: #808000; font-weight: bold\">connectable(</span><span style=\"color: #808000; text-decoration-color: #808000\">engine/connection</span><span style=\"color: #808000; text-decoration-color: #808000; font-weight: bold\">)</span><span style=\"color: #808000; text-decoration-color: #808000\"> ordatabase string URI or sqlite3 DBAPI2 connectionother DBAPI2 objects are not tested, please consider using SQLAlchemy</span>\n</pre>\n"
     },
     "metadata": {},
     "output_type": "display_data"
    }
   ],
   "source": [
    "warehouse_hook.get_pandas_df(\n",
    "    sql=\"\"\"\n",
    "    -- Digital Loans Account Data\n",
    "    select\n",
    "        row_number() over () as \"ROW_ID\",\n",
    "        '0900024' as \"DIGITAL_CREDIT_PROVIDER_CODE\",\n",
    "        to_char(current_date, 'DD-Mon-YYYY') as \"REPORTING_DATE\", -- cannot be in format 'DD-Mon-YYYY' and still be dtype date\n",
    "        concat('SB2_', cmsv.mifos_id) as \"CUSTOMER_ID\",\n",
    "        concat('SB2_', lftmsv.loan_mifos_id) as \"LOAN_ACCOUNT_CONTRACT_NUMBER\",\n",
    "        case when cmsv.fuzzy_match_score >= 60\n",
    "            then concat(cmsv.iprs_first_name, ' ', cmsv.iprs_other_name, ' ', cmsv.iprs_surname)\n",
    "            else concat(cmsv.first_name, ' ', cmsv.middle_name, ' ', cmsv.last_name)\n",
    "        end as \"ACCOUNT_NAME\",\n",
    "        to_char(disbursed_on_date, 'DD-Mon-YYYY') as \"DISBURSEMENT_DATE\", -- cannot be in format 'DD-Mon-YYYY' and still be dtype date\n",
    "        coalesce(principal_disbursed, 0) as \"PRINCIPAL_LOAN_AMOUNT_DISBURSED\",\n",
    "        coalesce(total_outstanding, 0) as \"OUTSTANDING_LOAN_BALANCE\",\n",
    "        0 as \"DEBIT_INTEREST_RATE\",\n",
    "        coalesce(interest_charged, 0) as \"FACILITY_ARRANGEMENT_FEE_CHARGE\",\n",
    "        0 as \"UPFRONT_INTEREST_FEES_CHARGE\",\n",
    "        0 as \"COST_OF_WALLET_TRANSFER\", --except for Solv\n",
    "        0 as \"INSURANCE_FEE_CHARGE\",\n",
    "        coalesce(fee_charges_charged + penalty_charges_charged, 0) as \"OTHER_CHARGE\",\n",
    "        dct.code as \"CHANNEL_TYPE_USED\",\n",
    "        pd.repay_every as \"DIGITAL_LOAN_TENOR\",\n",
    "        coalesce(total_expected_repayment, 0) as \"INSTALMENT_AMOUNT\",\n",
    "        ast.code as \"ACCOUNT_STATUS\"\n",
    "    from bloomlive.loans_fact_table_materialized_summary_view lftmsv\n",
    "    inner join bloomlive.client_materialized_summary_view cmsv on lftmsv.client_surrogate_id = cmsv.surrogate_id\n",
    "    inner join bloomlive.product_dimension pd on lftmsv.product_surrogate_id = pd.surrogate_id\n",
    "    inner join bloomlive.loan_status_dimension lsd on lftmsv.loan_status_key = lsd.surrogate_id\n",
    "    inner join central_bank_of_kenya.digital_channel_types dct on dct.\"type\" = 'USSD'\n",
    "    inner join central_bank_of_kenya.account_status_types ast on ast.\"type\" = lsd.message\n",
    "    where lftmsv.bloom_version = '2' and loan_status in (300, 600, 700)\n",
    "    limit 100\n",
    "    \"\"\"\n",
    ").to_csv('~/data/Digital Loans Account Data Sample Bloom 2.0.csv', index=False, sep='|')"
   ],
   "metadata": {
    "collapsed": false
   }
  },
  {
   "cell_type": "markdown",
   "source": [
    "### Overdue (Non-Performing) Digital Loans"
   ],
   "metadata": {
    "collapsed": false
   }
  },
  {
   "cell_type": "code",
   "execution_count": 5,
   "outputs": [
    {
     "name": "stdout",
     "output_type": "stream",
     "text": [
      "[\u001B[34m2023-07-07 11:19:24,462\u001B[0m] {\u001B[34mbase.py:\u001B[0m73} INFO\u001B[0m - Using connection ID 'rds_afsg_ds_prod_postgresql_dwh' for task execution.\u001B[0m\n"
     ]
    },
    {
     "data": {
      "text/plain": "\u001B[1;33m/home/henrykuria/airflow_venv/lib/python3.10/site-packages/pandas/io/\u001B[0m\u001B[1;33msql.py\u001B[0m\u001B[1;33m:\u001B[0m\u001B[1;33m761\u001B[0m\u001B[1;33m UserWarning\u001B[0m\u001B[33m: pandas only support SQLAlchemy \u001B[0m\u001B[1;33mconnectable\u001B[0m\u001B[1;33m(\u001B[0m\u001B[33mengine/connection\u001B[0m\u001B[1;33m)\u001B[0m\u001B[33m ordatabase string URI or sqlite3 DBAPI2 connectionother DBAPI2 objects are not tested, please consider using SQLAlchemy\u001B[0m\n",
      "text/html": "<pre style=\"white-space:pre;overflow-x:auto;line-height:normal;font-family:Menlo,'DejaVu Sans Mono',consolas,'Courier New',monospace\"><span style=\"color: #808000; text-decoration-color: #808000; font-weight: bold\">/home/henrykuria/airflow_venv/lib/python3.10/site-packages/pandas/io/sql.py:</span><span style=\"color: #808000; text-decoration-color: #808000; font-weight: bold\">761</span><span style=\"color: #808000; text-decoration-color: #808000; font-weight: bold\"> UserWarning</span><span style=\"color: #808000; text-decoration-color: #808000\">: pandas only support SQLAlchemy </span><span style=\"color: #808000; text-decoration-color: #808000; font-weight: bold\">connectable(</span><span style=\"color: #808000; text-decoration-color: #808000\">engine/connection</span><span style=\"color: #808000; text-decoration-color: #808000; font-weight: bold\">)</span><span style=\"color: #808000; text-decoration-color: #808000\"> ordatabase string URI or sqlite3 DBAPI2 connectionother DBAPI2 objects are not tested, please consider using SQLAlchemy</span>\n</pre>\n"
     },
     "metadata": {},
     "output_type": "display_data"
    }
   ],
   "source": [
    "warehouse_hook.get_pandas_df(\n",
    "    sql=\"\"\"\n",
    "    -- Overdue (Non-Performing) Digital Loans\n",
    "    select\n",
    "        row_number() over () as \"ROW_ID\",\n",
    "        '0900024' as \"DIGITAL_CREDIT_PROVIDER_CODE\",\n",
    "        to_char(current_date, 'DD-Mon-YYYY') as \"REPORTING_DATE\", -- cannot be in format 'DD-Mon-YYYY' and still be dtype date\n",
    "        concat('SB2_', cmsv.mifos_id) as \"CUSTOMER_ID\",\n",
    "        concat('SB2_', lftmsv.loan_mifos_id) as \"LOAN_ACCOUNT_CONTRACT_NUMBER\",\n",
    "        to_char(expected_matured_on_date + '90 day'::interval, 'DD-Mon-YYYY') as \"OVERDUE_DATE\", -- cannot be in format 'DD-Mon-YYYY' and still be dtype date\n",
    "        coalesce(principal_outstanding, 0) as \"PRINCIPAL_ARREARS_AMOUNT\",\n",
    "        coalesce(total_outstanding, 0) as \"TOTAL_OUTSTANDING_AMOUNT\"\n",
    "    from bloomlive.loans_fact_table_materialized_summary_view lftmsv\n",
    "    inner join bloomlive.client_materialized_summary_view cmsv on lftmsv.client_surrogate_id = cmsv.surrogate_id\n",
    "    where current_date - (expected_matured_on_date + '90 day'::interval)::date >= 1 and loan_status = 300 and lftmsv.bloom_version = '2'\n",
    "    limit 100\n",
    "    \"\"\"\n",
    ").to_csv('~/data/Overdue (Non-Performing) Digital Loans Sample Bloom 2.0.csv', index=False, sep='|')"
   ],
   "metadata": {
    "collapsed": false
   }
  },
  {
   "cell_type": "markdown",
   "source": [
    "### Digital Loan Repayments Data"
   ],
   "metadata": {
    "collapsed": false
   }
  },
  {
   "cell_type": "code",
   "execution_count": 7,
   "outputs": [
    {
     "name": "stdout",
     "output_type": "stream",
     "text": [
      "[\u001B[34m2023-07-07 12:06:28,951\u001B[0m] {\u001B[34mbase.py:\u001B[0m73} INFO\u001B[0m - Using connection ID 'rds_afsg_ds_prod_postgresql_dwh' for task execution.\u001B[0m\n"
     ]
    }
   ],
   "source": [
    "warehouse_hook.get_pandas_df(\n",
    "    sql=\"\"\"\n",
    "    -- Digital Loan Repayments Data\n",
    "    SELECT row_number() OVER () AS \"ROW_ID\",\n",
    "    '0900024'::text AS \"DIGITAL_CREDIT_PROVIDER_CODE\",\n",
    "    to_char(CURRENT_DATE::timestamp with time zone, 'DD-Mon-YYYY'::text) AS \"REPORTING_DATE\",\n",
    "    concat('SB2_', cmsv.mifos_id) AS \"CUSTOMER_ID\",\n",
    "    concat('SB2_', lftmsv.loan_mifos_id) AS \"LOAN_ACCOUNT_CONTRACT_NUMBER\",\n",
    "    COALESCE(lftmsv.total_outstanding, 0::numeric) AS \"OUTSTANDING_LOAN_BALANCE\",\n",
    "    COALESCE(lftmsv.interest_outstanding, 0::numeric) AS \"ACCRUED_INTEREST_BALANCE\",\n",
    "    0 AS \"INTEREST_CHARGED_ON_REPAYMENT\",\n",
    "    COALESCE(lftmsv.fee_charges_charged + lftmsv.penalty_charges_charged, 0::numeric) AS \"LATE_PAYMENT_FEE_CHARGE\",\n",
    "    to_char(td.submitted_on_date::timestamp with time zone, 'DD-Mon-YYYY'::text) AS \"LOAN_REPAYMENT_DATE\",\n",
    "    COALESCE(lftmsv.principal_repaid, 0::numeric) AS \"PRINCIPAL_LOAN_AMOUNT_REPAID\"\n",
    "     from bloomlive.loans_fact_table_materialized_summary_view lftmsv\n",
    "     inner JOIN bloomlive.client_materialized_summary_view cmsv ON lftmsv.client_surrogate_id = cmsv.surrogate_id\n",
    "     inner join (\n",
    "        with rnked as (\n",
    "            select submitted_on_date, mifos_loan_id, bloom_version, rank() over (partition by mifos_loan_id, bloom_version order by transaction_date desc, transaction_id desc) rnk\n",
    "            from bloomlive.transactions_dimension td\n",
    "            where td.transaction_type_enum = 2 AND td.is_reversed::integer = 0 AND (lower(td.receipt_number::text) !~~ '%\\_r%'::text AND lower(td.receipt_number::text) !~~ '%waiv%'::text OR td.receipt_number IS NULL)\n",
    "        ) select mifos_loan_id, bloom_version, submitted_on_date from rnked where rnk = 1\n",
    "     ) td ON lftmsv.loan_mifos_id::character varying::text = td.mifos_loan_id::text AND lftmsv.bloom_version::text = td.bloom_version::text\n",
    "  WHERE lftmsv.bloom_version = '2' and lftmsv.loan_status = 300\n",
    "    limit 100\n",
    "    \"\"\"\n",
    ").to_csv('~/data/Digital Loan Repayments Data Sample Bloom 2.0.csv', index=False, sep='|')"
   ],
   "metadata": {
    "collapsed": false
   }
  },
  {
   "cell_type": "markdown",
   "source": [
    "### Customer Data"
   ],
   "metadata": {
    "collapsed": false
   }
  },
  {
   "cell_type": "code",
   "execution_count": 3,
   "outputs": [
    {
     "name": "stdout",
     "output_type": "stream",
     "text": [
      "[\u001B[34m2023-07-07 10:41:32,100\u001B[0m] {\u001B[34mbase.py:\u001B[0m73} INFO\u001B[0m - Using connection ID 'rds_afsg_ds_prod_postgresql_dwh' for task execution.\u001B[0m\n"
     ]
    },
    {
     "data": {
      "text/plain": "\u001B[1;33m/home/henrykuria/airflow_venv/lib/python3.10/site-packages/pandas/io/\u001B[0m\u001B[1;33msql.py\u001B[0m\u001B[1;33m:\u001B[0m\u001B[1;33m761\u001B[0m\u001B[1;33m UserWarning\u001B[0m\u001B[33m: pandas only support SQLAlchemy \u001B[0m\u001B[1;33mconnectable\u001B[0m\u001B[1;33m(\u001B[0m\u001B[33mengine/connection\u001B[0m\u001B[1;33m)\u001B[0m\u001B[33m ordatabase string URI or sqlite3 DBAPI2 connectionother DBAPI2 objects are not tested, please consider using SQLAlchemy\u001B[0m\n",
      "text/html": "<pre style=\"white-space:pre;overflow-x:auto;line-height:normal;font-family:Menlo,'DejaVu Sans Mono',consolas,'Courier New',monospace\"><span style=\"color: #808000; text-decoration-color: #808000; font-weight: bold\">/home/henrykuria/airflow_venv/lib/python3.10/site-packages/pandas/io/sql.py:</span><span style=\"color: #808000; text-decoration-color: #808000; font-weight: bold\">761</span><span style=\"color: #808000; text-decoration-color: #808000; font-weight: bold\"> UserWarning</span><span style=\"color: #808000; text-decoration-color: #808000\">: pandas only support SQLAlchemy </span><span style=\"color: #808000; text-decoration-color: #808000; font-weight: bold\">connectable(</span><span style=\"color: #808000; text-decoration-color: #808000\">engine/connection</span><span style=\"color: #808000; text-decoration-color: #808000; font-weight: bold\">)</span><span style=\"color: #808000; text-decoration-color: #808000\"> ordatabase string URI or sqlite3 DBAPI2 connectionother DBAPI2 objects are not tested, please consider using SQLAlchemy</span>\n</pre>\n"
     },
     "metadata": {},
     "output_type": "display_data"
    }
   ],
   "source": [
    "warehouse_hook.get_pandas_df(\n",
    "    sql=\"\"\"\n",
    "    -- Customer Data\n",
    "    with cust_dt as (\n",
    "        select\n",
    "            distinct\n",
    "            '0900024' as \"DIGITAL_CREDIT_PROVIDER_CODE\",\n",
    "            to_char(current_date, 'DD-Mon-YYYY') as \"REPORTING_DATE\", -- cannot be in format 'DD-Mon-YYYY' and still be dtype date\n",
    "            concat('SB2_', cmsv.mifos_id) as \"CUSTOMER_ID\", -- store number vs national_id\n",
    "            CASE WHEN cmsv.national_id ~ '[a-zA-Z]' THEN 'Passport' ELSE 'National Identity Card' END AS \"PRIMARY_IDENTIFICATION_DOCUMENT_TYPE\", -- how to distinguish huduma number from national ID number\n",
    "            cmsv.national_id as \"NATIONAL_IDENTITY_PASSPORT_NUMBER\", -- column name in template has slash\n",
    "            null as \"PERSONAL_IDENTIFICATION_NUMBER\", --kra pin\n",
    "            cmsv.idm_gender,\n",
    "            case when cmsv.fuzzy_match_score >= 60 then cmsv.iprs_first_name else cmsv.first_name end as \"FIRST_NAME\",\n",
    "            case when cmsv.fuzzy_match_score >= 60 then cmsv.iprs_other_name else cmsv.middle_name end as \"MIDDLE_NAME\",\n",
    "            case when cmsv.fuzzy_match_score >= 60 then cmsv.iprs_surname else cmsv.last_name end as \"SURNAME\",\n",
    "            to_char(cmsv.idm_date_of_birth, 'DD-Mon-YYYY') as \"DATE_OF_BIRTH_REGISTRATION\", -- cannot be in format 'DD-MM-YYYY' and still be dtype date\n",
    "            to_char(cmsv.submitted_on_date, 'DD-Mon-YYYY') as \"ONBOARDING_DATE\",\n",
    "            cmsv.mobile_number as \"MOBILE_NUMBER\"\n",
    "        from bloomlive.client_materialized_summary_view cmsv\n",
    "        inner join bloomlive.loans_fact_table_materialized_summary_view lftmsv on cmsv.surrogate_id = lftmsv.client_surrogate_id\n",
    "        where cmsv.bloom_version = '2' and idm_gender is not null and idm_date_of_birth is not null\n",
    "    ) select\n",
    "        row_number() over () as \"ROW_ID\", \"DIGITAL_CREDIT_PROVIDER_CODE\", \"REPORTING_DATE\", \"CUSTOMER_ID\", cpdt.code as \"PRIMARY_IDENTIFICATION_DOCUMENT_TYPE\",\n",
    "        \"NATIONAL_IDENTITY_PASSPORT_NUMBER\", \"PERSONAL_IDENTIFICATION_NUMBER\", icc.country_code as \"NATIONALITY\", gt.code as \"GENDER\", \"FIRST_NAME\",\n",
    "        case when \"SURNAME\" is null and \"MIDDLE_NAME\" is not null then null else \"MIDDLE_NAME\" end as \"MIDDLE_NAME\",\n",
    "        case when \"SURNAME\" is null then \"MIDDLE_NAME\" else \"SURNAME\" end as \"SURNAME\",\n",
    "        \"DATE_OF_BIRTH_REGISTRATION\", \"ONBOARDING_DATE\", \"MOBILE_NUMBER\"\n",
    "    from cust_dt\n",
    "    left join central_bank_of_kenya.cust_primary_doc_types cpdt on cpdt.\"type\" = cust_dt.\"PRIMARY_IDENTIFICATION_DOCUMENT_TYPE\"\n",
    "    left join central_bank_of_kenya.gender_types gt on gt.\"type\" = cust_dt.idm_gender\n",
    "    left join central_bank_of_kenya.iso_country_codes icc on icc.country_description = 'Kenya'\n",
    "    limit 100\n",
    "    \"\"\"\n",
    ").to_csv(f'~/data/CBK Customer Data Sample Bloom 2.0 {datetime.datetime.now()}.csv', index=False, sep='|')"
   ],
   "metadata": {
    "collapsed": false
   }
  },
  {
   "cell_type": "markdown",
   "source": [
    "# SOLV"
   ],
   "metadata": {
    "collapsed": false
   }
  },
  {
   "cell_type": "markdown",
   "source": [
    "### Digital Loans Account Data"
   ],
   "metadata": {
    "collapsed": false
   }
  },
  {
   "cell_type": "code",
   "execution_count": 8,
   "outputs": [
    {
     "name": "stdout",
     "output_type": "stream",
     "text": [
      "[\u001B[34m2023-06-29 10:14:16,652\u001B[0m] {\u001B[34mbase.py:\u001B[0m73} INFO\u001B[0m - Using connection ID 'rds_afsg_ds_prod_postgresql_dwh' for task execution.\u001B[0m\n"
     ]
    },
    {
     "data": {
      "text/plain": "\u001B[1;33m/home/henrykuria/airflow_venv/lib/python3.10/site-packages/pandas/io/\u001B[0m\u001B[1;33msql.py\u001B[0m\u001B[1;33m:\u001B[0m\u001B[1;33m761\u001B[0m\u001B[1;33m UserWarning\u001B[0m\u001B[33m: pandas only support SQLAlchemy \u001B[0m\u001B[1;33mconnectable\u001B[0m\u001B[1;33m(\u001B[0m\u001B[33mengine/connection\u001B[0m\u001B[1;33m)\u001B[0m\u001B[33m ordatabase string URI or sqlite3 DBAPI2 connectionother DBAPI2 objects are not tested, please consider using SQLAlchemy\u001B[0m\n",
      "text/html": "<pre style=\"white-space:pre;overflow-x:auto;line-height:normal;font-family:Menlo,'DejaVu Sans Mono',consolas,'Courier New',monospace\"><span style=\"color: #808000; text-decoration-color: #808000; font-weight: bold\">/home/henrykuria/airflow_venv/lib/python3.10/site-packages/pandas/io/sql.py:</span><span style=\"color: #808000; text-decoration-color: #808000; font-weight: bold\">761</span><span style=\"color: #808000; text-decoration-color: #808000; font-weight: bold\"> UserWarning</span><span style=\"color: #808000; text-decoration-color: #808000\">: pandas only support SQLAlchemy </span><span style=\"color: #808000; text-decoration-color: #808000; font-weight: bold\">connectable(</span><span style=\"color: #808000; text-decoration-color: #808000\">engine/connection</span><span style=\"color: #808000; text-decoration-color: #808000; font-weight: bold\">)</span><span style=\"color: #808000; text-decoration-color: #808000\"> ordatabase string URI or sqlite3 DBAPI2 connectionother DBAPI2 objects are not tested, please consider using SQLAlchemy</span>\n</pre>\n"
     },
     "metadata": {},
     "output_type": "display_data"
    },
    {
     "data": {
      "text/plain": "    ROW_ID DIGITAL_CREDIT_PROVIDER_CODE REPORTING_DATE CUSTOMER_ID  \\\n0        1                      0900024    29-Jun-2023     S2_8330   \n1        2                      0900024    29-Jun-2023     S2_8330   \n2        3                      0900024    29-Jun-2023     S2_8330   \n3        4                      0900024    29-Jun-2023     S2_8330   \n4        5                      0900024    29-Jun-2023     S2_8330   \n..     ...                          ...            ...         ...   \n95      96                      0900024    29-Jun-2023     S2_9426   \n96      97                      0900024    29-Jun-2023     S2_9453   \n97      98                      0900024    29-Jun-2023     S2_9453   \n98      99                      0900024    29-Jun-2023     S2_9454   \n99     100                      0900024    29-Jun-2023     S2_9472   \n\n   LOAN_ACCOUNT_CONTRACT_NUMBER           ACCOUNT_NAME DISBURSEMENT_DATE  \\\n0                       S2_6595    EVANS GICHANA OGAKE       17-Jun-2022   \n1                       S2_6727    EVANS GICHANA OGAKE       24-Jun-2022   \n2                       S2_7504    EVANS GICHANA OGAKE       29-Jul-2022   \n3                       S2_7635    EVANS GICHANA OGAKE       04-Aug-2022   \n4                       S2_8078    EVANS GICHANA OGAKE       26-Aug-2022   \n..                          ...                    ...               ...   \n95                      S2_8359        Fredrick Loole        08-Sep-2022   \n96                      S2_8425        Lilian Nangulu        10-Sep-2022   \n97                      S2_8785        Lilian Nangulu        24-Sep-2022   \n98                      S2_8426  Lucy Wakonyo Wamaitha       10-Sep-2022   \n99                      S2_8470          Lydia Njambi        12-Sep-2022   \n\n    PRINCIPAL_LOAN_AMOUNT_DISBURSED  OUTSTANDING_LOAN_BALANCE  \\\n0                           50000.0                       0.0   \n1                          100000.0                       0.0   \n2                           50000.0                       0.0   \n3                          100000.0                       0.0   \n4                          100000.0                       0.0   \n..                              ...                       ...   \n95                          32092.0                       0.0   \n96                          40760.0                       0.0   \n97                          43200.0                       0.0   \n98                          37400.0                       0.0   \n99                          70000.0                       0.0   \n\n    DEBIT_INTEREST_RATE  FACILITY_ARRANGEMENT_FEE_CHARGE  \\\n0                     0                            750.0   \n1                     0                           1500.0   \n2                     0                            901.0   \n3                     0                           1801.0   \n4                     0                           1801.0   \n..                  ...                              ...   \n95                    0                           1156.0   \n96                    0                           1468.0   \n97                    0                           1556.0   \n98                    0                           1347.0   \n99                    0                           2521.0   \n\n    UPFRONT_INTEREST_FEES_CHARGE  COST_OF_WALLET_TRANSFER  \\\n0                              0                        0   \n1                              0                        0   \n2                              0                        0   \n3                              0                        0   \n4                              0                        0   \n..                           ...                      ...   \n95                             0                        0   \n96                             0                        0   \n97                             0                        0   \n98                             0                        0   \n99                             0                        0   \n\n    INSURANCE_FEE_CHARGE  OTHER_CHARGE CHANNEL_TYPE_USED  DIGITAL_LOAN_TENOR  \\\n0                      0         200.0             CHN02                   7   \n1                      0        1726.0             CHN02                   7   \n2                      0         200.0             CHN02                   7   \n3                      0         200.0             CHN02                   7   \n4                      0         200.0             CHN02                   7   \n..                   ...           ...               ...                 ...   \n95                     0        1481.0             CHN02                  14   \n96                     0         200.0             CHN02                  14   \n97                     0         200.0             CHN02                  14   \n98                     0         200.0             CHN02                  14   \n99                     0        1239.0             CHN02                  14   \n\n    INSTALMENT_AMOUNT ACCOUNT_STATUS  \n0             50950.0         CLOSED  \n1            103226.0         CLOSED  \n2             51101.0         CLOSED  \n3            102001.0         CLOSED  \n4            102001.0         CLOSED  \n..                ...            ...  \n95            34729.0         CLOSED  \n96            42428.0         CLOSED  \n97            44956.0         CLOSED  \n98            38947.0         CLOSED  \n99            73760.0         CLOSED  \n\n[100 rows x 19 columns]",
      "text/html": "<div>\n<style scoped>\n    .dataframe tbody tr th:only-of-type {\n        vertical-align: middle;\n    }\n\n    .dataframe tbody tr th {\n        vertical-align: top;\n    }\n\n    .dataframe thead th {\n        text-align: right;\n    }\n</style>\n<table border=\"1\" class=\"dataframe\">\n  <thead>\n    <tr style=\"text-align: right;\">\n      <th></th>\n      <th>ROW_ID</th>\n      <th>DIGITAL_CREDIT_PROVIDER_CODE</th>\n      <th>REPORTING_DATE</th>\n      <th>CUSTOMER_ID</th>\n      <th>LOAN_ACCOUNT_CONTRACT_NUMBER</th>\n      <th>ACCOUNT_NAME</th>\n      <th>DISBURSEMENT_DATE</th>\n      <th>PRINCIPAL_LOAN_AMOUNT_DISBURSED</th>\n      <th>OUTSTANDING_LOAN_BALANCE</th>\n      <th>DEBIT_INTEREST_RATE</th>\n      <th>FACILITY_ARRANGEMENT_FEE_CHARGE</th>\n      <th>UPFRONT_INTEREST_FEES_CHARGE</th>\n      <th>COST_OF_WALLET_TRANSFER</th>\n      <th>INSURANCE_FEE_CHARGE</th>\n      <th>OTHER_CHARGE</th>\n      <th>CHANNEL_TYPE_USED</th>\n      <th>DIGITAL_LOAN_TENOR</th>\n      <th>INSTALMENT_AMOUNT</th>\n      <th>ACCOUNT_STATUS</th>\n    </tr>\n  </thead>\n  <tbody>\n    <tr>\n      <th>0</th>\n      <td>1</td>\n      <td>0900024</td>\n      <td>29-Jun-2023</td>\n      <td>S2_8330</td>\n      <td>S2_6595</td>\n      <td>EVANS GICHANA OGAKE</td>\n      <td>17-Jun-2022</td>\n      <td>50000.0</td>\n      <td>0.0</td>\n      <td>0</td>\n      <td>750.0</td>\n      <td>0</td>\n      <td>0</td>\n      <td>0</td>\n      <td>200.0</td>\n      <td>CHN02</td>\n      <td>7</td>\n      <td>50950.0</td>\n      <td>CLOSED</td>\n    </tr>\n    <tr>\n      <th>1</th>\n      <td>2</td>\n      <td>0900024</td>\n      <td>29-Jun-2023</td>\n      <td>S2_8330</td>\n      <td>S2_6727</td>\n      <td>EVANS GICHANA OGAKE</td>\n      <td>24-Jun-2022</td>\n      <td>100000.0</td>\n      <td>0.0</td>\n      <td>0</td>\n      <td>1500.0</td>\n      <td>0</td>\n      <td>0</td>\n      <td>0</td>\n      <td>1726.0</td>\n      <td>CHN02</td>\n      <td>7</td>\n      <td>103226.0</td>\n      <td>CLOSED</td>\n    </tr>\n    <tr>\n      <th>2</th>\n      <td>3</td>\n      <td>0900024</td>\n      <td>29-Jun-2023</td>\n      <td>S2_8330</td>\n      <td>S2_7504</td>\n      <td>EVANS GICHANA OGAKE</td>\n      <td>29-Jul-2022</td>\n      <td>50000.0</td>\n      <td>0.0</td>\n      <td>0</td>\n      <td>901.0</td>\n      <td>0</td>\n      <td>0</td>\n      <td>0</td>\n      <td>200.0</td>\n      <td>CHN02</td>\n      <td>7</td>\n      <td>51101.0</td>\n      <td>CLOSED</td>\n    </tr>\n    <tr>\n      <th>3</th>\n      <td>4</td>\n      <td>0900024</td>\n      <td>29-Jun-2023</td>\n      <td>S2_8330</td>\n      <td>S2_7635</td>\n      <td>EVANS GICHANA OGAKE</td>\n      <td>04-Aug-2022</td>\n      <td>100000.0</td>\n      <td>0.0</td>\n      <td>0</td>\n      <td>1801.0</td>\n      <td>0</td>\n      <td>0</td>\n      <td>0</td>\n      <td>200.0</td>\n      <td>CHN02</td>\n      <td>7</td>\n      <td>102001.0</td>\n      <td>CLOSED</td>\n    </tr>\n    <tr>\n      <th>4</th>\n      <td>5</td>\n      <td>0900024</td>\n      <td>29-Jun-2023</td>\n      <td>S2_8330</td>\n      <td>S2_8078</td>\n      <td>EVANS GICHANA OGAKE</td>\n      <td>26-Aug-2022</td>\n      <td>100000.0</td>\n      <td>0.0</td>\n      <td>0</td>\n      <td>1801.0</td>\n      <td>0</td>\n      <td>0</td>\n      <td>0</td>\n      <td>200.0</td>\n      <td>CHN02</td>\n      <td>7</td>\n      <td>102001.0</td>\n      <td>CLOSED</td>\n    </tr>\n    <tr>\n      <th>...</th>\n      <td>...</td>\n      <td>...</td>\n      <td>...</td>\n      <td>...</td>\n      <td>...</td>\n      <td>...</td>\n      <td>...</td>\n      <td>...</td>\n      <td>...</td>\n      <td>...</td>\n      <td>...</td>\n      <td>...</td>\n      <td>...</td>\n      <td>...</td>\n      <td>...</td>\n      <td>...</td>\n      <td>...</td>\n      <td>...</td>\n      <td>...</td>\n    </tr>\n    <tr>\n      <th>95</th>\n      <td>96</td>\n      <td>0900024</td>\n      <td>29-Jun-2023</td>\n      <td>S2_9426</td>\n      <td>S2_8359</td>\n      <td>Fredrick Loole</td>\n      <td>08-Sep-2022</td>\n      <td>32092.0</td>\n      <td>0.0</td>\n      <td>0</td>\n      <td>1156.0</td>\n      <td>0</td>\n      <td>0</td>\n      <td>0</td>\n      <td>1481.0</td>\n      <td>CHN02</td>\n      <td>14</td>\n      <td>34729.0</td>\n      <td>CLOSED</td>\n    </tr>\n    <tr>\n      <th>96</th>\n      <td>97</td>\n      <td>0900024</td>\n      <td>29-Jun-2023</td>\n      <td>S2_9453</td>\n      <td>S2_8425</td>\n      <td>Lilian Nangulu</td>\n      <td>10-Sep-2022</td>\n      <td>40760.0</td>\n      <td>0.0</td>\n      <td>0</td>\n      <td>1468.0</td>\n      <td>0</td>\n      <td>0</td>\n      <td>0</td>\n      <td>200.0</td>\n      <td>CHN02</td>\n      <td>14</td>\n      <td>42428.0</td>\n      <td>CLOSED</td>\n    </tr>\n    <tr>\n      <th>97</th>\n      <td>98</td>\n      <td>0900024</td>\n      <td>29-Jun-2023</td>\n      <td>S2_9453</td>\n      <td>S2_8785</td>\n      <td>Lilian Nangulu</td>\n      <td>24-Sep-2022</td>\n      <td>43200.0</td>\n      <td>0.0</td>\n      <td>0</td>\n      <td>1556.0</td>\n      <td>0</td>\n      <td>0</td>\n      <td>0</td>\n      <td>200.0</td>\n      <td>CHN02</td>\n      <td>14</td>\n      <td>44956.0</td>\n      <td>CLOSED</td>\n    </tr>\n    <tr>\n      <th>98</th>\n      <td>99</td>\n      <td>0900024</td>\n      <td>29-Jun-2023</td>\n      <td>S2_9454</td>\n      <td>S2_8426</td>\n      <td>Lucy Wakonyo Wamaitha</td>\n      <td>10-Sep-2022</td>\n      <td>37400.0</td>\n      <td>0.0</td>\n      <td>0</td>\n      <td>1347.0</td>\n      <td>0</td>\n      <td>0</td>\n      <td>0</td>\n      <td>200.0</td>\n      <td>CHN02</td>\n      <td>14</td>\n      <td>38947.0</td>\n      <td>CLOSED</td>\n    </tr>\n    <tr>\n      <th>99</th>\n      <td>100</td>\n      <td>0900024</td>\n      <td>29-Jun-2023</td>\n      <td>S2_9472</td>\n      <td>S2_8470</td>\n      <td>Lydia Njambi</td>\n      <td>12-Sep-2022</td>\n      <td>70000.0</td>\n      <td>0.0</td>\n      <td>0</td>\n      <td>2521.0</td>\n      <td>0</td>\n      <td>0</td>\n      <td>0</td>\n      <td>1239.0</td>\n      <td>CHN02</td>\n      <td>14</td>\n      <td>73760.0</td>\n      <td>CLOSED</td>\n    </tr>\n  </tbody>\n</table>\n<p>100 rows × 19 columns</p>\n</div>"
     },
     "execution_count": 8,
     "metadata": {},
     "output_type": "execute_result"
    }
   ],
   "source": [
    "warehouse_hook.get_pandas_df(\n",
    "    sql=\"\"\"\n",
    "    -- Digital Loans Account Data\n",
    "    select\n",
    "        row_number() over () as \"ROW_ID\",\n",
    "        '0900024' as \"DIGITAL_CREDIT_PROVIDER_CODE\",\n",
    "        to_char(current_date, 'DD-Mon-YYYY') as \"REPORTING_DATE\", -- cannot be in format 'DD-Mon-YYYY' and still be dtype date\n",
    "        concat('S_', cmsv.mifos_id) as \"CUSTOMER_ID\",\n",
    "        concat('S_', lftmsv.loan_mifos_id) as \"LOAN_ACCOUNT_CONTRACT_NUMBER\",\n",
    "        concat(cmsv.first_name, ' ', cmsv.middle_name, ' ', cmsv.last_name) as \"ACCOUNT_NAME\",\n",
    "        to_char(disbursed_on_date, 'DD-Mon-YYYY') as \"DISBURSEMENT_DATE\", -- cannot be in format 'DD-Mon-YYYY' and still be dtype date\n",
    "        coalesce(principal_disbursed, 0) as \"PRINCIPAL_LOAN_AMOUNT_DISBURSED\",\n",
    "        coalesce(total_outstanding, 0) as \"OUTSTANDING_LOAN_BALANCE\",\n",
    "        0 as \"DEBIT_INTEREST_RATE\",\n",
    "        coalesce(interest_charged, 0) as \"FACILITY_ARRANGEMENT_FEE_CHARGE\",\n",
    "        0 as \"UPFRONT_INTEREST_FEES_CHARGE\",\n",
    "        0 as \"COST_OF_WALLET_TRANSFER\", --except for Solv\n",
    "        0 as \"INSURANCE_FEE_CHARGE\",\n",
    "        coalesce(fee_charges_charged + penalty_charges_charged, 0) as \"OTHER_CHARGE\",\n",
    "        dct.code as \"CHANNEL_TYPE_USED\",\n",
    "        pd.repay_every as \"DIGITAL_LOAN_TENOR\",\n",
    "        coalesce(total_expected_repayment, 0) as \"INSTALMENT_AMOUNT\",\n",
    "        ast.code as \"ACCOUNT_STATUS\"\n",
    "    from solv_bat.loans_fact_table_summary_view lftmsv\n",
    "    inner join solv_bat.client_summary_view cmsv on lftmsv.client_surrogate_id = cmsv.surrogate_id\n",
    "    inner join solv_bat.product_dimension pd on lftmsv.product_surrogate_id = pd.surrogate_id\n",
    "    inner join solv_bat.loan_status_dimension lsd on lftmsv.loan_status_surrogate_id = lsd.surrogate_id\n",
    "    inner join central_bank_of_kenya.digital_channel_types dct on dct.\"type\" = 'USSD'\n",
    "    inner join central_bank_of_kenya.account_status_types ast on ast.\"type\" = lsd.message\n",
    "    where loan_status in (300, 600, 700)\n",
    "    limit 100\n",
    "    \"\"\"\n",
    ")#.to_csv('~/data/Digital Loans Account Data Sample SOLV.csv', index=False)"
   ],
   "metadata": {
    "collapsed": false
   }
  },
  {
   "cell_type": "markdown",
   "source": [
    "### Overdue (Non-Performing) Digital Loans"
   ],
   "metadata": {
    "collapsed": false
   }
  },
  {
   "cell_type": "code",
   "execution_count": 11,
   "outputs": [
    {
     "name": "stdout",
     "output_type": "stream",
     "text": [
      "[\u001B[34m2023-06-29 10:16:58,058\u001B[0m] {\u001B[34mbase.py:\u001B[0m73} INFO\u001B[0m - Using connection ID 'rds_afsg_ds_prod_postgresql_dwh' for task execution.\u001B[0m\n"
     ]
    },
    {
     "data": {
      "text/plain": "\u001B[1;33m/home/henrykuria/airflow_venv/lib/python3.10/site-packages/pandas/io/\u001B[0m\u001B[1;33msql.py\u001B[0m\u001B[1;33m:\u001B[0m\u001B[1;33m761\u001B[0m\u001B[1;33m UserWarning\u001B[0m\u001B[33m: pandas only support SQLAlchemy \u001B[0m\u001B[1;33mconnectable\u001B[0m\u001B[1;33m(\u001B[0m\u001B[33mengine/connection\u001B[0m\u001B[1;33m)\u001B[0m\u001B[33m ordatabase string URI or sqlite3 DBAPI2 connectionother DBAPI2 objects are not tested, please consider using SQLAlchemy\u001B[0m\n",
      "text/html": "<pre style=\"white-space:pre;overflow-x:auto;line-height:normal;font-family:Menlo,'DejaVu Sans Mono',consolas,'Courier New',monospace\"><span style=\"color: #808000; text-decoration-color: #808000; font-weight: bold\">/home/henrykuria/airflow_venv/lib/python3.10/site-packages/pandas/io/sql.py:</span><span style=\"color: #808000; text-decoration-color: #808000; font-weight: bold\">761</span><span style=\"color: #808000; text-decoration-color: #808000; font-weight: bold\"> UserWarning</span><span style=\"color: #808000; text-decoration-color: #808000\">: pandas only support SQLAlchemy </span><span style=\"color: #808000; text-decoration-color: #808000; font-weight: bold\">connectable(</span><span style=\"color: #808000; text-decoration-color: #808000\">engine/connection</span><span style=\"color: #808000; text-decoration-color: #808000; font-weight: bold\">)</span><span style=\"color: #808000; text-decoration-color: #808000\"> ordatabase string URI or sqlite3 DBAPI2 connectionother DBAPI2 objects are not tested, please consider using SQLAlchemy</span>\n</pre>\n"
     },
     "metadata": {},
     "output_type": "display_data"
    },
    {
     "data": {
      "text/plain": "    ROW_ID DIGITAL_CREDIT_PROVIDER_CODE REPORTING_DATE CUSTOMER_ID  \\\n0        1                      0900024    29-Jun-2023     S_10203   \n1        2                      0900024    29-Jun-2023     S_10315   \n2        3                      0900024    29-Jun-2023      S_9480   \n3        4                      0900024    29-Jun-2023      S_9448   \n4        5                      0900024    29-Jun-2023     S_10395   \n..     ...                          ...            ...         ...   \n95      96                      0900024    29-Jun-2023     S_10222   \n96      97                      0900024    29-Jun-2023      S_9511   \n97      98                      0900024    29-Jun-2023      S_9607   \n98      99                      0900024    29-Jun-2023     S_10227   \n99     100                      0900024    29-Jun-2023      S_9592   \n\n   LOAN_ACCOUNT_CONTRACT_NUMBER OVERDUE_DATE  PRINCIPAL_ARREARS_AMOUNT  \\\n0                       S_11260  23-May-2023                   78000.0   \n1                       S_11269  23-May-2023                   60000.0   \n2                       S_11285  18-May-2023                    4949.0   \n3                       S_11344  24-May-2023                    8899.0   \n4                       S_11349  24-May-2023                   24779.0   \n..                          ...          ...                       ...   \n95                      S_10374  02-Apr-2023                   57400.0   \n96                       S_8536  28-Dec-2022                   99996.0   \n97                       S_8743  04-Jan-2023                   35930.0   \n98                      S_10586  11-Apr-2023                   35000.0   \n99                      S_10657  14-Apr-2023                   60000.0   \n\n    TOTAL_OUTSTANDING_AMOUNT  \n0                  126488.41  \n1                  114049.00  \n2                    4949.00  \n3                    8899.00  \n4                   24779.00  \n..                       ...  \n95                  77681.47  \n96                 157945.97  \n97                  53054.52  \n98                  69353.04  \n99                  93711.07  \n\n[100 rows x 8 columns]",
      "text/html": "<div>\n<style scoped>\n    .dataframe tbody tr th:only-of-type {\n        vertical-align: middle;\n    }\n\n    .dataframe tbody tr th {\n        vertical-align: top;\n    }\n\n    .dataframe thead th {\n        text-align: right;\n    }\n</style>\n<table border=\"1\" class=\"dataframe\">\n  <thead>\n    <tr style=\"text-align: right;\">\n      <th></th>\n      <th>ROW_ID</th>\n      <th>DIGITAL_CREDIT_PROVIDER_CODE</th>\n      <th>REPORTING_DATE</th>\n      <th>CUSTOMER_ID</th>\n      <th>LOAN_ACCOUNT_CONTRACT_NUMBER</th>\n      <th>OVERDUE_DATE</th>\n      <th>PRINCIPAL_ARREARS_AMOUNT</th>\n      <th>TOTAL_OUTSTANDING_AMOUNT</th>\n    </tr>\n  </thead>\n  <tbody>\n    <tr>\n      <th>0</th>\n      <td>1</td>\n      <td>0900024</td>\n      <td>29-Jun-2023</td>\n      <td>S_10203</td>\n      <td>S_11260</td>\n      <td>23-May-2023</td>\n      <td>78000.0</td>\n      <td>126488.41</td>\n    </tr>\n    <tr>\n      <th>1</th>\n      <td>2</td>\n      <td>0900024</td>\n      <td>29-Jun-2023</td>\n      <td>S_10315</td>\n      <td>S_11269</td>\n      <td>23-May-2023</td>\n      <td>60000.0</td>\n      <td>114049.00</td>\n    </tr>\n    <tr>\n      <th>2</th>\n      <td>3</td>\n      <td>0900024</td>\n      <td>29-Jun-2023</td>\n      <td>S_9480</td>\n      <td>S_11285</td>\n      <td>18-May-2023</td>\n      <td>4949.0</td>\n      <td>4949.00</td>\n    </tr>\n    <tr>\n      <th>3</th>\n      <td>4</td>\n      <td>0900024</td>\n      <td>29-Jun-2023</td>\n      <td>S_9448</td>\n      <td>S_11344</td>\n      <td>24-May-2023</td>\n      <td>8899.0</td>\n      <td>8899.00</td>\n    </tr>\n    <tr>\n      <th>4</th>\n      <td>5</td>\n      <td>0900024</td>\n      <td>29-Jun-2023</td>\n      <td>S_10395</td>\n      <td>S_11349</td>\n      <td>24-May-2023</td>\n      <td>24779.0</td>\n      <td>24779.00</td>\n    </tr>\n    <tr>\n      <th>...</th>\n      <td>...</td>\n      <td>...</td>\n      <td>...</td>\n      <td>...</td>\n      <td>...</td>\n      <td>...</td>\n      <td>...</td>\n      <td>...</td>\n    </tr>\n    <tr>\n      <th>95</th>\n      <td>96</td>\n      <td>0900024</td>\n      <td>29-Jun-2023</td>\n      <td>S_10222</td>\n      <td>S_10374</td>\n      <td>02-Apr-2023</td>\n      <td>57400.0</td>\n      <td>77681.47</td>\n    </tr>\n    <tr>\n      <th>96</th>\n      <td>97</td>\n      <td>0900024</td>\n      <td>29-Jun-2023</td>\n      <td>S_9511</td>\n      <td>S_8536</td>\n      <td>28-Dec-2022</td>\n      <td>99996.0</td>\n      <td>157945.97</td>\n    </tr>\n    <tr>\n      <th>97</th>\n      <td>98</td>\n      <td>0900024</td>\n      <td>29-Jun-2023</td>\n      <td>S_9607</td>\n      <td>S_8743</td>\n      <td>04-Jan-2023</td>\n      <td>35930.0</td>\n      <td>53054.52</td>\n    </tr>\n    <tr>\n      <th>98</th>\n      <td>99</td>\n      <td>0900024</td>\n      <td>29-Jun-2023</td>\n      <td>S_10227</td>\n      <td>S_10586</td>\n      <td>11-Apr-2023</td>\n      <td>35000.0</td>\n      <td>69353.04</td>\n    </tr>\n    <tr>\n      <th>99</th>\n      <td>100</td>\n      <td>0900024</td>\n      <td>29-Jun-2023</td>\n      <td>S_9592</td>\n      <td>S_10657</td>\n      <td>14-Apr-2023</td>\n      <td>60000.0</td>\n      <td>93711.07</td>\n    </tr>\n  </tbody>\n</table>\n<p>100 rows × 8 columns</p>\n</div>"
     },
     "execution_count": 11,
     "metadata": {},
     "output_type": "execute_result"
    }
   ],
   "source": [
    "warehouse_hook.get_pandas_df(\n",
    "    sql=\"\"\"\n",
    "    -- Overdue (Non-Performing) Digital Loans\n",
    "    select\n",
    "        row_number() over () as \"ROW_ID\",\n",
    "        '0900024' as \"DIGITAL_CREDIT_PROVIDER_CODE\",\n",
    "        to_char(current_date, 'DD-Mon-YYYY') as \"REPORTING_DATE\", -- cannot be in format 'DD-Mon-YYYY' and still be dtype date\n",
    "        concat('S_', cmsv.mifos_id) as \"CUSTOMER_ID\",\n",
    "        concat('S_', lftmsv.loan_mifos_id) as \"LOAN_ACCOUNT_CONTRACT_NUMBER\",\n",
    "        to_char(expected_matured_on_date + '90 day'::interval, 'DD-Mon-YYYY') as \"OVERDUE_DATE\", -- cannot be in format 'DD-Mon-YYYY' and still be dtype date\n",
    "        coalesce(principal_outstanding, 0) as \"PRINCIPAL_ARREARS_AMOUNT\",\n",
    "        coalesce(total_outstanding, 0) as \"TOTAL_OUTSTANDING_AMOUNT\"\n",
    "    from solv_bat.loans_fact_table_summary_view lftmsv\n",
    "    inner join solv_bat.client_summary_view cmsv on lftmsv.client_surrogate_id = cmsv.surrogate_id\n",
    "    where current_date - (expected_matured_on_date + '90 day'::interval)::date >= 1 and loan_status = 300\n",
    "    limit 100\n",
    "    \"\"\"\n",
    ")##.to_csv('~/data/Overdue (Non-Performing) Digital Loans Sample SOLV.csv', index=False)"
   ],
   "metadata": {
    "collapsed": false
   }
  },
  {
   "cell_type": "markdown",
   "source": [
    "### Digital Loan Repayments Data"
   ],
   "metadata": {
    "collapsed": false
   }
  },
  {
   "cell_type": "code",
   "execution_count": 17,
   "outputs": [
    {
     "name": "stdout",
     "output_type": "stream",
     "text": [
      "[\u001B[34m2023-06-29 10:24:29,254\u001B[0m] {\u001B[34mbase.py:\u001B[0m73} INFO\u001B[0m - Using connection ID 'rds_afsg_ds_prod_postgresql_dwh' for task execution.\u001B[0m\n"
     ]
    },
    {
     "data": {
      "text/plain": "\u001B[1;33m/home/henrykuria/airflow_venv/lib/python3.10/site-packages/pandas/io/\u001B[0m\u001B[1;33msql.py\u001B[0m\u001B[1;33m:\u001B[0m\u001B[1;33m761\u001B[0m\u001B[1;33m UserWarning\u001B[0m\u001B[33m: pandas only support SQLAlchemy \u001B[0m\u001B[1;33mconnectable\u001B[0m\u001B[1;33m(\u001B[0m\u001B[33mengine/connection\u001B[0m\u001B[1;33m)\u001B[0m\u001B[33m ordatabase string URI or sqlite3 DBAPI2 connectionother DBAPI2 objects are not tested, please consider using SQLAlchemy\u001B[0m\n",
      "text/html": "<pre style=\"white-space:pre;overflow-x:auto;line-height:normal;font-family:Menlo,'DejaVu Sans Mono',consolas,'Courier New',monospace\"><span style=\"color: #808000; text-decoration-color: #808000; font-weight: bold\">/home/henrykuria/airflow_venv/lib/python3.10/site-packages/pandas/io/sql.py:</span><span style=\"color: #808000; text-decoration-color: #808000; font-weight: bold\">761</span><span style=\"color: #808000; text-decoration-color: #808000; font-weight: bold\"> UserWarning</span><span style=\"color: #808000; text-decoration-color: #808000\">: pandas only support SQLAlchemy </span><span style=\"color: #808000; text-decoration-color: #808000; font-weight: bold\">connectable(</span><span style=\"color: #808000; text-decoration-color: #808000\">engine/connection</span><span style=\"color: #808000; text-decoration-color: #808000; font-weight: bold\">)</span><span style=\"color: #808000; text-decoration-color: #808000\"> ordatabase string URI or sqlite3 DBAPI2 connectionother DBAPI2 objects are not tested, please consider using SQLAlchemy</span>\n</pre>\n"
     },
     "metadata": {},
     "output_type": "display_data"
    },
    {
     "data": {
      "text/plain": "    ROW_ID DIGITAL_CREDIT_PROVIDER_CODE REPORTING_DATE CUSTOMER_ID  \\\n0        1                      0900024    29-Jun-2023     S_10475   \n1        2                      0900024    29-Jun-2023     S_10420   \n2        3                      0900024    29-Jun-2023     S_10420   \n3        4                      0900024    29-Jun-2023     S_10420   \n4        5                      0900024    29-Jun-2023     S_10420   \n..     ...                          ...            ...         ...   \n95      96                      0900024    29-Jun-2023     S_10140   \n96      97                      0900024    29-Jun-2023     S_10386   \n97      98                      0900024    29-Jun-2023     S_10386   \n98      99                      0900024    29-Jun-2023      S_9369   \n99     100                      0900024    29-Jun-2023     S_10387   \n\n   LOAN_ACCOUNT_CONTRACT_NUMBER  OUTSTANDING_LOAN_BALANCE  \\\n0                       S_12054                      0.00   \n1                       S_12056                  46883.00   \n2                       S_12056                 117727.00   \n3                       S_12056                  86883.00   \n4                       S_12056                    844.00   \n..                          ...                       ...   \n95                      S_11293                  49500.00   \n96                      S_11294                      0.00   \n97                      S_11294                  17856.62   \n98                      S_11295                      0.00   \n99                      S_11296                      0.00   \n\n    ACCRUED_INTEREST_BALANCE  INTEREST_CHARGED_ON_REPAYMENT  \\\n0                        0.0                              0   \n1                        0.0                              0   \n2                        0.0                              0   \n3                        0.0                              0   \n4                        0.0                              0   \n..                       ...                            ...   \n95                       0.0                              0   \n96                       0.0                              0   \n97                       0.0                              0   \n98                       0.0                              0   \n99                       0.0                              0   \n\n    LATE_PAYMENT_FEE_CHARGE LOAN_REPAYMENT_DATE  PRINCIPAL_LOAN_AMOUNT_REPAID  \n0                       0.0         24-Apr-2023                      41000.00  \n1                       0.0         20-Apr-2023                      40000.00  \n2                       0.0         18-Apr-2023                      32273.00  \n3                       0.0         19-Apr-2023                      30000.00  \n4                       0.0         24-Apr-2023                      46883.00  \n..                      ...                 ...                           ...  \n95                      0.0         20-Feb-2023                          0.00  \n96                      0.0         22-Feb-2023                      17856.62  \n97                      0.0         20-Feb-2023                       3843.38  \n98                      0.0         18-Feb-2023                      60000.00  \n99                      0.0         23-Feb-2023                      13000.00  \n\n[100 rows x 11 columns]",
      "text/html": "<div>\n<style scoped>\n    .dataframe tbody tr th:only-of-type {\n        vertical-align: middle;\n    }\n\n    .dataframe tbody tr th {\n        vertical-align: top;\n    }\n\n    .dataframe thead th {\n        text-align: right;\n    }\n</style>\n<table border=\"1\" class=\"dataframe\">\n  <thead>\n    <tr style=\"text-align: right;\">\n      <th></th>\n      <th>ROW_ID</th>\n      <th>DIGITAL_CREDIT_PROVIDER_CODE</th>\n      <th>REPORTING_DATE</th>\n      <th>CUSTOMER_ID</th>\n      <th>LOAN_ACCOUNT_CONTRACT_NUMBER</th>\n      <th>OUTSTANDING_LOAN_BALANCE</th>\n      <th>ACCRUED_INTEREST_BALANCE</th>\n      <th>INTEREST_CHARGED_ON_REPAYMENT</th>\n      <th>LATE_PAYMENT_FEE_CHARGE</th>\n      <th>LOAN_REPAYMENT_DATE</th>\n      <th>PRINCIPAL_LOAN_AMOUNT_REPAID</th>\n    </tr>\n  </thead>\n  <tbody>\n    <tr>\n      <th>0</th>\n      <td>1</td>\n      <td>0900024</td>\n      <td>29-Jun-2023</td>\n      <td>S_10475</td>\n      <td>S_12054</td>\n      <td>0.00</td>\n      <td>0.0</td>\n      <td>0</td>\n      <td>0.0</td>\n      <td>24-Apr-2023</td>\n      <td>41000.00</td>\n    </tr>\n    <tr>\n      <th>1</th>\n      <td>2</td>\n      <td>0900024</td>\n      <td>29-Jun-2023</td>\n      <td>S_10420</td>\n      <td>S_12056</td>\n      <td>46883.00</td>\n      <td>0.0</td>\n      <td>0</td>\n      <td>0.0</td>\n      <td>20-Apr-2023</td>\n      <td>40000.00</td>\n    </tr>\n    <tr>\n      <th>2</th>\n      <td>3</td>\n      <td>0900024</td>\n      <td>29-Jun-2023</td>\n      <td>S_10420</td>\n      <td>S_12056</td>\n      <td>117727.00</td>\n      <td>0.0</td>\n      <td>0</td>\n      <td>0.0</td>\n      <td>18-Apr-2023</td>\n      <td>32273.00</td>\n    </tr>\n    <tr>\n      <th>3</th>\n      <td>4</td>\n      <td>0900024</td>\n      <td>29-Jun-2023</td>\n      <td>S_10420</td>\n      <td>S_12056</td>\n      <td>86883.00</td>\n      <td>0.0</td>\n      <td>0</td>\n      <td>0.0</td>\n      <td>19-Apr-2023</td>\n      <td>30000.00</td>\n    </tr>\n    <tr>\n      <th>4</th>\n      <td>5</td>\n      <td>0900024</td>\n      <td>29-Jun-2023</td>\n      <td>S_10420</td>\n      <td>S_12056</td>\n      <td>844.00</td>\n      <td>0.0</td>\n      <td>0</td>\n      <td>0.0</td>\n      <td>24-Apr-2023</td>\n      <td>46883.00</td>\n    </tr>\n    <tr>\n      <th>...</th>\n      <td>...</td>\n      <td>...</td>\n      <td>...</td>\n      <td>...</td>\n      <td>...</td>\n      <td>...</td>\n      <td>...</td>\n      <td>...</td>\n      <td>...</td>\n      <td>...</td>\n      <td>...</td>\n    </tr>\n    <tr>\n      <th>95</th>\n      <td>96</td>\n      <td>0900024</td>\n      <td>29-Jun-2023</td>\n      <td>S_10140</td>\n      <td>S_11293</td>\n      <td>49500.00</td>\n      <td>0.0</td>\n      <td>0</td>\n      <td>0.0</td>\n      <td>20-Feb-2023</td>\n      <td>0.00</td>\n    </tr>\n    <tr>\n      <th>96</th>\n      <td>97</td>\n      <td>0900024</td>\n      <td>29-Jun-2023</td>\n      <td>S_10386</td>\n      <td>S_11294</td>\n      <td>0.00</td>\n      <td>0.0</td>\n      <td>0</td>\n      <td>0.0</td>\n      <td>22-Feb-2023</td>\n      <td>17856.62</td>\n    </tr>\n    <tr>\n      <th>97</th>\n      <td>98</td>\n      <td>0900024</td>\n      <td>29-Jun-2023</td>\n      <td>S_10386</td>\n      <td>S_11294</td>\n      <td>17856.62</td>\n      <td>0.0</td>\n      <td>0</td>\n      <td>0.0</td>\n      <td>20-Feb-2023</td>\n      <td>3843.38</td>\n    </tr>\n    <tr>\n      <th>98</th>\n      <td>99</td>\n      <td>0900024</td>\n      <td>29-Jun-2023</td>\n      <td>S_9369</td>\n      <td>S_11295</td>\n      <td>0.00</td>\n      <td>0.0</td>\n      <td>0</td>\n      <td>0.0</td>\n      <td>18-Feb-2023</td>\n      <td>60000.00</td>\n    </tr>\n    <tr>\n      <th>99</th>\n      <td>100</td>\n      <td>0900024</td>\n      <td>29-Jun-2023</td>\n      <td>S_10387</td>\n      <td>S_11296</td>\n      <td>0.00</td>\n      <td>0.0</td>\n      <td>0</td>\n      <td>0.0</td>\n      <td>23-Feb-2023</td>\n      <td>13000.00</td>\n    </tr>\n  </tbody>\n</table>\n<p>100 rows × 11 columns</p>\n</div>"
     },
     "execution_count": 17,
     "metadata": {},
     "output_type": "execute_result"
    }
   ],
   "source": [
    "warehouse_hook.get_pandas_df(\n",
    "    sql=\"\"\"\n",
    "    -- Digital Loan Repayments Data\n",
    "    select\n",
    "        row_number() over () as \"ROW_ID\",\n",
    "        '0900024' as \"DIGITAL_CREDIT_PROVIDER_CODE\",\n",
    "        to_char(current_date, 'DD-Mon-YYYY') as \"REPORTING_DATE\", -- cannot be in format 'DD-Mon-YYYY' and still be dtype date\n",
    "        concat('S_', cmsv.mifos_id) as \"CUSTOMER_ID\",\n",
    "        concat('S_', lftmsv.loan_mifos_id) as \"LOAN_ACCOUNT_CONTRACT_NUMBER\",\n",
    "        coalesce(td.outstanding_loan_balance_derived, 0) as \"OUTSTANDING_LOAN_BALANCE\", -- data quality issue\n",
    "        coalesce(lftmsv.interest_outstanding, 0) as \"ACCRUED_INTEREST_BALANCE\",  -- data quality issue\n",
    "        0 as \"INTEREST_CHARGED_ON_REPAYMENT\",\n",
    "        coalesce(td.fee_charges_portion_derived + td.penalty_charges_portion_derived, 0) as \"LATE_PAYMENT_FEE_CHARGE\",\n",
    "        to_char(td.transaction_date, 'DD-Mon-YYYY') as \"LOAN_REPAYMENT_DATE\",\n",
    "        coalesce(td.principal_portion_derived, 0) as \"PRINCIPAL_LOAN_AMOUNT_REPAID\"\n",
    "    from solv_bat.transactions_dimension td\n",
    "    inner join solv_bat.loans_fact_table_summary_view lftmsv on lftmsv.loan_mifos_id::varchar = td.mifos_loan_id\n",
    "    inner join solv_bat.client_summary_view cmsv on lftmsv.client_surrogate_id = cmsv.surrogate_id\n",
    "    where td.transaction_type_enum = 2 and lower(td.receipt_number) not like '%waiv%'\n",
    "    limit 100\n",
    "    \"\"\"\n",
    ")#.to_csv('~/data/Digital Loan Repayments Data Sample SOLV.csv', index=False)"
   ],
   "metadata": {
    "collapsed": false
   }
  },
  {
   "cell_type": "markdown",
   "source": [
    "### Customer Data"
   ],
   "metadata": {
    "collapsed": false
   }
  },
  {
   "cell_type": "code",
   "execution_count": 19,
   "outputs": [
    {
     "name": "stdout",
     "output_type": "stream",
     "text": [
      "[\u001B[34m2023-06-29 10:25:29,535\u001B[0m] {\u001B[34mbase.py:\u001B[0m73} INFO\u001B[0m - Using connection ID 'rds_afsg_ds_prod_postgresql_dwh' for task execution.\u001B[0m\n"
     ]
    },
    {
     "data": {
      "text/plain": "\u001B[1;33m/home/henrykuria/airflow_venv/lib/python3.10/site-packages/pandas/io/\u001B[0m\u001B[1;33msql.py\u001B[0m\u001B[1;33m:\u001B[0m\u001B[1;33m761\u001B[0m\u001B[1;33m UserWarning\u001B[0m\u001B[33m: pandas only support SQLAlchemy \u001B[0m\u001B[1;33mconnectable\u001B[0m\u001B[1;33m(\u001B[0m\u001B[33mengine/connection\u001B[0m\u001B[1;33m)\u001B[0m\u001B[33m ordatabase string URI or sqlite3 DBAPI2 connectionother DBAPI2 objects are not tested, please consider using SQLAlchemy\u001B[0m\n",
      "text/html": "<pre style=\"white-space:pre;overflow-x:auto;line-height:normal;font-family:Menlo,'DejaVu Sans Mono',consolas,'Courier New',monospace\"><span style=\"color: #808000; text-decoration-color: #808000; font-weight: bold\">/home/henrykuria/airflow_venv/lib/python3.10/site-packages/pandas/io/sql.py:</span><span style=\"color: #808000; text-decoration-color: #808000; font-weight: bold\">761</span><span style=\"color: #808000; text-decoration-color: #808000; font-weight: bold\"> UserWarning</span><span style=\"color: #808000; text-decoration-color: #808000\">: pandas only support SQLAlchemy </span><span style=\"color: #808000; text-decoration-color: #808000; font-weight: bold\">connectable(</span><span style=\"color: #808000; text-decoration-color: #808000\">engine/connection</span><span style=\"color: #808000; text-decoration-color: #808000; font-weight: bold\">)</span><span style=\"color: #808000; text-decoration-color: #808000\"> ordatabase string URI or sqlite3 DBAPI2 connectionother DBAPI2 objects are not tested, please consider using SQLAlchemy</span>\n</pre>\n"
     },
     "metadata": {},
     "output_type": "display_data"
    },
    {
     "data": {
      "text/plain": "    ROW_ID DIGITAL_CREDIT_PROVIDER_CODE REPORTING_DATE CUSTOMER_ID  \\\n0        1                      0900024    29-Jun-2023    SB2_9957   \n1        2                      0900024    29-Jun-2023   SB2_10047   \n2        3                      0900024    29-Jun-2023    SB2_8990   \n3        4                      0900024    29-Jun-2023    SB2_9439   \n4        5                      0900024    29-Jun-2023    SB2_9702   \n..     ...                          ...            ...         ...   \n95      96                      0900024    29-Jun-2023   SB2_10012   \n96      97                      0900024    29-Jun-2023    SB2_9727   \n97      98                      0900024    29-Jun-2023   SB2_10078   \n98      99                      0900024    29-Jun-2023   SB2_10034   \n99     100                      0900024    29-Jun-2023   SB2_10327   \n\n   PRIMARY_IDENTIFICATION_DOCUMENT_TYPE NATIONAL_IDENTITY_PASSPORT_NUMBER  \\\n0                              CUSTID01                           1502421   \n1                              CUSTID01                          31622017   \n2                              CUSTID01                          27027781   \n3                              CUSTID01                          13213664   \n4                              CUSTID01                          23540208   \n..                                  ...                               ...   \n95                             CUSTID01                          13653582   \n96                             CUSTID01                          20740614   \n97                             CUSTID01                          12992655   \n98                             CUSTID01                          12528132   \n99                             CUSTID01                          24363741   \n\n   PERSONAL_IDENTIFICATION_NUMBER NATIONALITY GENDER FIRST_NAME MIDDLE_NAME  \\\n0                            None          KE   None     Robert       Dacho   \n1                            None          KE   None     Regina        None   \n2                            None          KE   None      EVANS        None   \n3                            None          KE   None    FRANCIS        None   \n4                            None          KE   None      Agnes     Wanjiru   \n..                            ...         ...    ...        ...         ...   \n95                           None          KE   None      Joyce     Wanjiru   \n96                           None          KE   None   Caroline        None   \n97                           None          KE   None     Benard       Gitau   \n98                           None          KE   None      Susan        None   \n99                           None          KE   None       Lucy    Wangechi   \n\n     SURNAME DATE_OF_BIRTH_REGISTRATION ONBOARDING_DATE MOBILE_NUMBER  \n0     Amollo                19-Oct-2012     19-Oct-2022  254716948361  \n1    Muthoni                27-Oct-2012     27-Oct-2022  254706177442  \n2     SMOOTH                27-Jul-2012     27-Jul-2022  254728734720  \n3     MWANGI                09-Sep-2012     09-Sep-2022  254729143588  \n4     Thuita                30-Sep-2012     30-Sep-2022  254713530581  \n..       ...                        ...             ...           ...  \n95  Wangombe                25-Oct-2012     25-Oct-2022  254723354617  \n96    Nkatha                03-Oct-2012     03-Oct-2022  254723908291  \n97    Dorcas                03-Nov-2012     03-Nov-2022  254722575352  \n98   Kaguura                27-Oct-2012     27-Oct-2022  254726797765  \n99     Kabai                06-Jan-2013     06-Jan-2023  254720968457  \n\n[100 rows x 15 columns]",
      "text/html": "<div>\n<style scoped>\n    .dataframe tbody tr th:only-of-type {\n        vertical-align: middle;\n    }\n\n    .dataframe tbody tr th {\n        vertical-align: top;\n    }\n\n    .dataframe thead th {\n        text-align: right;\n    }\n</style>\n<table border=\"1\" class=\"dataframe\">\n  <thead>\n    <tr style=\"text-align: right;\">\n      <th></th>\n      <th>ROW_ID</th>\n      <th>DIGITAL_CREDIT_PROVIDER_CODE</th>\n      <th>REPORTING_DATE</th>\n      <th>CUSTOMER_ID</th>\n      <th>PRIMARY_IDENTIFICATION_DOCUMENT_TYPE</th>\n      <th>NATIONAL_IDENTITY_PASSPORT_NUMBER</th>\n      <th>PERSONAL_IDENTIFICATION_NUMBER</th>\n      <th>NATIONALITY</th>\n      <th>GENDER</th>\n      <th>FIRST_NAME</th>\n      <th>MIDDLE_NAME</th>\n      <th>SURNAME</th>\n      <th>DATE_OF_BIRTH_REGISTRATION</th>\n      <th>ONBOARDING_DATE</th>\n      <th>MOBILE_NUMBER</th>\n    </tr>\n  </thead>\n  <tbody>\n    <tr>\n      <th>0</th>\n      <td>1</td>\n      <td>0900024</td>\n      <td>29-Jun-2023</td>\n      <td>SB2_9957</td>\n      <td>CUSTID01</td>\n      <td>1502421</td>\n      <td>None</td>\n      <td>KE</td>\n      <td>None</td>\n      <td>Robert</td>\n      <td>Dacho</td>\n      <td>Amollo</td>\n      <td>19-Oct-2012</td>\n      <td>19-Oct-2022</td>\n      <td>254716948361</td>\n    </tr>\n    <tr>\n      <th>1</th>\n      <td>2</td>\n      <td>0900024</td>\n      <td>29-Jun-2023</td>\n      <td>SB2_10047</td>\n      <td>CUSTID01</td>\n      <td>31622017</td>\n      <td>None</td>\n      <td>KE</td>\n      <td>None</td>\n      <td>Regina</td>\n      <td>None</td>\n      <td>Muthoni</td>\n      <td>27-Oct-2012</td>\n      <td>27-Oct-2022</td>\n      <td>254706177442</td>\n    </tr>\n    <tr>\n      <th>2</th>\n      <td>3</td>\n      <td>0900024</td>\n      <td>29-Jun-2023</td>\n      <td>SB2_8990</td>\n      <td>CUSTID01</td>\n      <td>27027781</td>\n      <td>None</td>\n      <td>KE</td>\n      <td>None</td>\n      <td>EVANS</td>\n      <td>None</td>\n      <td>SMOOTH</td>\n      <td>27-Jul-2012</td>\n      <td>27-Jul-2022</td>\n      <td>254728734720</td>\n    </tr>\n    <tr>\n      <th>3</th>\n      <td>4</td>\n      <td>0900024</td>\n      <td>29-Jun-2023</td>\n      <td>SB2_9439</td>\n      <td>CUSTID01</td>\n      <td>13213664</td>\n      <td>None</td>\n      <td>KE</td>\n      <td>None</td>\n      <td>FRANCIS</td>\n      <td>None</td>\n      <td>MWANGI</td>\n      <td>09-Sep-2012</td>\n      <td>09-Sep-2022</td>\n      <td>254729143588</td>\n    </tr>\n    <tr>\n      <th>4</th>\n      <td>5</td>\n      <td>0900024</td>\n      <td>29-Jun-2023</td>\n      <td>SB2_9702</td>\n      <td>CUSTID01</td>\n      <td>23540208</td>\n      <td>None</td>\n      <td>KE</td>\n      <td>None</td>\n      <td>Agnes</td>\n      <td>Wanjiru</td>\n      <td>Thuita</td>\n      <td>30-Sep-2012</td>\n      <td>30-Sep-2022</td>\n      <td>254713530581</td>\n    </tr>\n    <tr>\n      <th>...</th>\n      <td>...</td>\n      <td>...</td>\n      <td>...</td>\n      <td>...</td>\n      <td>...</td>\n      <td>...</td>\n      <td>...</td>\n      <td>...</td>\n      <td>...</td>\n      <td>...</td>\n      <td>...</td>\n      <td>...</td>\n      <td>...</td>\n      <td>...</td>\n      <td>...</td>\n    </tr>\n    <tr>\n      <th>95</th>\n      <td>96</td>\n      <td>0900024</td>\n      <td>29-Jun-2023</td>\n      <td>SB2_10012</td>\n      <td>CUSTID01</td>\n      <td>13653582</td>\n      <td>None</td>\n      <td>KE</td>\n      <td>None</td>\n      <td>Joyce</td>\n      <td>Wanjiru</td>\n      <td>Wangombe</td>\n      <td>25-Oct-2012</td>\n      <td>25-Oct-2022</td>\n      <td>254723354617</td>\n    </tr>\n    <tr>\n      <th>96</th>\n      <td>97</td>\n      <td>0900024</td>\n      <td>29-Jun-2023</td>\n      <td>SB2_9727</td>\n      <td>CUSTID01</td>\n      <td>20740614</td>\n      <td>None</td>\n      <td>KE</td>\n      <td>None</td>\n      <td>Caroline</td>\n      <td>None</td>\n      <td>Nkatha</td>\n      <td>03-Oct-2012</td>\n      <td>03-Oct-2022</td>\n      <td>254723908291</td>\n    </tr>\n    <tr>\n      <th>97</th>\n      <td>98</td>\n      <td>0900024</td>\n      <td>29-Jun-2023</td>\n      <td>SB2_10078</td>\n      <td>CUSTID01</td>\n      <td>12992655</td>\n      <td>None</td>\n      <td>KE</td>\n      <td>None</td>\n      <td>Benard</td>\n      <td>Gitau</td>\n      <td>Dorcas</td>\n      <td>03-Nov-2012</td>\n      <td>03-Nov-2022</td>\n      <td>254722575352</td>\n    </tr>\n    <tr>\n      <th>98</th>\n      <td>99</td>\n      <td>0900024</td>\n      <td>29-Jun-2023</td>\n      <td>SB2_10034</td>\n      <td>CUSTID01</td>\n      <td>12528132</td>\n      <td>None</td>\n      <td>KE</td>\n      <td>None</td>\n      <td>Susan</td>\n      <td>None</td>\n      <td>Kaguura</td>\n      <td>27-Oct-2012</td>\n      <td>27-Oct-2022</td>\n      <td>254726797765</td>\n    </tr>\n    <tr>\n      <th>99</th>\n      <td>100</td>\n      <td>0900024</td>\n      <td>29-Jun-2023</td>\n      <td>SB2_10327</td>\n      <td>CUSTID01</td>\n      <td>24363741</td>\n      <td>None</td>\n      <td>KE</td>\n      <td>None</td>\n      <td>Lucy</td>\n      <td>Wangechi</td>\n      <td>Kabai</td>\n      <td>06-Jan-2013</td>\n      <td>06-Jan-2023</td>\n      <td>254720968457</td>\n    </tr>\n  </tbody>\n</table>\n<p>100 rows × 15 columns</p>\n</div>"
     },
     "execution_count": 19,
     "metadata": {},
     "output_type": "execute_result"
    }
   ],
   "source": [
    "warehouse_hook.get_pandas_df(\n",
    "    sql=\"\"\"\n",
    "    -- Customer Data\n",
    "    with cust_dt as (\n",
    "        select\n",
    "            distinct\n",
    "            '0900024' as \"DIGITAL_CREDIT_PROVIDER_CODE\",\n",
    "            to_char(current_date, 'DD-Mon-YYYY') as \"REPORTING_DATE\", -- cannot be in format 'DD-Mon-YYYY' and still be dtype date\n",
    "            concat('S_', cmsv.mifos_id) as \"CUSTOMER_ID\", -- store number vs national_id\n",
    "            CASE WHEN cmsv.national_id ~ '[a-zA-Z]' THEN 'Passport' ELSE 'National Identity Card' END AS \"PRIMARY_IDENTIFICATION_DOCUMENT_TYPE\", -- how to distinguish huduma number from national ID number\n",
    "            cmsv.national_id as \"NATIONAL_IDENTITY_PASSPORT_NUMBER\", -- column name in template has slash\n",
    "            null as \"PERSONAL_IDENTIFICATION_NUMBER\", --kra pin\n",
    "            cmsv.gender,\n",
    "            cmsv.first_name as \"FIRST_NAME\",\n",
    "            cmsv.middle_name as \"MIDDLE_NAME\",\n",
    "            cmsv.last_name as \"SURNAME\",\n",
    "            to_char(cmsv.date_of_birth, 'DD-Mon-YYYY') as \"DATE_OF_BIRTH_REGISTRATION\", -- cannot be in format 'DD-MM-YYYY' and still be dtype date\n",
    "            to_char(cmsv.submitted_on_date, 'DD-Mon-YYYY') as \"ONBOARDING_DATE\",\n",
    "            cmsv.mobile_number as \"MOBILE_NUMBER\"\n",
    "        from solv_bat.client_summary_view cmsv\n",
    "        inner join solv_bat.loans_fact_table_summary_view lftmsv on cmsv.surrogate_id = lftmsv.client_surrogate_id\n",
    "    ) select\n",
    "        row_number() over () as \"ROW_ID\", \"DIGITAL_CREDIT_PROVIDER_CODE\", \"REPORTING_DATE\", \"CUSTOMER_ID\", cpdt.code as \"PRIMARY_IDENTIFICATION_DOCUMENT_TYPE\",\n",
    "        \"NATIONAL_IDENTITY_PASSPORT_NUMBER\", \"PERSONAL_IDENTIFICATION_NUMBER\", icc.country_code as \"NATIONALITY\", gt.code as \"GENDER\", \"FIRST_NAME\",\n",
    "        case when \"SURNAME\" is null and \"MIDDLE_NAME\" is not null then null else \"MIDDLE_NAME\" end as \"MIDDLE_NAME\",\n",
    "        case when \"SURNAME\" is null then \"MIDDLE_NAME\" else \"SURNAME\" end as \"SURNAME\",\n",
    "        \"DATE_OF_BIRTH_REGISTRATION\", \"ONBOARDING_DATE\", \"MOBILE_NUMBER\"\n",
    "    from cust_dt\n",
    "    left join central_bank_of_kenya.cust_primary_doc_types cpdt on cpdt.\"type\" = cust_dt.\"PRIMARY_IDENTIFICATION_DOCUMENT_TYPE\"\n",
    "    left join central_bank_of_kenya.gender_types gt on gt.\"type\" = cust_dt.gender\n",
    "    left join central_bank_of_kenya.iso_country_codes icc on icc.country_description = 'Kenya'\n",
    "    limit 100\n",
    "    \"\"\"\n",
    ")##.to_csv(f'~/data/CBK Customer Data Sample SOLV {datetime.datetime.now()}.csv', index=False)"
   ],
   "metadata": {
    "collapsed": false
   }
  },
  {
   "cell_type": "markdown",
   "source": [
    "# TANDA"
   ],
   "metadata": {
    "collapsed": false
   }
  },
  {
   "cell_type": "markdown",
   "source": [
    "### Digital Loans Account Data"
   ],
   "metadata": {
    "collapsed": false
   }
  },
  {
   "cell_type": "code",
   "execution_count": 3,
   "outputs": [
    {
     "name": "stdout",
     "output_type": "stream",
     "text": [
      "[\u001B[34m2023-07-05 09:23:34,468\u001B[0m] {\u001B[34mbase.py:\u001B[0m73} INFO\u001B[0m - Using connection ID 'rds_afsg_ds_prod_postgresql_dwh' for task execution.\u001B[0m\n"
     ]
    },
    {
     "data": {
      "text/plain": "\u001B[1;33m/home/henrykuria/airflow_venv/lib/python3.10/site-packages/pandas/io/\u001B[0m\u001B[1;33msql.py\u001B[0m\u001B[1;33m:\u001B[0m\u001B[1;33m761\u001B[0m\u001B[1;33m UserWarning\u001B[0m\u001B[33m: pandas only support SQLAlchemy \u001B[0m\u001B[1;33mconnectable\u001B[0m\u001B[1;33m(\u001B[0m\u001B[33mengine/connection\u001B[0m\u001B[1;33m)\u001B[0m\u001B[33m ordatabase string URI or sqlite3 DBAPI2 connectionother DBAPI2 objects are not tested, please consider using SQLAlchemy\u001B[0m\n",
      "text/html": "<pre style=\"white-space:pre;overflow-x:auto;line-height:normal;font-family:Menlo,'DejaVu Sans Mono',consolas,'Courier New',monospace\"><span style=\"color: #808000; text-decoration-color: #808000; font-weight: bold\">/home/henrykuria/airflow_venv/lib/python3.10/site-packages/pandas/io/sql.py:</span><span style=\"color: #808000; text-decoration-color: #808000; font-weight: bold\">761</span><span style=\"color: #808000; text-decoration-color: #808000; font-weight: bold\"> UserWarning</span><span style=\"color: #808000; text-decoration-color: #808000\">: pandas only support SQLAlchemy </span><span style=\"color: #808000; text-decoration-color: #808000; font-weight: bold\">connectable(</span><span style=\"color: #808000; text-decoration-color: #808000\">engine/connection</span><span style=\"color: #808000; text-decoration-color: #808000; font-weight: bold\">)</span><span style=\"color: #808000; text-decoration-color: #808000\"> ordatabase string URI or sqlite3 DBAPI2 connectionother DBAPI2 objects are not tested, please consider using SQLAlchemy</span>\n</pre>\n"
     },
     "metadata": {},
     "output_type": "display_data"
    },
    {
     "data": {
      "text/plain": "    ROW_ID DIGITAL_CREDIT_PROVIDER_CODE REPORTING_DATE CUSTOMER_ID  \\\n0        1                      0900024    05-Jul-2023         T_7   \n1        2                      0900024    05-Jul-2023         T_7   \n2        3                      0900024    05-Jul-2023        T_16   \n3        4                      0900024    05-Jul-2023        T_19   \n4        5                      0900024    05-Jul-2023         T_7   \n..     ...                          ...            ...         ...   \n95      96                      0900024    05-Jul-2023      T_1001   \n96      97                      0900024    05-Jul-2023      T_2664   \n97      98                      0900024    05-Jul-2023       T_738   \n98      99                      0900024    05-Jul-2023       T_976   \n99     100                      0900024    05-Jul-2023      T_1449   \n\n   LOAN_ACCOUNT_CONTRACT_NUMBER      ACCOUNT_NAME DISBURSEMENT_DATE  \\\n0                           T_1  Geoffrey  Otieno       15-Oct-2020   \n1                          T_30  Geoffrey  Otieno       25-Nov-2020   \n2                           T_2   Lindah  Mugambi       15-Oct-2020   \n3                           T_3  Maureen  Wairimu       16-Oct-2020   \n4                         T_150  Geoffrey  Otieno       12-Apr-2021   \n..                          ...               ...               ...   \n95                       T_2476    JOSIAH  MUTEMI       22-Nov-2021   \n96                       T_2477   simon  wainaina       22-Nov-2021   \n97                       T_2478        Gad  Mangi       22-Nov-2021   \n98                       T_2479  BONIFACE  OTUNGA       22-Nov-2021   \n99                       T_2481     Gladys  Ngugi       22-Nov-2021   \n\n    PRINCIPAL_LOAN_AMOUNT_DISBURSED  OUTSTANDING_LOAN_BALANCE  \\\n0                            2000.0                       0.0   \n1                            3800.0                       0.0   \n2                            4869.0                       0.0   \n3                            2000.0                       0.0   \n4                            5500.0                       0.0   \n..                              ...                       ...   \n95                          10000.0                       0.0   \n96                          12000.0                       0.0   \n97                           3800.0                       0.0   \n98                          10000.0                       0.0   \n99                           2800.0                       0.0   \n\n    DEBIT_INTEREST_RATE  FACILITY_ARRANGEMENT_FEE_CHARGE  \\\n0                     0                            30.00   \n1                     0                            95.00   \n2                     0                           121.73   \n3                     0                            50.00   \n4                     0                           247.00   \n..                  ...                              ...   \n95                    0                           450.00   \n96                    0                           540.00   \n97                    0                           171.00   \n98                    0                           450.00   \n99                    0                           126.00   \n\n    UPFRONT_INTEREST_FEES_CHARGE  COST_OF_WALLET_TRANSFER  \\\n0                              0                        0   \n1                              0                        0   \n2                              0                        0   \n3                              0                        0   \n4                              0                        0   \n..                           ...                      ...   \n95                             0                        0   \n96                             0                        0   \n97                             0                        0   \n98                             0                        0   \n99                             0                        0   \n\n    INSURANCE_FEE_CHARGE  OTHER_CHARGE CHANNEL_TYPE_USED  DIGITAL_LOAN_TENOR  \\\n0                      0          0.00             CHN02                   3   \n1                      0          0.00             CHN02                   7   \n2                      0          0.02             CHN02                   7   \n3                      0         41.00             CHN02                   7   \n4                      0          0.00             CHN02                   7   \n..                   ...           ...               ...                 ...   \n95                     0        262.00             CHN02                   7   \n96                     0          0.00             CHN02                   7   \n97                     0          0.00             CHN02                   7   \n98                     0          0.00             CHN02                   7   \n99                     0         73.00             CHN02                   7   \n\n    INSTALMENT_AMOUNT ACCOUNT_STATUS  \n0             2030.00         CLOSED  \n1             3895.00         CLOSED  \n2             4990.75         CLOSED  \n3             2091.00         CLOSED  \n4             5747.00         CLOSED  \n..                ...            ...  \n95           10712.00         CLOSED  \n96           12540.00         CLOSED  \n97            3971.00         CLOSED  \n98           10450.00         CLOSED  \n99            2999.00         CLOSED  \n\n[100 rows x 19 columns]",
      "text/html": "<div>\n<style scoped>\n    .dataframe tbody tr th:only-of-type {\n        vertical-align: middle;\n    }\n\n    .dataframe tbody tr th {\n        vertical-align: top;\n    }\n\n    .dataframe thead th {\n        text-align: right;\n    }\n</style>\n<table border=\"1\" class=\"dataframe\">\n  <thead>\n    <tr style=\"text-align: right;\">\n      <th></th>\n      <th>ROW_ID</th>\n      <th>DIGITAL_CREDIT_PROVIDER_CODE</th>\n      <th>REPORTING_DATE</th>\n      <th>CUSTOMER_ID</th>\n      <th>LOAN_ACCOUNT_CONTRACT_NUMBER</th>\n      <th>ACCOUNT_NAME</th>\n      <th>DISBURSEMENT_DATE</th>\n      <th>PRINCIPAL_LOAN_AMOUNT_DISBURSED</th>\n      <th>OUTSTANDING_LOAN_BALANCE</th>\n      <th>DEBIT_INTEREST_RATE</th>\n      <th>FACILITY_ARRANGEMENT_FEE_CHARGE</th>\n      <th>UPFRONT_INTEREST_FEES_CHARGE</th>\n      <th>COST_OF_WALLET_TRANSFER</th>\n      <th>INSURANCE_FEE_CHARGE</th>\n      <th>OTHER_CHARGE</th>\n      <th>CHANNEL_TYPE_USED</th>\n      <th>DIGITAL_LOAN_TENOR</th>\n      <th>INSTALMENT_AMOUNT</th>\n      <th>ACCOUNT_STATUS</th>\n    </tr>\n  </thead>\n  <tbody>\n    <tr>\n      <th>0</th>\n      <td>1</td>\n      <td>0900024</td>\n      <td>05-Jul-2023</td>\n      <td>T_7</td>\n      <td>T_1</td>\n      <td>Geoffrey  Otieno</td>\n      <td>15-Oct-2020</td>\n      <td>2000.0</td>\n      <td>0.0</td>\n      <td>0</td>\n      <td>30.00</td>\n      <td>0</td>\n      <td>0</td>\n      <td>0</td>\n      <td>0.00</td>\n      <td>CHN02</td>\n      <td>3</td>\n      <td>2030.00</td>\n      <td>CLOSED</td>\n    </tr>\n    <tr>\n      <th>1</th>\n      <td>2</td>\n      <td>0900024</td>\n      <td>05-Jul-2023</td>\n      <td>T_7</td>\n      <td>T_30</td>\n      <td>Geoffrey  Otieno</td>\n      <td>25-Nov-2020</td>\n      <td>3800.0</td>\n      <td>0.0</td>\n      <td>0</td>\n      <td>95.00</td>\n      <td>0</td>\n      <td>0</td>\n      <td>0</td>\n      <td>0.00</td>\n      <td>CHN02</td>\n      <td>7</td>\n      <td>3895.00</td>\n      <td>CLOSED</td>\n    </tr>\n    <tr>\n      <th>2</th>\n      <td>3</td>\n      <td>0900024</td>\n      <td>05-Jul-2023</td>\n      <td>T_16</td>\n      <td>T_2</td>\n      <td>Lindah  Mugambi</td>\n      <td>15-Oct-2020</td>\n      <td>4869.0</td>\n      <td>0.0</td>\n      <td>0</td>\n      <td>121.73</td>\n      <td>0</td>\n      <td>0</td>\n      <td>0</td>\n      <td>0.02</td>\n      <td>CHN02</td>\n      <td>7</td>\n      <td>4990.75</td>\n      <td>CLOSED</td>\n    </tr>\n    <tr>\n      <th>3</th>\n      <td>4</td>\n      <td>0900024</td>\n      <td>05-Jul-2023</td>\n      <td>T_19</td>\n      <td>T_3</td>\n      <td>Maureen  Wairimu</td>\n      <td>16-Oct-2020</td>\n      <td>2000.0</td>\n      <td>0.0</td>\n      <td>0</td>\n      <td>50.00</td>\n      <td>0</td>\n      <td>0</td>\n      <td>0</td>\n      <td>41.00</td>\n      <td>CHN02</td>\n      <td>7</td>\n      <td>2091.00</td>\n      <td>CLOSED</td>\n    </tr>\n    <tr>\n      <th>4</th>\n      <td>5</td>\n      <td>0900024</td>\n      <td>05-Jul-2023</td>\n      <td>T_7</td>\n      <td>T_150</td>\n      <td>Geoffrey  Otieno</td>\n      <td>12-Apr-2021</td>\n      <td>5500.0</td>\n      <td>0.0</td>\n      <td>0</td>\n      <td>247.00</td>\n      <td>0</td>\n      <td>0</td>\n      <td>0</td>\n      <td>0.00</td>\n      <td>CHN02</td>\n      <td>7</td>\n      <td>5747.00</td>\n      <td>CLOSED</td>\n    </tr>\n    <tr>\n      <th>...</th>\n      <td>...</td>\n      <td>...</td>\n      <td>...</td>\n      <td>...</td>\n      <td>...</td>\n      <td>...</td>\n      <td>...</td>\n      <td>...</td>\n      <td>...</td>\n      <td>...</td>\n      <td>...</td>\n      <td>...</td>\n      <td>...</td>\n      <td>...</td>\n      <td>...</td>\n      <td>...</td>\n      <td>...</td>\n      <td>...</td>\n      <td>...</td>\n    </tr>\n    <tr>\n      <th>95</th>\n      <td>96</td>\n      <td>0900024</td>\n      <td>05-Jul-2023</td>\n      <td>T_1001</td>\n      <td>T_2476</td>\n      <td>JOSIAH  MUTEMI</td>\n      <td>22-Nov-2021</td>\n      <td>10000.0</td>\n      <td>0.0</td>\n      <td>0</td>\n      <td>450.00</td>\n      <td>0</td>\n      <td>0</td>\n      <td>0</td>\n      <td>262.00</td>\n      <td>CHN02</td>\n      <td>7</td>\n      <td>10712.00</td>\n      <td>CLOSED</td>\n    </tr>\n    <tr>\n      <th>96</th>\n      <td>97</td>\n      <td>0900024</td>\n      <td>05-Jul-2023</td>\n      <td>T_2664</td>\n      <td>T_2477</td>\n      <td>simon  wainaina</td>\n      <td>22-Nov-2021</td>\n      <td>12000.0</td>\n      <td>0.0</td>\n      <td>0</td>\n      <td>540.00</td>\n      <td>0</td>\n      <td>0</td>\n      <td>0</td>\n      <td>0.00</td>\n      <td>CHN02</td>\n      <td>7</td>\n      <td>12540.00</td>\n      <td>CLOSED</td>\n    </tr>\n    <tr>\n      <th>97</th>\n      <td>98</td>\n      <td>0900024</td>\n      <td>05-Jul-2023</td>\n      <td>T_738</td>\n      <td>T_2478</td>\n      <td>Gad  Mangi</td>\n      <td>22-Nov-2021</td>\n      <td>3800.0</td>\n      <td>0.0</td>\n      <td>0</td>\n      <td>171.00</td>\n      <td>0</td>\n      <td>0</td>\n      <td>0</td>\n      <td>0.00</td>\n      <td>CHN02</td>\n      <td>7</td>\n      <td>3971.00</td>\n      <td>CLOSED</td>\n    </tr>\n    <tr>\n      <th>98</th>\n      <td>99</td>\n      <td>0900024</td>\n      <td>05-Jul-2023</td>\n      <td>T_976</td>\n      <td>T_2479</td>\n      <td>BONIFACE  OTUNGA</td>\n      <td>22-Nov-2021</td>\n      <td>10000.0</td>\n      <td>0.0</td>\n      <td>0</td>\n      <td>450.00</td>\n      <td>0</td>\n      <td>0</td>\n      <td>0</td>\n      <td>0.00</td>\n      <td>CHN02</td>\n      <td>7</td>\n      <td>10450.00</td>\n      <td>CLOSED</td>\n    </tr>\n    <tr>\n      <th>99</th>\n      <td>100</td>\n      <td>0900024</td>\n      <td>05-Jul-2023</td>\n      <td>T_1449</td>\n      <td>T_2481</td>\n      <td>Gladys  Ngugi</td>\n      <td>22-Nov-2021</td>\n      <td>2800.0</td>\n      <td>0.0</td>\n      <td>0</td>\n      <td>126.00</td>\n      <td>0</td>\n      <td>0</td>\n      <td>0</td>\n      <td>73.00</td>\n      <td>CHN02</td>\n      <td>7</td>\n      <td>2999.00</td>\n      <td>CLOSED</td>\n    </tr>\n  </tbody>\n</table>\n<p>100 rows × 19 columns</p>\n</div>"
     },
     "execution_count": 3,
     "metadata": {},
     "output_type": "execute_result"
    }
   ],
   "source": [
    "warehouse_hook.get_pandas_df(\n",
    "    sql=\"\"\"\n",
    "    -- Digital Loans Account Data\n",
    "    select\n",
    "        row_number() over () as \"ROW_ID\",\n",
    "        '0900024' as \"DIGITAL_CREDIT_PROVIDER_CODE\",\n",
    "        to_char(current_date, 'DD-Mon-YYYY') as \"REPORTING_DATE\", -- cannot be in format 'DD-Mon-YYYY' and still be dtype date\n",
    "        concat('T_', cmsv.mifos_id) as \"CUSTOMER_ID\",\n",
    "        concat('T_', lftmsv.loan_mifos_id) as \"LOAN_ACCOUNT_CONTRACT_NUMBER\",\n",
    "        concat(cmsv.first_name, ' ', cmsv.middle_name, ' ', cmsv.last_name) as \"ACCOUNT_NAME\",\n",
    "        to_char(disbursed_on_date, 'DD-Mon-YYYY') as \"DISBURSEMENT_DATE\", -- cannot be in format 'DD-Mon-YYYY' and still be dtype date\n",
    "        coalesce(principal_disbursed, 0) as \"PRINCIPAL_LOAN_AMOUNT_DISBURSED\",\n",
    "        coalesce(total_outstanding, 0) as \"OUTSTANDING_LOAN_BALANCE\",\n",
    "        0 as \"DEBIT_INTEREST_RATE\",\n",
    "        coalesce(interest_charged, 0) as \"FACILITY_ARRANGEMENT_FEE_CHARGE\",\n",
    "        0 as \"UPFRONT_INTEREST_FEES_CHARGE\",\n",
    "        0 as \"COST_OF_WALLET_TRANSFER\", --except for Solv\n",
    "        0 as \"INSURANCE_FEE_CHARGE\",\n",
    "        coalesce(fee_charges_charged + penalty_charges_charged, 0) as \"OTHER_CHARGE\",\n",
    "        dct.code as \"CHANNEL_TYPE_USED\",\n",
    "        pd.repay_every as \"DIGITAL_LOAN_TENOR\",\n",
    "        coalesce(total_expected_repayment, 0) as \"INSTALMENT_AMOUNT\",\n",
    "        ast.code as \"ACCOUNT_STATUS\"\n",
    "    from tanda.loans_fact_table_summary_view lftmsv\n",
    "    inner join tanda.client_summary_view cmsv on lftmsv.client_surrogate_id = cmsv.surrogate_id\n",
    "    inner join tanda.product_dimension pd on lftmsv.product_surrogate_id = pd.surrogate_id\n",
    "    inner join tanda.loan_status_dimension lsd on lftmsv.loan_status_surrogate_id = lsd.surrogate_id\n",
    "    inner join central_bank_of_kenya.digital_channel_types dct on dct.\"type\" = 'USSD'\n",
    "    inner join central_bank_of_kenya.account_status_types ast on ast.\"type\" = lsd.message\n",
    "    where loan_status in (300, 600, 700)\n",
    "    limit 100\n",
    "    \"\"\"\n",
    ")#.to_csv('~/data/Digital Loans Account Data Sample TANDA.csv', index=False)"
   ],
   "metadata": {
    "collapsed": false
   }
  },
  {
   "cell_type": "markdown",
   "source": [
    "### Overdue (Non-Performing) Digital Loans"
   ],
   "metadata": {
    "collapsed": false
   }
  },
  {
   "cell_type": "code",
   "execution_count": 12,
   "outputs": [
    {
     "name": "stdout",
     "output_type": "stream",
     "text": [
      "[\u001B[34m2023-07-05 10:02:46,270\u001B[0m] {\u001B[34mbase.py:\u001B[0m73} INFO\u001B[0m - Using connection ID 'rds_afsg_ds_prod_postgresql_dwh' for task execution.\u001B[0m\n"
     ]
    },
    {
     "data": {
      "text/plain": "\u001B[1;33m/home/henrykuria/airflow_venv/lib/python3.10/site-packages/pandas/io/\u001B[0m\u001B[1;33msql.py\u001B[0m\u001B[1;33m:\u001B[0m\u001B[1;33m761\u001B[0m\u001B[1;33m UserWarning\u001B[0m\u001B[33m: pandas only support SQLAlchemy \u001B[0m\u001B[1;33mconnectable\u001B[0m\u001B[1;33m(\u001B[0m\u001B[33mengine/connection\u001B[0m\u001B[1;33m)\u001B[0m\u001B[33m ordatabase string URI or sqlite3 DBAPI2 connectionother DBAPI2 objects are not tested, please consider using SQLAlchemy\u001B[0m\n",
      "text/html": "<pre style=\"white-space:pre;overflow-x:auto;line-height:normal;font-family:Menlo,'DejaVu Sans Mono',consolas,'Courier New',monospace\"><span style=\"color: #808000; text-decoration-color: #808000; font-weight: bold\">/home/henrykuria/airflow_venv/lib/python3.10/site-packages/pandas/io/sql.py:</span><span style=\"color: #808000; text-decoration-color: #808000; font-weight: bold\">761</span><span style=\"color: #808000; text-decoration-color: #808000; font-weight: bold\"> UserWarning</span><span style=\"color: #808000; text-decoration-color: #808000\">: pandas only support SQLAlchemy </span><span style=\"color: #808000; text-decoration-color: #808000; font-weight: bold\">connectable(</span><span style=\"color: #808000; text-decoration-color: #808000\">engine/connection</span><span style=\"color: #808000; text-decoration-color: #808000; font-weight: bold\">)</span><span style=\"color: #808000; text-decoration-color: #808000\"> ordatabase string URI or sqlite3 DBAPI2 connectionother DBAPI2 objects are not tested, please consider using SQLAlchemy</span>\n</pre>\n"
     },
     "metadata": {},
     "output_type": "display_data"
    },
    {
     "data": {
      "text/plain": "    ROW_ID DIGITAL_CREDIT_PROVIDER_CODE REPORTING_DATE CUSTOMER_ID  \\\n0        1                      0900024    05-Jul-2023      T_2310   \n1        2                      0900024    05-Jul-2023      T_1515   \n2        3                      0900024    05-Jul-2023       T_765   \n3        4                      0900024    05-Jul-2023      T_3213   \n4        5                      0900024    05-Jul-2023      T_2468   \n..     ...                          ...            ...         ...   \n95      96                      0900024    05-Jul-2023      T_2333   \n96      97                      0900024    05-Jul-2023      T_1001   \n97      98                      0900024    05-Jul-2023      T_3466   \n98      99                      0900024    05-Jul-2023      T_3496   \n99     100                      0900024    05-Jul-2023      T_1119   \n\n   LOAN_ACCOUNT_CONTRACT_NUMBER OVERDUE_DATE  PRINCIPAL_ARREARS_AMOUNT  \\\n0                        T_1230  30-Dec-2021                   10000.0   \n1                         T_317  16-Oct-2021                    2800.0   \n2                         T_699  25-Nov-2021                     184.0   \n3                        T_1274  02-Jan-2022                    2100.0   \n4                        T_1299  02-Jan-2022                   10000.0   \n..                          ...          ...                       ...   \n95                       T_2945  26-Mar-2022                   15000.0   \n96                       T_3143  08-Apr-2022                   14200.0   \n97                       T_2888  22-Mar-2022                    7679.0   \n98                       T_3161  10-Apr-2022                   10000.0   \n99                       T_3169  10-Apr-2022                    6200.0   \n\n    TOTAL_OUTSTANDING_AMOUNT  \n0                    12933.0  \n1                     3378.0  \n2                      184.0  \n3                     2873.0  \n4                    10549.0  \n..                       ...  \n95                   20420.0  \n96                   17596.0  \n97                    7679.0  \n98                   13874.0  \n99                    8547.0  \n\n[100 rows x 8 columns]",
      "text/html": "<div>\n<style scoped>\n    .dataframe tbody tr th:only-of-type {\n        vertical-align: middle;\n    }\n\n    .dataframe tbody tr th {\n        vertical-align: top;\n    }\n\n    .dataframe thead th {\n        text-align: right;\n    }\n</style>\n<table border=\"1\" class=\"dataframe\">\n  <thead>\n    <tr style=\"text-align: right;\">\n      <th></th>\n      <th>ROW_ID</th>\n      <th>DIGITAL_CREDIT_PROVIDER_CODE</th>\n      <th>REPORTING_DATE</th>\n      <th>CUSTOMER_ID</th>\n      <th>LOAN_ACCOUNT_CONTRACT_NUMBER</th>\n      <th>OVERDUE_DATE</th>\n      <th>PRINCIPAL_ARREARS_AMOUNT</th>\n      <th>TOTAL_OUTSTANDING_AMOUNT</th>\n    </tr>\n  </thead>\n  <tbody>\n    <tr>\n      <th>0</th>\n      <td>1</td>\n      <td>0900024</td>\n      <td>05-Jul-2023</td>\n      <td>T_2310</td>\n      <td>T_1230</td>\n      <td>30-Dec-2021</td>\n      <td>10000.0</td>\n      <td>12933.0</td>\n    </tr>\n    <tr>\n      <th>1</th>\n      <td>2</td>\n      <td>0900024</td>\n      <td>05-Jul-2023</td>\n      <td>T_1515</td>\n      <td>T_317</td>\n      <td>16-Oct-2021</td>\n      <td>2800.0</td>\n      <td>3378.0</td>\n    </tr>\n    <tr>\n      <th>2</th>\n      <td>3</td>\n      <td>0900024</td>\n      <td>05-Jul-2023</td>\n      <td>T_765</td>\n      <td>T_699</td>\n      <td>25-Nov-2021</td>\n      <td>184.0</td>\n      <td>184.0</td>\n    </tr>\n    <tr>\n      <th>3</th>\n      <td>4</td>\n      <td>0900024</td>\n      <td>05-Jul-2023</td>\n      <td>T_3213</td>\n      <td>T_1274</td>\n      <td>02-Jan-2022</td>\n      <td>2100.0</td>\n      <td>2873.0</td>\n    </tr>\n    <tr>\n      <th>4</th>\n      <td>5</td>\n      <td>0900024</td>\n      <td>05-Jul-2023</td>\n      <td>T_2468</td>\n      <td>T_1299</td>\n      <td>02-Jan-2022</td>\n      <td>10000.0</td>\n      <td>10549.0</td>\n    </tr>\n    <tr>\n      <th>...</th>\n      <td>...</td>\n      <td>...</td>\n      <td>...</td>\n      <td>...</td>\n      <td>...</td>\n      <td>...</td>\n      <td>...</td>\n      <td>...</td>\n    </tr>\n    <tr>\n      <th>95</th>\n      <td>96</td>\n      <td>0900024</td>\n      <td>05-Jul-2023</td>\n      <td>T_2333</td>\n      <td>T_2945</td>\n      <td>26-Mar-2022</td>\n      <td>15000.0</td>\n      <td>20420.0</td>\n    </tr>\n    <tr>\n      <th>96</th>\n      <td>97</td>\n      <td>0900024</td>\n      <td>05-Jul-2023</td>\n      <td>T_1001</td>\n      <td>T_3143</td>\n      <td>08-Apr-2022</td>\n      <td>14200.0</td>\n      <td>17596.0</td>\n    </tr>\n    <tr>\n      <th>97</th>\n      <td>98</td>\n      <td>0900024</td>\n      <td>05-Jul-2023</td>\n      <td>T_3466</td>\n      <td>T_2888</td>\n      <td>22-Mar-2022</td>\n      <td>7679.0</td>\n      <td>7679.0</td>\n    </tr>\n    <tr>\n      <th>98</th>\n      <td>99</td>\n      <td>0900024</td>\n      <td>05-Jul-2023</td>\n      <td>T_3496</td>\n      <td>T_3161</td>\n      <td>10-Apr-2022</td>\n      <td>10000.0</td>\n      <td>13874.0</td>\n    </tr>\n    <tr>\n      <th>99</th>\n      <td>100</td>\n      <td>0900024</td>\n      <td>05-Jul-2023</td>\n      <td>T_1119</td>\n      <td>T_3169</td>\n      <td>10-Apr-2022</td>\n      <td>6200.0</td>\n      <td>8547.0</td>\n    </tr>\n  </tbody>\n</table>\n<p>100 rows × 8 columns</p>\n</div>"
     },
     "execution_count": 12,
     "metadata": {},
     "output_type": "execute_result"
    }
   ],
   "source": [
    "warehouse_hook.get_pandas_df(\n",
    "    sql=\"\"\"\n",
    "    -- Overdue (Non-Performing) Digital Loans\n",
    "    select\n",
    "        row_number() over () as \"ROW_ID\",\n",
    "        '0900024' as \"DIGITAL_CREDIT_PROVIDER_CODE\",\n",
    "        to_char(current_date, 'DD-Mon-YYYY') as \"REPORTING_DATE\", -- cannot be in format 'DD-Mon-YYYY' and still be dtype date\n",
    "        concat('T_', cmsv.mifos_id) as \"CUSTOMER_ID\",\n",
    "        concat('T_', lftmsv.loan_mifos_id) as \"LOAN_ACCOUNT_CONTRACT_NUMBER\",\n",
    "        to_char(expected_matured_on_date + '90 day'::interval, 'DD-Mon-YYYY') as \"OVERDUE_DATE\", -- cannot be in format 'DD-Mon-YYYY' and still be dtype date\n",
    "        coalesce(principal_outstanding, 0) as \"PRINCIPAL_ARREARS_AMOUNT\",\n",
    "        coalesce(total_outstanding, 0) as \"TOTAL_OUTSTANDING_AMOUNT\"\n",
    "    from tanda.loans_fact_table_summary_view lftmsv\n",
    "    inner join tanda.client_summary_view cmsv on lftmsv.client_surrogate_id = cmsv.surrogate_id\n",
    "    where current_date - (expected_matured_on_date + '90 day'::interval)::date >= 1 and loan_status = 300\n",
    "    limit 100\n",
    "    \"\"\"\n",
    ")##.to_csv('~/data/Overdue (Non-Performing) Digital Loans Sample TANDA.csv', index=False)"
   ],
   "metadata": {
    "collapsed": false
   }
  },
  {
   "cell_type": "markdown",
   "source": [
    "### Digital Loan Repayments Data"
   ],
   "metadata": {
    "collapsed": false
   }
  },
  {
   "cell_type": "code",
   "execution_count": 7,
   "outputs": [
    {
     "name": "stdout",
     "output_type": "stream",
     "text": [
      "[\u001B[34m2023-07-05 09:25:18,531\u001B[0m] {\u001B[34mbase.py:\u001B[0m73} INFO\u001B[0m - Using connection ID 'rds_afsg_ds_prod_postgresql_dwh' for task execution.\u001B[0m\n"
     ]
    },
    {
     "data": {
      "text/plain": "\u001B[1;33m/home/henrykuria/airflow_venv/lib/python3.10/site-packages/pandas/io/\u001B[0m\u001B[1;33msql.py\u001B[0m\u001B[1;33m:\u001B[0m\u001B[1;33m761\u001B[0m\u001B[1;33m UserWarning\u001B[0m\u001B[33m: pandas only support SQLAlchemy \u001B[0m\u001B[1;33mconnectable\u001B[0m\u001B[1;33m(\u001B[0m\u001B[33mengine/connection\u001B[0m\u001B[1;33m)\u001B[0m\u001B[33m ordatabase string URI or sqlite3 DBAPI2 connectionother DBAPI2 objects are not tested, please consider using SQLAlchemy\u001B[0m\n",
      "text/html": "<pre style=\"white-space:pre;overflow-x:auto;line-height:normal;font-family:Menlo,'DejaVu Sans Mono',consolas,'Courier New',monospace\"><span style=\"color: #808000; text-decoration-color: #808000; font-weight: bold\">/home/henrykuria/airflow_venv/lib/python3.10/site-packages/pandas/io/sql.py:</span><span style=\"color: #808000; text-decoration-color: #808000; font-weight: bold\">761</span><span style=\"color: #808000; text-decoration-color: #808000; font-weight: bold\"> UserWarning</span><span style=\"color: #808000; text-decoration-color: #808000\">: pandas only support SQLAlchemy </span><span style=\"color: #808000; text-decoration-color: #808000; font-weight: bold\">connectable(</span><span style=\"color: #808000; text-decoration-color: #808000\">engine/connection</span><span style=\"color: #808000; text-decoration-color: #808000; font-weight: bold\">)</span><span style=\"color: #808000; text-decoration-color: #808000\"> ordatabase string URI or sqlite3 DBAPI2 connectionother DBAPI2 objects are not tested, please consider using SQLAlchemy</span>\n</pre>\n"
     },
     "metadata": {},
     "output_type": "display_data"
    },
    {
     "data": {
      "text/plain": "    ROW_ID DIGITAL_CREDIT_PROVIDER_CODE REPORTING_DATE CUSTOMER_ID  \\\n0        1                      0900024    05-Jul-2023        T_83   \n1        2                      0900024    05-Jul-2023      T_3387   \n2        3                      0900024    05-Jul-2023        T_27   \n3        4                      0900024    05-Jul-2023        T_39   \n4        5                      0900024    05-Jul-2023       T_895   \n..     ...                          ...            ...         ...   \n95      96                      0900024    05-Jul-2023      T_1338   \n96      97                      0900024    05-Jul-2023      T_4970   \n97      98                      0900024    05-Jul-2023      T_4970   \n98      99                      0900024    05-Jul-2023      T_4970   \n99     100                      0900024    05-Jul-2023      T_8480   \n\n   LOAN_ACCOUNT_CONTRACT_NUMBER  OUTSTANDING_LOAN_BALANCE  \\\n0                         T_254                    1208.0   \n1                        T_1266                      11.0   \n2                        T_1432                    8000.0   \n3                        T_1430                     442.0   \n4                        T_2173                       0.0   \n..                          ...                       ...   \n95                      T_10387                   18200.0   \n96                      T_11981                    2223.0   \n97                      T_12055                   16634.0   \n98                      T_12055                   18857.0   \n99                      T_11391                    7478.0   \n\n    ACCRUED_INTEREST_BALANCE  INTEREST_CHARGED_ON_REPAYMENT  \\\n0                        0.0                              0   \n1                        0.0                              0   \n2                        0.0                              0   \n3                        0.0                              0   \n4                        0.0                              0   \n..                       ...                            ...   \n95                     983.0                              0   \n96                       0.0                              0   \n97                       0.0                              0   \n98                       0.0                              0   \n99                       0.0                              0   \n\n    LATE_PAYMENT_FEE_CHARGE LOAN_REPAYMENT_DATE  PRINCIPAL_LOAN_AMOUNT_REPAID  \n0                       0.0         05-Jul-2021                        8792.0  \n1                       0.0         04-Oct-2021                        2500.0  \n2                       0.0         04-Oct-2021                           0.0  \n3                       0.0         13-Oct-2021                        4137.0  \n4                       0.0         16-Nov-2021                        2000.0  \n..                      ...                 ...                           ...  \n95                      0.0         02-Mar-2023                           0.0  \n96                   2323.0         16-Apr-2023                       17777.0  \n97                      0.0         17-Apr-2023                        2223.0  \n98                      0.0         17-Apr-2023                        1143.0  \n99                    570.0         23-Mar-2023                        1922.0  \n\n[100 rows x 11 columns]",
      "text/html": "<div>\n<style scoped>\n    .dataframe tbody tr th:only-of-type {\n        vertical-align: middle;\n    }\n\n    .dataframe tbody tr th {\n        vertical-align: top;\n    }\n\n    .dataframe thead th {\n        text-align: right;\n    }\n</style>\n<table border=\"1\" class=\"dataframe\">\n  <thead>\n    <tr style=\"text-align: right;\">\n      <th></th>\n      <th>ROW_ID</th>\n      <th>DIGITAL_CREDIT_PROVIDER_CODE</th>\n      <th>REPORTING_DATE</th>\n      <th>CUSTOMER_ID</th>\n      <th>LOAN_ACCOUNT_CONTRACT_NUMBER</th>\n      <th>OUTSTANDING_LOAN_BALANCE</th>\n      <th>ACCRUED_INTEREST_BALANCE</th>\n      <th>INTEREST_CHARGED_ON_REPAYMENT</th>\n      <th>LATE_PAYMENT_FEE_CHARGE</th>\n      <th>LOAN_REPAYMENT_DATE</th>\n      <th>PRINCIPAL_LOAN_AMOUNT_REPAID</th>\n    </tr>\n  </thead>\n  <tbody>\n    <tr>\n      <th>0</th>\n      <td>1</td>\n      <td>0900024</td>\n      <td>05-Jul-2023</td>\n      <td>T_83</td>\n      <td>T_254</td>\n      <td>1208.0</td>\n      <td>0.0</td>\n      <td>0</td>\n      <td>0.0</td>\n      <td>05-Jul-2021</td>\n      <td>8792.0</td>\n    </tr>\n    <tr>\n      <th>1</th>\n      <td>2</td>\n      <td>0900024</td>\n      <td>05-Jul-2023</td>\n      <td>T_3387</td>\n      <td>T_1266</td>\n      <td>11.0</td>\n      <td>0.0</td>\n      <td>0</td>\n      <td>0.0</td>\n      <td>04-Oct-2021</td>\n      <td>2500.0</td>\n    </tr>\n    <tr>\n      <th>2</th>\n      <td>3</td>\n      <td>0900024</td>\n      <td>05-Jul-2023</td>\n      <td>T_27</td>\n      <td>T_1432</td>\n      <td>8000.0</td>\n      <td>0.0</td>\n      <td>0</td>\n      <td>0.0</td>\n      <td>04-Oct-2021</td>\n      <td>0.0</td>\n    </tr>\n    <tr>\n      <th>3</th>\n      <td>4</td>\n      <td>0900024</td>\n      <td>05-Jul-2023</td>\n      <td>T_39</td>\n      <td>T_1430</td>\n      <td>442.0</td>\n      <td>0.0</td>\n      <td>0</td>\n      <td>0.0</td>\n      <td>13-Oct-2021</td>\n      <td>4137.0</td>\n    </tr>\n    <tr>\n      <th>4</th>\n      <td>5</td>\n      <td>0900024</td>\n      <td>05-Jul-2023</td>\n      <td>T_895</td>\n      <td>T_2173</td>\n      <td>0.0</td>\n      <td>0.0</td>\n      <td>0</td>\n      <td>0.0</td>\n      <td>16-Nov-2021</td>\n      <td>2000.0</td>\n    </tr>\n    <tr>\n      <th>...</th>\n      <td>...</td>\n      <td>...</td>\n      <td>...</td>\n      <td>...</td>\n      <td>...</td>\n      <td>...</td>\n      <td>...</td>\n      <td>...</td>\n      <td>...</td>\n      <td>...</td>\n      <td>...</td>\n    </tr>\n    <tr>\n      <th>95</th>\n      <td>96</td>\n      <td>0900024</td>\n      <td>05-Jul-2023</td>\n      <td>T_1338</td>\n      <td>T_10387</td>\n      <td>18200.0</td>\n      <td>983.0</td>\n      <td>0</td>\n      <td>0.0</td>\n      <td>02-Mar-2023</td>\n      <td>0.0</td>\n    </tr>\n    <tr>\n      <th>96</th>\n      <td>97</td>\n      <td>0900024</td>\n      <td>05-Jul-2023</td>\n      <td>T_4970</td>\n      <td>T_11981</td>\n      <td>2223.0</td>\n      <td>0.0</td>\n      <td>0</td>\n      <td>2323.0</td>\n      <td>16-Apr-2023</td>\n      <td>17777.0</td>\n    </tr>\n    <tr>\n      <th>97</th>\n      <td>98</td>\n      <td>0900024</td>\n      <td>05-Jul-2023</td>\n      <td>T_4970</td>\n      <td>T_12055</td>\n      <td>16634.0</td>\n      <td>0.0</td>\n      <td>0</td>\n      <td>0.0</td>\n      <td>17-Apr-2023</td>\n      <td>2223.0</td>\n    </tr>\n    <tr>\n      <th>98</th>\n      <td>99</td>\n      <td>0900024</td>\n      <td>05-Jul-2023</td>\n      <td>T_4970</td>\n      <td>T_12055</td>\n      <td>18857.0</td>\n      <td>0.0</td>\n      <td>0</td>\n      <td>0.0</td>\n      <td>17-Apr-2023</td>\n      <td>1143.0</td>\n    </tr>\n    <tr>\n      <th>99</th>\n      <td>100</td>\n      <td>0900024</td>\n      <td>05-Jul-2023</td>\n      <td>T_8480</td>\n      <td>T_11391</td>\n      <td>7478.0</td>\n      <td>0.0</td>\n      <td>0</td>\n      <td>570.0</td>\n      <td>23-Mar-2023</td>\n      <td>1922.0</td>\n    </tr>\n  </tbody>\n</table>\n<p>100 rows × 11 columns</p>\n</div>"
     },
     "execution_count": 6,
     "metadata": {},
     "output_type": "execute_result"
    },
    {
     "name": "stdout",
     "output_type": "stream",
     "text": [
      "[\u001B[34m2023-07-05 09:25:21,915\u001B[0m] {\u001B[34mbase.py:\u001B[0m73} INFO\u001B[0m - Using connection ID 'rds_afsg_ds_prod_postgresql_dwh' for task execution.\u001B[0m\n"
     ]
    },
    {
     "data": {
      "text/plain": "\u001B[1;33m/home/henrykuria/airflow_venv/lib/python3.10/site-packages/pandas/io/\u001B[0m\u001B[1;33msql.py\u001B[0m\u001B[1;33m:\u001B[0m\u001B[1;33m761\u001B[0m\u001B[1;33m UserWarning\u001B[0m\u001B[33m: pandas only support SQLAlchemy \u001B[0m\u001B[1;33mconnectable\u001B[0m\u001B[1;33m(\u001B[0m\u001B[33mengine/connection\u001B[0m\u001B[1;33m)\u001B[0m\u001B[33m ordatabase string URI or sqlite3 DBAPI2 connectionother DBAPI2 objects are not tested, please consider using SQLAlchemy\u001B[0m\n",
      "text/html": "<pre style=\"white-space:pre;overflow-x:auto;line-height:normal;font-family:Menlo,'DejaVu Sans Mono',consolas,'Courier New',monospace\"><span style=\"color: #808000; text-decoration-color: #808000; font-weight: bold\">/home/henrykuria/airflow_venv/lib/python3.10/site-packages/pandas/io/sql.py:</span><span style=\"color: #808000; text-decoration-color: #808000; font-weight: bold\">761</span><span style=\"color: #808000; text-decoration-color: #808000; font-weight: bold\"> UserWarning</span><span style=\"color: #808000; text-decoration-color: #808000\">: pandas only support SQLAlchemy </span><span style=\"color: #808000; text-decoration-color: #808000; font-weight: bold\">connectable(</span><span style=\"color: #808000; text-decoration-color: #808000\">engine/connection</span><span style=\"color: #808000; text-decoration-color: #808000; font-weight: bold\">)</span><span style=\"color: #808000; text-decoration-color: #808000\"> ordatabase string URI or sqlite3 DBAPI2 connectionother DBAPI2 objects are not tested, please consider using SQLAlchemy</span>\n</pre>\n"
     },
     "metadata": {},
     "output_type": "display_data"
    },
    {
     "data": {
      "text/plain": "    ROW_ID DIGITAL_CREDIT_PROVIDER_CODE REPORTING_DATE CUSTOMER_ID  \\\n0        1                      0900024    05-Jul-2023        T_83   \n1        2                      0900024    05-Jul-2023      T_3387   \n2        3                      0900024    05-Jul-2023        T_27   \n3        4                      0900024    05-Jul-2023        T_39   \n4        5                      0900024    05-Jul-2023       T_895   \n..     ...                          ...            ...         ...   \n95      96                      0900024    05-Jul-2023      T_1338   \n96      97                      0900024    05-Jul-2023      T_4970   \n97      98                      0900024    05-Jul-2023      T_4970   \n98      99                      0900024    05-Jul-2023      T_4970   \n99     100                      0900024    05-Jul-2023      T_8480   \n\n   LOAN_ACCOUNT_CONTRACT_NUMBER  OUTSTANDING_LOAN_BALANCE  \\\n0                         T_254                    1208.0   \n1                        T_1266                      11.0   \n2                        T_1432                    8000.0   \n3                        T_1430                     442.0   \n4                        T_2173                       0.0   \n..                          ...                       ...   \n95                      T_10387                   18200.0   \n96                      T_11981                    2223.0   \n97                      T_12055                   16634.0   \n98                      T_12055                   18857.0   \n99                      T_11391                    7478.0   \n\n    ACCRUED_INTEREST_BALANCE  INTEREST_CHARGED_ON_REPAYMENT  \\\n0                        0.0                              0   \n1                        0.0                              0   \n2                        0.0                              0   \n3                        0.0                              0   \n4                        0.0                              0   \n..                       ...                            ...   \n95                     983.0                              0   \n96                       0.0                              0   \n97                       0.0                              0   \n98                       0.0                              0   \n99                       0.0                              0   \n\n    LATE_PAYMENT_FEE_CHARGE LOAN_REPAYMENT_DATE  PRINCIPAL_LOAN_AMOUNT_REPAID  \n0                       0.0         05-Jul-2021                        8792.0  \n1                       0.0         04-Oct-2021                        2500.0  \n2                       0.0         04-Oct-2021                           0.0  \n3                       0.0         13-Oct-2021                        4137.0  \n4                       0.0         16-Nov-2021                        2000.0  \n..                      ...                 ...                           ...  \n95                      0.0         02-Mar-2023                           0.0  \n96                   2323.0         16-Apr-2023                       17777.0  \n97                      0.0         17-Apr-2023                        2223.0  \n98                      0.0         17-Apr-2023                        1143.0  \n99                    570.0         23-Mar-2023                        1922.0  \n\n[100 rows x 11 columns]",
      "text/html": "<div>\n<style scoped>\n    .dataframe tbody tr th:only-of-type {\n        vertical-align: middle;\n    }\n\n    .dataframe tbody tr th {\n        vertical-align: top;\n    }\n\n    .dataframe thead th {\n        text-align: right;\n    }\n</style>\n<table border=\"1\" class=\"dataframe\">\n  <thead>\n    <tr style=\"text-align: right;\">\n      <th></th>\n      <th>ROW_ID</th>\n      <th>DIGITAL_CREDIT_PROVIDER_CODE</th>\n      <th>REPORTING_DATE</th>\n      <th>CUSTOMER_ID</th>\n      <th>LOAN_ACCOUNT_CONTRACT_NUMBER</th>\n      <th>OUTSTANDING_LOAN_BALANCE</th>\n      <th>ACCRUED_INTEREST_BALANCE</th>\n      <th>INTEREST_CHARGED_ON_REPAYMENT</th>\n      <th>LATE_PAYMENT_FEE_CHARGE</th>\n      <th>LOAN_REPAYMENT_DATE</th>\n      <th>PRINCIPAL_LOAN_AMOUNT_REPAID</th>\n    </tr>\n  </thead>\n  <tbody>\n    <tr>\n      <th>0</th>\n      <td>1</td>\n      <td>0900024</td>\n      <td>05-Jul-2023</td>\n      <td>T_83</td>\n      <td>T_254</td>\n      <td>1208.0</td>\n      <td>0.0</td>\n      <td>0</td>\n      <td>0.0</td>\n      <td>05-Jul-2021</td>\n      <td>8792.0</td>\n    </tr>\n    <tr>\n      <th>1</th>\n      <td>2</td>\n      <td>0900024</td>\n      <td>05-Jul-2023</td>\n      <td>T_3387</td>\n      <td>T_1266</td>\n      <td>11.0</td>\n      <td>0.0</td>\n      <td>0</td>\n      <td>0.0</td>\n      <td>04-Oct-2021</td>\n      <td>2500.0</td>\n    </tr>\n    <tr>\n      <th>2</th>\n      <td>3</td>\n      <td>0900024</td>\n      <td>05-Jul-2023</td>\n      <td>T_27</td>\n      <td>T_1432</td>\n      <td>8000.0</td>\n      <td>0.0</td>\n      <td>0</td>\n      <td>0.0</td>\n      <td>04-Oct-2021</td>\n      <td>0.0</td>\n    </tr>\n    <tr>\n      <th>3</th>\n      <td>4</td>\n      <td>0900024</td>\n      <td>05-Jul-2023</td>\n      <td>T_39</td>\n      <td>T_1430</td>\n      <td>442.0</td>\n      <td>0.0</td>\n      <td>0</td>\n      <td>0.0</td>\n      <td>13-Oct-2021</td>\n      <td>4137.0</td>\n    </tr>\n    <tr>\n      <th>4</th>\n      <td>5</td>\n      <td>0900024</td>\n      <td>05-Jul-2023</td>\n      <td>T_895</td>\n      <td>T_2173</td>\n      <td>0.0</td>\n      <td>0.0</td>\n      <td>0</td>\n      <td>0.0</td>\n      <td>16-Nov-2021</td>\n      <td>2000.0</td>\n    </tr>\n    <tr>\n      <th>...</th>\n      <td>...</td>\n      <td>...</td>\n      <td>...</td>\n      <td>...</td>\n      <td>...</td>\n      <td>...</td>\n      <td>...</td>\n      <td>...</td>\n      <td>...</td>\n      <td>...</td>\n      <td>...</td>\n    </tr>\n    <tr>\n      <th>95</th>\n      <td>96</td>\n      <td>0900024</td>\n      <td>05-Jul-2023</td>\n      <td>T_1338</td>\n      <td>T_10387</td>\n      <td>18200.0</td>\n      <td>983.0</td>\n      <td>0</td>\n      <td>0.0</td>\n      <td>02-Mar-2023</td>\n      <td>0.0</td>\n    </tr>\n    <tr>\n      <th>96</th>\n      <td>97</td>\n      <td>0900024</td>\n      <td>05-Jul-2023</td>\n      <td>T_4970</td>\n      <td>T_11981</td>\n      <td>2223.0</td>\n      <td>0.0</td>\n      <td>0</td>\n      <td>2323.0</td>\n      <td>16-Apr-2023</td>\n      <td>17777.0</td>\n    </tr>\n    <tr>\n      <th>97</th>\n      <td>98</td>\n      <td>0900024</td>\n      <td>05-Jul-2023</td>\n      <td>T_4970</td>\n      <td>T_12055</td>\n      <td>16634.0</td>\n      <td>0.0</td>\n      <td>0</td>\n      <td>0.0</td>\n      <td>17-Apr-2023</td>\n      <td>2223.0</td>\n    </tr>\n    <tr>\n      <th>98</th>\n      <td>99</td>\n      <td>0900024</td>\n      <td>05-Jul-2023</td>\n      <td>T_4970</td>\n      <td>T_12055</td>\n      <td>18857.0</td>\n      <td>0.0</td>\n      <td>0</td>\n      <td>0.0</td>\n      <td>17-Apr-2023</td>\n      <td>1143.0</td>\n    </tr>\n    <tr>\n      <th>99</th>\n      <td>100</td>\n      <td>0900024</td>\n      <td>05-Jul-2023</td>\n      <td>T_8480</td>\n      <td>T_11391</td>\n      <td>7478.0</td>\n      <td>0.0</td>\n      <td>0</td>\n      <td>570.0</td>\n      <td>23-Mar-2023</td>\n      <td>1922.0</td>\n    </tr>\n  </tbody>\n</table>\n<p>100 rows × 11 columns</p>\n</div>"
     },
     "execution_count": 7,
     "metadata": {},
     "output_type": "execute_result"
    }
   ],
   "source": [
    "warehouse_hook.get_pandas_df(\n",
    "    sql=\"\"\"\n",
    "    -- Digital Loan Repayments Data\n",
    "    select\n",
    "        row_number() over () as \"ROW_ID\",\n",
    "        '0900024' as \"DIGITAL_CREDIT_PROVIDER_CODE\",\n",
    "        to_char(current_date, 'DD-Mon-YYYY') as \"REPORTING_DATE\", -- cannot be in format 'DD-Mon-YYYY' and still be dtype date\n",
    "        concat('T_', cmsv.mifos_id) as \"CUSTOMER_ID\",\n",
    "        concat('T_', lftmsv.loan_mifos_id) as \"LOAN_ACCOUNT_CONTRACT_NUMBER\",\n",
    "        coalesce(td.outstanding_loan_balance_derived, 0) as \"OUTSTANDING_LOAN_BALANCE\", -- data quality issue\n",
    "        coalesce(lftmsv.interest_outstanding, 0) as \"ACCRUED_INTEREST_BALANCE\",  -- data quality issue\n",
    "        0 as \"INTEREST_CHARGED_ON_REPAYMENT\",\n",
    "        coalesce(td.fee_charges_portion_derived + td.penalty_charges_portion_derived, 0) as \"LATE_PAYMENT_FEE_CHARGE\",\n",
    "        to_char(td.transaction_date, 'DD-Mon-YYYY') as \"LOAN_REPAYMENT_DATE\",\n",
    "        coalesce(td.principal_portion_derived, 0) as \"PRINCIPAL_LOAN_AMOUNT_REPAID\"\n",
    "    from tanda.transactions_dimension td\n",
    "    inner join tanda.loans_fact_table_summary_view lftmsv on lftmsv.loan_mifos_id::varchar = td.mifos_loan_id\n",
    "    inner join tanda.client_summary_view cmsv on lftmsv.client_surrogate_id = cmsv.surrogate_id\n",
    "    where td.transaction_type_enum = 2 and lower(td.receipt_number) not like '%waiv%'\n",
    "    limit 100\n",
    "    \"\"\"\n",
    ")#.to_csv('~/data/Digital Loan Repayments Data Sample TANDA.csv', index=False)"
   ],
   "metadata": {
    "collapsed": false
   }
  },
  {
   "cell_type": "markdown",
   "source": [
    "### Customer Data"
   ],
   "metadata": {
    "collapsed": false
   }
  },
  {
   "cell_type": "code",
   "execution_count": 9,
   "outputs": [
    {
     "name": "stdout",
     "output_type": "stream",
     "text": [
      "[\u001B[34m2023-07-05 09:26:21,389\u001B[0m] {\u001B[34mbase.py:\u001B[0m73} INFO\u001B[0m - Using connection ID 'rds_afsg_ds_prod_postgresql_dwh' for task execution.\u001B[0m\n"
     ]
    },
    {
     "data": {
      "text/plain": "\u001B[1;33m/home/henrykuria/airflow_venv/lib/python3.10/site-packages/pandas/io/\u001B[0m\u001B[1;33msql.py\u001B[0m\u001B[1;33m:\u001B[0m\u001B[1;33m761\u001B[0m\u001B[1;33m UserWarning\u001B[0m\u001B[33m: pandas only support SQLAlchemy \u001B[0m\u001B[1;33mconnectable\u001B[0m\u001B[1;33m(\u001B[0m\u001B[33mengine/connection\u001B[0m\u001B[1;33m)\u001B[0m\u001B[33m ordatabase string URI or sqlite3 DBAPI2 connectionother DBAPI2 objects are not tested, please consider using SQLAlchemy\u001B[0m\n",
      "text/html": "<pre style=\"white-space:pre;overflow-x:auto;line-height:normal;font-family:Menlo,'DejaVu Sans Mono',consolas,'Courier New',monospace\"><span style=\"color: #808000; text-decoration-color: #808000; font-weight: bold\">/home/henrykuria/airflow_venv/lib/python3.10/site-packages/pandas/io/sql.py:</span><span style=\"color: #808000; text-decoration-color: #808000; font-weight: bold\">761</span><span style=\"color: #808000; text-decoration-color: #808000; font-weight: bold\"> UserWarning</span><span style=\"color: #808000; text-decoration-color: #808000\">: pandas only support SQLAlchemy </span><span style=\"color: #808000; text-decoration-color: #808000; font-weight: bold\">connectable(</span><span style=\"color: #808000; text-decoration-color: #808000\">engine/connection</span><span style=\"color: #808000; text-decoration-color: #808000; font-weight: bold\">)</span><span style=\"color: #808000; text-decoration-color: #808000\"> ordatabase string URI or sqlite3 DBAPI2 connectionother DBAPI2 objects are not tested, please consider using SQLAlchemy</span>\n</pre>\n"
     },
     "metadata": {},
     "output_type": "display_data"
    },
    {
     "data": {
      "text/plain": "    ROW_ID DIGITAL_CREDIT_PROVIDER_CODE REPORTING_DATE CUSTOMER_ID  \\\n0        1                      0900024    05-Jul-2023      T_3576   \n1        2                      0900024    05-Jul-2023      T_3174   \n2        3                      0900024    05-Jul-2023      T_8557   \n3        4                      0900024    05-Jul-2023        T_40   \n4        5                      0900024    05-Jul-2023      T_6688   \n..     ...                          ...            ...         ...   \n95      96                      0900024    05-Jul-2023      T_4017   \n96      97                      0900024    05-Jul-2023      T_4540   \n97      98                      0900024    05-Jul-2023      T_7179   \n98      99                      0900024    05-Jul-2023      T_2754   \n99     100                      0900024    05-Jul-2023      T_2570   \n\n   PRIMARY_IDENTIFICATION_DOCUMENT_TYPE NATIONAL_IDENTITY_PASSPORT_NUMBER  \\\n0                              CUSTID01                          21217542   \n1                              CUSTID01                          37437145   \n2                              CUSTID01                          38662080   \n3                              CUSTID01                          22144822   \n4                              CUSTID01                          33224974   \n..                                  ...                               ...   \n95                             CUSTID01                          28466866   \n96                             CUSTID01                          39346789   \n97                             CUSTID01                          37670941   \n98                             CUSTID01                          25408708   \n99                             CUSTID01                          35285813   \n\n   PERSONAL_IDENTIFICATION_NUMBER NATIONALITY GENDER FIRST_NAME MIDDLE_NAME  \\\n0                            None          KE   None      Eclai        None   \n1                            None          KE   None    BELINDA        None   \n2                            None          KE   None      Nixon        None   \n3                            None          KE   None       john        None   \n4                            None          KE   None     Benson        None   \n..                            ...         ...    ...        ...         ...   \n95                           None          KE   None      kombo        None   \n96                           None          KE   None     PHILIP        None   \n97                           None          KE   None    Elicose        None   \n98                           None          KE   None      Davis        None   \n99                           None          KE   None  cherotich        None   \n\n      SURNAME DATE_OF_BIRTH_REGISTRATION ONBOARDING_DATE MOBILE_NUMBER  \n0      Andika                10-Mar-1979     13-Sep-2021  254706134475  \n1        ANAM                04-Apr-1999     24-Aug-2021  254795302473  \n2   Kipchumbq                24-Aug-2001     28-Jun-2022  254795701443  \n3        mugo                08-May-1979     16-Oct-2020  254716622477  \n4    Kandagor                27-May-1996     29-Mar-2022  254707045240  \n..        ...                        ...             ...           ...  \n95       zuma                31-Dec-1984     07-Oct-2021  254728326882  \n96    TABITHA                24-Jul-2000     02-Nov-2021  254758452903  \n97   chemutai                26-Jun-1998     27-Apr-2022  254713958747  \n98     Saikwa                18-Jun-1987     06-Aug-2021  254728750803  \n99     langat                02-Jul-1996     29-Jul-2021  254716964858  \n\n[100 rows x 15 columns]",
      "text/html": "<div>\n<style scoped>\n    .dataframe tbody tr th:only-of-type {\n        vertical-align: middle;\n    }\n\n    .dataframe tbody tr th {\n        vertical-align: top;\n    }\n\n    .dataframe thead th {\n        text-align: right;\n    }\n</style>\n<table border=\"1\" class=\"dataframe\">\n  <thead>\n    <tr style=\"text-align: right;\">\n      <th></th>\n      <th>ROW_ID</th>\n      <th>DIGITAL_CREDIT_PROVIDER_CODE</th>\n      <th>REPORTING_DATE</th>\n      <th>CUSTOMER_ID</th>\n      <th>PRIMARY_IDENTIFICATION_DOCUMENT_TYPE</th>\n      <th>NATIONAL_IDENTITY_PASSPORT_NUMBER</th>\n      <th>PERSONAL_IDENTIFICATION_NUMBER</th>\n      <th>NATIONALITY</th>\n      <th>GENDER</th>\n      <th>FIRST_NAME</th>\n      <th>MIDDLE_NAME</th>\n      <th>SURNAME</th>\n      <th>DATE_OF_BIRTH_REGISTRATION</th>\n      <th>ONBOARDING_DATE</th>\n      <th>MOBILE_NUMBER</th>\n    </tr>\n  </thead>\n  <tbody>\n    <tr>\n      <th>0</th>\n      <td>1</td>\n      <td>0900024</td>\n      <td>05-Jul-2023</td>\n      <td>T_3576</td>\n      <td>CUSTID01</td>\n      <td>21217542</td>\n      <td>None</td>\n      <td>KE</td>\n      <td>None</td>\n      <td>Eclai</td>\n      <td>None</td>\n      <td>Andika</td>\n      <td>10-Mar-1979</td>\n      <td>13-Sep-2021</td>\n      <td>254706134475</td>\n    </tr>\n    <tr>\n      <th>1</th>\n      <td>2</td>\n      <td>0900024</td>\n      <td>05-Jul-2023</td>\n      <td>T_3174</td>\n      <td>CUSTID01</td>\n      <td>37437145</td>\n      <td>None</td>\n      <td>KE</td>\n      <td>None</td>\n      <td>BELINDA</td>\n      <td>None</td>\n      <td>ANAM</td>\n      <td>04-Apr-1999</td>\n      <td>24-Aug-2021</td>\n      <td>254795302473</td>\n    </tr>\n    <tr>\n      <th>2</th>\n      <td>3</td>\n      <td>0900024</td>\n      <td>05-Jul-2023</td>\n      <td>T_8557</td>\n      <td>CUSTID01</td>\n      <td>38662080</td>\n      <td>None</td>\n      <td>KE</td>\n      <td>None</td>\n      <td>Nixon</td>\n      <td>None</td>\n      <td>Kipchumbq</td>\n      <td>24-Aug-2001</td>\n      <td>28-Jun-2022</td>\n      <td>254795701443</td>\n    </tr>\n    <tr>\n      <th>3</th>\n      <td>4</td>\n      <td>0900024</td>\n      <td>05-Jul-2023</td>\n      <td>T_40</td>\n      <td>CUSTID01</td>\n      <td>22144822</td>\n      <td>None</td>\n      <td>KE</td>\n      <td>None</td>\n      <td>john</td>\n      <td>None</td>\n      <td>mugo</td>\n      <td>08-May-1979</td>\n      <td>16-Oct-2020</td>\n      <td>254716622477</td>\n    </tr>\n    <tr>\n      <th>4</th>\n      <td>5</td>\n      <td>0900024</td>\n      <td>05-Jul-2023</td>\n      <td>T_6688</td>\n      <td>CUSTID01</td>\n      <td>33224974</td>\n      <td>None</td>\n      <td>KE</td>\n      <td>None</td>\n      <td>Benson</td>\n      <td>None</td>\n      <td>Kandagor</td>\n      <td>27-May-1996</td>\n      <td>29-Mar-2022</td>\n      <td>254707045240</td>\n    </tr>\n    <tr>\n      <th>...</th>\n      <td>...</td>\n      <td>...</td>\n      <td>...</td>\n      <td>...</td>\n      <td>...</td>\n      <td>...</td>\n      <td>...</td>\n      <td>...</td>\n      <td>...</td>\n      <td>...</td>\n      <td>...</td>\n      <td>...</td>\n      <td>...</td>\n      <td>...</td>\n      <td>...</td>\n    </tr>\n    <tr>\n      <th>95</th>\n      <td>96</td>\n      <td>0900024</td>\n      <td>05-Jul-2023</td>\n      <td>T_4017</td>\n      <td>CUSTID01</td>\n      <td>28466866</td>\n      <td>None</td>\n      <td>KE</td>\n      <td>None</td>\n      <td>kombo</td>\n      <td>None</td>\n      <td>zuma</td>\n      <td>31-Dec-1984</td>\n      <td>07-Oct-2021</td>\n      <td>254728326882</td>\n    </tr>\n    <tr>\n      <th>96</th>\n      <td>97</td>\n      <td>0900024</td>\n      <td>05-Jul-2023</td>\n      <td>T_4540</td>\n      <td>CUSTID01</td>\n      <td>39346789</td>\n      <td>None</td>\n      <td>KE</td>\n      <td>None</td>\n      <td>PHILIP</td>\n      <td>None</td>\n      <td>TABITHA</td>\n      <td>24-Jul-2000</td>\n      <td>02-Nov-2021</td>\n      <td>254758452903</td>\n    </tr>\n    <tr>\n      <th>97</th>\n      <td>98</td>\n      <td>0900024</td>\n      <td>05-Jul-2023</td>\n      <td>T_7179</td>\n      <td>CUSTID01</td>\n      <td>37670941</td>\n      <td>None</td>\n      <td>KE</td>\n      <td>None</td>\n      <td>Elicose</td>\n      <td>None</td>\n      <td>chemutai</td>\n      <td>26-Jun-1998</td>\n      <td>27-Apr-2022</td>\n      <td>254713958747</td>\n    </tr>\n    <tr>\n      <th>98</th>\n      <td>99</td>\n      <td>0900024</td>\n      <td>05-Jul-2023</td>\n      <td>T_2754</td>\n      <td>CUSTID01</td>\n      <td>25408708</td>\n      <td>None</td>\n      <td>KE</td>\n      <td>None</td>\n      <td>Davis</td>\n      <td>None</td>\n      <td>Saikwa</td>\n      <td>18-Jun-1987</td>\n      <td>06-Aug-2021</td>\n      <td>254728750803</td>\n    </tr>\n    <tr>\n      <th>99</th>\n      <td>100</td>\n      <td>0900024</td>\n      <td>05-Jul-2023</td>\n      <td>T_2570</td>\n      <td>CUSTID01</td>\n      <td>35285813</td>\n      <td>None</td>\n      <td>KE</td>\n      <td>None</td>\n      <td>cherotich</td>\n      <td>None</td>\n      <td>langat</td>\n      <td>02-Jul-1996</td>\n      <td>29-Jul-2021</td>\n      <td>254716964858</td>\n    </tr>\n  </tbody>\n</table>\n<p>100 rows × 15 columns</p>\n</div>"
     },
     "execution_count": 9,
     "metadata": {},
     "output_type": "execute_result"
    }
   ],
   "source": [
    "warehouse_hook.get_pandas_df(\n",
    "    sql=\"\"\"\n",
    "    -- Customer Data\n",
    "    with cust_dt as (\n",
    "        select\n",
    "            distinct\n",
    "            '0900024' as \"DIGITAL_CREDIT_PROVIDER_CODE\",\n",
    "            to_char(current_date, 'DD-Mon-YYYY') as \"REPORTING_DATE\", -- cannot be in format 'DD-Mon-YYYY' and still be dtype date\n",
    "            concat('T_', cmsv.mifos_id) as \"CUSTOMER_ID\", -- store number vs national_id\n",
    "            CASE WHEN cmsv.national_id ~ '[a-zA-Z]' THEN 'Passport' ELSE 'National Identity Card' END AS \"PRIMARY_IDENTIFICATION_DOCUMENT_TYPE\", -- how to distinguish huduma number from national ID number\n",
    "            cmsv.national_id as \"NATIONAL_IDENTITY_PASSPORT_NUMBER\", -- column name in template has slash\n",
    "            null as \"PERSONAL_IDENTIFICATION_NUMBER\", --kra pin\n",
    "            cmsv.gender,\n",
    "            cmsv.first_name as \"FIRST_NAME\",\n",
    "            cmsv.middle_name as \"MIDDLE_NAME\",\n",
    "            cmsv.last_name as \"SURNAME\",\n",
    "            to_char(cmsv.date_of_birth, 'DD-Mon-YYYY') as \"DATE_OF_BIRTH_REGISTRATION\", -- cannot be in format 'DD-MM-YYYY' and still be dtype date\n",
    "            to_char(cmsv.submitted_on_date, 'DD-Mon-YYYY') as \"ONBOARDING_DATE\",\n",
    "            cmsv.mobile_number as \"MOBILE_NUMBER\"\n",
    "        from tanda.client_summary_view cmsv\n",
    "        inner join tanda.loans_fact_table_summary_view lftmsv on cmsv.surrogate_id = lftmsv.client_surrogate_id\n",
    "    ) select\n",
    "        row_number() over () as \"ROW_ID\", \"DIGITAL_CREDIT_PROVIDER_CODE\", \"REPORTING_DATE\", \"CUSTOMER_ID\", cpdt.code as \"PRIMARY_IDENTIFICATION_DOCUMENT_TYPE\",\n",
    "        \"NATIONAL_IDENTITY_PASSPORT_NUMBER\", \"PERSONAL_IDENTIFICATION_NUMBER\", icc.country_code as \"NATIONALITY\", gt.code as \"GENDER\", \"FIRST_NAME\",\n",
    "        case when \"SURNAME\" is null and \"MIDDLE_NAME\" is not null then null else \"MIDDLE_NAME\" end as \"MIDDLE_NAME\",\n",
    "        case when \"SURNAME\" is null then \"MIDDLE_NAME\" else \"SURNAME\" end as \"SURNAME\",\n",
    "        \"DATE_OF_BIRTH_REGISTRATION\", \"ONBOARDING_DATE\", \"MOBILE_NUMBER\"\n",
    "    from cust_dt\n",
    "    left join central_bank_of_kenya.cust_primary_doc_types cpdt on cpdt.\"type\" = cust_dt.\"PRIMARY_IDENTIFICATION_DOCUMENT_TYPE\"\n",
    "    left join central_bank_of_kenya.gender_types gt on gt.\"type\" = cust_dt.gender\n",
    "    left join central_bank_of_kenya.iso_country_codes icc on icc.country_description = 'Kenya'\n",
    "    limit 100\n",
    "    \"\"\"\n",
    ")##.to_csv(f'~/data/CBK Customer Data Sample SOLV {datetime.datetime.now()}.csv', index=False)"
   ],
   "metadata": {
    "collapsed": false
   }
  },
  {
   "cell_type": "markdown",
   "source": [
    "# JUMIA"
   ],
   "metadata": {
    "collapsed": false
   }
  },
  {
   "cell_type": "markdown",
   "source": [
    "### Digital Loans Account Data"
   ],
   "metadata": {
    "collapsed": false
   }
  },
  {
   "cell_type": "code",
   "execution_count": 11,
   "outputs": [
    {
     "name": "stdout",
     "output_type": "stream",
     "text": [
      "[\u001B[34m2023-07-05 09:39:12,258\u001B[0m] {\u001B[34mbase.py:\u001B[0m73} INFO\u001B[0m - Using connection ID 'rds_afsg_ds_prod_postgresql_dwh' for task execution.\u001B[0m\n"
     ]
    },
    {
     "data": {
      "text/plain": "\u001B[1;33m/home/henrykuria/airflow_venv/lib/python3.10/site-packages/pandas/io/\u001B[0m\u001B[1;33msql.py\u001B[0m\u001B[1;33m:\u001B[0m\u001B[1;33m761\u001B[0m\u001B[1;33m UserWarning\u001B[0m\u001B[33m: pandas only support SQLAlchemy \u001B[0m\u001B[1;33mconnectable\u001B[0m\u001B[1;33m(\u001B[0m\u001B[33mengine/connection\u001B[0m\u001B[1;33m)\u001B[0m\u001B[33m ordatabase string URI or sqlite3 DBAPI2 connectionother DBAPI2 objects are not tested, please consider using SQLAlchemy\u001B[0m\n",
      "text/html": "<pre style=\"white-space:pre;overflow-x:auto;line-height:normal;font-family:Menlo,'DejaVu Sans Mono',consolas,'Courier New',monospace\"><span style=\"color: #808000; text-decoration-color: #808000; font-weight: bold\">/home/henrykuria/airflow_venv/lib/python3.10/site-packages/pandas/io/sql.py:</span><span style=\"color: #808000; text-decoration-color: #808000; font-weight: bold\">761</span><span style=\"color: #808000; text-decoration-color: #808000; font-weight: bold\"> UserWarning</span><span style=\"color: #808000; text-decoration-color: #808000\">: pandas only support SQLAlchemy </span><span style=\"color: #808000; text-decoration-color: #808000; font-weight: bold\">connectable(</span><span style=\"color: #808000; text-decoration-color: #808000\">engine/connection</span><span style=\"color: #808000; text-decoration-color: #808000; font-weight: bold\">)</span><span style=\"color: #808000; text-decoration-color: #808000\"> ordatabase string URI or sqlite3 DBAPI2 connectionother DBAPI2 objects are not tested, please consider using SQLAlchemy</span>\n</pre>\n"
     },
     "metadata": {},
     "output_type": "display_data"
    },
    {
     "data": {
      "text/plain": "    ROW_ID DIGITAL_CREDIT_PROVIDER_CODE REPORTING_DATE CUSTOMER_ID  \\\n0        1                      0900024    05-Jul-2023      J_5028   \n1        2                      0900024    05-Jul-2023      J_5392   \n2        3                      0900024    05-Jul-2023      J_7570   \n3        4                      0900024    05-Jul-2023      J_8593   \n4        5                      0900024    05-Jul-2023      J_9344   \n..     ...                          ...            ...         ...   \n95      96                      0900024    05-Jul-2023      J_5393   \n96      97                      0900024    05-Jul-2023      J_5394   \n97      98                      0900024    05-Jul-2023      J_5394   \n98      99                      0900024    05-Jul-2023      J_5394   \n99     100                      0900024    05-Jul-2023      J_5405   \n\n   LOAN_ACCOUNT_CONTRACT_NUMBER              ACCOUNT_NAME DISBURSEMENT_DATE  \\\n0                        J_2719             Moses  Mogaka       06-Dec-2021   \n1                        J_4108      Victor Ochieng' Ogol       16-Feb-2022   \n2                        J_6009  Josphine Wanjiku Kamande       17-May-2022   \n3                        J_6843          Iddolyne  Kerubo       30-Jun-2022   \n4                        J_8191              Titus  Kyalo       31-Aug-2022   \n..                          ...                       ...               ...   \n95                       J_2994               Tony  Obare       22-Dec-2021   \n96                       J_2995      David Mungai Wanjiku       22-Dec-2021   \n97                       J_9534      David Mungai Wanjiku       26-Oct-2022   \n98                      J_10074      David Mungai Wanjiku       30-Nov-2022   \n99                       J_8190        Mercy Mbinya Mutua       31-Aug-2022   \n\n    PRINCIPAL_LOAN_AMOUNT_DISBURSED  OUTSTANDING_LOAN_BALANCE  \\\n0                           26600.0                   13542.0   \n1                            5000.0                       1.0   \n2                            5900.0                    8287.0   \n3                            2900.0                     335.0   \n4                            5300.0                    7459.0   \n..                              ...                       ...   \n95                           2400.0                       0.0   \n96                           9800.0                       0.0   \n97                           2300.0                       0.0   \n98                           2300.0                       0.0   \n99                          31100.0                       0.0   \n\n    DEBIT_INTEREST_RATE  FACILITY_ARRANGEMENT_FEE_CHARGE  \\\n0                     0                           1670.0   \n1                     0                            314.0   \n2                     0                            371.0   \n3                     0                            183.0   \n4                     0                            400.0   \n..                  ...                              ...   \n95                    0                            151.0   \n96                    0                            615.0   \n97                    0                            188.0   \n98                    0                            188.0   \n99                    0                           4686.0   \n\n    UPFRONT_INTEREST_FEES_CHARGE  COST_OF_WALLET_TRANSFER  \\\n0                              0                        0   \n1                              0                        0   \n2                              0                        0   \n3                              0                        0   \n4                              0                        0   \n..                           ...                      ...   \n95                             0                        0   \n96                             0                        0   \n97                             0                        0   \n98                             0                        0   \n99                             0                        0   \n\n    INSURANCE_FEE_CHARGE  OTHER_CHARGE CHANNEL_TYPE_USED  DIGITAL_LOAN_TENOR  \\\n0                      0           0.0             CHN02                   1   \n1                      0           0.0             CHN02                   1   \n2                      0        2016.0             CHN02                   1   \n3                      0         483.0             CHN02                   1   \n4                      0       40932.0             CHN02                   1   \n..                   ...           ...               ...                 ...   \n95                     0           0.0             CHN02                   1   \n96                     0        5816.0             CHN02                   1   \n97                     0           0.0             CHN02                   1   \n98                     0         272.0             CHN02                   1   \n99                     0       24219.0             CHN02                   1   \n\n    INSTALMENT_AMOUNT ACCOUNT_STATUS  \n0             28270.0         ACTIVE  \n1              5314.0         ACTIVE  \n2              8287.0         ACTIVE  \n3              3566.0         ACTIVE  \n4             46632.0         ACTIVE  \n..                ...            ...  \n95             2551.0         CLOSED  \n96            16231.0         CLOSED  \n97             2488.0         CLOSED  \n98             2760.0         CLOSED  \n99            60005.0         CLOSED  \n\n[100 rows x 19 columns]",
      "text/html": "<div>\n<style scoped>\n    .dataframe tbody tr th:only-of-type {\n        vertical-align: middle;\n    }\n\n    .dataframe tbody tr th {\n        vertical-align: top;\n    }\n\n    .dataframe thead th {\n        text-align: right;\n    }\n</style>\n<table border=\"1\" class=\"dataframe\">\n  <thead>\n    <tr style=\"text-align: right;\">\n      <th></th>\n      <th>ROW_ID</th>\n      <th>DIGITAL_CREDIT_PROVIDER_CODE</th>\n      <th>REPORTING_DATE</th>\n      <th>CUSTOMER_ID</th>\n      <th>LOAN_ACCOUNT_CONTRACT_NUMBER</th>\n      <th>ACCOUNT_NAME</th>\n      <th>DISBURSEMENT_DATE</th>\n      <th>PRINCIPAL_LOAN_AMOUNT_DISBURSED</th>\n      <th>OUTSTANDING_LOAN_BALANCE</th>\n      <th>DEBIT_INTEREST_RATE</th>\n      <th>FACILITY_ARRANGEMENT_FEE_CHARGE</th>\n      <th>UPFRONT_INTEREST_FEES_CHARGE</th>\n      <th>COST_OF_WALLET_TRANSFER</th>\n      <th>INSURANCE_FEE_CHARGE</th>\n      <th>OTHER_CHARGE</th>\n      <th>CHANNEL_TYPE_USED</th>\n      <th>DIGITAL_LOAN_TENOR</th>\n      <th>INSTALMENT_AMOUNT</th>\n      <th>ACCOUNT_STATUS</th>\n    </tr>\n  </thead>\n  <tbody>\n    <tr>\n      <th>0</th>\n      <td>1</td>\n      <td>0900024</td>\n      <td>05-Jul-2023</td>\n      <td>J_5028</td>\n      <td>J_2719</td>\n      <td>Moses  Mogaka</td>\n      <td>06-Dec-2021</td>\n      <td>26600.0</td>\n      <td>13542.0</td>\n      <td>0</td>\n      <td>1670.0</td>\n      <td>0</td>\n      <td>0</td>\n      <td>0</td>\n      <td>0.0</td>\n      <td>CHN02</td>\n      <td>1</td>\n      <td>28270.0</td>\n      <td>ACTIVE</td>\n    </tr>\n    <tr>\n      <th>1</th>\n      <td>2</td>\n      <td>0900024</td>\n      <td>05-Jul-2023</td>\n      <td>J_5392</td>\n      <td>J_4108</td>\n      <td>Victor Ochieng' Ogol</td>\n      <td>16-Feb-2022</td>\n      <td>5000.0</td>\n      <td>1.0</td>\n      <td>0</td>\n      <td>314.0</td>\n      <td>0</td>\n      <td>0</td>\n      <td>0</td>\n      <td>0.0</td>\n      <td>CHN02</td>\n      <td>1</td>\n      <td>5314.0</td>\n      <td>ACTIVE</td>\n    </tr>\n    <tr>\n      <th>2</th>\n      <td>3</td>\n      <td>0900024</td>\n      <td>05-Jul-2023</td>\n      <td>J_7570</td>\n      <td>J_6009</td>\n      <td>Josphine Wanjiku Kamande</td>\n      <td>17-May-2022</td>\n      <td>5900.0</td>\n      <td>8287.0</td>\n      <td>0</td>\n      <td>371.0</td>\n      <td>0</td>\n      <td>0</td>\n      <td>0</td>\n      <td>2016.0</td>\n      <td>CHN02</td>\n      <td>1</td>\n      <td>8287.0</td>\n      <td>ACTIVE</td>\n    </tr>\n    <tr>\n      <th>3</th>\n      <td>4</td>\n      <td>0900024</td>\n      <td>05-Jul-2023</td>\n      <td>J_8593</td>\n      <td>J_6843</td>\n      <td>Iddolyne  Kerubo</td>\n      <td>30-Jun-2022</td>\n      <td>2900.0</td>\n      <td>335.0</td>\n      <td>0</td>\n      <td>183.0</td>\n      <td>0</td>\n      <td>0</td>\n      <td>0</td>\n      <td>483.0</td>\n      <td>CHN02</td>\n      <td>1</td>\n      <td>3566.0</td>\n      <td>ACTIVE</td>\n    </tr>\n    <tr>\n      <th>4</th>\n      <td>5</td>\n      <td>0900024</td>\n      <td>05-Jul-2023</td>\n      <td>J_9344</td>\n      <td>J_8191</td>\n      <td>Titus  Kyalo</td>\n      <td>31-Aug-2022</td>\n      <td>5300.0</td>\n      <td>7459.0</td>\n      <td>0</td>\n      <td>400.0</td>\n      <td>0</td>\n      <td>0</td>\n      <td>0</td>\n      <td>40932.0</td>\n      <td>CHN02</td>\n      <td>1</td>\n      <td>46632.0</td>\n      <td>ACTIVE</td>\n    </tr>\n    <tr>\n      <th>...</th>\n      <td>...</td>\n      <td>...</td>\n      <td>...</td>\n      <td>...</td>\n      <td>...</td>\n      <td>...</td>\n      <td>...</td>\n      <td>...</td>\n      <td>...</td>\n      <td>...</td>\n      <td>...</td>\n      <td>...</td>\n      <td>...</td>\n      <td>...</td>\n      <td>...</td>\n      <td>...</td>\n      <td>...</td>\n      <td>...</td>\n      <td>...</td>\n    </tr>\n    <tr>\n      <th>95</th>\n      <td>96</td>\n      <td>0900024</td>\n      <td>05-Jul-2023</td>\n      <td>J_5393</td>\n      <td>J_2994</td>\n      <td>Tony  Obare</td>\n      <td>22-Dec-2021</td>\n      <td>2400.0</td>\n      <td>0.0</td>\n      <td>0</td>\n      <td>151.0</td>\n      <td>0</td>\n      <td>0</td>\n      <td>0</td>\n      <td>0.0</td>\n      <td>CHN02</td>\n      <td>1</td>\n      <td>2551.0</td>\n      <td>CLOSED</td>\n    </tr>\n    <tr>\n      <th>96</th>\n      <td>97</td>\n      <td>0900024</td>\n      <td>05-Jul-2023</td>\n      <td>J_5394</td>\n      <td>J_2995</td>\n      <td>David Mungai Wanjiku</td>\n      <td>22-Dec-2021</td>\n      <td>9800.0</td>\n      <td>0.0</td>\n      <td>0</td>\n      <td>615.0</td>\n      <td>0</td>\n      <td>0</td>\n      <td>0</td>\n      <td>5816.0</td>\n      <td>CHN02</td>\n      <td>1</td>\n      <td>16231.0</td>\n      <td>CLOSED</td>\n    </tr>\n    <tr>\n      <th>97</th>\n      <td>98</td>\n      <td>0900024</td>\n      <td>05-Jul-2023</td>\n      <td>J_5394</td>\n      <td>J_9534</td>\n      <td>David Mungai Wanjiku</td>\n      <td>26-Oct-2022</td>\n      <td>2300.0</td>\n      <td>0.0</td>\n      <td>0</td>\n      <td>188.0</td>\n      <td>0</td>\n      <td>0</td>\n      <td>0</td>\n      <td>0.0</td>\n      <td>CHN02</td>\n      <td>1</td>\n      <td>2488.0</td>\n      <td>CLOSED</td>\n    </tr>\n    <tr>\n      <th>98</th>\n      <td>99</td>\n      <td>0900024</td>\n      <td>05-Jul-2023</td>\n      <td>J_5394</td>\n      <td>J_10074</td>\n      <td>David Mungai Wanjiku</td>\n      <td>30-Nov-2022</td>\n      <td>2300.0</td>\n      <td>0.0</td>\n      <td>0</td>\n      <td>188.0</td>\n      <td>0</td>\n      <td>0</td>\n      <td>0</td>\n      <td>272.0</td>\n      <td>CHN02</td>\n      <td>1</td>\n      <td>2760.0</td>\n      <td>CLOSED</td>\n    </tr>\n    <tr>\n      <th>99</th>\n      <td>100</td>\n      <td>0900024</td>\n      <td>05-Jul-2023</td>\n      <td>J_5405</td>\n      <td>J_8190</td>\n      <td>Mercy Mbinya Mutua</td>\n      <td>31-Aug-2022</td>\n      <td>31100.0</td>\n      <td>0.0</td>\n      <td>0</td>\n      <td>4686.0</td>\n      <td>0</td>\n      <td>0</td>\n      <td>0</td>\n      <td>24219.0</td>\n      <td>CHN02</td>\n      <td>1</td>\n      <td>60005.0</td>\n      <td>CLOSED</td>\n    </tr>\n  </tbody>\n</table>\n<p>100 rows × 19 columns</p>\n</div>"
     },
     "execution_count": 11,
     "metadata": {},
     "output_type": "execute_result"
    }
   ],
   "source": [
    "warehouse_hook.get_pandas_df(\n",
    "    sql=\"\"\"\n",
    "    -- Digital Loans Account Data\n",
    "    select\n",
    "        row_number() over () as \"ROW_ID\",\n",
    "        '0900024' as \"DIGITAL_CREDIT_PROVIDER_CODE\",\n",
    "        to_char(current_date, 'DD-Mon-YYYY') as \"REPORTING_DATE\", -- cannot be in format 'DD-Mon-YYYY' and still be dtype date\n",
    "        concat('J_', cmsv.mifos_id) as \"CUSTOMER_ID\",\n",
    "        concat('J_', lftmsv.loan_mifos_id) as \"LOAN_ACCOUNT_CONTRACT_NUMBER\",\n",
    "        concat(cmsv.first_name, ' ', cmsv.middle_name, ' ', cmsv.last_name) as \"ACCOUNT_NAME\",\n",
    "        to_char(disbursed_on_date, 'DD-Mon-YYYY') as \"DISBURSEMENT_DATE\", -- cannot be in format 'DD-Mon-YYYY' and still be dtype date\n",
    "        coalesce(principal_disbursed, 0) as \"PRINCIPAL_LOAN_AMOUNT_DISBURSED\",\n",
    "        coalesce(total_outstanding, 0) as \"OUTSTANDING_LOAN_BALANCE\",\n",
    "        0 as \"DEBIT_INTEREST_RATE\",\n",
    "        coalesce(interest_charged, 0) as \"FACILITY_ARRANGEMENT_FEE_CHARGE\",\n",
    "        0 as \"UPFRONT_INTEREST_FEES_CHARGE\",\n",
    "        0 as \"COST_OF_WALLET_TRANSFER\", --except for Solv\n",
    "        0 as \"INSURANCE_FEE_CHARGE\",\n",
    "        coalesce(fee_charges_charged + penalty_charges_charged, 0) as \"OTHER_CHARGE\",\n",
    "        dct.code as \"CHANNEL_TYPE_USED\",\n",
    "        pd.repay_every as \"DIGITAL_LOAN_TENOR\",\n",
    "        coalesce(total_expected_repayment, 0) as \"INSTALMENT_AMOUNT\",\n",
    "        ast.code as \"ACCOUNT_STATUS\"\n",
    "    from jumia.loans_fact_table_summary_view lftmsv\n",
    "    inner join jumia.client_summary_view cmsv on lftmsv.client_surrogate_id = cmsv.surrogate_id\n",
    "    inner join jumia.product_dimension pd on lftmsv.product_surrogate_id = pd.surrogate_id\n",
    "    inner join jumia.loan_status_dimension lsd on lftmsv.loan_status_surrogate_id = lsd.surrogate_id\n",
    "    inner join central_bank_of_kenya.digital_channel_types dct on dct.\"type\" = 'USSD'\n",
    "    inner join central_bank_of_kenya.account_status_types ast on ast.\"type\" = lsd.message\n",
    "    where loan_status in (300, 600, 700)\n",
    "    limit 100\n",
    "    \"\"\"\n",
    ")#.to_csv('~/data/Digital Loans Account Data Sample TANDA.csv', index=False)"
   ],
   "metadata": {
    "collapsed": false
   }
  },
  {
   "cell_type": "markdown",
   "source": [
    "### Overdue (Non-Performing) Digital Loans"
   ],
   "metadata": {
    "collapsed": false
   }
  },
  {
   "cell_type": "code",
   "execution_count": 13,
   "outputs": [
    {
     "name": "stdout",
     "output_type": "stream",
     "text": [
      "[\u001B[34m2023-07-05 10:03:26,663\u001B[0m] {\u001B[34mbase.py:\u001B[0m73} INFO\u001B[0m - Using connection ID 'rds_afsg_ds_prod_postgresql_dwh' for task execution.\u001B[0m\n"
     ]
    },
    {
     "data": {
      "text/plain": "\u001B[1;33m/home/henrykuria/airflow_venv/lib/python3.10/site-packages/pandas/io/\u001B[0m\u001B[1;33msql.py\u001B[0m\u001B[1;33m:\u001B[0m\u001B[1;33m761\u001B[0m\u001B[1;33m UserWarning\u001B[0m\u001B[33m: pandas only support SQLAlchemy \u001B[0m\u001B[1;33mconnectable\u001B[0m\u001B[1;33m(\u001B[0m\u001B[33mengine/connection\u001B[0m\u001B[1;33m)\u001B[0m\u001B[33m ordatabase string URI or sqlite3 DBAPI2 connectionother DBAPI2 objects are not tested, please consider using SQLAlchemy\u001B[0m\n",
      "text/html": "<pre style=\"white-space:pre;overflow-x:auto;line-height:normal;font-family:Menlo,'DejaVu Sans Mono',consolas,'Courier New',monospace\"><span style=\"color: #808000; text-decoration-color: #808000; font-weight: bold\">/home/henrykuria/airflow_venv/lib/python3.10/site-packages/pandas/io/sql.py:</span><span style=\"color: #808000; text-decoration-color: #808000; font-weight: bold\">761</span><span style=\"color: #808000; text-decoration-color: #808000; font-weight: bold\"> UserWarning</span><span style=\"color: #808000; text-decoration-color: #808000\">: pandas only support SQLAlchemy </span><span style=\"color: #808000; text-decoration-color: #808000; font-weight: bold\">connectable(</span><span style=\"color: #808000; text-decoration-color: #808000\">engine/connection</span><span style=\"color: #808000; text-decoration-color: #808000; font-weight: bold\">)</span><span style=\"color: #808000; text-decoration-color: #808000\"> ordatabase string URI or sqlite3 DBAPI2 connectionother DBAPI2 objects are not tested, please consider using SQLAlchemy</span>\n</pre>\n"
     },
     "metadata": {},
     "output_type": "display_data"
    },
    {
     "data": {
      "text/plain": "    ROW_ID DIGITAL_CREDIT_PROVIDER_CODE REPORTING_DATE CUSTOMER_ID  \\\n0        1                      0900024    05-Jul-2023      T_6082   \n1        2                      0900024    05-Jul-2023      T_7443   \n2        3                      0900024    05-Jul-2023      T_5265   \n3        4                      0900024    05-Jul-2023      T_5623   \n4        5                      0900024    05-Jul-2023      T_7517   \n5        6                      0900024    05-Jul-2023      T_6178   \n6        7                      0900024    05-Jul-2023      T_6174   \n7        8                      0900024    05-Jul-2023      T_8878   \n8        9                      0900024    05-Jul-2023      T_7570   \n9       10                      0900024    05-Jul-2023      T_9037   \n10      11                      0900024    05-Jul-2023      T_9398   \n11      12                      0900024    05-Jul-2023      T_7568   \n12      13                      0900024    05-Jul-2023      T_9286   \n13      14                      0900024    05-Jul-2023      T_9978   \n14      15                      0900024    05-Jul-2023      T_9287   \n15      16                      0900024    05-Jul-2023      T_9308   \n16      17                      0900024    05-Jul-2023      T_5460   \n17      18                      0900024    05-Jul-2023      T_8593   \n18      19                      0900024    05-Jul-2023      T_8496   \n19      20                      0900024    05-Jul-2023      T_9172   \n20      21                      0900024    05-Jul-2023     T_10035   \n21      22                      0900024    05-Jul-2023      T_9573   \n22      23                      0900024    05-Jul-2023      T_5996   \n23      24                      0900024    05-Jul-2023      T_9866   \n24      25                      0900024    05-Jul-2023      T_8676   \n25      26                      0900024    05-Jul-2023      T_9335   \n26      27                      0900024    05-Jul-2023     T_10082   \n27      28                      0900024    05-Jul-2023      T_9744   \n28      29                      0900024    05-Jul-2023      T_6791   \n29      30                      0900024    05-Jul-2023      T_5998   \n30      31                      0900024    05-Jul-2023      T_6177   \n31      32                      0900024    05-Jul-2023      T_6263   \n32      33                      0900024    05-Jul-2023     T_10277   \n33      34                      0900024    05-Jul-2023     T_10281   \n34      35                      0900024    05-Jul-2023     T_10338   \n35      36                      0900024    05-Jul-2023     T_10344   \n36      37                      0900024    05-Jul-2023      T_8304   \n37      38                      0900024    05-Jul-2023      T_6005   \n38      39                      0900024    05-Jul-2023     T_10273   \n39      40                      0900024    05-Jul-2023      T_5392   \n40      41                      0900024    05-Jul-2023     T_10247   \n41      42                      0900024    05-Jul-2023      T_7518   \n42      43                      0900024    05-Jul-2023      T_9348   \n43      44                      0900024    05-Jul-2023      T_5405   \n44      45                      0900024    05-Jul-2023      T_5044   \n45      46                      0900024    05-Jul-2023      T_9187   \n46      47                      0900024    05-Jul-2023      T_8779   \n47      48                      0900024    05-Jul-2023      T_9139   \n48      49                      0900024    05-Jul-2023      T_5929   \n49      50                      0900024    05-Jul-2023      T_8732   \n50      51                      0900024    05-Jul-2023      T_8692   \n51      52                      0900024    05-Jul-2023      T_9344   \n52      53                      0900024    05-Jul-2023      T_7667   \n53      54                      0900024    05-Jul-2023      T_9763   \n54      55                      0900024    05-Jul-2023     T_10114   \n55      56                      0900024    05-Jul-2023      T_9327   \n56      57                      0900024    05-Jul-2023      T_5028   \n57      58                      0900024    05-Jul-2023      T_6007   \n58      59                      0900024    05-Jul-2023     T_10108   \n\n   LOAN_ACCOUNT_CONTRACT_NUMBER OVERDUE_DATE  PRINCIPAL_ARREARS_AMOUNT  \\\n0                        T_3999  06-Jul-2022                    4700.0   \n1                        T_5907  04-Oct-2022                   19500.0   \n2                        T_2797  05-May-2022                   34239.0   \n3                        T_5121  25-Aug-2022                    7800.0   \n4                        T_5968  06-Oct-2022                   12500.0   \n5                        T_4130  13-Jul-2022                   20000.0   \n6                        T_5571  16-Sep-2022                   15100.0   \n7                        T_7255  14-Dec-2022                    1442.0   \n8                        T_6009  12-Sep-2022                    5900.0   \n9                        T_7650  29-Dec-2022                   86109.0   \n10                       T_8324  30-Jan-2023                   16900.0   \n11                       T_7313  15-Dec-2022                    5514.0   \n12                       T_8086  19-Jan-2023                  107017.0   \n13                       T_9435  19-Feb-2023                    7400.0   \n14                       T_8088  19-Jan-2023                    5715.0   \n15                       T_8131  22-Jan-2023                    6000.0   \n16                       T_3742  24-Jun-2022                   13127.0   \n17                       T_6843  26-Oct-2022                     335.0   \n18                       T_6710  17-Nov-2022                   25500.0   \n19                       T_7906  11-Jan-2023                    8229.0   \n20                       T_9560  25-Feb-2023                    2200.0   \n21                       T_9906  16-Mar-2023                     137.0   \n22                       T_9559  27-Mar-2023                   12300.0   \n23                       T_9207  12-Mar-2023                   13300.0   \n24                       T_8143  23-Jan-2023                    1132.0   \n25                       T_9485  24-Mar-2023                     313.0   \n26                       T_9757  04-Apr-2023                    8400.0   \n27                       T_9851  11-Apr-2023                   24400.0   \n28                      T_10073  30-Apr-2023                   61200.0   \n29                       T_9430  21-Mar-2023                    1555.0   \n30                       T_5906  04-Oct-2022                    6900.0   \n31                      T_10444  22-May-2023                    5200.0   \n32                      T_10522  24-May-2023                    8127.0   \n33                      T_10690  01-Jun-2023                   16731.0   \n34                      T_10862  10-Jun-2023                   64700.0   \n35                      T_10888  11-Jun-2023                    2096.0   \n36                       T_6568  09-Nov-2022                    2691.0   \n37                       T_9529  25-Mar-2023                   13300.0   \n38                      T_10505  24-May-2023                    5914.0   \n39                       T_4108  14-Jun-2022                       1.0   \n40                      T_10443  21-Apr-2023                    2700.0   \n41                       T_5969  06-Oct-2022                       4.0   \n42                       T_8210  25-Jan-2023                   16843.0   \n43                       T_9852  11-Apr-2023                   11397.0   \n44                      T_10889  11-Jun-2023                    6709.0   \n45                       T_7925  12-Jan-2023                    3083.0   \n46                       T_8406  02-Feb-2023                     634.0   \n47                       T_7816  08-Jan-2023                     712.0   \n48                       T_3824  29-Jun-2022                   29708.0   \n49                       T_6995  01-Dec-2022                   64210.0   \n50                       T_9964  21-Apr-2023                   76450.0   \n51                       T_8191  27-Dec-2022                    5300.0   \n52                       T_6072  16-Oct-2022                   69100.0   \n53                       T_9029  05-Mar-2023                   21729.0   \n54                       T_9977  22-Apr-2023                    8234.0   \n55                      T_10861  10-Jun-2023                   16185.0   \n56                       T_2719  03-Apr-2022                   13126.0   \n57                       T_3923  04-Jul-2022                       7.0   \n58                       T_9935  19-May-2023                  320643.0   \n\n    TOTAL_OUTSTANDING_AMOUNT  \n0                     6500.0  \n1                    28373.0  \n2                    61971.0  \n3                    10762.0  \n4                    13724.0  \n5                    25438.0  \n6                    19660.0  \n7                     1827.0  \n8                     8287.0  \n9                    96427.0  \n10                   25208.0  \n11                    5518.0  \n12                  107011.0  \n13                   11605.0  \n14                    9263.0  \n15                    9709.0  \n16                   14328.0  \n17                     335.0  \n18                   14942.0  \n19                    9575.0  \n20                    2905.0  \n21                     137.0  \n22                   18809.0  \n23                   19365.0  \n24                       0.0  \n25                     313.0  \n26                   11912.0  \n27                   37591.0  \n28                  101521.0  \n29                    1555.0  \n30                    7554.0  \n31                    8102.0  \n32                    8127.0  \n33                   16731.0  \n34                  107326.0  \n35                    2096.0  \n36                    3277.0  \n37                   15046.0  \n38                    5914.0  \n39                       1.0  \n40                    3223.0  \n41                       4.0  \n42                   16810.0  \n43                   11397.0  \n44                    6709.0  \n45                    2779.0  \n46                    1164.0  \n47                    1396.0  \n48                   32201.0  \n49                   71132.0  \n50                   76450.0  \n51                    7459.0  \n52                   99026.0  \n53                   21729.0  \n54                    8234.0  \n55                   16185.0  \n56                   13542.0  \n57                       7.0  \n58                  320643.0  ",
      "text/html": "<div>\n<style scoped>\n    .dataframe tbody tr th:only-of-type {\n        vertical-align: middle;\n    }\n\n    .dataframe tbody tr th {\n        vertical-align: top;\n    }\n\n    .dataframe thead th {\n        text-align: right;\n    }\n</style>\n<table border=\"1\" class=\"dataframe\">\n  <thead>\n    <tr style=\"text-align: right;\">\n      <th></th>\n      <th>ROW_ID</th>\n      <th>DIGITAL_CREDIT_PROVIDER_CODE</th>\n      <th>REPORTING_DATE</th>\n      <th>CUSTOMER_ID</th>\n      <th>LOAN_ACCOUNT_CONTRACT_NUMBER</th>\n      <th>OVERDUE_DATE</th>\n      <th>PRINCIPAL_ARREARS_AMOUNT</th>\n      <th>TOTAL_OUTSTANDING_AMOUNT</th>\n    </tr>\n  </thead>\n  <tbody>\n    <tr>\n      <th>0</th>\n      <td>1</td>\n      <td>0900024</td>\n      <td>05-Jul-2023</td>\n      <td>T_6082</td>\n      <td>T_3999</td>\n      <td>06-Jul-2022</td>\n      <td>4700.0</td>\n      <td>6500.0</td>\n    </tr>\n    <tr>\n      <th>1</th>\n      <td>2</td>\n      <td>0900024</td>\n      <td>05-Jul-2023</td>\n      <td>T_7443</td>\n      <td>T_5907</td>\n      <td>04-Oct-2022</td>\n      <td>19500.0</td>\n      <td>28373.0</td>\n    </tr>\n    <tr>\n      <th>2</th>\n      <td>3</td>\n      <td>0900024</td>\n      <td>05-Jul-2023</td>\n      <td>T_5265</td>\n      <td>T_2797</td>\n      <td>05-May-2022</td>\n      <td>34239.0</td>\n      <td>61971.0</td>\n    </tr>\n    <tr>\n      <th>3</th>\n      <td>4</td>\n      <td>0900024</td>\n      <td>05-Jul-2023</td>\n      <td>T_5623</td>\n      <td>T_5121</td>\n      <td>25-Aug-2022</td>\n      <td>7800.0</td>\n      <td>10762.0</td>\n    </tr>\n    <tr>\n      <th>4</th>\n      <td>5</td>\n      <td>0900024</td>\n      <td>05-Jul-2023</td>\n      <td>T_7517</td>\n      <td>T_5968</td>\n      <td>06-Oct-2022</td>\n      <td>12500.0</td>\n      <td>13724.0</td>\n    </tr>\n    <tr>\n      <th>5</th>\n      <td>6</td>\n      <td>0900024</td>\n      <td>05-Jul-2023</td>\n      <td>T_6178</td>\n      <td>T_4130</td>\n      <td>13-Jul-2022</td>\n      <td>20000.0</td>\n      <td>25438.0</td>\n    </tr>\n    <tr>\n      <th>6</th>\n      <td>7</td>\n      <td>0900024</td>\n      <td>05-Jul-2023</td>\n      <td>T_6174</td>\n      <td>T_5571</td>\n      <td>16-Sep-2022</td>\n      <td>15100.0</td>\n      <td>19660.0</td>\n    </tr>\n    <tr>\n      <th>7</th>\n      <td>8</td>\n      <td>0900024</td>\n      <td>05-Jul-2023</td>\n      <td>T_8878</td>\n      <td>T_7255</td>\n      <td>14-Dec-2022</td>\n      <td>1442.0</td>\n      <td>1827.0</td>\n    </tr>\n    <tr>\n      <th>8</th>\n      <td>9</td>\n      <td>0900024</td>\n      <td>05-Jul-2023</td>\n      <td>T_7570</td>\n      <td>T_6009</td>\n      <td>12-Sep-2022</td>\n      <td>5900.0</td>\n      <td>8287.0</td>\n    </tr>\n    <tr>\n      <th>9</th>\n      <td>10</td>\n      <td>0900024</td>\n      <td>05-Jul-2023</td>\n      <td>T_9037</td>\n      <td>T_7650</td>\n      <td>29-Dec-2022</td>\n      <td>86109.0</td>\n      <td>96427.0</td>\n    </tr>\n    <tr>\n      <th>10</th>\n      <td>11</td>\n      <td>0900024</td>\n      <td>05-Jul-2023</td>\n      <td>T_9398</td>\n      <td>T_8324</td>\n      <td>30-Jan-2023</td>\n      <td>16900.0</td>\n      <td>25208.0</td>\n    </tr>\n    <tr>\n      <th>11</th>\n      <td>12</td>\n      <td>0900024</td>\n      <td>05-Jul-2023</td>\n      <td>T_7568</td>\n      <td>T_7313</td>\n      <td>15-Dec-2022</td>\n      <td>5514.0</td>\n      <td>5518.0</td>\n    </tr>\n    <tr>\n      <th>12</th>\n      <td>13</td>\n      <td>0900024</td>\n      <td>05-Jul-2023</td>\n      <td>T_9286</td>\n      <td>T_8086</td>\n      <td>19-Jan-2023</td>\n      <td>107017.0</td>\n      <td>107011.0</td>\n    </tr>\n    <tr>\n      <th>13</th>\n      <td>14</td>\n      <td>0900024</td>\n      <td>05-Jul-2023</td>\n      <td>T_9978</td>\n      <td>T_9435</td>\n      <td>19-Feb-2023</td>\n      <td>7400.0</td>\n      <td>11605.0</td>\n    </tr>\n    <tr>\n      <th>14</th>\n      <td>15</td>\n      <td>0900024</td>\n      <td>05-Jul-2023</td>\n      <td>T_9287</td>\n      <td>T_8088</td>\n      <td>19-Jan-2023</td>\n      <td>5715.0</td>\n      <td>9263.0</td>\n    </tr>\n    <tr>\n      <th>15</th>\n      <td>16</td>\n      <td>0900024</td>\n      <td>05-Jul-2023</td>\n      <td>T_9308</td>\n      <td>T_8131</td>\n      <td>22-Jan-2023</td>\n      <td>6000.0</td>\n      <td>9709.0</td>\n    </tr>\n    <tr>\n      <th>16</th>\n      <td>17</td>\n      <td>0900024</td>\n      <td>05-Jul-2023</td>\n      <td>T_5460</td>\n      <td>T_3742</td>\n      <td>24-Jun-2022</td>\n      <td>13127.0</td>\n      <td>14328.0</td>\n    </tr>\n    <tr>\n      <th>17</th>\n      <td>18</td>\n      <td>0900024</td>\n      <td>05-Jul-2023</td>\n      <td>T_8593</td>\n      <td>T_6843</td>\n      <td>26-Oct-2022</td>\n      <td>335.0</td>\n      <td>335.0</td>\n    </tr>\n    <tr>\n      <th>18</th>\n      <td>19</td>\n      <td>0900024</td>\n      <td>05-Jul-2023</td>\n      <td>T_8496</td>\n      <td>T_6710</td>\n      <td>17-Nov-2022</td>\n      <td>25500.0</td>\n      <td>14942.0</td>\n    </tr>\n    <tr>\n      <th>19</th>\n      <td>20</td>\n      <td>0900024</td>\n      <td>05-Jul-2023</td>\n      <td>T_9172</td>\n      <td>T_7906</td>\n      <td>11-Jan-2023</td>\n      <td>8229.0</td>\n      <td>9575.0</td>\n    </tr>\n    <tr>\n      <th>20</th>\n      <td>21</td>\n      <td>0900024</td>\n      <td>05-Jul-2023</td>\n      <td>T_10035</td>\n      <td>T_9560</td>\n      <td>25-Feb-2023</td>\n      <td>2200.0</td>\n      <td>2905.0</td>\n    </tr>\n    <tr>\n      <th>21</th>\n      <td>22</td>\n      <td>0900024</td>\n      <td>05-Jul-2023</td>\n      <td>T_9573</td>\n      <td>T_9906</td>\n      <td>16-Mar-2023</td>\n      <td>137.0</td>\n      <td>137.0</td>\n    </tr>\n    <tr>\n      <th>22</th>\n      <td>23</td>\n      <td>0900024</td>\n      <td>05-Jul-2023</td>\n      <td>T_5996</td>\n      <td>T_9559</td>\n      <td>27-Mar-2023</td>\n      <td>12300.0</td>\n      <td>18809.0</td>\n    </tr>\n    <tr>\n      <th>23</th>\n      <td>24</td>\n      <td>0900024</td>\n      <td>05-Jul-2023</td>\n      <td>T_9866</td>\n      <td>T_9207</td>\n      <td>12-Mar-2023</td>\n      <td>13300.0</td>\n      <td>19365.0</td>\n    </tr>\n    <tr>\n      <th>24</th>\n      <td>25</td>\n      <td>0900024</td>\n      <td>05-Jul-2023</td>\n      <td>T_8676</td>\n      <td>T_8143</td>\n      <td>23-Jan-2023</td>\n      <td>1132.0</td>\n      <td>0.0</td>\n    </tr>\n    <tr>\n      <th>25</th>\n      <td>26</td>\n      <td>0900024</td>\n      <td>05-Jul-2023</td>\n      <td>T_9335</td>\n      <td>T_9485</td>\n      <td>24-Mar-2023</td>\n      <td>313.0</td>\n      <td>313.0</td>\n    </tr>\n    <tr>\n      <th>26</th>\n      <td>27</td>\n      <td>0900024</td>\n      <td>05-Jul-2023</td>\n      <td>T_10082</td>\n      <td>T_9757</td>\n      <td>04-Apr-2023</td>\n      <td>8400.0</td>\n      <td>11912.0</td>\n    </tr>\n    <tr>\n      <th>27</th>\n      <td>28</td>\n      <td>0900024</td>\n      <td>05-Jul-2023</td>\n      <td>T_9744</td>\n      <td>T_9851</td>\n      <td>11-Apr-2023</td>\n      <td>24400.0</td>\n      <td>37591.0</td>\n    </tr>\n    <tr>\n      <th>28</th>\n      <td>29</td>\n      <td>0900024</td>\n      <td>05-Jul-2023</td>\n      <td>T_6791</td>\n      <td>T_10073</td>\n      <td>30-Apr-2023</td>\n      <td>61200.0</td>\n      <td>101521.0</td>\n    </tr>\n    <tr>\n      <th>29</th>\n      <td>30</td>\n      <td>0900024</td>\n      <td>05-Jul-2023</td>\n      <td>T_5998</td>\n      <td>T_9430</td>\n      <td>21-Mar-2023</td>\n      <td>1555.0</td>\n      <td>1555.0</td>\n    </tr>\n    <tr>\n      <th>30</th>\n      <td>31</td>\n      <td>0900024</td>\n      <td>05-Jul-2023</td>\n      <td>T_6177</td>\n      <td>T_5906</td>\n      <td>04-Oct-2022</td>\n      <td>6900.0</td>\n      <td>7554.0</td>\n    </tr>\n    <tr>\n      <th>31</th>\n      <td>32</td>\n      <td>0900024</td>\n      <td>05-Jul-2023</td>\n      <td>T_6263</td>\n      <td>T_10444</td>\n      <td>22-May-2023</td>\n      <td>5200.0</td>\n      <td>8102.0</td>\n    </tr>\n    <tr>\n      <th>32</th>\n      <td>33</td>\n      <td>0900024</td>\n      <td>05-Jul-2023</td>\n      <td>T_10277</td>\n      <td>T_10522</td>\n      <td>24-May-2023</td>\n      <td>8127.0</td>\n      <td>8127.0</td>\n    </tr>\n    <tr>\n      <th>33</th>\n      <td>34</td>\n      <td>0900024</td>\n      <td>05-Jul-2023</td>\n      <td>T_10281</td>\n      <td>T_10690</td>\n      <td>01-Jun-2023</td>\n      <td>16731.0</td>\n      <td>16731.0</td>\n    </tr>\n    <tr>\n      <th>34</th>\n      <td>35</td>\n      <td>0900024</td>\n      <td>05-Jul-2023</td>\n      <td>T_10338</td>\n      <td>T_10862</td>\n      <td>10-Jun-2023</td>\n      <td>64700.0</td>\n      <td>107326.0</td>\n    </tr>\n    <tr>\n      <th>35</th>\n      <td>36</td>\n      <td>0900024</td>\n      <td>05-Jul-2023</td>\n      <td>T_10344</td>\n      <td>T_10888</td>\n      <td>11-Jun-2023</td>\n      <td>2096.0</td>\n      <td>2096.0</td>\n    </tr>\n    <tr>\n      <th>36</th>\n      <td>37</td>\n      <td>0900024</td>\n      <td>05-Jul-2023</td>\n      <td>T_8304</td>\n      <td>T_6568</td>\n      <td>09-Nov-2022</td>\n      <td>2691.0</td>\n      <td>3277.0</td>\n    </tr>\n    <tr>\n      <th>37</th>\n      <td>38</td>\n      <td>0900024</td>\n      <td>05-Jul-2023</td>\n      <td>T_6005</td>\n      <td>T_9529</td>\n      <td>25-Mar-2023</td>\n      <td>13300.0</td>\n      <td>15046.0</td>\n    </tr>\n    <tr>\n      <th>38</th>\n      <td>39</td>\n      <td>0900024</td>\n      <td>05-Jul-2023</td>\n      <td>T_10273</td>\n      <td>T_10505</td>\n      <td>24-May-2023</td>\n      <td>5914.0</td>\n      <td>5914.0</td>\n    </tr>\n    <tr>\n      <th>39</th>\n      <td>40</td>\n      <td>0900024</td>\n      <td>05-Jul-2023</td>\n      <td>T_5392</td>\n      <td>T_4108</td>\n      <td>14-Jun-2022</td>\n      <td>1.0</td>\n      <td>1.0</td>\n    </tr>\n    <tr>\n      <th>40</th>\n      <td>41</td>\n      <td>0900024</td>\n      <td>05-Jul-2023</td>\n      <td>T_10247</td>\n      <td>T_10443</td>\n      <td>21-Apr-2023</td>\n      <td>2700.0</td>\n      <td>3223.0</td>\n    </tr>\n    <tr>\n      <th>41</th>\n      <td>42</td>\n      <td>0900024</td>\n      <td>05-Jul-2023</td>\n      <td>T_7518</td>\n      <td>T_5969</td>\n      <td>06-Oct-2022</td>\n      <td>4.0</td>\n      <td>4.0</td>\n    </tr>\n    <tr>\n      <th>42</th>\n      <td>43</td>\n      <td>0900024</td>\n      <td>05-Jul-2023</td>\n      <td>T_9348</td>\n      <td>T_8210</td>\n      <td>25-Jan-2023</td>\n      <td>16843.0</td>\n      <td>16810.0</td>\n    </tr>\n    <tr>\n      <th>43</th>\n      <td>44</td>\n      <td>0900024</td>\n      <td>05-Jul-2023</td>\n      <td>T_5405</td>\n      <td>T_9852</td>\n      <td>11-Apr-2023</td>\n      <td>11397.0</td>\n      <td>11397.0</td>\n    </tr>\n    <tr>\n      <th>44</th>\n      <td>45</td>\n      <td>0900024</td>\n      <td>05-Jul-2023</td>\n      <td>T_5044</td>\n      <td>T_10889</td>\n      <td>11-Jun-2023</td>\n      <td>6709.0</td>\n      <td>6709.0</td>\n    </tr>\n    <tr>\n      <th>45</th>\n      <td>46</td>\n      <td>0900024</td>\n      <td>05-Jul-2023</td>\n      <td>T_9187</td>\n      <td>T_7925</td>\n      <td>12-Jan-2023</td>\n      <td>3083.0</td>\n      <td>2779.0</td>\n    </tr>\n    <tr>\n      <th>46</th>\n      <td>47</td>\n      <td>0900024</td>\n      <td>05-Jul-2023</td>\n      <td>T_8779</td>\n      <td>T_8406</td>\n      <td>02-Feb-2023</td>\n      <td>634.0</td>\n      <td>1164.0</td>\n    </tr>\n    <tr>\n      <th>47</th>\n      <td>48</td>\n      <td>0900024</td>\n      <td>05-Jul-2023</td>\n      <td>T_9139</td>\n      <td>T_7816</td>\n      <td>08-Jan-2023</td>\n      <td>712.0</td>\n      <td>1396.0</td>\n    </tr>\n    <tr>\n      <th>48</th>\n      <td>49</td>\n      <td>0900024</td>\n      <td>05-Jul-2023</td>\n      <td>T_5929</td>\n      <td>T_3824</td>\n      <td>29-Jun-2022</td>\n      <td>29708.0</td>\n      <td>32201.0</td>\n    </tr>\n    <tr>\n      <th>49</th>\n      <td>50</td>\n      <td>0900024</td>\n      <td>05-Jul-2023</td>\n      <td>T_8732</td>\n      <td>T_6995</td>\n      <td>01-Dec-2022</td>\n      <td>64210.0</td>\n      <td>71132.0</td>\n    </tr>\n    <tr>\n      <th>50</th>\n      <td>51</td>\n      <td>0900024</td>\n      <td>05-Jul-2023</td>\n      <td>T_8692</td>\n      <td>T_9964</td>\n      <td>21-Apr-2023</td>\n      <td>76450.0</td>\n      <td>76450.0</td>\n    </tr>\n    <tr>\n      <th>51</th>\n      <td>52</td>\n      <td>0900024</td>\n      <td>05-Jul-2023</td>\n      <td>T_9344</td>\n      <td>T_8191</td>\n      <td>27-Dec-2022</td>\n      <td>5300.0</td>\n      <td>7459.0</td>\n    </tr>\n    <tr>\n      <th>52</th>\n      <td>53</td>\n      <td>0900024</td>\n      <td>05-Jul-2023</td>\n      <td>T_7667</td>\n      <td>T_6072</td>\n      <td>16-Oct-2022</td>\n      <td>69100.0</td>\n      <td>99026.0</td>\n    </tr>\n    <tr>\n      <th>53</th>\n      <td>54</td>\n      <td>0900024</td>\n      <td>05-Jul-2023</td>\n      <td>T_9763</td>\n      <td>T_9029</td>\n      <td>05-Mar-2023</td>\n      <td>21729.0</td>\n      <td>21729.0</td>\n    </tr>\n    <tr>\n      <th>54</th>\n      <td>55</td>\n      <td>0900024</td>\n      <td>05-Jul-2023</td>\n      <td>T_10114</td>\n      <td>T_9977</td>\n      <td>22-Apr-2023</td>\n      <td>8234.0</td>\n      <td>8234.0</td>\n    </tr>\n    <tr>\n      <th>55</th>\n      <td>56</td>\n      <td>0900024</td>\n      <td>05-Jul-2023</td>\n      <td>T_9327</td>\n      <td>T_10861</td>\n      <td>10-Jun-2023</td>\n      <td>16185.0</td>\n      <td>16185.0</td>\n    </tr>\n    <tr>\n      <th>56</th>\n      <td>57</td>\n      <td>0900024</td>\n      <td>05-Jul-2023</td>\n      <td>T_5028</td>\n      <td>T_2719</td>\n      <td>03-Apr-2022</td>\n      <td>13126.0</td>\n      <td>13542.0</td>\n    </tr>\n    <tr>\n      <th>57</th>\n      <td>58</td>\n      <td>0900024</td>\n      <td>05-Jul-2023</td>\n      <td>T_6007</td>\n      <td>T_3923</td>\n      <td>04-Jul-2022</td>\n      <td>7.0</td>\n      <td>7.0</td>\n    </tr>\n    <tr>\n      <th>58</th>\n      <td>59</td>\n      <td>0900024</td>\n      <td>05-Jul-2023</td>\n      <td>T_10108</td>\n      <td>T_9935</td>\n      <td>19-May-2023</td>\n      <td>320643.0</td>\n      <td>320643.0</td>\n    </tr>\n  </tbody>\n</table>\n</div>"
     },
     "execution_count": 13,
     "metadata": {},
     "output_type": "execute_result"
    }
   ],
   "source": [
    "warehouse_hook.get_pandas_df(\n",
    "    sql=\"\"\"\n",
    "    -- Overdue (Non-Performing) Digital Loans\n",
    "    select\n",
    "        row_number() over () as \"ROW_ID\",\n",
    "        '0900024' as \"DIGITAL_CREDIT_PROVIDER_CODE\",\n",
    "        to_char(current_date, 'DD-Mon-YYYY') as \"REPORTING_DATE\", -- cannot be in format 'DD-Mon-YYYY' and still be dtype date\n",
    "        concat('J_', cmsv.mifos_id) as \"CUSTOMER_ID\",\n",
    "        concat('J_', lftmsv.loan_mifos_id) as \"LOAN_ACCOUNT_CONTRACT_NUMBER\",\n",
    "        to_char(expected_matured_on_date + '90 day'::interval, 'DD-Mon-YYYY') as \"OVERDUE_DATE\", -- cannot be in format 'DD-Mon-YYYY' and still be dtype date\n",
    "        coalesce(principal_outstanding, 0) as \"PRINCIPAL_ARREARS_AMOUNT\",\n",
    "        coalesce(total_outstanding, 0) as \"TOTAL_OUTSTANDING_AMOUNT\"\n",
    "    from jumia.loans_fact_table_summary_view lftmsv\n",
    "    inner join jumia.client_summary_view cmsv on lftmsv.client_surrogate_id = cmsv.surrogate_id\n",
    "    where current_date - (expected_matured_on_date + '90 day'::interval)::date >= 1 and loan_status = 300\n",
    "    limit 100\n",
    "    \"\"\"\n",
    ")##.to_csv('~/data/Overdue (Non-Performing) Digital Loans Sample TANDA.csv', index=False)"
   ],
   "metadata": {
    "collapsed": false
   }
  },
  {
   "cell_type": "markdown",
   "source": [
    "### Digital Loan Repayments Data"
   ],
   "metadata": {
    "collapsed": false
   }
  },
  {
   "cell_type": "code",
   "execution_count": 15,
   "outputs": [
    {
     "name": "stdout",
     "output_type": "stream",
     "text": [
      "[\u001B[34m2023-07-05 10:11:08,821\u001B[0m] {\u001B[34mbase.py:\u001B[0m73} INFO\u001B[0m - Using connection ID 'rds_afsg_ds_prod_postgresql_dwh' for task execution.\u001B[0m\n"
     ]
    },
    {
     "data": {
      "text/plain": "\u001B[1;33m/home/henrykuria/airflow_venv/lib/python3.10/site-packages/pandas/io/\u001B[0m\u001B[1;33msql.py\u001B[0m\u001B[1;33m:\u001B[0m\u001B[1;33m761\u001B[0m\u001B[1;33m UserWarning\u001B[0m\u001B[33m: pandas only support SQLAlchemy \u001B[0m\u001B[1;33mconnectable\u001B[0m\u001B[1;33m(\u001B[0m\u001B[33mengine/connection\u001B[0m\u001B[1;33m)\u001B[0m\u001B[33m ordatabase string URI or sqlite3 DBAPI2 connectionother DBAPI2 objects are not tested, please consider using SQLAlchemy\u001B[0m\n",
      "text/html": "<pre style=\"white-space:pre;overflow-x:auto;line-height:normal;font-family:Menlo,'DejaVu Sans Mono',consolas,'Courier New',monospace\"><span style=\"color: #808000; text-decoration-color: #808000; font-weight: bold\">/home/henrykuria/airflow_venv/lib/python3.10/site-packages/pandas/io/sql.py:</span><span style=\"color: #808000; text-decoration-color: #808000; font-weight: bold\">761</span><span style=\"color: #808000; text-decoration-color: #808000; font-weight: bold\"> UserWarning</span><span style=\"color: #808000; text-decoration-color: #808000\">: pandas only support SQLAlchemy </span><span style=\"color: #808000; text-decoration-color: #808000; font-weight: bold\">connectable(</span><span style=\"color: #808000; text-decoration-color: #808000\">engine/connection</span><span style=\"color: #808000; text-decoration-color: #808000; font-weight: bold\">)</span><span style=\"color: #808000; text-decoration-color: #808000\"> ordatabase string URI or sqlite3 DBAPI2 connectionother DBAPI2 objects are not tested, please consider using SQLAlchemy</span>\n</pre>\n"
     },
     "metadata": {},
     "output_type": "display_data"
    },
    {
     "data": {
      "text/plain": "    ROW_ID DIGITAL_CREDIT_PROVIDER_CODE REPORTING_DATE CUSTOMER_ID  \\\n0        1                      0900024    05-Jul-2023       J_946   \n1        2                      0900024    05-Jul-2023       J_946   \n2        3                      0900024    05-Jul-2023       J_946   \n3        4                      0900024    05-Jul-2023       J_946   \n4        5                      0900024    05-Jul-2023       J_946   \n..     ...                          ...            ...         ...   \n95      96                      0900024    05-Jul-2023      J_6231   \n96      97                      0900024    05-Jul-2023      J_5999   \n97      98                      0900024    05-Jul-2023      J_6079   \n98      99                      0900024    05-Jul-2023      J_5625   \n99     100                      0900024    05-Jul-2023      J_5623   \n\n   LOAN_ACCOUNT_CONTRACT_NUMBER  OUTSTANDING_LOAN_BALANCE  \\\n0                         J_167                    4471.0   \n1                         J_167                       2.0   \n2                         J_167                    7314.0   \n3                         J_186                    6505.0   \n4                         J_186                   15000.0   \n..                          ...                       ...   \n95                       J_4244                       1.0   \n96                       J_4505                       1.0   \n97                       J_3996                       3.0   \n98                       J_3998                       3.0   \n99                       J_4018                       2.0   \n\n    ACCRUED_INTEREST_BALANCE  INTEREST_CHARGED_ON_REPAYMENT  \\\n0                        0.0                              0   \n1                        0.0                              0   \n2                        0.0                              0   \n3                        0.0                              0   \n4                        0.0                              0   \n..                       ...                            ...   \n95                       0.0                              0   \n96                       0.0                              0   \n97                       0.0                              0   \n98                       0.0                              0   \n99                       0.0                              0   \n\n    LATE_PAYMENT_FEE_CHARGE LOAN_REPAYMENT_DATE  PRINCIPAL_LOAN_AMOUNT_REPAID  \n0                       0.0         27-May-2021                        2843.0  \n1                       0.0         02-Jun-2021                        4469.0  \n2                       0.0         20-May-2021                        2686.0  \n3                       0.0         30-Jun-2021                        8495.0  \n4                       0.0         23-Jun-2021                        7500.0  \n..                      ...                 ...                           ...  \n95                      0.0         17-Mar-2022                        3999.0  \n96                      0.0         21-Mar-2022                        4099.0  \n97                      0.0         09-Mar-2022                        8297.0  \n98                      0.0         01-Mar-2022                        9097.0  \n99                      0.0         23-Mar-2022                        6598.0  \n\n[100 rows x 11 columns]",
      "text/html": "<div>\n<style scoped>\n    .dataframe tbody tr th:only-of-type {\n        vertical-align: middle;\n    }\n\n    .dataframe tbody tr th {\n        vertical-align: top;\n    }\n\n    .dataframe thead th {\n        text-align: right;\n    }\n</style>\n<table border=\"1\" class=\"dataframe\">\n  <thead>\n    <tr style=\"text-align: right;\">\n      <th></th>\n      <th>ROW_ID</th>\n      <th>DIGITAL_CREDIT_PROVIDER_CODE</th>\n      <th>REPORTING_DATE</th>\n      <th>CUSTOMER_ID</th>\n      <th>LOAN_ACCOUNT_CONTRACT_NUMBER</th>\n      <th>OUTSTANDING_LOAN_BALANCE</th>\n      <th>ACCRUED_INTEREST_BALANCE</th>\n      <th>INTEREST_CHARGED_ON_REPAYMENT</th>\n      <th>LATE_PAYMENT_FEE_CHARGE</th>\n      <th>LOAN_REPAYMENT_DATE</th>\n      <th>PRINCIPAL_LOAN_AMOUNT_REPAID</th>\n    </tr>\n  </thead>\n  <tbody>\n    <tr>\n      <th>0</th>\n      <td>1</td>\n      <td>0900024</td>\n      <td>05-Jul-2023</td>\n      <td>J_946</td>\n      <td>J_167</td>\n      <td>4471.0</td>\n      <td>0.0</td>\n      <td>0</td>\n      <td>0.0</td>\n      <td>27-May-2021</td>\n      <td>2843.0</td>\n    </tr>\n    <tr>\n      <th>1</th>\n      <td>2</td>\n      <td>0900024</td>\n      <td>05-Jul-2023</td>\n      <td>J_946</td>\n      <td>J_167</td>\n      <td>2.0</td>\n      <td>0.0</td>\n      <td>0</td>\n      <td>0.0</td>\n      <td>02-Jun-2021</td>\n      <td>4469.0</td>\n    </tr>\n    <tr>\n      <th>2</th>\n      <td>3</td>\n      <td>0900024</td>\n      <td>05-Jul-2023</td>\n      <td>J_946</td>\n      <td>J_167</td>\n      <td>7314.0</td>\n      <td>0.0</td>\n      <td>0</td>\n      <td>0.0</td>\n      <td>20-May-2021</td>\n      <td>2686.0</td>\n    </tr>\n    <tr>\n      <th>3</th>\n      <td>4</td>\n      <td>0900024</td>\n      <td>05-Jul-2023</td>\n      <td>J_946</td>\n      <td>J_186</td>\n      <td>6505.0</td>\n      <td>0.0</td>\n      <td>0</td>\n      <td>0.0</td>\n      <td>30-Jun-2021</td>\n      <td>8495.0</td>\n    </tr>\n    <tr>\n      <th>4</th>\n      <td>5</td>\n      <td>0900024</td>\n      <td>05-Jul-2023</td>\n      <td>J_946</td>\n      <td>J_186</td>\n      <td>15000.0</td>\n      <td>0.0</td>\n      <td>0</td>\n      <td>0.0</td>\n      <td>23-Jun-2021</td>\n      <td>7500.0</td>\n    </tr>\n    <tr>\n      <th>...</th>\n      <td>...</td>\n      <td>...</td>\n      <td>...</td>\n      <td>...</td>\n      <td>...</td>\n      <td>...</td>\n      <td>...</td>\n      <td>...</td>\n      <td>...</td>\n      <td>...</td>\n      <td>...</td>\n    </tr>\n    <tr>\n      <th>95</th>\n      <td>96</td>\n      <td>0900024</td>\n      <td>05-Jul-2023</td>\n      <td>J_6231</td>\n      <td>J_4244</td>\n      <td>1.0</td>\n      <td>0.0</td>\n      <td>0</td>\n      <td>0.0</td>\n      <td>17-Mar-2022</td>\n      <td>3999.0</td>\n    </tr>\n    <tr>\n      <th>96</th>\n      <td>97</td>\n      <td>0900024</td>\n      <td>05-Jul-2023</td>\n      <td>J_5999</td>\n      <td>J_4505</td>\n      <td>1.0</td>\n      <td>0.0</td>\n      <td>0</td>\n      <td>0.0</td>\n      <td>21-Mar-2022</td>\n      <td>4099.0</td>\n    </tr>\n    <tr>\n      <th>97</th>\n      <td>98</td>\n      <td>0900024</td>\n      <td>05-Jul-2023</td>\n      <td>J_6079</td>\n      <td>J_3996</td>\n      <td>3.0</td>\n      <td>0.0</td>\n      <td>0</td>\n      <td>0.0</td>\n      <td>09-Mar-2022</td>\n      <td>8297.0</td>\n    </tr>\n    <tr>\n      <th>98</th>\n      <td>99</td>\n      <td>0900024</td>\n      <td>05-Jul-2023</td>\n      <td>J_5625</td>\n      <td>J_3998</td>\n      <td>3.0</td>\n      <td>0.0</td>\n      <td>0</td>\n      <td>0.0</td>\n      <td>01-Mar-2022</td>\n      <td>9097.0</td>\n    </tr>\n    <tr>\n      <th>99</th>\n      <td>100</td>\n      <td>0900024</td>\n      <td>05-Jul-2023</td>\n      <td>J_5623</td>\n      <td>J_4018</td>\n      <td>2.0</td>\n      <td>0.0</td>\n      <td>0</td>\n      <td>0.0</td>\n      <td>23-Mar-2022</td>\n      <td>6598.0</td>\n    </tr>\n  </tbody>\n</table>\n<p>100 rows × 11 columns</p>\n</div>"
     },
     "execution_count": 15,
     "metadata": {},
     "output_type": "execute_result"
    }
   ],
   "source": [
    "warehouse_hook.get_pandas_df(\n",
    "    sql=\"\"\"\n",
    "    -- Digital Loan Repayments Data\n",
    "    select\n",
    "        row_number() over () as \"ROW_ID\",\n",
    "        '0900024' as \"DIGITAL_CREDIT_PROVIDER_CODE\",\n",
    "        to_char(current_date, 'DD-Mon-YYYY') as \"REPORTING_DATE\", -- cannot be in format 'DD-Mon-YYYY' and still be dtype date\n",
    "        concat('J_', cmsv.mifos_id) as \"CUSTOMER_ID\",\n",
    "        concat('J_', lftmsv.loan_mifos_id) as \"LOAN_ACCOUNT_CONTRACT_NUMBER\",\n",
    "        coalesce(td.outstanding_loan_balance_derived, 0) as \"OUTSTANDING_LOAN_BALANCE\", -- data quality issue\n",
    "        coalesce(lftmsv.interest_outstanding, 0) as \"ACCRUED_INTEREST_BALANCE\",  -- data quality issue\n",
    "        0 as \"INTEREST_CHARGED_ON_REPAYMENT\",\n",
    "        coalesce(td.fee_charges_portion_derived + td.penalty_charges_portion_derived, 0) as \"LATE_PAYMENT_FEE_CHARGE\",\n",
    "        to_char(td.transaction_date, 'DD-Mon-YYYY') as \"LOAN_REPAYMENT_DATE\",\n",
    "        coalesce(td.principal_portion_derived, 0) as \"PRINCIPAL_LOAN_AMOUNT_REPAID\"\n",
    "    from jumia.transactions_dimension td\n",
    "    inner join jumia.loans_fact_table_summary_view lftmsv on lftmsv.loan_mifos_id::varchar = td.mifos_loan_id\n",
    "    inner join jumia.client_summary_view cmsv on lftmsv.client_surrogate_id = cmsv.surrogate_id\n",
    "    where td.transaction_type_enum = 2 and lower(td.receipt_number) not like '%waiv%'\n",
    "    limit 100\n",
    "    \"\"\"\n",
    ")#.to_csv('~/data/Digital Loan Repayments Data Sample TANDA.csv', index=False)"
   ],
   "metadata": {
    "collapsed": false
   }
  },
  {
   "cell_type": "markdown",
   "source": [
    "### Customer Data"
   ],
   "metadata": {
    "collapsed": false
   }
  },
  {
   "cell_type": "code",
   "execution_count": 16,
   "outputs": [
    {
     "name": "stdout",
     "output_type": "stream",
     "text": [
      "[\u001B[34m2023-07-05 10:12:50,180\u001B[0m] {\u001B[34mbase.py:\u001B[0m73} INFO\u001B[0m - Using connection ID 'rds_afsg_ds_prod_postgresql_dwh' for task execution.\u001B[0m\n"
     ]
    },
    {
     "data": {
      "text/plain": "\u001B[1;33m/home/henrykuria/airflow_venv/lib/python3.10/site-packages/pandas/io/\u001B[0m\u001B[1;33msql.py\u001B[0m\u001B[1;33m:\u001B[0m\u001B[1;33m761\u001B[0m\u001B[1;33m UserWarning\u001B[0m\u001B[33m: pandas only support SQLAlchemy \u001B[0m\u001B[1;33mconnectable\u001B[0m\u001B[1;33m(\u001B[0m\u001B[33mengine/connection\u001B[0m\u001B[1;33m)\u001B[0m\u001B[33m ordatabase string URI or sqlite3 DBAPI2 connectionother DBAPI2 objects are not tested, please consider using SQLAlchemy\u001B[0m\n",
      "text/html": "<pre style=\"white-space:pre;overflow-x:auto;line-height:normal;font-family:Menlo,'DejaVu Sans Mono',consolas,'Courier New',monospace\"><span style=\"color: #808000; text-decoration-color: #808000; font-weight: bold\">/home/henrykuria/airflow_venv/lib/python3.10/site-packages/pandas/io/sql.py:</span><span style=\"color: #808000; text-decoration-color: #808000; font-weight: bold\">761</span><span style=\"color: #808000; text-decoration-color: #808000; font-weight: bold\"> UserWarning</span><span style=\"color: #808000; text-decoration-color: #808000\">: pandas only support SQLAlchemy </span><span style=\"color: #808000; text-decoration-color: #808000; font-weight: bold\">connectable(</span><span style=\"color: #808000; text-decoration-color: #808000\">engine/connection</span><span style=\"color: #808000; text-decoration-color: #808000; font-weight: bold\">)</span><span style=\"color: #808000; text-decoration-color: #808000\"> ordatabase string URI or sqlite3 DBAPI2 connectionother DBAPI2 objects are not tested, please consider using SQLAlchemy</span>\n</pre>\n"
     },
     "metadata": {},
     "output_type": "display_data"
    },
    {
     "data": {
      "text/plain": "    ROW_ID DIGITAL_CREDIT_PROVIDER_CODE REPORTING_DATE CUSTOMER_ID  \\\n0        1                      0900024    05-Jul-2023     J_10035   \n1        2                      0900024    05-Jul-2023     J_10081   \n2        3                      0900024    05-Jul-2023     J_10082   \n3        4                      0900024    05-Jul-2023     J_10100   \n4        5                      0900024    05-Jul-2023     J_10212   \n..     ...                          ...            ...         ...   \n95      96                      0900024    05-Jul-2023      J_9602   \n96      97                      0900024    05-Jul-2023      J_9792   \n97      98                      0900024    05-Jul-2023      J_9951   \n98      99                      0900024    05-Jul-2023      J_9953   \n99     100                      0900024    05-Jul-2023      J_9978   \n\n   PRIMARY_IDENTIFICATION_DOCUMENT_TYPE NATIONAL_IDENTITY_PASSPORT_NUMBER  \\\n0                              CUSTID01                          31126787   \n1                              CUSTID01                           9705195   \n2                              CUSTID01                          34284368   \n3                              CUSTID01                          27744800   \n4                              CUSTID01                          27193391   \n..                                  ...                               ...   \n95                             CUSTID01                          32789820   \n96                             CUSTID01                          35644604   \n97                             CUSTID01                          34387832   \n98                             CUSTID01                          32233665   \n99                             CUSTID01                              None   \n\n   PERSONAL_IDENTIFICATION_NUMBER NATIONALITY GENDER FIRST_NAME MIDDLE_NAME  \\\n0                            None          KE      M      James       Maina   \n1                            None          KE      M    Kennedy        None   \n2                            None          KE      M     kelvin        None   \n3                            None          KE      M  Christine        None   \n4                            None          KE      M     Joseph        None   \n..                            ...         ...    ...        ...         ...   \n95                           None          KE      M     Danson       Ngugi   \n96                           None          KE      M      Salah        None   \n97                           None          KE      M     Robert        None   \n98                           None          KE      M    Cynthia        None   \n99                           None          KE      M     Wesley        None   \n\n    SURNAME DATE_OF_BIRTH_REGISTRATION ONBOARDING_DATE MOBILE_NUMBER  \n0   Muchiri                       None     27-Oct-2022  254706860752  \n1   Murithi                       None     04-Nov-2022  254701423528  \n2    Mawira                       None     04-Nov-2022  254796019882  \n3    Nkatha                       None     11-Nov-2022  254710392472  \n4    Mungai                       None     16-Dec-2022  254743881359  \n..      ...                        ...             ...           ...  \n95   Mwaura                       None     22-Sep-2022  254705520500  \n96     Adan                       None     06-Oct-2022          None  \n97  Wachira                       None     19-Oct-2022  254723957250  \n98    Pendo                       None     19-Oct-2022  254701794014  \n99  Anzunzu                       None     21-Oct-2022  254758308213  \n\n[100 rows x 15 columns]",
      "text/html": "<div>\n<style scoped>\n    .dataframe tbody tr th:only-of-type {\n        vertical-align: middle;\n    }\n\n    .dataframe tbody tr th {\n        vertical-align: top;\n    }\n\n    .dataframe thead th {\n        text-align: right;\n    }\n</style>\n<table border=\"1\" class=\"dataframe\">\n  <thead>\n    <tr style=\"text-align: right;\">\n      <th></th>\n      <th>ROW_ID</th>\n      <th>DIGITAL_CREDIT_PROVIDER_CODE</th>\n      <th>REPORTING_DATE</th>\n      <th>CUSTOMER_ID</th>\n      <th>PRIMARY_IDENTIFICATION_DOCUMENT_TYPE</th>\n      <th>NATIONAL_IDENTITY_PASSPORT_NUMBER</th>\n      <th>PERSONAL_IDENTIFICATION_NUMBER</th>\n      <th>NATIONALITY</th>\n      <th>GENDER</th>\n      <th>FIRST_NAME</th>\n      <th>MIDDLE_NAME</th>\n      <th>SURNAME</th>\n      <th>DATE_OF_BIRTH_REGISTRATION</th>\n      <th>ONBOARDING_DATE</th>\n      <th>MOBILE_NUMBER</th>\n    </tr>\n  </thead>\n  <tbody>\n    <tr>\n      <th>0</th>\n      <td>1</td>\n      <td>0900024</td>\n      <td>05-Jul-2023</td>\n      <td>J_10035</td>\n      <td>CUSTID01</td>\n      <td>31126787</td>\n      <td>None</td>\n      <td>KE</td>\n      <td>M</td>\n      <td>James</td>\n      <td>Maina</td>\n      <td>Muchiri</td>\n      <td>None</td>\n      <td>27-Oct-2022</td>\n      <td>254706860752</td>\n    </tr>\n    <tr>\n      <th>1</th>\n      <td>2</td>\n      <td>0900024</td>\n      <td>05-Jul-2023</td>\n      <td>J_10081</td>\n      <td>CUSTID01</td>\n      <td>9705195</td>\n      <td>None</td>\n      <td>KE</td>\n      <td>M</td>\n      <td>Kennedy</td>\n      <td>None</td>\n      <td>Murithi</td>\n      <td>None</td>\n      <td>04-Nov-2022</td>\n      <td>254701423528</td>\n    </tr>\n    <tr>\n      <th>2</th>\n      <td>3</td>\n      <td>0900024</td>\n      <td>05-Jul-2023</td>\n      <td>J_10082</td>\n      <td>CUSTID01</td>\n      <td>34284368</td>\n      <td>None</td>\n      <td>KE</td>\n      <td>M</td>\n      <td>kelvin</td>\n      <td>None</td>\n      <td>Mawira</td>\n      <td>None</td>\n      <td>04-Nov-2022</td>\n      <td>254796019882</td>\n    </tr>\n    <tr>\n      <th>3</th>\n      <td>4</td>\n      <td>0900024</td>\n      <td>05-Jul-2023</td>\n      <td>J_10100</td>\n      <td>CUSTID01</td>\n      <td>27744800</td>\n      <td>None</td>\n      <td>KE</td>\n      <td>M</td>\n      <td>Christine</td>\n      <td>None</td>\n      <td>Nkatha</td>\n      <td>None</td>\n      <td>11-Nov-2022</td>\n      <td>254710392472</td>\n    </tr>\n    <tr>\n      <th>4</th>\n      <td>5</td>\n      <td>0900024</td>\n      <td>05-Jul-2023</td>\n      <td>J_10212</td>\n      <td>CUSTID01</td>\n      <td>27193391</td>\n      <td>None</td>\n      <td>KE</td>\n      <td>M</td>\n      <td>Joseph</td>\n      <td>None</td>\n      <td>Mungai</td>\n      <td>None</td>\n      <td>16-Dec-2022</td>\n      <td>254743881359</td>\n    </tr>\n    <tr>\n      <th>...</th>\n      <td>...</td>\n      <td>...</td>\n      <td>...</td>\n      <td>...</td>\n      <td>...</td>\n      <td>...</td>\n      <td>...</td>\n      <td>...</td>\n      <td>...</td>\n      <td>...</td>\n      <td>...</td>\n      <td>...</td>\n      <td>...</td>\n      <td>...</td>\n      <td>...</td>\n    </tr>\n    <tr>\n      <th>95</th>\n      <td>96</td>\n      <td>0900024</td>\n      <td>05-Jul-2023</td>\n      <td>J_9602</td>\n      <td>CUSTID01</td>\n      <td>32789820</td>\n      <td>None</td>\n      <td>KE</td>\n      <td>M</td>\n      <td>Danson</td>\n      <td>Ngugi</td>\n      <td>Mwaura</td>\n      <td>None</td>\n      <td>22-Sep-2022</td>\n      <td>254705520500</td>\n    </tr>\n    <tr>\n      <th>96</th>\n      <td>97</td>\n      <td>0900024</td>\n      <td>05-Jul-2023</td>\n      <td>J_9792</td>\n      <td>CUSTID01</td>\n      <td>35644604</td>\n      <td>None</td>\n      <td>KE</td>\n      <td>M</td>\n      <td>Salah</td>\n      <td>None</td>\n      <td>Adan</td>\n      <td>None</td>\n      <td>06-Oct-2022</td>\n      <td>None</td>\n    </tr>\n    <tr>\n      <th>97</th>\n      <td>98</td>\n      <td>0900024</td>\n      <td>05-Jul-2023</td>\n      <td>J_9951</td>\n      <td>CUSTID01</td>\n      <td>34387832</td>\n      <td>None</td>\n      <td>KE</td>\n      <td>M</td>\n      <td>Robert</td>\n      <td>None</td>\n      <td>Wachira</td>\n      <td>None</td>\n      <td>19-Oct-2022</td>\n      <td>254723957250</td>\n    </tr>\n    <tr>\n      <th>98</th>\n      <td>99</td>\n      <td>0900024</td>\n      <td>05-Jul-2023</td>\n      <td>J_9953</td>\n      <td>CUSTID01</td>\n      <td>32233665</td>\n      <td>None</td>\n      <td>KE</td>\n      <td>M</td>\n      <td>Cynthia</td>\n      <td>None</td>\n      <td>Pendo</td>\n      <td>None</td>\n      <td>19-Oct-2022</td>\n      <td>254701794014</td>\n    </tr>\n    <tr>\n      <th>99</th>\n      <td>100</td>\n      <td>0900024</td>\n      <td>05-Jul-2023</td>\n      <td>J_9978</td>\n      <td>CUSTID01</td>\n      <td>None</td>\n      <td>None</td>\n      <td>KE</td>\n      <td>M</td>\n      <td>Wesley</td>\n      <td>None</td>\n      <td>Anzunzu</td>\n      <td>None</td>\n      <td>21-Oct-2022</td>\n      <td>254758308213</td>\n    </tr>\n  </tbody>\n</table>\n<p>100 rows × 15 columns</p>\n</div>"
     },
     "execution_count": 16,
     "metadata": {},
     "output_type": "execute_result"
    }
   ],
   "source": [
    "warehouse_hook.get_pandas_df(\n",
    "    sql=\"\"\"\n",
    "    -- Customer Data\n",
    "    with cust_dt as (\n",
    "        select\n",
    "            distinct\n",
    "            '0900024' as \"DIGITAL_CREDIT_PROVIDER_CODE\",\n",
    "            to_char(current_date, 'DD-Mon-YYYY') as \"REPORTING_DATE\", -- cannot be in format 'DD-Mon-YYYY' and still be dtype date\n",
    "            concat('J_', cmsv.mifos_id) as \"CUSTOMER_ID\", -- store number vs national_id\n",
    "            CASE WHEN cmsv.national_id ~ '[a-zA-Z]' THEN 'Passport' ELSE 'National Identity Card' END AS \"PRIMARY_IDENTIFICATION_DOCUMENT_TYPE\", -- how to distinguish huduma number from national ID number\n",
    "            cmsv.national_id as \"NATIONAL_IDENTITY_PASSPORT_NUMBER\", -- column name in template has slash\n",
    "            null as \"PERSONAL_IDENTIFICATION_NUMBER\", --kra pin\n",
    "            cmsv.gender,\n",
    "            cmsv.first_name as \"FIRST_NAME\",\n",
    "            cmsv.middle_name as \"MIDDLE_NAME\",\n",
    "            cmsv.last_name as \"SURNAME\",\n",
    "            to_char(cmsv.date_of_birth, 'DD-Mon-YYYY') as \"DATE_OF_BIRTH_REGISTRATION\", -- cannot be in format 'DD-MM-YYYY' and still be dtype date\n",
    "            to_char(cmsv.submitted_on_date, 'DD-Mon-YYYY') as \"ONBOARDING_DATE\",\n",
    "            cmsv.mobile_number as \"MOBILE_NUMBER\"\n",
    "        from jumia.client_summary_view cmsv\n",
    "        inner join jumia.loans_fact_table_summary_view lftmsv on cmsv.surrogate_id = lftmsv.client_surrogate_id\n",
    "    ) select\n",
    "        row_number() over () as \"ROW_ID\", \"DIGITAL_CREDIT_PROVIDER_CODE\", \"REPORTING_DATE\", \"CUSTOMER_ID\", cpdt.code as \"PRIMARY_IDENTIFICATION_DOCUMENT_TYPE\",\n",
    "        \"NATIONAL_IDENTITY_PASSPORT_NUMBER\", \"PERSONAL_IDENTIFICATION_NUMBER\", icc.country_code as \"NATIONALITY\", gt.code as \"GENDER\", \"FIRST_NAME\",\n",
    "        case when \"SURNAME\" is null and \"MIDDLE_NAME\" is not null then null else \"MIDDLE_NAME\" end as \"MIDDLE_NAME\",\n",
    "        case when \"SURNAME\" is null then \"MIDDLE_NAME\" else \"SURNAME\" end as \"SURNAME\",\n",
    "        \"DATE_OF_BIRTH_REGISTRATION\", \"ONBOARDING_DATE\", \"MOBILE_NUMBER\"\n",
    "    from cust_dt\n",
    "    left join central_bank_of_kenya.cust_primary_doc_types cpdt on cpdt.\"type\" = cust_dt.\"PRIMARY_IDENTIFICATION_DOCUMENT_TYPE\"\n",
    "    left join central_bank_of_kenya.gender_types gt on gt.\"type\" = cust_dt.gender\n",
    "    left join central_bank_of_kenya.iso_country_codes icc on icc.country_description = 'Kenya'\n",
    "    limit 100\n",
    "    \"\"\"\n",
    ")##.to_csv(f'~/data/CBK Customer Data Sample SOLV {datetime.datetime.now()}.csv', index=False)"
   ],
   "metadata": {
    "collapsed": false
   }
  },
  {
   "cell_type": "markdown",
   "source": [
    "# COPIA"
   ],
   "metadata": {
    "collapsed": false
   }
  },
  {
   "cell_type": "markdown",
   "source": [
    "### Digital Loans Account Data"
   ],
   "metadata": {
    "collapsed": false
   }
  },
  {
   "cell_type": "code",
   "execution_count": 18,
   "outputs": [
    {
     "name": "stdout",
     "output_type": "stream",
     "text": [
      "[\u001B[34m2023-07-05 10:29:30,349\u001B[0m] {\u001B[34mbase.py:\u001B[0m73} INFO\u001B[0m - Using connection ID 'rds_afsg_ds_prod_postgresql_dwh' for task execution.\u001B[0m\n"
     ]
    },
    {
     "data": {
      "text/plain": "\u001B[1;33m/home/henrykuria/airflow_venv/lib/python3.10/site-packages/pandas/io/\u001B[0m\u001B[1;33msql.py\u001B[0m\u001B[1;33m:\u001B[0m\u001B[1;33m761\u001B[0m\u001B[1;33m UserWarning\u001B[0m\u001B[33m: pandas only support SQLAlchemy \u001B[0m\u001B[1;33mconnectable\u001B[0m\u001B[1;33m(\u001B[0m\u001B[33mengine/connection\u001B[0m\u001B[1;33m)\u001B[0m\u001B[33m ordatabase string URI or sqlite3 DBAPI2 connectionother DBAPI2 objects are not tested, please consider using SQLAlchemy\u001B[0m\n",
      "text/html": "<pre style=\"white-space:pre;overflow-x:auto;line-height:normal;font-family:Menlo,'DejaVu Sans Mono',consolas,'Courier New',monospace\"><span style=\"color: #808000; text-decoration-color: #808000; font-weight: bold\">/home/henrykuria/airflow_venv/lib/python3.10/site-packages/pandas/io/sql.py:</span><span style=\"color: #808000; text-decoration-color: #808000; font-weight: bold\">761</span><span style=\"color: #808000; text-decoration-color: #808000; font-weight: bold\"> UserWarning</span><span style=\"color: #808000; text-decoration-color: #808000\">: pandas only support SQLAlchemy </span><span style=\"color: #808000; text-decoration-color: #808000; font-weight: bold\">connectable(</span><span style=\"color: #808000; text-decoration-color: #808000\">engine/connection</span><span style=\"color: #808000; text-decoration-color: #808000; font-weight: bold\">)</span><span style=\"color: #808000; text-decoration-color: #808000\"> ordatabase string URI or sqlite3 DBAPI2 connectionother DBAPI2 objects are not tested, please consider using SQLAlchemy</span>\n</pre>\n"
     },
     "metadata": {},
     "output_type": "display_data"
    },
    {
     "data": {
      "text/plain": "    ROW_ID DIGITAL_CREDIT_PROVIDER_CODE REPORTING_DATE CUSTOMER_ID  \\\n0        1                      0900024    05-Jul-2023      J_2381   \n1        2                      0900024    05-Jul-2023      J_2589   \n2        3                      0900024    05-Jul-2023      J_2374   \n3        4                      0900024    05-Jul-2023      J_2486   \n4        5                      0900024    05-Jul-2023      J_2393   \n..     ...                          ...            ...         ...   \n95      96                      0900024    05-Jul-2023      J_2597   \n96      97                      0900024    05-Jul-2023      J_2598   \n97      98                      0900024    05-Jul-2023      J_2614   \n98      99                      0900024    05-Jul-2023      J_2528   \n99     100                      0900024    05-Jul-2023      J_2383   \n\n   LOAN_ACCOUNT_CONTRACT_NUMBER       ACCOUNT_NAME DISBURSEMENT_DATE  \\\n0                         J_986      MEREZA  AYALO       04-Oct-2022   \n1                        J_1037  CONSOLATE  OLUOCH       25-Nov-2022   \n2                         J_982       JOSHUA  OLOO       04-Oct-2022   \n3                        J_1000    KELVIN  MUTISYA       24-Oct-2022   \n4                         J_991    DANIEL  THEBERE       08-Oct-2022   \n..                          ...                ...               ...   \n95                       J_1044    SAMWEL  OCHODHO       25-Nov-2022   \n96                       J_1045    MONICAH  ATIENO       25-Nov-2022   \n97                       J_1057       JAMES  KAMAU       29-Nov-2022   \n98                       J_1021  JANEFFER  STEPHEN       08-Nov-2022   \n99                        J_988       ROSE  MUTHUI       06-Oct-2022   \n\n    PRINCIPAL_LOAN_AMOUNT_DISBURSED  OUTSTANDING_LOAN_BALANCE  \\\n0                            9180.0                       0.0   \n1                            9180.0                    2662.0   \n2                           13250.0                       0.0   \n3                            9180.0                    3616.0   \n4                           13250.0                       0.0   \n..                              ...                       ...   \n95                          13250.0                   15968.0   \n96                           9180.0                   11078.0   \n97                           9180.0                   11144.0   \n98                           9180.0                    3362.0   \n99                          13250.0                    2256.0   \n\n    DEBIT_INTEREST_RATE  FACILITY_ARRANGEMENT_FEE_CHARGE  \\\n0                     0                           5949.0   \n1                     0                           5949.0   \n2                     0                           8586.0   \n3                     0                           5949.0   \n4                     0                           8586.0   \n..                  ...                              ...   \n95                    0                           8586.0   \n96                    0                           5949.0   \n97                    0                           5949.0   \n98                    0                           5949.0   \n99                    0                           8586.0   \n\n    UPFRONT_INTEREST_FEES_CHARGE  COST_OF_WALLET_TRANSFER  \\\n0                              0                        0   \n1                              0                        0   \n2                              0                        0   \n3                              0                        0   \n4                              0                        0   \n..                           ...                      ...   \n95                             0                        0   \n96                             0                        0   \n97                             0                        0   \n98                             0                        0   \n99                             0                        0   \n\n    INSURANCE_FEE_CHARGE  OTHER_CHARGE CHANNEL_TYPE_USED  DIGITAL_LOAN_TENOR  \\\n0                      0         184.0             CHN02                   1   \n1                      0           0.0             CHN02                   1   \n2                      0          51.0             CHN02                   1   \n3                      0         323.0             CHN02                   1   \n4                      0           0.0             CHN02                   1   \n..                   ...           ...               ...                 ...   \n95                     0        1532.0             CHN02                   1   \n96                     0        1076.0             CHN02                   1   \n97                     0        1214.0             CHN02                   1   \n98                     0          60.0             CHN02                   1   \n99                     0           0.0             CHN02                   1   \n\n    INSTALMENT_AMOUNT ACCOUNT_STATUS  \n0             15313.0         CLOSED  \n1             15129.0         ACTIVE  \n2             21887.0         CLOSED  \n3             15452.0         ACTIVE  \n4             21836.0         CLOSED  \n..                ...            ...  \n95            23368.0         ACTIVE  \n96            16205.0         ACTIVE  \n97            16343.0         ACTIVE  \n98            15189.0         ACTIVE  \n99            21836.0         ACTIVE  \n\n[100 rows x 19 columns]",
      "text/html": "<div>\n<style scoped>\n    .dataframe tbody tr th:only-of-type {\n        vertical-align: middle;\n    }\n\n    .dataframe tbody tr th {\n        vertical-align: top;\n    }\n\n    .dataframe thead th {\n        text-align: right;\n    }\n</style>\n<table border=\"1\" class=\"dataframe\">\n  <thead>\n    <tr style=\"text-align: right;\">\n      <th></th>\n      <th>ROW_ID</th>\n      <th>DIGITAL_CREDIT_PROVIDER_CODE</th>\n      <th>REPORTING_DATE</th>\n      <th>CUSTOMER_ID</th>\n      <th>LOAN_ACCOUNT_CONTRACT_NUMBER</th>\n      <th>ACCOUNT_NAME</th>\n      <th>DISBURSEMENT_DATE</th>\n      <th>PRINCIPAL_LOAN_AMOUNT_DISBURSED</th>\n      <th>OUTSTANDING_LOAN_BALANCE</th>\n      <th>DEBIT_INTEREST_RATE</th>\n      <th>FACILITY_ARRANGEMENT_FEE_CHARGE</th>\n      <th>UPFRONT_INTEREST_FEES_CHARGE</th>\n      <th>COST_OF_WALLET_TRANSFER</th>\n      <th>INSURANCE_FEE_CHARGE</th>\n      <th>OTHER_CHARGE</th>\n      <th>CHANNEL_TYPE_USED</th>\n      <th>DIGITAL_LOAN_TENOR</th>\n      <th>INSTALMENT_AMOUNT</th>\n      <th>ACCOUNT_STATUS</th>\n    </tr>\n  </thead>\n  <tbody>\n    <tr>\n      <th>0</th>\n      <td>1</td>\n      <td>0900024</td>\n      <td>05-Jul-2023</td>\n      <td>J_2381</td>\n      <td>J_986</td>\n      <td>MEREZA  AYALO</td>\n      <td>04-Oct-2022</td>\n      <td>9180.0</td>\n      <td>0.0</td>\n      <td>0</td>\n      <td>5949.0</td>\n      <td>0</td>\n      <td>0</td>\n      <td>0</td>\n      <td>184.0</td>\n      <td>CHN02</td>\n      <td>1</td>\n      <td>15313.0</td>\n      <td>CLOSED</td>\n    </tr>\n    <tr>\n      <th>1</th>\n      <td>2</td>\n      <td>0900024</td>\n      <td>05-Jul-2023</td>\n      <td>J_2589</td>\n      <td>J_1037</td>\n      <td>CONSOLATE  OLUOCH</td>\n      <td>25-Nov-2022</td>\n      <td>9180.0</td>\n      <td>2662.0</td>\n      <td>0</td>\n      <td>5949.0</td>\n      <td>0</td>\n      <td>0</td>\n      <td>0</td>\n      <td>0.0</td>\n      <td>CHN02</td>\n      <td>1</td>\n      <td>15129.0</td>\n      <td>ACTIVE</td>\n    </tr>\n    <tr>\n      <th>2</th>\n      <td>3</td>\n      <td>0900024</td>\n      <td>05-Jul-2023</td>\n      <td>J_2374</td>\n      <td>J_982</td>\n      <td>JOSHUA  OLOO</td>\n      <td>04-Oct-2022</td>\n      <td>13250.0</td>\n      <td>0.0</td>\n      <td>0</td>\n      <td>8586.0</td>\n      <td>0</td>\n      <td>0</td>\n      <td>0</td>\n      <td>51.0</td>\n      <td>CHN02</td>\n      <td>1</td>\n      <td>21887.0</td>\n      <td>CLOSED</td>\n    </tr>\n    <tr>\n      <th>3</th>\n      <td>4</td>\n      <td>0900024</td>\n      <td>05-Jul-2023</td>\n      <td>J_2486</td>\n      <td>J_1000</td>\n      <td>KELVIN  MUTISYA</td>\n      <td>24-Oct-2022</td>\n      <td>9180.0</td>\n      <td>3616.0</td>\n      <td>0</td>\n      <td>5949.0</td>\n      <td>0</td>\n      <td>0</td>\n      <td>0</td>\n      <td>323.0</td>\n      <td>CHN02</td>\n      <td>1</td>\n      <td>15452.0</td>\n      <td>ACTIVE</td>\n    </tr>\n    <tr>\n      <th>4</th>\n      <td>5</td>\n      <td>0900024</td>\n      <td>05-Jul-2023</td>\n      <td>J_2393</td>\n      <td>J_991</td>\n      <td>DANIEL  THEBERE</td>\n      <td>08-Oct-2022</td>\n      <td>13250.0</td>\n      <td>0.0</td>\n      <td>0</td>\n      <td>8586.0</td>\n      <td>0</td>\n      <td>0</td>\n      <td>0</td>\n      <td>0.0</td>\n      <td>CHN02</td>\n      <td>1</td>\n      <td>21836.0</td>\n      <td>CLOSED</td>\n    </tr>\n    <tr>\n      <th>...</th>\n      <td>...</td>\n      <td>...</td>\n      <td>...</td>\n      <td>...</td>\n      <td>...</td>\n      <td>...</td>\n      <td>...</td>\n      <td>...</td>\n      <td>...</td>\n      <td>...</td>\n      <td>...</td>\n      <td>...</td>\n      <td>...</td>\n      <td>...</td>\n      <td>...</td>\n      <td>...</td>\n      <td>...</td>\n      <td>...</td>\n      <td>...</td>\n    </tr>\n    <tr>\n      <th>95</th>\n      <td>96</td>\n      <td>0900024</td>\n      <td>05-Jul-2023</td>\n      <td>J_2597</td>\n      <td>J_1044</td>\n      <td>SAMWEL  OCHODHO</td>\n      <td>25-Nov-2022</td>\n      <td>13250.0</td>\n      <td>15968.0</td>\n      <td>0</td>\n      <td>8586.0</td>\n      <td>0</td>\n      <td>0</td>\n      <td>0</td>\n      <td>1532.0</td>\n      <td>CHN02</td>\n      <td>1</td>\n      <td>23368.0</td>\n      <td>ACTIVE</td>\n    </tr>\n    <tr>\n      <th>96</th>\n      <td>97</td>\n      <td>0900024</td>\n      <td>05-Jul-2023</td>\n      <td>J_2598</td>\n      <td>J_1045</td>\n      <td>MONICAH  ATIENO</td>\n      <td>25-Nov-2022</td>\n      <td>9180.0</td>\n      <td>11078.0</td>\n      <td>0</td>\n      <td>5949.0</td>\n      <td>0</td>\n      <td>0</td>\n      <td>0</td>\n      <td>1076.0</td>\n      <td>CHN02</td>\n      <td>1</td>\n      <td>16205.0</td>\n      <td>ACTIVE</td>\n    </tr>\n    <tr>\n      <th>97</th>\n      <td>98</td>\n      <td>0900024</td>\n      <td>05-Jul-2023</td>\n      <td>J_2614</td>\n      <td>J_1057</td>\n      <td>JAMES  KAMAU</td>\n      <td>29-Nov-2022</td>\n      <td>9180.0</td>\n      <td>11144.0</td>\n      <td>0</td>\n      <td>5949.0</td>\n      <td>0</td>\n      <td>0</td>\n      <td>0</td>\n      <td>1214.0</td>\n      <td>CHN02</td>\n      <td>1</td>\n      <td>16343.0</td>\n      <td>ACTIVE</td>\n    </tr>\n    <tr>\n      <th>98</th>\n      <td>99</td>\n      <td>0900024</td>\n      <td>05-Jul-2023</td>\n      <td>J_2528</td>\n      <td>J_1021</td>\n      <td>JANEFFER  STEPHEN</td>\n      <td>08-Nov-2022</td>\n      <td>9180.0</td>\n      <td>3362.0</td>\n      <td>0</td>\n      <td>5949.0</td>\n      <td>0</td>\n      <td>0</td>\n      <td>0</td>\n      <td>60.0</td>\n      <td>CHN02</td>\n      <td>1</td>\n      <td>15189.0</td>\n      <td>ACTIVE</td>\n    </tr>\n    <tr>\n      <th>99</th>\n      <td>100</td>\n      <td>0900024</td>\n      <td>05-Jul-2023</td>\n      <td>J_2383</td>\n      <td>J_988</td>\n      <td>ROSE  MUTHUI</td>\n      <td>06-Oct-2022</td>\n      <td>13250.0</td>\n      <td>2256.0</td>\n      <td>0</td>\n      <td>8586.0</td>\n      <td>0</td>\n      <td>0</td>\n      <td>0</td>\n      <td>0.0</td>\n      <td>CHN02</td>\n      <td>1</td>\n      <td>21836.0</td>\n      <td>ACTIVE</td>\n    </tr>\n  </tbody>\n</table>\n<p>100 rows × 19 columns</p>\n</div>"
     },
     "execution_count": 18,
     "metadata": {},
     "output_type": "execute_result"
    }
   ],
   "source": [
    "warehouse_hook.get_pandas_df(\n",
    "    sql=\"\"\"\n",
    "    -- Digital Loans Account Data\n",
    "    select\n",
    "        row_number() over () as \"ROW_ID\",\n",
    "        '0900024' as \"DIGITAL_CREDIT_PROVIDER_CODE\",\n",
    "        to_char(current_date, 'DD-Mon-YYYY') as \"REPORTING_DATE\", -- cannot be in format 'DD-Mon-YYYY' and still be dtype date\n",
    "        concat('C_', cmsv.mifos_id) as \"CUSTOMER_ID\",\n",
    "        concat('C_', lftmsv.loan_mifos_id) as \"LOAN_ACCOUNT_CONTRACT_NUMBER\",\n",
    "        concat(cmsv.first_name, ' ', cmsv.middle_name, ' ', cmsv.last_name) as \"ACCOUNT_NAME\",\n",
    "        to_char(disbursed_on_date, 'DD-Mon-YYYY') as \"DISBURSEMENT_DATE\", -- cannot be in format 'DD-Mon-YYYY' and still be dtype date\n",
    "        coalesce(principal_disbursed, 0) as \"PRINCIPAL_LOAN_AMOUNT_DISBURSED\",\n",
    "        coalesce(total_outstanding, 0) as \"OUTSTANDING_LOAN_BALANCE\",\n",
    "        0 as \"DEBIT_INTEREST_RATE\",\n",
    "        coalesce(interest_charged, 0) as \"FACILITY_ARRANGEMENT_FEE_CHARGE\",\n",
    "        0 as \"UPFRONT_INTEREST_FEES_CHARGE\",\n",
    "        0 as \"COST_OF_WALLET_TRANSFER\", --except for Solv\n",
    "        0 as \"INSURANCE_FEE_CHARGE\",\n",
    "        coalesce(fee_charges_charged + penalty_charges_charged, 0) as \"OTHER_CHARGE\",\n",
    "        dct.code as \"CHANNEL_TYPE_USED\",\n",
    "        pd.repay_every as \"DIGITAL_LOAN_TENOR\",\n",
    "        coalesce(total_expected_repayment, 0) as \"INSTALMENT_AMOUNT\",\n",
    "        ast.code as \"ACCOUNT_STATUS\"\n",
    "    from copia.loans_fact_table_summary_view lftmsv\n",
    "    inner join copia.client_summary_view cmsv on lftmsv.client_surrogate_id = cmsv.surrogate_id\n",
    "    inner join copia.product_summary_view pd on lftmsv.product_surrogate_id = pd.surrogate_id\n",
    "    inner join copia.loan_status_view lsd on lftmsv.loan_status_surrogate_id = lsd.surrogate_id\n",
    "    inner join central_bank_of_kenya.digital_channel_types dct on dct.\"type\" = 'USSD'\n",
    "    inner join central_bank_of_kenya.account_status_types ast on ast.\"type\" = lsd.message\n",
    "    where loan_status in (300, 600, 700)\n",
    "    limit 100\n",
    "    \"\"\"\n",
    ")#.to_csv('~/data/Digital Loans Account Data Sample TANDA.csv', index=False)"
   ],
   "metadata": {
    "collapsed": false
   }
  },
  {
   "cell_type": "markdown",
   "source": [
    "### Overdue (Non-Performing) Digital Loans"
   ],
   "metadata": {
    "collapsed": false
   }
  },
  {
   "cell_type": "code",
   "execution_count": 20,
   "outputs": [
    {
     "name": "stdout",
     "output_type": "stream",
     "text": [
      "[\u001B[34m2023-07-05 10:47:36,815\u001B[0m] {\u001B[34mbase.py:\u001B[0m73} INFO\u001B[0m - Using connection ID 'rds_afsg_ds_prod_postgresql_dwh' for task execution.\u001B[0m\n"
     ]
    },
    {
     "data": {
      "text/plain": "\u001B[1;33m/home/henrykuria/airflow_venv/lib/python3.10/site-packages/pandas/io/\u001B[0m\u001B[1;33msql.py\u001B[0m\u001B[1;33m:\u001B[0m\u001B[1;33m761\u001B[0m\u001B[1;33m UserWarning\u001B[0m\u001B[33m: pandas only support SQLAlchemy \u001B[0m\u001B[1;33mconnectable\u001B[0m\u001B[1;33m(\u001B[0m\u001B[33mengine/connection\u001B[0m\u001B[1;33m)\u001B[0m\u001B[33m ordatabase string URI or sqlite3 DBAPI2 connectionother DBAPI2 objects are not tested, please consider using SQLAlchemy\u001B[0m\n",
      "text/html": "<pre style=\"white-space:pre;overflow-x:auto;line-height:normal;font-family:Menlo,'DejaVu Sans Mono',consolas,'Courier New',monospace\"><span style=\"color: #808000; text-decoration-color: #808000; font-weight: bold\">/home/henrykuria/airflow_venv/lib/python3.10/site-packages/pandas/io/sql.py:</span><span style=\"color: #808000; text-decoration-color: #808000; font-weight: bold\">761</span><span style=\"color: #808000; text-decoration-color: #808000; font-weight: bold\"> UserWarning</span><span style=\"color: #808000; text-decoration-color: #808000\">: pandas only support SQLAlchemy </span><span style=\"color: #808000; text-decoration-color: #808000; font-weight: bold\">connectable(</span><span style=\"color: #808000; text-decoration-color: #808000\">engine/connection</span><span style=\"color: #808000; text-decoration-color: #808000; font-weight: bold\">)</span><span style=\"color: #808000; text-decoration-color: #808000\"> ordatabase string URI or sqlite3 DBAPI2 connectionother DBAPI2 objects are not tested, please consider using SQLAlchemy</span>\n</pre>\n"
     },
     "metadata": {},
     "output_type": "display_data"
    },
    {
     "data": {
      "text/plain": "Empty DataFrame\nColumns: [ROW_ID, DIGITAL_CREDIT_PROVIDER_CODE, REPORTING_DATE, CUSTOMER_ID, LOAN_ACCOUNT_CONTRACT_NUMBER, OVERDUE_DATE, PRINCIPAL_ARREARS_AMOUNT, TOTAL_OUTSTANDING_AMOUNT]\nIndex: []",
      "text/html": "<div>\n<style scoped>\n    .dataframe tbody tr th:only-of-type {\n        vertical-align: middle;\n    }\n\n    .dataframe tbody tr th {\n        vertical-align: top;\n    }\n\n    .dataframe thead th {\n        text-align: right;\n    }\n</style>\n<table border=\"1\" class=\"dataframe\">\n  <thead>\n    <tr style=\"text-align: right;\">\n      <th></th>\n      <th>ROW_ID</th>\n      <th>DIGITAL_CREDIT_PROVIDER_CODE</th>\n      <th>REPORTING_DATE</th>\n      <th>CUSTOMER_ID</th>\n      <th>LOAN_ACCOUNT_CONTRACT_NUMBER</th>\n      <th>OVERDUE_DATE</th>\n      <th>PRINCIPAL_ARREARS_AMOUNT</th>\n      <th>TOTAL_OUTSTANDING_AMOUNT</th>\n    </tr>\n  </thead>\n  <tbody>\n  </tbody>\n</table>\n</div>"
     },
     "execution_count": 20,
     "metadata": {},
     "output_type": "execute_result"
    }
   ],
   "source": [
    "warehouse_hook.get_pandas_df(\n",
    "    sql=\"\"\"\n",
    "    -- Overdue (Non-Performing) Digital Loans\n",
    "    select\n",
    "        row_number() over () as \"ROW_ID\",\n",
    "        '0900024' as \"DIGITAL_CREDIT_PROVIDER_CODE\",\n",
    "        to_char(current_date, 'DD-Mon-YYYY') as \"REPORTING_DATE\", -- cannot be in format 'DD-Mon-YYYY' and still be dtype date\n",
    "        concat('C_', cmsv.mifos_id) as \"CUSTOMER_ID\",\n",
    "        concat('C_', lftmsv.loan_mifos_id) as \"LOAN_ACCOUNT_CONTRACT_NUMBER\",\n",
    "        to_char(expected_matured_on_date + '90 day'::interval, 'DD-Mon-YYYY') as \"OVERDUE_DATE\", -- cannot be in format 'DD-Mon-YYYY' and still be dtype date\n",
    "        coalesce(principal_outstanding, 0) as \"PRINCIPAL_ARREARS_AMOUNT\",\n",
    "        coalesce(total_outstanding, 0) as \"TOTAL_OUTSTANDING_AMOUNT\"\n",
    "    from copia.loans_fact_table_summary_view lftmsv\n",
    "    inner join copia.client_summary_view cmsv on lftmsv.client_surrogate_id = cmsv.surrogate_id\n",
    "    where current_date - (expected_matured_on_date + '90 day'::interval)::date >= 1 and loan_status = 300\n",
    "    limit 100\n",
    "    \"\"\"\n",
    ")##.to_csv('~/data/Overdue (Non-Performing) Digital Loans Sample TANDA.csv', index=False)"
   ],
   "metadata": {
    "collapsed": false
   }
  },
  {
   "cell_type": "markdown",
   "source": [
    "### Digital Loan Repayments Data"
   ],
   "metadata": {
    "collapsed": false
   }
  },
  {
   "cell_type": "code",
   "execution_count": 23,
   "outputs": [
    {
     "name": "stdout",
     "output_type": "stream",
     "text": [
      "[\u001B[34m2023-07-05 10:51:44,324\u001B[0m] {\u001B[34mbase.py:\u001B[0m73} INFO\u001B[0m - Using connection ID 'rds_afsg_ds_prod_postgresql_dwh' for task execution.\u001B[0m\n"
     ]
    },
    {
     "data": {
      "text/plain": "    ROW_ID DIGITAL_CREDIT_PROVIDER_CODE REPORTING_DATE CUSTOMER_ID  \\\n0        1                      0900024    05-Jul-2023      C_2381   \n1        2                      0900024    05-Jul-2023      C_2381   \n2        3                      0900024    05-Jul-2023      C_2381   \n3        4                      0900024    05-Jul-2023      C_2381   \n4        5                      0900024    05-Jul-2023      C_2381   \n..     ...                          ...            ...         ...   \n95      96                      0900024    05-Jul-2023      C_2589   \n96      97                      0900024    05-Jul-2023      C_2589   \n97      98                      0900024    05-Jul-2023      C_2589   \n98      99                      0900024    05-Jul-2023      C_2589   \n99     100                      0900024    05-Jul-2023      C_2589   \n\n   LOAN_ACCOUNT_CONTRACT_NUMBER  OUTSTANDING_LOAN_BALANCE  \\\n0                         C_986                    2040.0   \n1                         C_986                    4097.0   \n2                         C_986                    5100.0   \n3                         C_986                    7140.0   \n4                         C_986                    8160.0   \n..                          ...                       ...   \n95                       C_1037                    7140.0   \n96                       C_1037                    7140.0   \n97                       C_1037                    7140.0   \n98                       C_1037                    7140.0   \n99                       C_1037                    7146.0   \n\n    ACCRUED_INTEREST_BALANCE  INTEREST_CHARGED_ON_REPAYMENT  \\\n0                        0.0                              0   \n1                        0.0                              0   \n2                        0.0                              0   \n3                        0.0                              0   \n4                        0.0                              0   \n..                       ...                            ...   \n95                     661.0                              0   \n96                     661.0                              0   \n97                     661.0                              0   \n98                     661.0                              0   \n99                     661.0                              0   \n\n    LATE_PAYMENT_FEE_CHARGE LOAN_REPAYMENT_DATE  PRINCIPAL_LOAN_AMOUNT_REPAID  \n0                       0.0         15-May-2023                        1020.0  \n1                       0.0         04-Mar-2023                        1003.0  \n2                       0.0         08-Feb-2023                        1020.0  \n3                       0.0         05-Dec-2022                        1020.0  \n4                       0.0         03-Nov-2022                        1020.0  \n..                      ...                 ...                           ...  \n95                      0.0         14-Jan-2023                           0.0  \n96                      0.0         13-Jan-2023                           0.0  \n97                      0.0         11-Jan-2023                           0.0  \n98                      0.0         09-Jan-2023                           6.0  \n99                      0.0         07-Jan-2023                         100.0  \n\n[100 rows x 11 columns]",
      "text/html": "<div>\n<style scoped>\n    .dataframe tbody tr th:only-of-type {\n        vertical-align: middle;\n    }\n\n    .dataframe tbody tr th {\n        vertical-align: top;\n    }\n\n    .dataframe thead th {\n        text-align: right;\n    }\n</style>\n<table border=\"1\" class=\"dataframe\">\n  <thead>\n    <tr style=\"text-align: right;\">\n      <th></th>\n      <th>ROW_ID</th>\n      <th>DIGITAL_CREDIT_PROVIDER_CODE</th>\n      <th>REPORTING_DATE</th>\n      <th>CUSTOMER_ID</th>\n      <th>LOAN_ACCOUNT_CONTRACT_NUMBER</th>\n      <th>OUTSTANDING_LOAN_BALANCE</th>\n      <th>ACCRUED_INTEREST_BALANCE</th>\n      <th>INTEREST_CHARGED_ON_REPAYMENT</th>\n      <th>LATE_PAYMENT_FEE_CHARGE</th>\n      <th>LOAN_REPAYMENT_DATE</th>\n      <th>PRINCIPAL_LOAN_AMOUNT_REPAID</th>\n    </tr>\n  </thead>\n  <tbody>\n    <tr>\n      <th>0</th>\n      <td>1</td>\n      <td>0900024</td>\n      <td>05-Jul-2023</td>\n      <td>C_2381</td>\n      <td>C_986</td>\n      <td>2040.0</td>\n      <td>0.0</td>\n      <td>0</td>\n      <td>0.0</td>\n      <td>15-May-2023</td>\n      <td>1020.0</td>\n    </tr>\n    <tr>\n      <th>1</th>\n      <td>2</td>\n      <td>0900024</td>\n      <td>05-Jul-2023</td>\n      <td>C_2381</td>\n      <td>C_986</td>\n      <td>4097.0</td>\n      <td>0.0</td>\n      <td>0</td>\n      <td>0.0</td>\n      <td>04-Mar-2023</td>\n      <td>1003.0</td>\n    </tr>\n    <tr>\n      <th>2</th>\n      <td>3</td>\n      <td>0900024</td>\n      <td>05-Jul-2023</td>\n      <td>C_2381</td>\n      <td>C_986</td>\n      <td>5100.0</td>\n      <td>0.0</td>\n      <td>0</td>\n      <td>0.0</td>\n      <td>08-Feb-2023</td>\n      <td>1020.0</td>\n    </tr>\n    <tr>\n      <th>3</th>\n      <td>4</td>\n      <td>0900024</td>\n      <td>05-Jul-2023</td>\n      <td>C_2381</td>\n      <td>C_986</td>\n      <td>7140.0</td>\n      <td>0.0</td>\n      <td>0</td>\n      <td>0.0</td>\n      <td>05-Dec-2022</td>\n      <td>1020.0</td>\n    </tr>\n    <tr>\n      <th>4</th>\n      <td>5</td>\n      <td>0900024</td>\n      <td>05-Jul-2023</td>\n      <td>C_2381</td>\n      <td>C_986</td>\n      <td>8160.0</td>\n      <td>0.0</td>\n      <td>0</td>\n      <td>0.0</td>\n      <td>03-Nov-2022</td>\n      <td>1020.0</td>\n    </tr>\n    <tr>\n      <th>...</th>\n      <td>...</td>\n      <td>...</td>\n      <td>...</td>\n      <td>...</td>\n      <td>...</td>\n      <td>...</td>\n      <td>...</td>\n      <td>...</td>\n      <td>...</td>\n      <td>...</td>\n      <td>...</td>\n    </tr>\n    <tr>\n      <th>95</th>\n      <td>96</td>\n      <td>0900024</td>\n      <td>05-Jul-2023</td>\n      <td>C_2589</td>\n      <td>C_1037</td>\n      <td>7140.0</td>\n      <td>661.0</td>\n      <td>0</td>\n      <td>0.0</td>\n      <td>14-Jan-2023</td>\n      <td>0.0</td>\n    </tr>\n    <tr>\n      <th>96</th>\n      <td>97</td>\n      <td>0900024</td>\n      <td>05-Jul-2023</td>\n      <td>C_2589</td>\n      <td>C_1037</td>\n      <td>7140.0</td>\n      <td>661.0</td>\n      <td>0</td>\n      <td>0.0</td>\n      <td>13-Jan-2023</td>\n      <td>0.0</td>\n    </tr>\n    <tr>\n      <th>97</th>\n      <td>98</td>\n      <td>0900024</td>\n      <td>05-Jul-2023</td>\n      <td>C_2589</td>\n      <td>C_1037</td>\n      <td>7140.0</td>\n      <td>661.0</td>\n      <td>0</td>\n      <td>0.0</td>\n      <td>11-Jan-2023</td>\n      <td>0.0</td>\n    </tr>\n    <tr>\n      <th>98</th>\n      <td>99</td>\n      <td>0900024</td>\n      <td>05-Jul-2023</td>\n      <td>C_2589</td>\n      <td>C_1037</td>\n      <td>7140.0</td>\n      <td>661.0</td>\n      <td>0</td>\n      <td>0.0</td>\n      <td>09-Jan-2023</td>\n      <td>6.0</td>\n    </tr>\n    <tr>\n      <th>99</th>\n      <td>100</td>\n      <td>0900024</td>\n      <td>05-Jul-2023</td>\n      <td>C_2589</td>\n      <td>C_1037</td>\n      <td>7146.0</td>\n      <td>661.0</td>\n      <td>0</td>\n      <td>0.0</td>\n      <td>07-Jan-2023</td>\n      <td>100.0</td>\n    </tr>\n  </tbody>\n</table>\n<p>100 rows × 11 columns</p>\n</div>"
     },
     "execution_count": 23,
     "metadata": {},
     "output_type": "execute_result"
    }
   ],
   "source": [
    "warehouse_hook.get_pandas_df(\n",
    "    sql=\"\"\"\n",
    "    -- Digital Loan Repayments Data\n",
    "    select\n",
    "        row_number() over () as \"ROW_ID\",\n",
    "        '0900024' as \"DIGITAL_CREDIT_PROVIDER_CODE\",\n",
    "        to_char(current_date, 'DD-Mon-YYYY') as \"REPORTING_DATE\", -- cannot be in format 'DD-Mon-YYYY' and still be dtype date\n",
    "        concat('C_', cmsv.mifos_id) as \"CUSTOMER_ID\",\n",
    "        concat('C_', lftmsv.loan_mifos_id) as \"LOAN_ACCOUNT_CONTRACT_NUMBER\",\n",
    "        coalesce(td.outstanding_loan_balance_derived, 0) as \"OUTSTANDING_LOAN_BALANCE\", -- data quality issue\n",
    "        coalesce(lftmsv.interest_outstanding, 0) as \"ACCRUED_INTEREST_BALANCE\",  -- data quality issue\n",
    "        0 as \"INTEREST_CHARGED_ON_REPAYMENT\",\n",
    "        coalesce(td.fee_charges_portion_derived + td.penalty_charges_portion_derived, 0) as \"LATE_PAYMENT_FEE_CHARGE\",\n",
    "        to_char(td.transaction_date, 'DD-Mon-YYYY') as \"LOAN_REPAYMENT_DATE\",\n",
    "        coalesce(td.principal_portion_derived, 0) as \"PRINCIPAL_LOAN_AMOUNT_REPAID\"\n",
    "    from copia.transactions_dimension_view td\n",
    "    inner join copia.loans_fact_table_summary_view lftmsv on lftmsv.loan_mifos_id::varchar = td.mifos_loan_id\n",
    "    inner join copia.client_summary_view cmsv on lftmsv.client_surrogate_id = cmsv.surrogate_id\n",
    "    where td.transaction_type_enum = 2 and lower(td.receipt_number) not like '%waiv%'\n",
    "    limit 100\n",
    "    \"\"\"\n",
    ")#.to_csv('~/data/Digital Loan Repayments Data Sample TANDA.csv', index=False)"
   ],
   "metadata": {
    "collapsed": false
   }
  },
  {
   "cell_type": "markdown",
   "source": [
    "### Customer Data"
   ],
   "metadata": {
    "collapsed": false
   }
  },
  {
   "cell_type": "code",
   "execution_count": 25,
   "outputs": [
    {
     "name": "stdout",
     "output_type": "stream",
     "text": [
      "[\u001B[34m2023-07-05 10:52:57,053\u001B[0m] {\u001B[34mbase.py:\u001B[0m73} INFO\u001B[0m - Using connection ID 'rds_afsg_ds_prod_postgresql_dwh' for task execution.\u001B[0m\n"
     ]
    },
    {
     "data": {
      "text/plain": "\u001B[1;33m/home/henrykuria/airflow_venv/lib/python3.10/site-packages/pandas/io/\u001B[0m\u001B[1;33msql.py\u001B[0m\u001B[1;33m:\u001B[0m\u001B[1;33m761\u001B[0m\u001B[1;33m UserWarning\u001B[0m\u001B[33m: pandas only support SQLAlchemy \u001B[0m\u001B[1;33mconnectable\u001B[0m\u001B[1;33m(\u001B[0m\u001B[33mengine/connection\u001B[0m\u001B[1;33m)\u001B[0m\u001B[33m ordatabase string URI or sqlite3 DBAPI2 connectionother DBAPI2 objects are not tested, please consider using SQLAlchemy\u001B[0m\n",
      "text/html": "<pre style=\"white-space:pre;overflow-x:auto;line-height:normal;font-family:Menlo,'DejaVu Sans Mono',consolas,'Courier New',monospace\"><span style=\"color: #808000; text-decoration-color: #808000; font-weight: bold\">/home/henrykuria/airflow_venv/lib/python3.10/site-packages/pandas/io/sql.py:</span><span style=\"color: #808000; text-decoration-color: #808000; font-weight: bold\">761</span><span style=\"color: #808000; text-decoration-color: #808000; font-weight: bold\"> UserWarning</span><span style=\"color: #808000; text-decoration-color: #808000\">: pandas only support SQLAlchemy </span><span style=\"color: #808000; text-decoration-color: #808000; font-weight: bold\">connectable(</span><span style=\"color: #808000; text-decoration-color: #808000\">engine/connection</span><span style=\"color: #808000; text-decoration-color: #808000; font-weight: bold\">)</span><span style=\"color: #808000; text-decoration-color: #808000\"> ordatabase string URI or sqlite3 DBAPI2 connectionother DBAPI2 objects are not tested, please consider using SQLAlchemy</span>\n</pre>\n"
     },
     "metadata": {},
     "output_type": "display_data"
    },
    {
     "data": {
      "text/plain": "    ROW_ID DIGITAL_CREDIT_PROVIDER_CODE REPORTING_DATE CUSTOMER_ID  \\\n0        1                      0900024    05-Jul-2023      C_2686   \n1        2                      0900024    05-Jul-2023      C_2685   \n2        3                      0900024    05-Jul-2023      C_2682   \n3        4                      0900024    05-Jul-2023      C_2675   \n4        5                      0900024    05-Jul-2023      C_2674   \n..     ...                          ...            ...         ...   \n95      96                      0900024    05-Jul-2023      C_2343   \n96      97                      0900024    05-Jul-2023      C_2338   \n97      98                      0900024    05-Jul-2023      C_2337   \n98      99                      0900024    05-Jul-2023      C_2335   \n99     100                      0900024    05-Jul-2023      C_2334   \n\n   PRIMARY_IDENTIFICATION_DOCUMENT_TYPE NATIONAL_IDENTITY_PASSPORT_NUMBER  \\\n0                              CUSTID01                          22684386   \n1                              CUSTID01                          24554363   \n2                              CUSTID01                          10422013   \n3                              CUSTID01                          23748210   \n4                              CUSTID01                          23678588   \n..                                  ...                               ...   \n95                             CUSTID01                          26378296   \n96                             CUSTID01                          28525017   \n97                             CUSTID01                          13391516   \n98                             CUSTID01                          32603762   \n99                             CUSTID01                          31767463   \n\n   PERSONAL_IDENTIFICATION_NUMBER NATIONALITY GENDER FIRST_NAME MIDDLE_NAME  \\\n0                            None          KE   None   SHADRACK        None   \n1                            None          KE   None      MILKA        None   \n2                            None          KE   None     HALIMA        None   \n3                            None          KE   None   BEATRICE        None   \n4                            None          KE   None    FRANCIS        None   \n..                            ...         ...    ...        ...         ...   \n95                           None          KE   None       RUTH        None   \n96                           None          KE   None    TERESIA        None   \n97                           None          KE   None       MARY        None   \n98                           None          KE   None      GRACE        None   \n99                           None          KE   None       JOHN        None   \n\n     SURNAME DATE_OF_BIRTH_REGISTRATION ONBOARDING_DATE MOBILE_NUMBER  \n0     KARANI                01-Jan-1982     12-Dec-2022  254720002906  \n1    ONYANGO                01-Jan-1984     12-Dec-2022  254710537658  \n2    LUBANGA                24-Dec-1970     12-Dec-2022  254712305071  \n3   CHEMUTAI                03-Jul-1984     10-Dec-2022  254726766394  \n4      KAMAU                29-Jan-1984     10-Dec-2022  254724578708  \n..       ...                        ...             ...           ...  \n95       BIU                24-Aug-1988     23-Sep-2022  254728654902  \n96  WANYOIKE                10-Oct-1991     21-Sep-2022  254720982213  \n97    MURITU                28-Aug-1974     20-Sep-2022  254720369615  \n98   KARANJA                23-Dec-1994     20-Sep-2022  254746210752  \n99    MWANGI                23-Jan-1994     20-Sep-2022  254794090881  \n\n[100 rows x 15 columns]",
      "text/html": "<div>\n<style scoped>\n    .dataframe tbody tr th:only-of-type {\n        vertical-align: middle;\n    }\n\n    .dataframe tbody tr th {\n        vertical-align: top;\n    }\n\n    .dataframe thead th {\n        text-align: right;\n    }\n</style>\n<table border=\"1\" class=\"dataframe\">\n  <thead>\n    <tr style=\"text-align: right;\">\n      <th></th>\n      <th>ROW_ID</th>\n      <th>DIGITAL_CREDIT_PROVIDER_CODE</th>\n      <th>REPORTING_DATE</th>\n      <th>CUSTOMER_ID</th>\n      <th>PRIMARY_IDENTIFICATION_DOCUMENT_TYPE</th>\n      <th>NATIONAL_IDENTITY_PASSPORT_NUMBER</th>\n      <th>PERSONAL_IDENTIFICATION_NUMBER</th>\n      <th>NATIONALITY</th>\n      <th>GENDER</th>\n      <th>FIRST_NAME</th>\n      <th>MIDDLE_NAME</th>\n      <th>SURNAME</th>\n      <th>DATE_OF_BIRTH_REGISTRATION</th>\n      <th>ONBOARDING_DATE</th>\n      <th>MOBILE_NUMBER</th>\n    </tr>\n  </thead>\n  <tbody>\n    <tr>\n      <th>0</th>\n      <td>1</td>\n      <td>0900024</td>\n      <td>05-Jul-2023</td>\n      <td>C_2686</td>\n      <td>CUSTID01</td>\n      <td>22684386</td>\n      <td>None</td>\n      <td>KE</td>\n      <td>None</td>\n      <td>SHADRACK</td>\n      <td>None</td>\n      <td>KARANI</td>\n      <td>01-Jan-1982</td>\n      <td>12-Dec-2022</td>\n      <td>254720002906</td>\n    </tr>\n    <tr>\n      <th>1</th>\n      <td>2</td>\n      <td>0900024</td>\n      <td>05-Jul-2023</td>\n      <td>C_2685</td>\n      <td>CUSTID01</td>\n      <td>24554363</td>\n      <td>None</td>\n      <td>KE</td>\n      <td>None</td>\n      <td>MILKA</td>\n      <td>None</td>\n      <td>ONYANGO</td>\n      <td>01-Jan-1984</td>\n      <td>12-Dec-2022</td>\n      <td>254710537658</td>\n    </tr>\n    <tr>\n      <th>2</th>\n      <td>3</td>\n      <td>0900024</td>\n      <td>05-Jul-2023</td>\n      <td>C_2682</td>\n      <td>CUSTID01</td>\n      <td>10422013</td>\n      <td>None</td>\n      <td>KE</td>\n      <td>None</td>\n      <td>HALIMA</td>\n      <td>None</td>\n      <td>LUBANGA</td>\n      <td>24-Dec-1970</td>\n      <td>12-Dec-2022</td>\n      <td>254712305071</td>\n    </tr>\n    <tr>\n      <th>3</th>\n      <td>4</td>\n      <td>0900024</td>\n      <td>05-Jul-2023</td>\n      <td>C_2675</td>\n      <td>CUSTID01</td>\n      <td>23748210</td>\n      <td>None</td>\n      <td>KE</td>\n      <td>None</td>\n      <td>BEATRICE</td>\n      <td>None</td>\n      <td>CHEMUTAI</td>\n      <td>03-Jul-1984</td>\n      <td>10-Dec-2022</td>\n      <td>254726766394</td>\n    </tr>\n    <tr>\n      <th>4</th>\n      <td>5</td>\n      <td>0900024</td>\n      <td>05-Jul-2023</td>\n      <td>C_2674</td>\n      <td>CUSTID01</td>\n      <td>23678588</td>\n      <td>None</td>\n      <td>KE</td>\n      <td>None</td>\n      <td>FRANCIS</td>\n      <td>None</td>\n      <td>KAMAU</td>\n      <td>29-Jan-1984</td>\n      <td>10-Dec-2022</td>\n      <td>254724578708</td>\n    </tr>\n    <tr>\n      <th>...</th>\n      <td>...</td>\n      <td>...</td>\n      <td>...</td>\n      <td>...</td>\n      <td>...</td>\n      <td>...</td>\n      <td>...</td>\n      <td>...</td>\n      <td>...</td>\n      <td>...</td>\n      <td>...</td>\n      <td>...</td>\n      <td>...</td>\n      <td>...</td>\n      <td>...</td>\n    </tr>\n    <tr>\n      <th>95</th>\n      <td>96</td>\n      <td>0900024</td>\n      <td>05-Jul-2023</td>\n      <td>C_2343</td>\n      <td>CUSTID01</td>\n      <td>26378296</td>\n      <td>None</td>\n      <td>KE</td>\n      <td>None</td>\n      <td>RUTH</td>\n      <td>None</td>\n      <td>BIU</td>\n      <td>24-Aug-1988</td>\n      <td>23-Sep-2022</td>\n      <td>254728654902</td>\n    </tr>\n    <tr>\n      <th>96</th>\n      <td>97</td>\n      <td>0900024</td>\n      <td>05-Jul-2023</td>\n      <td>C_2338</td>\n      <td>CUSTID01</td>\n      <td>28525017</td>\n      <td>None</td>\n      <td>KE</td>\n      <td>None</td>\n      <td>TERESIA</td>\n      <td>None</td>\n      <td>WANYOIKE</td>\n      <td>10-Oct-1991</td>\n      <td>21-Sep-2022</td>\n      <td>254720982213</td>\n    </tr>\n    <tr>\n      <th>97</th>\n      <td>98</td>\n      <td>0900024</td>\n      <td>05-Jul-2023</td>\n      <td>C_2337</td>\n      <td>CUSTID01</td>\n      <td>13391516</td>\n      <td>None</td>\n      <td>KE</td>\n      <td>None</td>\n      <td>MARY</td>\n      <td>None</td>\n      <td>MURITU</td>\n      <td>28-Aug-1974</td>\n      <td>20-Sep-2022</td>\n      <td>254720369615</td>\n    </tr>\n    <tr>\n      <th>98</th>\n      <td>99</td>\n      <td>0900024</td>\n      <td>05-Jul-2023</td>\n      <td>C_2335</td>\n      <td>CUSTID01</td>\n      <td>32603762</td>\n      <td>None</td>\n      <td>KE</td>\n      <td>None</td>\n      <td>GRACE</td>\n      <td>None</td>\n      <td>KARANJA</td>\n      <td>23-Dec-1994</td>\n      <td>20-Sep-2022</td>\n      <td>254746210752</td>\n    </tr>\n    <tr>\n      <th>99</th>\n      <td>100</td>\n      <td>0900024</td>\n      <td>05-Jul-2023</td>\n      <td>C_2334</td>\n      <td>CUSTID01</td>\n      <td>31767463</td>\n      <td>None</td>\n      <td>KE</td>\n      <td>None</td>\n      <td>JOHN</td>\n      <td>None</td>\n      <td>MWANGI</td>\n      <td>23-Jan-1994</td>\n      <td>20-Sep-2022</td>\n      <td>254794090881</td>\n    </tr>\n  </tbody>\n</table>\n<p>100 rows × 15 columns</p>\n</div>"
     },
     "execution_count": 25,
     "metadata": {},
     "output_type": "execute_result"
    }
   ],
   "source": [
    "warehouse_hook.get_pandas_df(\n",
    "    sql=\"\"\"\n",
    "    -- Customer Data\n",
    "    with cust_dt as (\n",
    "        select\n",
    "            distinct\n",
    "            '0900024' as \"DIGITAL_CREDIT_PROVIDER_CODE\",\n",
    "            to_char(current_date, 'DD-Mon-YYYY') as \"REPORTING_DATE\", -- cannot be in format 'DD-Mon-YYYY' and still be dtype date\n",
    "            concat('C_', cmsv.mifos_id) as \"CUSTOMER_ID\", -- store number vs national_id\n",
    "            CASE WHEN cmsv.national_id ~ '[a-zA-Z]' THEN 'Passport' ELSE 'National Identity Card' END AS \"PRIMARY_IDENTIFICATION_DOCUMENT_TYPE\", -- how to distinguish huduma number from national ID number\n",
    "            cmsv.national_id as \"NATIONAL_IDENTITY_PASSPORT_NUMBER\", -- column name in template has slash\n",
    "            null as \"PERSONAL_IDENTIFICATION_NUMBER\", --kra pin\n",
    "            cmsv.gender,\n",
    "            cmsv.first_name as \"FIRST_NAME\",\n",
    "            cmsv.middle_name as \"MIDDLE_NAME\",\n",
    "            cmsv.last_name as \"SURNAME\",\n",
    "            to_char(cmsv.date_of_birth, 'DD-Mon-YYYY') as \"DATE_OF_BIRTH_REGISTRATION\", -- cannot be in format 'DD-MM-YYYY' and still be dtype date\n",
    "            to_char(cmsv.submitted_on_date, 'DD-Mon-YYYY') as \"ONBOARDING_DATE\",\n",
    "            cmsv.mobile_number as \"MOBILE_NUMBER\"\n",
    "        from copia.client_summary_view cmsv\n",
    "        inner join copia.loans_fact_table_summary_view lftmsv on cmsv.surrogate_id = lftmsv.client_surrogate_id\n",
    "    ) select\n",
    "        row_number() over () as \"ROW_ID\", \"DIGITAL_CREDIT_PROVIDER_CODE\", \"REPORTING_DATE\", \"CUSTOMER_ID\", cpdt.code as \"PRIMARY_IDENTIFICATION_DOCUMENT_TYPE\",\n",
    "        \"NATIONAL_IDENTITY_PASSPORT_NUMBER\", \"PERSONAL_IDENTIFICATION_NUMBER\", icc.country_code as \"NATIONALITY\", gt.code as \"GENDER\", \"FIRST_NAME\",\n",
    "        case when \"SURNAME\" is null and \"MIDDLE_NAME\" is not null then null else \"MIDDLE_NAME\" end as \"MIDDLE_NAME\",\n",
    "        case when \"SURNAME\" is null then \"MIDDLE_NAME\" else \"SURNAME\" end as \"SURNAME\",\n",
    "        \"DATE_OF_BIRTH_REGISTRATION\", \"ONBOARDING_DATE\", \"MOBILE_NUMBER\"\n",
    "    from cust_dt\n",
    "    left join central_bank_of_kenya.cust_primary_doc_types cpdt on cpdt.\"type\" = cust_dt.\"PRIMARY_IDENTIFICATION_DOCUMENT_TYPE\"\n",
    "    left join central_bank_of_kenya.gender_types gt on gt.\"type\" = cust_dt.gender\n",
    "    left join central_bank_of_kenya.iso_country_codes icc on icc.country_description = 'Kenya'\n",
    "    limit 100\n",
    "    \"\"\"\n",
    ")##.to_csv(f'~/data/CBK Customer Data Sample SOLV {datetime.datetime.now()}.csv', index=False)"
   ],
   "metadata": {
    "collapsed": false
   }
  },
  {
   "cell_type": "markdown",
   "source": [
    "# JUBILEE"
   ],
   "metadata": {
    "collapsed": false
   }
  },
  {
   "cell_type": "markdown",
   "source": [
    "### Digital Loans Account Data"
   ],
   "metadata": {
    "collapsed": false
   }
  },
  {
   "cell_type": "code",
   "execution_count": 27,
   "outputs": [
    {
     "name": "stdout",
     "output_type": "stream",
     "text": [
      "[\u001B[34m2023-07-05 10:55:48,612\u001B[0m] {\u001B[34mbase.py:\u001B[0m73} INFO\u001B[0m - Using connection ID 'rds_afsg_ds_prod_postgresql_dwh' for task execution.\u001B[0m\n"
     ]
    },
    {
     "data": {
      "text/plain": "\u001B[1;33m/home/henrykuria/airflow_venv/lib/python3.10/site-packages/pandas/io/\u001B[0m\u001B[1;33msql.py\u001B[0m\u001B[1;33m:\u001B[0m\u001B[1;33m761\u001B[0m\u001B[1;33m UserWarning\u001B[0m\u001B[33m: pandas only support SQLAlchemy \u001B[0m\u001B[1;33mconnectable\u001B[0m\u001B[1;33m(\u001B[0m\u001B[33mengine/connection\u001B[0m\u001B[1;33m)\u001B[0m\u001B[33m ordatabase string URI or sqlite3 DBAPI2 connectionother DBAPI2 objects are not tested, please consider using SQLAlchemy\u001B[0m\n",
      "text/html": "<pre style=\"white-space:pre;overflow-x:auto;line-height:normal;font-family:Menlo,'DejaVu Sans Mono',consolas,'Courier New',monospace\"><span style=\"color: #808000; text-decoration-color: #808000; font-weight: bold\">/home/henrykuria/airflow_venv/lib/python3.10/site-packages/pandas/io/sql.py:</span><span style=\"color: #808000; text-decoration-color: #808000; font-weight: bold\">761</span><span style=\"color: #808000; text-decoration-color: #808000; font-weight: bold\"> UserWarning</span><span style=\"color: #808000; text-decoration-color: #808000\">: pandas only support SQLAlchemy </span><span style=\"color: #808000; text-decoration-color: #808000; font-weight: bold\">connectable(</span><span style=\"color: #808000; text-decoration-color: #808000\">engine/connection</span><span style=\"color: #808000; text-decoration-color: #808000; font-weight: bold\">)</span><span style=\"color: #808000; text-decoration-color: #808000\"> ordatabase string URI or sqlite3 DBAPI2 connectionother DBAPI2 objects are not tested, please consider using SQLAlchemy</span>\n</pre>\n"
     },
     "metadata": {},
     "output_type": "display_data"
    },
    {
     "data": {
      "text/plain": "    ROW_ID DIGITAL_CREDIT_PROVIDER_CODE REPORTING_DATE CUSTOMER_ID  \\\n0        1                      0900024    05-Jul-2023       J_369   \n1        2                      0900024    05-Jul-2023       J_257   \n2        3                      0900024    05-Jul-2023       J_399   \n3        4                      0900024    05-Jul-2023       J_383   \n4        5                      0900024    05-Jul-2023       J_234   \n5        6                      0900024    05-Jul-2023       J_257   \n6        7                      0900024    05-Jul-2023       J_371   \n7        8                      0900024    05-Jul-2023       J_115   \n8        9                      0900024    05-Jul-2023       J_302   \n9       10                      0900024    05-Jul-2023       J_377   \n10      11                      0900024    05-Jul-2023       J_330   \n11      12                      0900024    05-Jul-2023       J_199   \n12      13                      0900024    05-Jul-2023       J_316   \n13      14                      0900024    05-Jul-2023       J_321   \n14      15                      0900024    05-Jul-2023       J_342   \n15      16                      0900024    05-Jul-2023        J_33   \n16      17                      0900024    05-Jul-2023       J_244   \n17      18                      0900024    05-Jul-2023       J_367   \n18      19                      0900024    05-Jul-2023       J_224   \n19      20                      0900024    05-Jul-2023       J_146   \n20      21                      0900024    05-Jul-2023       J_257   \n21      22                      0900024    05-Jul-2023       J_257   \n22      23                      0900024    05-Jul-2023       J_252   \n23      24                      0900024    05-Jul-2023       J_150   \n24      25                      0900024    05-Jul-2023       J_254   \n25      26                      0900024    05-Jul-2023       J_300   \n26      27                      0900024    05-Jul-2023       J_234   \n27      28                      0900024    05-Jul-2023       J_296   \n28      29                      0900024    05-Jul-2023       J_267   \n29      30                      0900024    05-Jul-2023       J_285   \n30      31                      0900024    05-Jul-2023       J_251   \n31      32                      0900024    05-Jul-2023       J_215   \n32      33                      0900024    05-Jul-2023       J_199   \n33      34                      0900024    05-Jul-2023       J_174   \n34      35                      0900024    05-Jul-2023       J_164   \n35      36                      0900024    05-Jul-2023       J_156   \n36      37                      0900024    05-Jul-2023       J_154   \n37      38                      0900024    05-Jul-2023       J_139   \n38      39                      0900024    05-Jul-2023       J_107   \n39      40                      0900024    05-Jul-2023        J_33   \n40      41                      0900024    05-Jul-2023       J_198   \n41      42                      0900024    05-Jul-2023        J_57   \n42      43                      0900024    05-Jul-2023       J_162   \n43      44                      0900024    05-Jul-2023       J_150   \n44      45                      0900024    05-Jul-2023       J_146   \n45      46                      0900024    05-Jul-2023       J_143   \n46      47                      0900024    05-Jul-2023        J_97   \n47      48                      0900024    05-Jul-2023        J_91   \n48      49                      0900024    05-Jul-2023        J_67   \n49      50                      0900024    05-Jul-2023        J_66   \n50      51                      0900024    05-Jul-2023        J_72   \n51      52                      0900024    05-Jul-2023        J_57   \n52      53                      0900024    05-Jul-2023        J_55   \n53      54                      0900024    05-Jul-2023        J_46   \n54      55                      0900024    05-Jul-2023        J_33   \n55      56                      0900024    05-Jul-2023        J_17   \n\n   LOAN_ACCOUNT_CONTRACT_NUMBER                    ACCOUNT_NAME  \\\n0                        J_1102                   ROSE  OMARIBA   \n1                        J_1134                  EDWARD  NDUATI   \n2                        J_1133                    LUCY  WAFULA   \n3                        J_1126                MARGARET  RUTERE   \n4                        J_1014                 BONFACE  GATOBU   \n5                        J_1131                  EDWARD  NDUATI   \n6                        J_1135                    JAMES  MASAI   \n7                        J_1122                 WILLIAM  IRUNGU   \n8                         J_979            JUDY NTHENYA COMPANY   \n9                        J_1123                   PERIS  KIRUGA   \n10                       J_1015  JEYJEY AND COMPANY LIMITED A/A   \n11                       J_1017                   JESSE  MBITHI   \n12                        J_986                  ERIC  ODHIAMBO   \n13                       J_1012               PRUDENCE  KHAMATI   \n14                       J_1018                  WINNIE  MBUGUA   \n15                       J_1013               CATHERINE  WAWERU   \n16                       J_1026               GEOFFREY  ONDONGO   \n17                       J_1027               SOPHIA  KINYANJUI   \n18                       J_1019                     HAWA  RAJAB   \n19                        J_980               VINCENT  ODHIAMBO   \n20                        J_973                  EDWARD  NDUATI   \n21                        J_970                  EDWARD  NDUATI   \n22                        J_963               PHILEMON  WANDERA   \n23                        J_985                   JAMES  MUTURI   \n24                        J_965                  GEORGE  ROBERT   \n25                        J_978                   VIOLET  QUAIL   \n26                        J_961                 BONFACE  GATOBU   \n27                        J_977                   JOSEPH  NGUGI   \n28                        J_971                  UPLANDS  KENYA   \n29                        J_974                  EDITH  ANYANGO   \n30                        J_962                PAMELA  ODHIAMBO   \n31                        J_138                  PATRICK  NJOKI   \n32                         J_24                   JESSE  MBITHI   \n33                         J_22               GEOFFREY  NYAMORI   \n34                         J_21                    JAMES  NTELE   \n35                         J_18                  BSL  GOVERNORS   \n36                         J_17                 ROBERT  MBURUGU   \n37                         J_13                  DANIEL  MWANGI   \n38                         J_12                    PAUL  NDUNGU   \n39                         J_20               CATHERINE  WAWERU   \n40                         J_30                  VINCENT  KASII   \n41                         J_23                EVERLYNE  ALUOCH   \n42                         J_19                 BRANDON  NGAIRA   \n43                         J_16                   JAMES  MUTURI   \n44                         J_15               VINCENT  ODHIAMBO   \n45                         J_14                    DOREEN  MBAE   \n46                         J_11                  HILDAH  MAKENA   \n47                         J_10                   KELVIN  MUTUA   \n48                          J_9                KINYANJUI  CHEGE   \n49                          J_8                 JEDIEL  MURIUKI   \n50                          J_7               CAROLINE  WANJIKU   \n51                          J_6                EVERLYNE  ALUOCH   \n52                          J_4              CAROLINE  MACHARIA   \n53                          J_3                 STEPHEN  MUSILA   \n54                          J_2               CATHERINE  WAWERU   \n55                          J_1                 VICTOR  MWENDWA   \n\n   DISBURSEMENT_DATE  PRINCIPAL_LOAN_AMOUNT_DISBURSED  \\\n0        13-Dec-2022                          46143.0   \n1        01-Feb-2023                         245259.0   \n2        01-Feb-2023                          57166.0   \n3        29-Dec-2022                          80476.0   \n4        29-Jul-2022                         149204.0   \n5        04-Jan-2023                          87526.0   \n6        07-Feb-2023                          63816.0   \n7        16-Dec-2022                          59363.0   \n8        06-May-2022                          65647.0   \n9        19-Dec-2022                          33932.0   \n10       02-Aug-2022                          46073.0   \n11       20-Sep-2022                          37488.0   \n12       22-Jun-2022                          48622.0   \n13       29-Jun-2022                          90441.0   \n14       23-Sep-2022                         132931.0   \n15       16-Jul-2022                          83188.0   \n16       16-Nov-2022                          38810.0   \n17       02-Dec-2022                          31671.0   \n18       14-Oct-2022                          47042.0   \n19       03-Jun-2022                          39568.0   \n20       23-Dec-2021                          95232.0   \n21       23-Dec-2021                         179851.0   \n22       07-Dec-2021                          43723.0   \n23       14-Jun-2022                          82072.0   \n24       08-Dec-2021                          52245.0   \n25       14-Apr-2022                          90839.0   \n26       27-Oct-2021                          85921.0   \n27       08-Apr-2022                          38452.0   \n28       24-Dec-2021                          41016.0   \n29       15-Feb-2022                          38452.0   \n30       06-Dec-2021                          52245.0   \n31       08-Oct-2021                          32581.0   \n32       20-Sep-2021                          28244.0   \n33       10-Aug-2021                          37272.0   \n34       16-Jul-2021                          76880.0   \n35       25-Jun-2021                         177229.0   \n36       18-Jun-2021                          91515.0   \n37       25-May-2021                          94163.0   \n38       09-Mar-2021                         136095.0   \n39       15-Jul-2021                          73357.0   \n40       21-Sep-2021                          47115.0   \n41       20-Aug-2021                          21828.0   \n42       05-Jul-2021                          32819.0   \n43       15-Jun-2021                          83277.0   \n44       09-Jun-2021                          31834.0   \n45       07-Jun-2021                          34747.0   \n46       11-Jan-2021                          14916.0   \n47       09-Dec-2020                          73228.0   \n48       02-Sep-2020                          30918.0   \n49       28-Oct-2020                          36017.0   \n50       15-Sep-2020                          91136.0   \n51       21-Aug-2020                          27309.0   \n52       19-Aug-2020                          28658.0   \n53       02-Aug-2020                          82433.0   \n54       11-Jul-2020                          74367.0   \n55       23-Jun-2020                          31641.0   \n\n    OUTSTANDING_LOAN_BALANCE  DEBIT_INTEREST_RATE  \\\n0                    28901.0                    0   \n1                   189528.0                    0   \n2                    36791.0                    0   \n3                    41428.0                    0   \n4                    48147.0                    0   \n5                    56368.0                    0   \n6                    57538.0                    0   \n7                    61170.0                    0   \n8                     7295.0                    0   \n9                    36031.0                    0   \n10                   48943.0                    0   \n11                   40532.0                    0   \n12                   51123.0                    0   \n13                       0.0                    0   \n14                       0.0                    0   \n15                       0.0                    0   \n16                       0.0                    0   \n17                       0.0                    0   \n18                       0.0                    0   \n19                       0.0                    0   \n20                       0.0                    0   \n21                       0.0                    0   \n22                       0.0                    0   \n23                       0.0                    0   \n24                       0.0                    0   \n25                       0.0                    0   \n26                       0.0                    0   \n27                       0.0                    0   \n28                       0.0                    0   \n29                       0.0                    0   \n30                       0.0                    0   \n31                       0.0                    0   \n32                       0.0                    0   \n33                       0.0                    0   \n34                       0.0                    0   \n35                       0.0                    0   \n36                       0.0                    0   \n37                       0.0                    0   \n38                       0.0                    0   \n39                       0.0                    0   \n40                       0.0                    0   \n41                       0.0                    0   \n42                       0.0                    0   \n43                       0.0                    0   \n44                       0.0                    0   \n45                       0.0                    0   \n46                       0.0                    0   \n47                       0.0                    0   \n48                       0.0                    0   \n49                       0.0                    0   \n50                       0.0                    0   \n51                       0.0                    0   \n52                       0.0                    0   \n53                       0.0                    0   \n54                       0.0                    0   \n55                       0.0                    0   \n\n    FACILITY_ARRANGEMENT_FEE_CHARGE  UPFRONT_INTEREST_FEES_CHARGE  \\\n0                            7348.0                             0   \n1                           39033.0                             0   \n2                            7213.0                             0   \n3                           12812.0                             0   \n4                           19667.0                             0   \n5                           13934.0                             0   \n6                           10160.0                             0   \n7                            9453.0                             0   \n8                            8656.0                             0   \n9                            2099.0                             0   \n10                           3586.0                             0   \n11                           4119.0                             0   \n12                           2501.0                             0   \n13                          11922.0                             0   \n14                          21160.0                             0   \n15                          10967.0                             0   \n16                           3637.0                             0   \n17                           1959.0                             0   \n18                           3655.0                             0   \n19                           2556.0                             0   \n20                          12554.0                             0   \n21                          23698.0                             0   \n22                           5762.0                             0   \n23                           4222.0                             0   \n24                           6884.0                             0   \n25                           5866.0                             0   \n26                          11328.0                             0   \n27                           1979.0                             0   \n28                           2647.0                             0   \n29                           1978.0                             0   \n30                           6884.0                             0   \n31                           4299.0                             0   \n32                           1455.0                             0   \n33                           3399.0                             0   \n34                          10135.0                             0   \n35                          23355.0                             0   \n36                           8340.0                             0   \n37                           4844.0                             0   \n38                          17938.0                             0   \n39                           9672.0                             0   \n40                           2425.0                             0   \n41                           1701.0                             0   \n42                           2119.0                             0   \n43                           4283.0                             0   \n44                           2055.0                             0   \n45                           2243.0                             0   \n46                           1965.0                             0   \n47                           9657.0                             0   \n48                           1592.0                             0   \n49                           4751.0                             0   \n50                           4688.0                             0   \n51                           1407.0                             0   \n52                           1475.0                             0   \n53                           7515.0                             0   \n54                           9806.0                             0   \n55                           1628.0                             0   \n\n    COST_OF_WALLET_TRANSFER  INSURANCE_FEE_CHARGE  OTHER_CHARGE  \\\n0                         0                     0           0.0   \n1                         0                     0           0.0   \n2                         0                     0           0.0   \n3                         0                     0           0.0   \n4                         0                     0           0.0   \n5                         0                     0           0.0   \n6                         0                     0           0.0   \n7                         0                     0           0.0   \n8                         0                     0           0.0   \n9                         0                     0           0.0   \n10                        0                     0           0.0   \n11                        0                     0           0.0   \n12                        0                     0           0.0   \n13                        0                     0           0.0   \n14                        0                     0           0.0   \n15                        0                     0           0.0   \n16                        0                     0           0.0   \n17                        0                     0           0.0   \n18                        0                     0           0.0   \n19                        0                     0           0.0   \n20                        0                     0           0.0   \n21                        0                     0           0.0   \n22                        0                     0           0.0   \n23                        0                     0           0.0   \n24                        0                     0           0.0   \n25                        0                     0           0.0   \n26                        0                     0           0.0   \n27                        0                     0           0.0   \n28                        0                     0           0.0   \n29                        0                     0           0.0   \n30                        0                     0           0.0   \n31                        0                     0           0.0   \n32                        0                     0           0.0   \n33                        0                     0           0.0   \n34                        0                     0           0.0   \n35                        0                     0           0.0   \n36                        0                     0           0.0   \n37                        0                     0           0.0   \n38                        0                     0           0.0   \n39                        0                     0           0.0   \n40                        0                     0           0.0   \n41                        0                     0           0.0   \n42                        0                     0           0.0   \n43                        0                     0           0.0   \n44                        0                     0           0.0   \n45                        0                     0           0.0   \n46                        0                     0           0.0   \n47                        0                     0           0.0   \n48                        0                     0           0.0   \n49                        0                     0           0.0   \n50                        0                     0           0.0   \n51                        0                     0           0.0   \n52                        0                     0           0.0   \n53                        0                     0           0.0   \n54                        0                     0           0.0   \n55                        0                     0           0.0   \n\n   CHANNEL_TYPE_USED  DIGITAL_LOAN_TENOR  INSTALMENT_AMOUNT ACCOUNT_STATUS  \n0              CHN02                  30            53491.0         ACTIVE  \n1              CHN02                  30           284292.0         ACTIVE  \n2              CHN02                  30            64379.0         ACTIVE  \n3              CHN02                  30            93288.0         ACTIVE  \n4              CHN02                  30           168871.0         ACTIVE  \n5              CHN02                  30           101460.0         ACTIVE  \n6              CHN02                  30            73976.0         ACTIVE  \n7              CHN02                  30            68816.0         ACTIVE  \n8              CHN02                  30            74303.0         ACTIVE  \n9              CHN02                  30            36031.0         ACTIVE  \n10             CHN02                  30            49659.0         ACTIVE  \n11             CHN02                  30            41607.0         ACTIVE  \n12             CHN02                  30            51123.0         ACTIVE  \n13             CHN02                  30           102363.0         CLOSED  \n14             CHN02                  30           154091.0         CLOSED  \n15             CHN02                  30            94155.0         CLOSED  \n16             CHN02                  30            42447.0         CLOSED  \n17             CHN02                  30            33630.0         CLOSED  \n18             CHN02                  30            50697.0         CLOSED  \n19             CHN02                  30            42124.0         CLOSED  \n20             CHN02                  30           107786.0         CLOSED  \n21             CHN02                  30           203549.0         CLOSED  \n22             CHN02                  30            49485.0         CLOSED  \n23             CHN02                  30            86294.0         CLOSED  \n24             CHN02                  30            59129.0         CLOSED  \n25             CHN02                  30            96705.0         CLOSED  \n26             CHN02                  30            97249.0         CLOSED  \n27             CHN02                  30            40431.0         CLOSED  \n28             CHN02                  30            43663.0         CLOSED  \n29             CHN02                  30            40430.0         CLOSED  \n30             CHN02                  30            59129.0         CLOSED  \n31             CHN02                  30            36880.0         CLOSED  \n32             CHN02                  30            29699.0         CLOSED  \n33             CHN02                  30            40671.0         CLOSED  \n34             CHN02                  30            87015.0         CLOSED  \n35             CHN02                  30           200584.0         CLOSED  \n36             CHN02                  30            99855.0         CLOSED  \n37             CHN02                  30            99007.0         CLOSED  \n38             CHN02                  30           154033.0         CLOSED  \n39             CHN02                  30            83029.0         CLOSED  \n40             CHN02                  30            49540.0         CLOSED  \n41             CHN02                  30            23529.0         CLOSED  \n42             CHN02                  30            34938.0         CLOSED  \n43             CHN02                  30            87560.0         CLOSED  \n44             CHN02                  30            33889.0         CLOSED  \n45             CHN02                  30            36990.0         CLOSED  \n46             CHN02                  30            16881.0         CLOSED  \n47             CHN02                  30            82885.0         CLOSED  \n48             CHN02                  30            32510.0         CLOSED  \n49             CHN02                  30            40768.0         CLOSED  \n50             CHN02                  30            95824.0         CLOSED  \n51             CHN02                  30            28716.0         CLOSED  \n52             CHN02                  30            30133.0         CLOSED  \n53             CHN02                  30            89948.0         CLOSED  \n54             CHN02                  30            84173.0         CLOSED  \n55             CHN02                  30            33269.0         CLOSED  ",
      "text/html": "<div>\n<style scoped>\n    .dataframe tbody tr th:only-of-type {\n        vertical-align: middle;\n    }\n\n    .dataframe tbody tr th {\n        vertical-align: top;\n    }\n\n    .dataframe thead th {\n        text-align: right;\n    }\n</style>\n<table border=\"1\" class=\"dataframe\">\n  <thead>\n    <tr style=\"text-align: right;\">\n      <th></th>\n      <th>ROW_ID</th>\n      <th>DIGITAL_CREDIT_PROVIDER_CODE</th>\n      <th>REPORTING_DATE</th>\n      <th>CUSTOMER_ID</th>\n      <th>LOAN_ACCOUNT_CONTRACT_NUMBER</th>\n      <th>ACCOUNT_NAME</th>\n      <th>DISBURSEMENT_DATE</th>\n      <th>PRINCIPAL_LOAN_AMOUNT_DISBURSED</th>\n      <th>OUTSTANDING_LOAN_BALANCE</th>\n      <th>DEBIT_INTEREST_RATE</th>\n      <th>FACILITY_ARRANGEMENT_FEE_CHARGE</th>\n      <th>UPFRONT_INTEREST_FEES_CHARGE</th>\n      <th>COST_OF_WALLET_TRANSFER</th>\n      <th>INSURANCE_FEE_CHARGE</th>\n      <th>OTHER_CHARGE</th>\n      <th>CHANNEL_TYPE_USED</th>\n      <th>DIGITAL_LOAN_TENOR</th>\n      <th>INSTALMENT_AMOUNT</th>\n      <th>ACCOUNT_STATUS</th>\n    </tr>\n  </thead>\n  <tbody>\n    <tr>\n      <th>0</th>\n      <td>1</td>\n      <td>0900024</td>\n      <td>05-Jul-2023</td>\n      <td>J_369</td>\n      <td>J_1102</td>\n      <td>ROSE  OMARIBA</td>\n      <td>13-Dec-2022</td>\n      <td>46143.0</td>\n      <td>28901.0</td>\n      <td>0</td>\n      <td>7348.0</td>\n      <td>0</td>\n      <td>0</td>\n      <td>0</td>\n      <td>0.0</td>\n      <td>CHN02</td>\n      <td>30</td>\n      <td>53491.0</td>\n      <td>ACTIVE</td>\n    </tr>\n    <tr>\n      <th>1</th>\n      <td>2</td>\n      <td>0900024</td>\n      <td>05-Jul-2023</td>\n      <td>J_257</td>\n      <td>J_1134</td>\n      <td>EDWARD  NDUATI</td>\n      <td>01-Feb-2023</td>\n      <td>245259.0</td>\n      <td>189528.0</td>\n      <td>0</td>\n      <td>39033.0</td>\n      <td>0</td>\n      <td>0</td>\n      <td>0</td>\n      <td>0.0</td>\n      <td>CHN02</td>\n      <td>30</td>\n      <td>284292.0</td>\n      <td>ACTIVE</td>\n    </tr>\n    <tr>\n      <th>2</th>\n      <td>3</td>\n      <td>0900024</td>\n      <td>05-Jul-2023</td>\n      <td>J_399</td>\n      <td>J_1133</td>\n      <td>LUCY  WAFULA</td>\n      <td>01-Feb-2023</td>\n      <td>57166.0</td>\n      <td>36791.0</td>\n      <td>0</td>\n      <td>7213.0</td>\n      <td>0</td>\n      <td>0</td>\n      <td>0</td>\n      <td>0.0</td>\n      <td>CHN02</td>\n      <td>30</td>\n      <td>64379.0</td>\n      <td>ACTIVE</td>\n    </tr>\n    <tr>\n      <th>3</th>\n      <td>4</td>\n      <td>0900024</td>\n      <td>05-Jul-2023</td>\n      <td>J_383</td>\n      <td>J_1126</td>\n      <td>MARGARET  RUTERE</td>\n      <td>29-Dec-2022</td>\n      <td>80476.0</td>\n      <td>41428.0</td>\n      <td>0</td>\n      <td>12812.0</td>\n      <td>0</td>\n      <td>0</td>\n      <td>0</td>\n      <td>0.0</td>\n      <td>CHN02</td>\n      <td>30</td>\n      <td>93288.0</td>\n      <td>ACTIVE</td>\n    </tr>\n    <tr>\n      <th>4</th>\n      <td>5</td>\n      <td>0900024</td>\n      <td>05-Jul-2023</td>\n      <td>J_234</td>\n      <td>J_1014</td>\n      <td>BONFACE  GATOBU</td>\n      <td>29-Jul-2022</td>\n      <td>149204.0</td>\n      <td>48147.0</td>\n      <td>0</td>\n      <td>19667.0</td>\n      <td>0</td>\n      <td>0</td>\n      <td>0</td>\n      <td>0.0</td>\n      <td>CHN02</td>\n      <td>30</td>\n      <td>168871.0</td>\n      <td>ACTIVE</td>\n    </tr>\n    <tr>\n      <th>5</th>\n      <td>6</td>\n      <td>0900024</td>\n      <td>05-Jul-2023</td>\n      <td>J_257</td>\n      <td>J_1131</td>\n      <td>EDWARD  NDUATI</td>\n      <td>04-Jan-2023</td>\n      <td>87526.0</td>\n      <td>56368.0</td>\n      <td>0</td>\n      <td>13934.0</td>\n      <td>0</td>\n      <td>0</td>\n      <td>0</td>\n      <td>0.0</td>\n      <td>CHN02</td>\n      <td>30</td>\n      <td>101460.0</td>\n      <td>ACTIVE</td>\n    </tr>\n    <tr>\n      <th>6</th>\n      <td>7</td>\n      <td>0900024</td>\n      <td>05-Jul-2023</td>\n      <td>J_371</td>\n      <td>J_1135</td>\n      <td>JAMES  MASAI</td>\n      <td>07-Feb-2023</td>\n      <td>63816.0</td>\n      <td>57538.0</td>\n      <td>0</td>\n      <td>10160.0</td>\n      <td>0</td>\n      <td>0</td>\n      <td>0</td>\n      <td>0.0</td>\n      <td>CHN02</td>\n      <td>30</td>\n      <td>73976.0</td>\n      <td>ACTIVE</td>\n    </tr>\n    <tr>\n      <th>7</th>\n      <td>8</td>\n      <td>0900024</td>\n      <td>05-Jul-2023</td>\n      <td>J_115</td>\n      <td>J_1122</td>\n      <td>WILLIAM  IRUNGU</td>\n      <td>16-Dec-2022</td>\n      <td>59363.0</td>\n      <td>61170.0</td>\n      <td>0</td>\n      <td>9453.0</td>\n      <td>0</td>\n      <td>0</td>\n      <td>0</td>\n      <td>0.0</td>\n      <td>CHN02</td>\n      <td>30</td>\n      <td>68816.0</td>\n      <td>ACTIVE</td>\n    </tr>\n    <tr>\n      <th>8</th>\n      <td>9</td>\n      <td>0900024</td>\n      <td>05-Jul-2023</td>\n      <td>J_302</td>\n      <td>J_979</td>\n      <td>JUDY NTHENYA COMPANY</td>\n      <td>06-May-2022</td>\n      <td>65647.0</td>\n      <td>7295.0</td>\n      <td>0</td>\n      <td>8656.0</td>\n      <td>0</td>\n      <td>0</td>\n      <td>0</td>\n      <td>0.0</td>\n      <td>CHN02</td>\n      <td>30</td>\n      <td>74303.0</td>\n      <td>ACTIVE</td>\n    </tr>\n    <tr>\n      <th>9</th>\n      <td>10</td>\n      <td>0900024</td>\n      <td>05-Jul-2023</td>\n      <td>J_377</td>\n      <td>J_1123</td>\n      <td>PERIS  KIRUGA</td>\n      <td>19-Dec-2022</td>\n      <td>33932.0</td>\n      <td>36031.0</td>\n      <td>0</td>\n      <td>2099.0</td>\n      <td>0</td>\n      <td>0</td>\n      <td>0</td>\n      <td>0.0</td>\n      <td>CHN02</td>\n      <td>30</td>\n      <td>36031.0</td>\n      <td>ACTIVE</td>\n    </tr>\n    <tr>\n      <th>10</th>\n      <td>11</td>\n      <td>0900024</td>\n      <td>05-Jul-2023</td>\n      <td>J_330</td>\n      <td>J_1015</td>\n      <td>JEYJEY AND COMPANY LIMITED A/A</td>\n      <td>02-Aug-2022</td>\n      <td>46073.0</td>\n      <td>48943.0</td>\n      <td>0</td>\n      <td>3586.0</td>\n      <td>0</td>\n      <td>0</td>\n      <td>0</td>\n      <td>0.0</td>\n      <td>CHN02</td>\n      <td>30</td>\n      <td>49659.0</td>\n      <td>ACTIVE</td>\n    </tr>\n    <tr>\n      <th>11</th>\n      <td>12</td>\n      <td>0900024</td>\n      <td>05-Jul-2023</td>\n      <td>J_199</td>\n      <td>J_1017</td>\n      <td>JESSE  MBITHI</td>\n      <td>20-Sep-2022</td>\n      <td>37488.0</td>\n      <td>40532.0</td>\n      <td>0</td>\n      <td>4119.0</td>\n      <td>0</td>\n      <td>0</td>\n      <td>0</td>\n      <td>0.0</td>\n      <td>CHN02</td>\n      <td>30</td>\n      <td>41607.0</td>\n      <td>ACTIVE</td>\n    </tr>\n    <tr>\n      <th>12</th>\n      <td>13</td>\n      <td>0900024</td>\n      <td>05-Jul-2023</td>\n      <td>J_316</td>\n      <td>J_986</td>\n      <td>ERIC  ODHIAMBO</td>\n      <td>22-Jun-2022</td>\n      <td>48622.0</td>\n      <td>51123.0</td>\n      <td>0</td>\n      <td>2501.0</td>\n      <td>0</td>\n      <td>0</td>\n      <td>0</td>\n      <td>0.0</td>\n      <td>CHN02</td>\n      <td>30</td>\n      <td>51123.0</td>\n      <td>ACTIVE</td>\n    </tr>\n    <tr>\n      <th>13</th>\n      <td>14</td>\n      <td>0900024</td>\n      <td>05-Jul-2023</td>\n      <td>J_321</td>\n      <td>J_1012</td>\n      <td>PRUDENCE  KHAMATI</td>\n      <td>29-Jun-2022</td>\n      <td>90441.0</td>\n      <td>0.0</td>\n      <td>0</td>\n      <td>11922.0</td>\n      <td>0</td>\n      <td>0</td>\n      <td>0</td>\n      <td>0.0</td>\n      <td>CHN02</td>\n      <td>30</td>\n      <td>102363.0</td>\n      <td>CLOSED</td>\n    </tr>\n    <tr>\n      <th>14</th>\n      <td>15</td>\n      <td>0900024</td>\n      <td>05-Jul-2023</td>\n      <td>J_342</td>\n      <td>J_1018</td>\n      <td>WINNIE  MBUGUA</td>\n      <td>23-Sep-2022</td>\n      <td>132931.0</td>\n      <td>0.0</td>\n      <td>0</td>\n      <td>21160.0</td>\n      <td>0</td>\n      <td>0</td>\n      <td>0</td>\n      <td>0.0</td>\n      <td>CHN02</td>\n      <td>30</td>\n      <td>154091.0</td>\n      <td>CLOSED</td>\n    </tr>\n    <tr>\n      <th>15</th>\n      <td>16</td>\n      <td>0900024</td>\n      <td>05-Jul-2023</td>\n      <td>J_33</td>\n      <td>J_1013</td>\n      <td>CATHERINE  WAWERU</td>\n      <td>16-Jul-2022</td>\n      <td>83188.0</td>\n      <td>0.0</td>\n      <td>0</td>\n      <td>10967.0</td>\n      <td>0</td>\n      <td>0</td>\n      <td>0</td>\n      <td>0.0</td>\n      <td>CHN02</td>\n      <td>30</td>\n      <td>94155.0</td>\n      <td>CLOSED</td>\n    </tr>\n    <tr>\n      <th>16</th>\n      <td>17</td>\n      <td>0900024</td>\n      <td>05-Jul-2023</td>\n      <td>J_244</td>\n      <td>J_1026</td>\n      <td>GEOFFREY  ONDONGO</td>\n      <td>16-Nov-2022</td>\n      <td>38810.0</td>\n      <td>0.0</td>\n      <td>0</td>\n      <td>3637.0</td>\n      <td>0</td>\n      <td>0</td>\n      <td>0</td>\n      <td>0.0</td>\n      <td>CHN02</td>\n      <td>30</td>\n      <td>42447.0</td>\n      <td>CLOSED</td>\n    </tr>\n    <tr>\n      <th>17</th>\n      <td>18</td>\n      <td>0900024</td>\n      <td>05-Jul-2023</td>\n      <td>J_367</td>\n      <td>J_1027</td>\n      <td>SOPHIA  KINYANJUI</td>\n      <td>02-Dec-2022</td>\n      <td>31671.0</td>\n      <td>0.0</td>\n      <td>0</td>\n      <td>1959.0</td>\n      <td>0</td>\n      <td>0</td>\n      <td>0</td>\n      <td>0.0</td>\n      <td>CHN02</td>\n      <td>30</td>\n      <td>33630.0</td>\n      <td>CLOSED</td>\n    </tr>\n    <tr>\n      <th>18</th>\n      <td>19</td>\n      <td>0900024</td>\n      <td>05-Jul-2023</td>\n      <td>J_224</td>\n      <td>J_1019</td>\n      <td>HAWA  RAJAB</td>\n      <td>14-Oct-2022</td>\n      <td>47042.0</td>\n      <td>0.0</td>\n      <td>0</td>\n      <td>3655.0</td>\n      <td>0</td>\n      <td>0</td>\n      <td>0</td>\n      <td>0.0</td>\n      <td>CHN02</td>\n      <td>30</td>\n      <td>50697.0</td>\n      <td>CLOSED</td>\n    </tr>\n    <tr>\n      <th>19</th>\n      <td>20</td>\n      <td>0900024</td>\n      <td>05-Jul-2023</td>\n      <td>J_146</td>\n      <td>J_980</td>\n      <td>VINCENT  ODHIAMBO</td>\n      <td>03-Jun-2022</td>\n      <td>39568.0</td>\n      <td>0.0</td>\n      <td>0</td>\n      <td>2556.0</td>\n      <td>0</td>\n      <td>0</td>\n      <td>0</td>\n      <td>0.0</td>\n      <td>CHN02</td>\n      <td>30</td>\n      <td>42124.0</td>\n      <td>CLOSED</td>\n    </tr>\n    <tr>\n      <th>20</th>\n      <td>21</td>\n      <td>0900024</td>\n      <td>05-Jul-2023</td>\n      <td>J_257</td>\n      <td>J_973</td>\n      <td>EDWARD  NDUATI</td>\n      <td>23-Dec-2021</td>\n      <td>95232.0</td>\n      <td>0.0</td>\n      <td>0</td>\n      <td>12554.0</td>\n      <td>0</td>\n      <td>0</td>\n      <td>0</td>\n      <td>0.0</td>\n      <td>CHN02</td>\n      <td>30</td>\n      <td>107786.0</td>\n      <td>CLOSED</td>\n    </tr>\n    <tr>\n      <th>21</th>\n      <td>22</td>\n      <td>0900024</td>\n      <td>05-Jul-2023</td>\n      <td>J_257</td>\n      <td>J_970</td>\n      <td>EDWARD  NDUATI</td>\n      <td>23-Dec-2021</td>\n      <td>179851.0</td>\n      <td>0.0</td>\n      <td>0</td>\n      <td>23698.0</td>\n      <td>0</td>\n      <td>0</td>\n      <td>0</td>\n      <td>0.0</td>\n      <td>CHN02</td>\n      <td>30</td>\n      <td>203549.0</td>\n      <td>CLOSED</td>\n    </tr>\n    <tr>\n      <th>22</th>\n      <td>23</td>\n      <td>0900024</td>\n      <td>05-Jul-2023</td>\n      <td>J_252</td>\n      <td>J_963</td>\n      <td>PHILEMON  WANDERA</td>\n      <td>07-Dec-2021</td>\n      <td>43723.0</td>\n      <td>0.0</td>\n      <td>0</td>\n      <td>5762.0</td>\n      <td>0</td>\n      <td>0</td>\n      <td>0</td>\n      <td>0.0</td>\n      <td>CHN02</td>\n      <td>30</td>\n      <td>49485.0</td>\n      <td>CLOSED</td>\n    </tr>\n    <tr>\n      <th>23</th>\n      <td>24</td>\n      <td>0900024</td>\n      <td>05-Jul-2023</td>\n      <td>J_150</td>\n      <td>J_985</td>\n      <td>JAMES  MUTURI</td>\n      <td>14-Jun-2022</td>\n      <td>82072.0</td>\n      <td>0.0</td>\n      <td>0</td>\n      <td>4222.0</td>\n      <td>0</td>\n      <td>0</td>\n      <td>0</td>\n      <td>0.0</td>\n      <td>CHN02</td>\n      <td>30</td>\n      <td>86294.0</td>\n      <td>CLOSED</td>\n    </tr>\n    <tr>\n      <th>24</th>\n      <td>25</td>\n      <td>0900024</td>\n      <td>05-Jul-2023</td>\n      <td>J_254</td>\n      <td>J_965</td>\n      <td>GEORGE  ROBERT</td>\n      <td>08-Dec-2021</td>\n      <td>52245.0</td>\n      <td>0.0</td>\n      <td>0</td>\n      <td>6884.0</td>\n      <td>0</td>\n      <td>0</td>\n      <td>0</td>\n      <td>0.0</td>\n      <td>CHN02</td>\n      <td>30</td>\n      <td>59129.0</td>\n      <td>CLOSED</td>\n    </tr>\n    <tr>\n      <th>25</th>\n      <td>26</td>\n      <td>0900024</td>\n      <td>05-Jul-2023</td>\n      <td>J_300</td>\n      <td>J_978</td>\n      <td>VIOLET  QUAIL</td>\n      <td>14-Apr-2022</td>\n      <td>90839.0</td>\n      <td>0.0</td>\n      <td>0</td>\n      <td>5866.0</td>\n      <td>0</td>\n      <td>0</td>\n      <td>0</td>\n      <td>0.0</td>\n      <td>CHN02</td>\n      <td>30</td>\n      <td>96705.0</td>\n      <td>CLOSED</td>\n    </tr>\n    <tr>\n      <th>26</th>\n      <td>27</td>\n      <td>0900024</td>\n      <td>05-Jul-2023</td>\n      <td>J_234</td>\n      <td>J_961</td>\n      <td>BONFACE  GATOBU</td>\n      <td>27-Oct-2021</td>\n      <td>85921.0</td>\n      <td>0.0</td>\n      <td>0</td>\n      <td>11328.0</td>\n      <td>0</td>\n      <td>0</td>\n      <td>0</td>\n      <td>0.0</td>\n      <td>CHN02</td>\n      <td>30</td>\n      <td>97249.0</td>\n      <td>CLOSED</td>\n    </tr>\n    <tr>\n      <th>27</th>\n      <td>28</td>\n      <td>0900024</td>\n      <td>05-Jul-2023</td>\n      <td>J_296</td>\n      <td>J_977</td>\n      <td>JOSEPH  NGUGI</td>\n      <td>08-Apr-2022</td>\n      <td>38452.0</td>\n      <td>0.0</td>\n      <td>0</td>\n      <td>1979.0</td>\n      <td>0</td>\n      <td>0</td>\n      <td>0</td>\n      <td>0.0</td>\n      <td>CHN02</td>\n      <td>30</td>\n      <td>40431.0</td>\n      <td>CLOSED</td>\n    </tr>\n    <tr>\n      <th>28</th>\n      <td>29</td>\n      <td>0900024</td>\n      <td>05-Jul-2023</td>\n      <td>J_267</td>\n      <td>J_971</td>\n      <td>UPLANDS  KENYA</td>\n      <td>24-Dec-2021</td>\n      <td>41016.0</td>\n      <td>0.0</td>\n      <td>0</td>\n      <td>2647.0</td>\n      <td>0</td>\n      <td>0</td>\n      <td>0</td>\n      <td>0.0</td>\n      <td>CHN02</td>\n      <td>30</td>\n      <td>43663.0</td>\n      <td>CLOSED</td>\n    </tr>\n    <tr>\n      <th>29</th>\n      <td>30</td>\n      <td>0900024</td>\n      <td>05-Jul-2023</td>\n      <td>J_285</td>\n      <td>J_974</td>\n      <td>EDITH  ANYANGO</td>\n      <td>15-Feb-2022</td>\n      <td>38452.0</td>\n      <td>0.0</td>\n      <td>0</td>\n      <td>1978.0</td>\n      <td>0</td>\n      <td>0</td>\n      <td>0</td>\n      <td>0.0</td>\n      <td>CHN02</td>\n      <td>30</td>\n      <td>40430.0</td>\n      <td>CLOSED</td>\n    </tr>\n    <tr>\n      <th>30</th>\n      <td>31</td>\n      <td>0900024</td>\n      <td>05-Jul-2023</td>\n      <td>J_251</td>\n      <td>J_962</td>\n      <td>PAMELA  ODHIAMBO</td>\n      <td>06-Dec-2021</td>\n      <td>52245.0</td>\n      <td>0.0</td>\n      <td>0</td>\n      <td>6884.0</td>\n      <td>0</td>\n      <td>0</td>\n      <td>0</td>\n      <td>0.0</td>\n      <td>CHN02</td>\n      <td>30</td>\n      <td>59129.0</td>\n      <td>CLOSED</td>\n    </tr>\n    <tr>\n      <th>31</th>\n      <td>32</td>\n      <td>0900024</td>\n      <td>05-Jul-2023</td>\n      <td>J_215</td>\n      <td>J_138</td>\n      <td>PATRICK  NJOKI</td>\n      <td>08-Oct-2021</td>\n      <td>32581.0</td>\n      <td>0.0</td>\n      <td>0</td>\n      <td>4299.0</td>\n      <td>0</td>\n      <td>0</td>\n      <td>0</td>\n      <td>0.0</td>\n      <td>CHN02</td>\n      <td>30</td>\n      <td>36880.0</td>\n      <td>CLOSED</td>\n    </tr>\n    <tr>\n      <th>32</th>\n      <td>33</td>\n      <td>0900024</td>\n      <td>05-Jul-2023</td>\n      <td>J_199</td>\n      <td>J_24</td>\n      <td>JESSE  MBITHI</td>\n      <td>20-Sep-2021</td>\n      <td>28244.0</td>\n      <td>0.0</td>\n      <td>0</td>\n      <td>1455.0</td>\n      <td>0</td>\n      <td>0</td>\n      <td>0</td>\n      <td>0.0</td>\n      <td>CHN02</td>\n      <td>30</td>\n      <td>29699.0</td>\n      <td>CLOSED</td>\n    </tr>\n    <tr>\n      <th>33</th>\n      <td>34</td>\n      <td>0900024</td>\n      <td>05-Jul-2023</td>\n      <td>J_174</td>\n      <td>J_22</td>\n      <td>GEOFFREY  NYAMORI</td>\n      <td>10-Aug-2021</td>\n      <td>37272.0</td>\n      <td>0.0</td>\n      <td>0</td>\n      <td>3399.0</td>\n      <td>0</td>\n      <td>0</td>\n      <td>0</td>\n      <td>0.0</td>\n      <td>CHN02</td>\n      <td>30</td>\n      <td>40671.0</td>\n      <td>CLOSED</td>\n    </tr>\n    <tr>\n      <th>34</th>\n      <td>35</td>\n      <td>0900024</td>\n      <td>05-Jul-2023</td>\n      <td>J_164</td>\n      <td>J_21</td>\n      <td>JAMES  NTELE</td>\n      <td>16-Jul-2021</td>\n      <td>76880.0</td>\n      <td>0.0</td>\n      <td>0</td>\n      <td>10135.0</td>\n      <td>0</td>\n      <td>0</td>\n      <td>0</td>\n      <td>0.0</td>\n      <td>CHN02</td>\n      <td>30</td>\n      <td>87015.0</td>\n      <td>CLOSED</td>\n    </tr>\n    <tr>\n      <th>35</th>\n      <td>36</td>\n      <td>0900024</td>\n      <td>05-Jul-2023</td>\n      <td>J_156</td>\n      <td>J_18</td>\n      <td>BSL  GOVERNORS</td>\n      <td>25-Jun-2021</td>\n      <td>177229.0</td>\n      <td>0.0</td>\n      <td>0</td>\n      <td>23355.0</td>\n      <td>0</td>\n      <td>0</td>\n      <td>0</td>\n      <td>0.0</td>\n      <td>CHN02</td>\n      <td>30</td>\n      <td>200584.0</td>\n      <td>CLOSED</td>\n    </tr>\n    <tr>\n      <th>36</th>\n      <td>37</td>\n      <td>0900024</td>\n      <td>05-Jul-2023</td>\n      <td>J_154</td>\n      <td>J_17</td>\n      <td>ROBERT  MBURUGU</td>\n      <td>18-Jun-2021</td>\n      <td>91515.0</td>\n      <td>0.0</td>\n      <td>0</td>\n      <td>8340.0</td>\n      <td>0</td>\n      <td>0</td>\n      <td>0</td>\n      <td>0.0</td>\n      <td>CHN02</td>\n      <td>30</td>\n      <td>99855.0</td>\n      <td>CLOSED</td>\n    </tr>\n    <tr>\n      <th>37</th>\n      <td>38</td>\n      <td>0900024</td>\n      <td>05-Jul-2023</td>\n      <td>J_139</td>\n      <td>J_13</td>\n      <td>DANIEL  MWANGI</td>\n      <td>25-May-2021</td>\n      <td>94163.0</td>\n      <td>0.0</td>\n      <td>0</td>\n      <td>4844.0</td>\n      <td>0</td>\n      <td>0</td>\n      <td>0</td>\n      <td>0.0</td>\n      <td>CHN02</td>\n      <td>30</td>\n      <td>99007.0</td>\n      <td>CLOSED</td>\n    </tr>\n    <tr>\n      <th>38</th>\n      <td>39</td>\n      <td>0900024</td>\n      <td>05-Jul-2023</td>\n      <td>J_107</td>\n      <td>J_12</td>\n      <td>PAUL  NDUNGU</td>\n      <td>09-Mar-2021</td>\n      <td>136095.0</td>\n      <td>0.0</td>\n      <td>0</td>\n      <td>17938.0</td>\n      <td>0</td>\n      <td>0</td>\n      <td>0</td>\n      <td>0.0</td>\n      <td>CHN02</td>\n      <td>30</td>\n      <td>154033.0</td>\n      <td>CLOSED</td>\n    </tr>\n    <tr>\n      <th>39</th>\n      <td>40</td>\n      <td>0900024</td>\n      <td>05-Jul-2023</td>\n      <td>J_33</td>\n      <td>J_20</td>\n      <td>CATHERINE  WAWERU</td>\n      <td>15-Jul-2021</td>\n      <td>73357.0</td>\n      <td>0.0</td>\n      <td>0</td>\n      <td>9672.0</td>\n      <td>0</td>\n      <td>0</td>\n      <td>0</td>\n      <td>0.0</td>\n      <td>CHN02</td>\n      <td>30</td>\n      <td>83029.0</td>\n      <td>CLOSED</td>\n    </tr>\n    <tr>\n      <th>40</th>\n      <td>41</td>\n      <td>0900024</td>\n      <td>05-Jul-2023</td>\n      <td>J_198</td>\n      <td>J_30</td>\n      <td>VINCENT  KASII</td>\n      <td>21-Sep-2021</td>\n      <td>47115.0</td>\n      <td>0.0</td>\n      <td>0</td>\n      <td>2425.0</td>\n      <td>0</td>\n      <td>0</td>\n      <td>0</td>\n      <td>0.0</td>\n      <td>CHN02</td>\n      <td>30</td>\n      <td>49540.0</td>\n      <td>CLOSED</td>\n    </tr>\n    <tr>\n      <th>41</th>\n      <td>42</td>\n      <td>0900024</td>\n      <td>05-Jul-2023</td>\n      <td>J_57</td>\n      <td>J_23</td>\n      <td>EVERLYNE  ALUOCH</td>\n      <td>20-Aug-2021</td>\n      <td>21828.0</td>\n      <td>0.0</td>\n      <td>0</td>\n      <td>1701.0</td>\n      <td>0</td>\n      <td>0</td>\n      <td>0</td>\n      <td>0.0</td>\n      <td>CHN02</td>\n      <td>30</td>\n      <td>23529.0</td>\n      <td>CLOSED</td>\n    </tr>\n    <tr>\n      <th>42</th>\n      <td>43</td>\n      <td>0900024</td>\n      <td>05-Jul-2023</td>\n      <td>J_162</td>\n      <td>J_19</td>\n      <td>BRANDON  NGAIRA</td>\n      <td>05-Jul-2021</td>\n      <td>32819.0</td>\n      <td>0.0</td>\n      <td>0</td>\n      <td>2119.0</td>\n      <td>0</td>\n      <td>0</td>\n      <td>0</td>\n      <td>0.0</td>\n      <td>CHN02</td>\n      <td>30</td>\n      <td>34938.0</td>\n      <td>CLOSED</td>\n    </tr>\n    <tr>\n      <th>43</th>\n      <td>44</td>\n      <td>0900024</td>\n      <td>05-Jul-2023</td>\n      <td>J_150</td>\n      <td>J_16</td>\n      <td>JAMES  MUTURI</td>\n      <td>15-Jun-2021</td>\n      <td>83277.0</td>\n      <td>0.0</td>\n      <td>0</td>\n      <td>4283.0</td>\n      <td>0</td>\n      <td>0</td>\n      <td>0</td>\n      <td>0.0</td>\n      <td>CHN02</td>\n      <td>30</td>\n      <td>87560.0</td>\n      <td>CLOSED</td>\n    </tr>\n    <tr>\n      <th>44</th>\n      <td>45</td>\n      <td>0900024</td>\n      <td>05-Jul-2023</td>\n      <td>J_146</td>\n      <td>J_15</td>\n      <td>VINCENT  ODHIAMBO</td>\n      <td>09-Jun-2021</td>\n      <td>31834.0</td>\n      <td>0.0</td>\n      <td>0</td>\n      <td>2055.0</td>\n      <td>0</td>\n      <td>0</td>\n      <td>0</td>\n      <td>0.0</td>\n      <td>CHN02</td>\n      <td>30</td>\n      <td>33889.0</td>\n      <td>CLOSED</td>\n    </tr>\n    <tr>\n      <th>45</th>\n      <td>46</td>\n      <td>0900024</td>\n      <td>05-Jul-2023</td>\n      <td>J_143</td>\n      <td>J_14</td>\n      <td>DOREEN  MBAE</td>\n      <td>07-Jun-2021</td>\n      <td>34747.0</td>\n      <td>0.0</td>\n      <td>0</td>\n      <td>2243.0</td>\n      <td>0</td>\n      <td>0</td>\n      <td>0</td>\n      <td>0.0</td>\n      <td>CHN02</td>\n      <td>30</td>\n      <td>36990.0</td>\n      <td>CLOSED</td>\n    </tr>\n    <tr>\n      <th>46</th>\n      <td>47</td>\n      <td>0900024</td>\n      <td>05-Jul-2023</td>\n      <td>J_97</td>\n      <td>J_11</td>\n      <td>HILDAH  MAKENA</td>\n      <td>11-Jan-2021</td>\n      <td>14916.0</td>\n      <td>0.0</td>\n      <td>0</td>\n      <td>1965.0</td>\n      <td>0</td>\n      <td>0</td>\n      <td>0</td>\n      <td>0.0</td>\n      <td>CHN02</td>\n      <td>30</td>\n      <td>16881.0</td>\n      <td>CLOSED</td>\n    </tr>\n    <tr>\n      <th>47</th>\n      <td>48</td>\n      <td>0900024</td>\n      <td>05-Jul-2023</td>\n      <td>J_91</td>\n      <td>J_10</td>\n      <td>KELVIN  MUTUA</td>\n      <td>09-Dec-2020</td>\n      <td>73228.0</td>\n      <td>0.0</td>\n      <td>0</td>\n      <td>9657.0</td>\n      <td>0</td>\n      <td>0</td>\n      <td>0</td>\n      <td>0.0</td>\n      <td>CHN02</td>\n      <td>30</td>\n      <td>82885.0</td>\n      <td>CLOSED</td>\n    </tr>\n    <tr>\n      <th>48</th>\n      <td>49</td>\n      <td>0900024</td>\n      <td>05-Jul-2023</td>\n      <td>J_67</td>\n      <td>J_9</td>\n      <td>KINYANJUI  CHEGE</td>\n      <td>02-Sep-2020</td>\n      <td>30918.0</td>\n      <td>0.0</td>\n      <td>0</td>\n      <td>1592.0</td>\n      <td>0</td>\n      <td>0</td>\n      <td>0</td>\n      <td>0.0</td>\n      <td>CHN02</td>\n      <td>30</td>\n      <td>32510.0</td>\n      <td>CLOSED</td>\n    </tr>\n    <tr>\n      <th>49</th>\n      <td>50</td>\n      <td>0900024</td>\n      <td>05-Jul-2023</td>\n      <td>J_66</td>\n      <td>J_8</td>\n      <td>JEDIEL  MURIUKI</td>\n      <td>28-Oct-2020</td>\n      <td>36017.0</td>\n      <td>0.0</td>\n      <td>0</td>\n      <td>4751.0</td>\n      <td>0</td>\n      <td>0</td>\n      <td>0</td>\n      <td>0.0</td>\n      <td>CHN02</td>\n      <td>30</td>\n      <td>40768.0</td>\n      <td>CLOSED</td>\n    </tr>\n    <tr>\n      <th>50</th>\n      <td>51</td>\n      <td>0900024</td>\n      <td>05-Jul-2023</td>\n      <td>J_72</td>\n      <td>J_7</td>\n      <td>CAROLINE  WANJIKU</td>\n      <td>15-Sep-2020</td>\n      <td>91136.0</td>\n      <td>0.0</td>\n      <td>0</td>\n      <td>4688.0</td>\n      <td>0</td>\n      <td>0</td>\n      <td>0</td>\n      <td>0.0</td>\n      <td>CHN02</td>\n      <td>30</td>\n      <td>95824.0</td>\n      <td>CLOSED</td>\n    </tr>\n    <tr>\n      <th>51</th>\n      <td>52</td>\n      <td>0900024</td>\n      <td>05-Jul-2023</td>\n      <td>J_57</td>\n      <td>J_6</td>\n      <td>EVERLYNE  ALUOCH</td>\n      <td>21-Aug-2020</td>\n      <td>27309.0</td>\n      <td>0.0</td>\n      <td>0</td>\n      <td>1407.0</td>\n      <td>0</td>\n      <td>0</td>\n      <td>0</td>\n      <td>0.0</td>\n      <td>CHN02</td>\n      <td>30</td>\n      <td>28716.0</td>\n      <td>CLOSED</td>\n    </tr>\n    <tr>\n      <th>52</th>\n      <td>53</td>\n      <td>0900024</td>\n      <td>05-Jul-2023</td>\n      <td>J_55</td>\n      <td>J_4</td>\n      <td>CAROLINE  MACHARIA</td>\n      <td>19-Aug-2020</td>\n      <td>28658.0</td>\n      <td>0.0</td>\n      <td>0</td>\n      <td>1475.0</td>\n      <td>0</td>\n      <td>0</td>\n      <td>0</td>\n      <td>0.0</td>\n      <td>CHN02</td>\n      <td>30</td>\n      <td>30133.0</td>\n      <td>CLOSED</td>\n    </tr>\n    <tr>\n      <th>53</th>\n      <td>54</td>\n      <td>0900024</td>\n      <td>05-Jul-2023</td>\n      <td>J_46</td>\n      <td>J_3</td>\n      <td>STEPHEN  MUSILA</td>\n      <td>02-Aug-2020</td>\n      <td>82433.0</td>\n      <td>0.0</td>\n      <td>0</td>\n      <td>7515.0</td>\n      <td>0</td>\n      <td>0</td>\n      <td>0</td>\n      <td>0.0</td>\n      <td>CHN02</td>\n      <td>30</td>\n      <td>89948.0</td>\n      <td>CLOSED</td>\n    </tr>\n    <tr>\n      <th>54</th>\n      <td>55</td>\n      <td>0900024</td>\n      <td>05-Jul-2023</td>\n      <td>J_33</td>\n      <td>J_2</td>\n      <td>CATHERINE  WAWERU</td>\n      <td>11-Jul-2020</td>\n      <td>74367.0</td>\n      <td>0.0</td>\n      <td>0</td>\n      <td>9806.0</td>\n      <td>0</td>\n      <td>0</td>\n      <td>0</td>\n      <td>0.0</td>\n      <td>CHN02</td>\n      <td>30</td>\n      <td>84173.0</td>\n      <td>CLOSED</td>\n    </tr>\n    <tr>\n      <th>55</th>\n      <td>56</td>\n      <td>0900024</td>\n      <td>05-Jul-2023</td>\n      <td>J_17</td>\n      <td>J_1</td>\n      <td>VICTOR  MWENDWA</td>\n      <td>23-Jun-2020</td>\n      <td>31641.0</td>\n      <td>0.0</td>\n      <td>0</td>\n      <td>1628.0</td>\n      <td>0</td>\n      <td>0</td>\n      <td>0</td>\n      <td>0.0</td>\n      <td>CHN02</td>\n      <td>30</td>\n      <td>33269.0</td>\n      <td>CLOSED</td>\n    </tr>\n  </tbody>\n</table>\n</div>"
     },
     "execution_count": 27,
     "metadata": {},
     "output_type": "execute_result"
    }
   ],
   "source": [
    "warehouse_hook.get_pandas_df(\n",
    "    sql=\"\"\"\n",
    "    -- Digital Loans Account Data\n",
    "    select\n",
    "        row_number() over () as \"ROW_ID\",\n",
    "        '0900024' as \"DIGITAL_CREDIT_PROVIDER_CODE\",\n",
    "        to_char(current_date, 'DD-Mon-YYYY') as \"REPORTING_DATE\", -- cannot be in format 'DD-Mon-YYYY' and still be dtype date\n",
    "        concat('J_', cmsv.mifos_id) as \"CUSTOMER_ID\",\n",
    "        concat('J_', lftmsv.loan_mifos_id) as \"LOAN_ACCOUNT_CONTRACT_NUMBER\",\n",
    "        concat(cmsv.first_name, ' ', cmsv.middle_name, ' ', cmsv.last_name) as \"ACCOUNT_NAME\",\n",
    "        to_char(disbursed_on_date, 'DD-Mon-YYYY') as \"DISBURSEMENT_DATE\", -- cannot be in format 'DD-Mon-YYYY' and still be dtype date\n",
    "        coalesce(principal_disbursed, 0) as \"PRINCIPAL_LOAN_AMOUNT_DISBURSED\",\n",
    "        coalesce(total_outstanding, 0) as \"OUTSTANDING_LOAN_BALANCE\",\n",
    "        0 as \"DEBIT_INTEREST_RATE\",\n",
    "        coalesce(interest_charged, 0) as \"FACILITY_ARRANGEMENT_FEE_CHARGE\",\n",
    "        0 as \"UPFRONT_INTEREST_FEES_CHARGE\",\n",
    "        0 as \"COST_OF_WALLET_TRANSFER\", --except for Solv\n",
    "        0 as \"INSURANCE_FEE_CHARGE\",\n",
    "        coalesce(fee_charges_charged + penalty_charges_charged, 0) as \"OTHER_CHARGE\",\n",
    "        dct.code as \"CHANNEL_TYPE_USED\",\n",
    "        pd.repay_every as \"DIGITAL_LOAN_TENOR\",\n",
    "        coalesce(total_expected_repayment, 0) as \"INSTALMENT_AMOUNT\",\n",
    "        ast.code as \"ACCOUNT_STATUS\"\n",
    "    from jubilee.loans_fact_table_summary_view lftmsv\n",
    "    inner join jubilee.client_summary_view cmsv on lftmsv.client_surrogate_id = cmsv.surrogate_id\n",
    "    inner join jubilee.product_dimension pd on lftmsv.product_surrogate_id = pd.surrogate_id\n",
    "    inner join jubilee.loan_status_dimension lsd on lftmsv.loan_status_surrogate_id = lsd.surrogate_id\n",
    "    inner join central_bank_of_kenya.digital_channel_types dct on dct.\"type\" = 'USSD'\n",
    "    inner join central_bank_of_kenya.account_status_types ast on ast.\"type\" = lsd.message\n",
    "    where loan_status in (300, 600, 700)\n",
    "    limit 100\n",
    "    \"\"\"\n",
    ")#.to_csv('~/data/Digital Loans Account Data Sample TANDA.csv', index=False)"
   ],
   "metadata": {
    "collapsed": false
   }
  },
  {
   "cell_type": "markdown",
   "source": [
    "### Overdue (Non-Performing) Digital Loans"
   ],
   "metadata": {
    "collapsed": false
   }
  },
  {
   "cell_type": "code",
   "execution_count": 29,
   "outputs": [
    {
     "name": "stdout",
     "output_type": "stream",
     "text": [
      "[\u001B[34m2023-07-05 10:56:59,599\u001B[0m] {\u001B[34mbase.py:\u001B[0m73} INFO\u001B[0m - Using connection ID 'rds_afsg_ds_prod_postgresql_dwh' for task execution.\u001B[0m\n"
     ]
    },
    {
     "data": {
      "text/plain": "\u001B[1;33m/home/henrykuria/airflow_venv/lib/python3.10/site-packages/pandas/io/\u001B[0m\u001B[1;33msql.py\u001B[0m\u001B[1;33m:\u001B[0m\u001B[1;33m761\u001B[0m\u001B[1;33m UserWarning\u001B[0m\u001B[33m: pandas only support SQLAlchemy \u001B[0m\u001B[1;33mconnectable\u001B[0m\u001B[1;33m(\u001B[0m\u001B[33mengine/connection\u001B[0m\u001B[1;33m)\u001B[0m\u001B[33m ordatabase string URI or sqlite3 DBAPI2 connectionother DBAPI2 objects are not tested, please consider using SQLAlchemy\u001B[0m\n",
      "text/html": "<pre style=\"white-space:pre;overflow-x:auto;line-height:normal;font-family:Menlo,'DejaVu Sans Mono',consolas,'Courier New',monospace\"><span style=\"color: #808000; text-decoration-color: #808000; font-weight: bold\">/home/henrykuria/airflow_venv/lib/python3.10/site-packages/pandas/io/sql.py:</span><span style=\"color: #808000; text-decoration-color: #808000; font-weight: bold\">761</span><span style=\"color: #808000; text-decoration-color: #808000; font-weight: bold\"> UserWarning</span><span style=\"color: #808000; text-decoration-color: #808000\">: pandas only support SQLAlchemy </span><span style=\"color: #808000; text-decoration-color: #808000; font-weight: bold\">connectable(</span><span style=\"color: #808000; text-decoration-color: #808000\">engine/connection</span><span style=\"color: #808000; text-decoration-color: #808000; font-weight: bold\">)</span><span style=\"color: #808000; text-decoration-color: #808000\"> ordatabase string URI or sqlite3 DBAPI2 connectionother DBAPI2 objects are not tested, please consider using SQLAlchemy</span>\n</pre>\n"
     },
     "metadata": {},
     "output_type": "display_data"
    },
    {
     "data": {
      "text/plain": "   ROW_ID DIGITAL_CREDIT_PROVIDER_CODE REPORTING_DATE CUSTOMER_ID  \\\n0       1                      0900024    05-Jul-2023       C_316   \n1       2                      0900024    05-Jul-2023       C_199   \n2       3                      0900024    05-Jul-2023       C_330   \n3       4                      0900024    05-Jul-2023       C_377   \n4       5                      0900024    05-Jul-2023       C_302   \n\n  LOAN_ACCOUNT_CONTRACT_NUMBER OVERDUE_DATE  PRINCIPAL_ARREARS_AMOUNT  \\\n0                        C_986  19-Dec-2022                   48622.0   \n1                       C_1017  17-Jun-2023                   37488.0   \n2                       C_1015  30-Mar-2023                   46073.0   \n3                       C_1123  17-Jun-2023                   33932.0   \n4                        C_979  01-May-2023                    7295.0   \n\n   TOTAL_OUTSTANDING_AMOUNT  \n0                   51123.0  \n1                   40532.0  \n2                   48943.0  \n3                   36031.0  \n4                    7295.0  ",
      "text/html": "<div>\n<style scoped>\n    .dataframe tbody tr th:only-of-type {\n        vertical-align: middle;\n    }\n\n    .dataframe tbody tr th {\n        vertical-align: top;\n    }\n\n    .dataframe thead th {\n        text-align: right;\n    }\n</style>\n<table border=\"1\" class=\"dataframe\">\n  <thead>\n    <tr style=\"text-align: right;\">\n      <th></th>\n      <th>ROW_ID</th>\n      <th>DIGITAL_CREDIT_PROVIDER_CODE</th>\n      <th>REPORTING_DATE</th>\n      <th>CUSTOMER_ID</th>\n      <th>LOAN_ACCOUNT_CONTRACT_NUMBER</th>\n      <th>OVERDUE_DATE</th>\n      <th>PRINCIPAL_ARREARS_AMOUNT</th>\n      <th>TOTAL_OUTSTANDING_AMOUNT</th>\n    </tr>\n  </thead>\n  <tbody>\n    <tr>\n      <th>0</th>\n      <td>1</td>\n      <td>0900024</td>\n      <td>05-Jul-2023</td>\n      <td>C_316</td>\n      <td>C_986</td>\n      <td>19-Dec-2022</td>\n      <td>48622.0</td>\n      <td>51123.0</td>\n    </tr>\n    <tr>\n      <th>1</th>\n      <td>2</td>\n      <td>0900024</td>\n      <td>05-Jul-2023</td>\n      <td>C_199</td>\n      <td>C_1017</td>\n      <td>17-Jun-2023</td>\n      <td>37488.0</td>\n      <td>40532.0</td>\n    </tr>\n    <tr>\n      <th>2</th>\n      <td>3</td>\n      <td>0900024</td>\n      <td>05-Jul-2023</td>\n      <td>C_330</td>\n      <td>C_1015</td>\n      <td>30-Mar-2023</td>\n      <td>46073.0</td>\n      <td>48943.0</td>\n    </tr>\n    <tr>\n      <th>3</th>\n      <td>4</td>\n      <td>0900024</td>\n      <td>05-Jul-2023</td>\n      <td>C_377</td>\n      <td>C_1123</td>\n      <td>17-Jun-2023</td>\n      <td>33932.0</td>\n      <td>36031.0</td>\n    </tr>\n    <tr>\n      <th>4</th>\n      <td>5</td>\n      <td>0900024</td>\n      <td>05-Jul-2023</td>\n      <td>C_302</td>\n      <td>C_979</td>\n      <td>01-May-2023</td>\n      <td>7295.0</td>\n      <td>7295.0</td>\n    </tr>\n  </tbody>\n</table>\n</div>"
     },
     "execution_count": 29,
     "metadata": {},
     "output_type": "execute_result"
    }
   ],
   "source": [
    "warehouse_hook.get_pandas_df(\n",
    "    sql=\"\"\"\n",
    "    -- Overdue (Non-Performing) Digital Loans\n",
    "    select\n",
    "        row_number() over () as \"ROW_ID\",\n",
    "        '0900024' as \"DIGITAL_CREDIT_PROVIDER_CODE\",\n",
    "        to_char(current_date, 'DD-Mon-YYYY') as \"REPORTING_DATE\", -- cannot be in format 'DD-Mon-YYYY' and still be dtype date\n",
    "        concat('C_', cmsv.mifos_id) as \"CUSTOMER_ID\",\n",
    "        concat('C_', lftmsv.loan_mifos_id) as \"LOAN_ACCOUNT_CONTRACT_NUMBER\",\n",
    "        to_char(expected_matured_on_date + '90 day'::interval, 'DD-Mon-YYYY') as \"OVERDUE_DATE\", -- cannot be in format 'DD-Mon-YYYY' and still be dtype date\n",
    "        coalesce(principal_outstanding, 0) as \"PRINCIPAL_ARREARS_AMOUNT\",\n",
    "        coalesce(total_outstanding, 0) as \"TOTAL_OUTSTANDING_AMOUNT\"\n",
    "    from jubilee.loans_fact_table_summary_view lftmsv\n",
    "    inner join jubilee.client_summary_view cmsv on lftmsv.client_surrogate_id = cmsv.surrogate_id\n",
    "    where current_date - (expected_matured_on_date + '90 day'::interval)::date >= 1 and loan_status = 300\n",
    "    limit 100\n",
    "    \"\"\"\n",
    ")##.to_csv('~/data/Overdue (Non-Performing) Digital Loans Sample TANDA.csv', index=False)"
   ],
   "metadata": {
    "collapsed": false
   }
  },
  {
   "cell_type": "markdown",
   "source": [
    "### Digital Loan Repayments Data"
   ],
   "metadata": {
    "collapsed": false
   }
  },
  {
   "cell_type": "code",
   "execution_count": 32,
   "outputs": [
    {
     "name": "stdout",
     "output_type": "stream",
     "text": [
      "[\u001B[34m2023-07-05 12:10:31,261\u001B[0m] {\u001B[34mbase.py:\u001B[0m73} INFO\u001B[0m - Using connection ID 'rds_afsg_ds_prod_postgresql_dwh' for task execution.\u001B[0m\n"
     ]
    },
    {
     "data": {
      "text/plain": "\u001B[1;33m/home/henrykuria/airflow_venv/lib/python3.10/site-packages/pandas/io/\u001B[0m\u001B[1;33msql.py\u001B[0m\u001B[1;33m:\u001B[0m\u001B[1;33m761\u001B[0m\u001B[1;33m UserWarning\u001B[0m\u001B[33m: pandas only support SQLAlchemy \u001B[0m\u001B[1;33mconnectable\u001B[0m\u001B[1;33m(\u001B[0m\u001B[33mengine/connection\u001B[0m\u001B[1;33m)\u001B[0m\u001B[33m ordatabase string URI or sqlite3 DBAPI2 connectionother DBAPI2 objects are not tested, please consider using SQLAlchemy\u001B[0m\n",
      "text/html": "<pre style=\"white-space:pre;overflow-x:auto;line-height:normal;font-family:Menlo,'DejaVu Sans Mono',consolas,'Courier New',monospace\"><span style=\"color: #808000; text-decoration-color: #808000; font-weight: bold\">/home/henrykuria/airflow_venv/lib/python3.10/site-packages/pandas/io/sql.py:</span><span style=\"color: #808000; text-decoration-color: #808000; font-weight: bold\">761</span><span style=\"color: #808000; text-decoration-color: #808000; font-weight: bold\"> UserWarning</span><span style=\"color: #808000; text-decoration-color: #808000\">: pandas only support SQLAlchemy </span><span style=\"color: #808000; text-decoration-color: #808000; font-weight: bold\">connectable(</span><span style=\"color: #808000; text-decoration-color: #808000\">engine/connection</span><span style=\"color: #808000; text-decoration-color: #808000; font-weight: bold\">)</span><span style=\"color: #808000; text-decoration-color: #808000\"> ordatabase string URI or sqlite3 DBAPI2 connectionother DBAPI2 objects are not tested, please consider using SQLAlchemy</span>\n</pre>\n"
     },
     "metadata": {},
     "output_type": "display_data"
    },
    {
     "data": {
      "text/plain": "    ROW_ID DIGITAL_CREDIT_PROVIDER_CODE REPORTING_DATE CUSTOMER_ID  \\\n0        1                      0900024    05-Jul-2023        C_33   \n1        2                      0900024    05-Jul-2023        C_33   \n2        3                      0900024    05-Jul-2023        C_33   \n3        4                      0900024    05-Jul-2023        C_33   \n4        5                      0900024    05-Jul-2023        C_46   \n..     ...                          ...            ...         ...   \n95      96                      0900024    05-Jul-2023       C_146   \n96      97                      0900024    05-Jul-2023       C_146   \n97      98                      0900024    05-Jul-2023       C_146   \n98      99                      0900024    05-Jul-2023       C_146   \n99     100                      0900024    05-Jul-2023       C_329   \n\n   LOAN_ACCOUNT_CONTRACT_NUMBER  OUTSTANDING_LOAN_BALANCE  \\\n0                           C_2                   26687.0   \n1                           C_2                    9124.0   \n2                           C_2                   18016.0   \n3                           C_2                       0.0   \n4                           C_3                       0.0   \n..                          ...                       ...   \n95                        C_980                       0.0   \n96                        C_980                   10269.0   \n97                        C_980                   20282.0   \n98                        C_980                   30046.0   \n99                       C_1016                   12557.0   \n\n    ACCRUED_INTEREST_BALANCE  INTEREST_CHARGED_ON_REPAYMENT  \\\n0                        0.0                              0   \n1                        0.0                              0   \n2                        0.0                              0   \n3                        0.0                              0   \n4                        0.0                              0   \n..                       ...                            ...   \n95                       0.0                              0   \n96                       0.0                              0   \n97                       0.0                              0   \n98                       0.0                              0   \n99                       0.0                              0   \n\n    LATE_PAYMENT_FEE_CHARGE LOAN_REPAYMENT_DATE  PRINCIPAL_LOAN_AMOUNT_REPAID  \n0                       0.0         04-Jan-2021                        8455.0  \n1                       0.0         05-Mar-2021                        8892.0  \n2                       0.0         03-Feb-2021                        8671.0  \n3                       0.0         06-Apr-2021                        9124.0  \n4                       0.0         30-Jan-2021                       14620.0  \n..                      ...                 ...                           ...  \n95                      0.0         28-Sep-2022                       10269.0  \n96                      0.0         01-Sep-2022                       10013.0  \n97                      0.0         02-Aug-2022                        9764.0  \n98                      0.0         02-Jul-2022                        9522.0  \n99                      0.0         05-Sep-2022                       12870.0  \n\n[100 rows x 11 columns]",
      "text/html": "<div>\n<style scoped>\n    .dataframe tbody tr th:only-of-type {\n        vertical-align: middle;\n    }\n\n    .dataframe tbody tr th {\n        vertical-align: top;\n    }\n\n    .dataframe thead th {\n        text-align: right;\n    }\n</style>\n<table border=\"1\" class=\"dataframe\">\n  <thead>\n    <tr style=\"text-align: right;\">\n      <th></th>\n      <th>ROW_ID</th>\n      <th>DIGITAL_CREDIT_PROVIDER_CODE</th>\n      <th>REPORTING_DATE</th>\n      <th>CUSTOMER_ID</th>\n      <th>LOAN_ACCOUNT_CONTRACT_NUMBER</th>\n      <th>OUTSTANDING_LOAN_BALANCE</th>\n      <th>ACCRUED_INTEREST_BALANCE</th>\n      <th>INTEREST_CHARGED_ON_REPAYMENT</th>\n      <th>LATE_PAYMENT_FEE_CHARGE</th>\n      <th>LOAN_REPAYMENT_DATE</th>\n      <th>PRINCIPAL_LOAN_AMOUNT_REPAID</th>\n    </tr>\n  </thead>\n  <tbody>\n    <tr>\n      <th>0</th>\n      <td>1</td>\n      <td>0900024</td>\n      <td>05-Jul-2023</td>\n      <td>C_33</td>\n      <td>C_2</td>\n      <td>26687.0</td>\n      <td>0.0</td>\n      <td>0</td>\n      <td>0.0</td>\n      <td>04-Jan-2021</td>\n      <td>8455.0</td>\n    </tr>\n    <tr>\n      <th>1</th>\n      <td>2</td>\n      <td>0900024</td>\n      <td>05-Jul-2023</td>\n      <td>C_33</td>\n      <td>C_2</td>\n      <td>9124.0</td>\n      <td>0.0</td>\n      <td>0</td>\n      <td>0.0</td>\n      <td>05-Mar-2021</td>\n      <td>8892.0</td>\n    </tr>\n    <tr>\n      <th>2</th>\n      <td>3</td>\n      <td>0900024</td>\n      <td>05-Jul-2023</td>\n      <td>C_33</td>\n      <td>C_2</td>\n      <td>18016.0</td>\n      <td>0.0</td>\n      <td>0</td>\n      <td>0.0</td>\n      <td>03-Feb-2021</td>\n      <td>8671.0</td>\n    </tr>\n    <tr>\n      <th>3</th>\n      <td>4</td>\n      <td>0900024</td>\n      <td>05-Jul-2023</td>\n      <td>C_33</td>\n      <td>C_2</td>\n      <td>0.0</td>\n      <td>0.0</td>\n      <td>0</td>\n      <td>0.0</td>\n      <td>06-Apr-2021</td>\n      <td>9124.0</td>\n    </tr>\n    <tr>\n      <th>4</th>\n      <td>5</td>\n      <td>0900024</td>\n      <td>05-Jul-2023</td>\n      <td>C_46</td>\n      <td>C_3</td>\n      <td>0.0</td>\n      <td>0.0</td>\n      <td>0</td>\n      <td>0.0</td>\n      <td>30-Jan-2021</td>\n      <td>14620.0</td>\n    </tr>\n    <tr>\n      <th>...</th>\n      <td>...</td>\n      <td>...</td>\n      <td>...</td>\n      <td>...</td>\n      <td>...</td>\n      <td>...</td>\n      <td>...</td>\n      <td>...</td>\n      <td>...</td>\n      <td>...</td>\n      <td>...</td>\n    </tr>\n    <tr>\n      <th>95</th>\n      <td>96</td>\n      <td>0900024</td>\n      <td>05-Jul-2023</td>\n      <td>C_146</td>\n      <td>C_980</td>\n      <td>0.0</td>\n      <td>0.0</td>\n      <td>0</td>\n      <td>0.0</td>\n      <td>28-Sep-2022</td>\n      <td>10269.0</td>\n    </tr>\n    <tr>\n      <th>96</th>\n      <td>97</td>\n      <td>0900024</td>\n      <td>05-Jul-2023</td>\n      <td>C_146</td>\n      <td>C_980</td>\n      <td>10269.0</td>\n      <td>0.0</td>\n      <td>0</td>\n      <td>0.0</td>\n      <td>01-Sep-2022</td>\n      <td>10013.0</td>\n    </tr>\n    <tr>\n      <th>97</th>\n      <td>98</td>\n      <td>0900024</td>\n      <td>05-Jul-2023</td>\n      <td>C_146</td>\n      <td>C_980</td>\n      <td>20282.0</td>\n      <td>0.0</td>\n      <td>0</td>\n      <td>0.0</td>\n      <td>02-Aug-2022</td>\n      <td>9764.0</td>\n    </tr>\n    <tr>\n      <th>98</th>\n      <td>99</td>\n      <td>0900024</td>\n      <td>05-Jul-2023</td>\n      <td>C_146</td>\n      <td>C_980</td>\n      <td>30046.0</td>\n      <td>0.0</td>\n      <td>0</td>\n      <td>0.0</td>\n      <td>02-Jul-2022</td>\n      <td>9522.0</td>\n    </tr>\n    <tr>\n      <th>99</th>\n      <td>100</td>\n      <td>0900024</td>\n      <td>05-Jul-2023</td>\n      <td>C_329</td>\n      <td>C_1016</td>\n      <td>12557.0</td>\n      <td>0.0</td>\n      <td>0</td>\n      <td>0.0</td>\n      <td>05-Sep-2022</td>\n      <td>12870.0</td>\n    </tr>\n  </tbody>\n</table>\n<p>100 rows × 11 columns</p>\n</div>"
     },
     "execution_count": 32,
     "metadata": {},
     "output_type": "execute_result"
    }
   ],
   "source": [
    "warehouse_hook.get_pandas_df(\n",
    "    sql=\"\"\"\n",
    "    -- Digital Loan Repayments Data\n",
    "    select\n",
    "        row_number() over () as \"ROW_ID\",\n",
    "        '0900024' as \"DIGITAL_CREDIT_PROVIDER_CODE\",\n",
    "        to_char(current_date, 'DD-Mon-YYYY') as \"REPORTING_DATE\", -- cannot be in format 'DD-Mon-YYYY' and still be dtype date\n",
    "        concat('J_', cmsv.mifos_id) as \"CUSTOMER_ID\",\n",
    "        concat('J_', lftmsv.loan_mifos_id) as \"LOAN_ACCOUNT_CONTRACT_NUMBER\",\n",
    "        coalesce(td.outstanding_loan_balance_derived, 0) as \"OUTSTANDING_LOAN_BALANCE\", -- data quality issue\n",
    "        coalesce(lftmsv.interest_outstanding, 0) as \"ACCRUED_INTEREST_BALANCE\",  -- data quality issue\n",
    "        0 as \"INTEREST_CHARGED_ON_REPAYMENT\",\n",
    "        coalesce(td.fee_charges_portion_derived + td.penalty_charges_portion_derived, 0) as \"LATE_PAYMENT_FEE_CHARGE\",\n",
    "        to_char(td.transaction_date, 'DD-Mon-YYYY') as \"LOAN_REPAYMENT_DATE\",\n",
    "        coalesce(td.principal_portion_derived, 0) as \"PRINCIPAL_LOAN_AMOUNT_REPAID\"\n",
    "    from jubilee.transactions_dimension td\n",
    "    inner join jubilee.loans_fact_table_summary_view lftmsv on lftmsv.loan_mifos_id::varchar = td.mifos_loan_id\n",
    "    inner join jubilee.client_summary_view cmsv on lftmsv.client_surrogate_id = cmsv.surrogate_id\n",
    "    where td.transaction_type_enum = 2 and lower(td.receipt_number) not like '%waiv%'\n",
    "    limit 100\n",
    "    \"\"\"\n",
    ")#.to_csv('~/data/Digital Loan Repayments Data Sample TANDA.csv', index=False)"
   ],
   "metadata": {
    "collapsed": false
   }
  },
  {
   "cell_type": "markdown",
   "source": [
    "### Customer Data"
   ],
   "metadata": {
    "collapsed": false
   }
  },
  {
   "cell_type": "code",
   "execution_count": 34,
   "outputs": [
    {
     "name": "stdout",
     "output_type": "stream",
     "text": [
      "[\u001B[34m2023-07-05 12:11:13,419\u001B[0m] {\u001B[34mbase.py:\u001B[0m73} INFO\u001B[0m - Using connection ID 'rds_afsg_ds_prod_postgresql_dwh' for task execution.\u001B[0m\n"
     ]
    },
    {
     "data": {
      "text/plain": "\u001B[1;33m/home/henrykuria/airflow_venv/lib/python3.10/site-packages/pandas/io/\u001B[0m\u001B[1;33msql.py\u001B[0m\u001B[1;33m:\u001B[0m\u001B[1;33m761\u001B[0m\u001B[1;33m UserWarning\u001B[0m\u001B[33m: pandas only support SQLAlchemy \u001B[0m\u001B[1;33mconnectable\u001B[0m\u001B[1;33m(\u001B[0m\u001B[33mengine/connection\u001B[0m\u001B[1;33m)\u001B[0m\u001B[33m ordatabase string URI or sqlite3 DBAPI2 connectionother DBAPI2 objects are not tested, please consider using SQLAlchemy\u001B[0m\n",
      "text/html": "<pre style=\"white-space:pre;overflow-x:auto;line-height:normal;font-family:Menlo,'DejaVu Sans Mono',consolas,'Courier New',monospace\"><span style=\"color: #808000; text-decoration-color: #808000; font-weight: bold\">/home/henrykuria/airflow_venv/lib/python3.10/site-packages/pandas/io/sql.py:</span><span style=\"color: #808000; text-decoration-color: #808000; font-weight: bold\">761</span><span style=\"color: #808000; text-decoration-color: #808000; font-weight: bold\"> UserWarning</span><span style=\"color: #808000; text-decoration-color: #808000\">: pandas only support SQLAlchemy </span><span style=\"color: #808000; text-decoration-color: #808000; font-weight: bold\">connectable(</span><span style=\"color: #808000; text-decoration-color: #808000\">engine/connection</span><span style=\"color: #808000; text-decoration-color: #808000; font-weight: bold\">)</span><span style=\"color: #808000; text-decoration-color: #808000\"> ordatabase string URI or sqlite3 DBAPI2 connectionother DBAPI2 objects are not tested, please consider using SQLAlchemy</span>\n</pre>\n"
     },
     "metadata": {},
     "output_type": "display_data"
    },
    {
     "data": {
      "text/plain": "    ROW_ID DIGITAL_CREDIT_PROVIDER_CODE REPORTING_DATE CUSTOMER_ID  \\\n0        1                      0900024    05-Jul-2023       J_300   \n1        2                      0900024    05-Jul-2023        J_33   \n2        3                      0900024    05-Jul-2023       J_330   \n3        4                      0900024    05-Jul-2023        J_72   \n4        5                      0900024    05-Jul-2023       J_107   \n5        6                      0900024    05-Jul-2023       J_115   \n6        7                      0900024    05-Jul-2023       J_139   \n7        8                      0900024    05-Jul-2023       J_143   \n8        9                      0900024    05-Jul-2023       J_146   \n9       10                      0900024    05-Jul-2023       J_150   \n10      11                      0900024    05-Jul-2023       J_154   \n11      12                      0900024    05-Jul-2023       J_156   \n12      13                      0900024    05-Jul-2023       J_162   \n13      14                      0900024    05-Jul-2023       J_164   \n14      15                      0900024    05-Jul-2023        J_17   \n15      16                      0900024    05-Jul-2023       J_174   \n16      17                      0900024    05-Jul-2023       J_198   \n17      18                      0900024    05-Jul-2023       J_199   \n18      19                      0900024    05-Jul-2023       J_215   \n19      20                      0900024    05-Jul-2023       J_224   \n20      21                      0900024    05-Jul-2023       J_234   \n21      22                      0900024    05-Jul-2023       J_244   \n22      23                      0900024    05-Jul-2023       J_251   \n23      24                      0900024    05-Jul-2023       J_252   \n24      25                      0900024    05-Jul-2023       J_254   \n25      26                      0900024    05-Jul-2023       J_257   \n26      27                      0900024    05-Jul-2023       J_267   \n27      28                      0900024    05-Jul-2023       J_279   \n28      29                      0900024    05-Jul-2023       J_285   \n29      30                      0900024    05-Jul-2023       J_292   \n30      31                      0900024    05-Jul-2023       J_296   \n31      32                      0900024    05-Jul-2023       J_302   \n32      33                      0900024    05-Jul-2023       J_316   \n33      34                      0900024    05-Jul-2023       J_321   \n34      35                      0900024    05-Jul-2023       J_329   \n35      36                      0900024    05-Jul-2023       J_342   \n36      37                      0900024    05-Jul-2023       J_359   \n37      38                      0900024    05-Jul-2023       J_367   \n38      39                      0900024    05-Jul-2023       J_369   \n39      40                      0900024    05-Jul-2023       J_371   \n40      41                      0900024    05-Jul-2023       J_377   \n41      42                      0900024    05-Jul-2023       J_383   \n42      43                      0900024    05-Jul-2023       J_397   \n43      44                      0900024    05-Jul-2023       J_399   \n44      45                      0900024    05-Jul-2023        J_46   \n45      46                      0900024    05-Jul-2023        J_55   \n46      47                      0900024    05-Jul-2023        J_57   \n47      48                      0900024    05-Jul-2023        J_66   \n48      49                      0900024    05-Jul-2023        J_67   \n49      50                      0900024    05-Jul-2023        J_91   \n50      51                      0900024    05-Jul-2023        J_97   \n\n   PRIMARY_IDENTIFICATION_DOCUMENT_TYPE NATIONAL_IDENTITY_PASSPORT_NUMBER  \\\n0                              CUSTID02                         PT8535766   \n1                              CUSTID02                           C026065   \n2                              CUSTID02                               N/A   \n3                              CUSTID02                       A003173667R   \n4                              CUSTID01                          25629107   \n5                              CUSTID01                          27455988   \n6                              CUSTID01                          22009321   \n7                              CUSTID01                          24726334   \n8                              CUSTID01                          26578880   \n9                              CUSTID01                          14569256   \n10                             CUSTID01                           3159178   \n11                             CUSTID01                          28129478   \n12                             CUSTID01                          30181237   \n13                             CUSTID01                          22155291   \n14                             CUSTID01                          30522478   \n15                             CUSTID01                          27509599   \n16                             CUSTID01                          28658187   \n17                             CUSTID01                          23972546   \n18                             CUSTID01                          24083405   \n19                             CUSTID01                          27937011   \n20                             CUSTID01                          24750826   \n21                             CUSTID01                          20554685   \n22                             CUSTID01                          21550130   \n23                             CUSTID01                          23079127   \n24                             CUSTID01                          27735594   \n25                             CUSTID01                          22223457   \n26                             CUSTID01                          21600927   \n27                             CUSTID01                          24011545   \n28                             CUSTID01                          31791865   \n29                             CUSTID01                          23325039   \n30                             CUSTID01                          10767082   \n31                             CUSTID01                          25275815   \n32                             CUSTID01                          10567854   \n33                             CUSTID01                          25198643   \n34                             CUSTID01                          25041101   \n35                             CUSTID01                         205198827   \n36                             CUSTID01                           3414798   \n37                             CUSTID01                          24922947   \n38                             CUSTID01                          22612694   \n39                             CUSTID01                          11035328   \n40                             CUSTID01                          24815856   \n41                             CUSTID01                           8610159   \n42                             CUSTID01                          23230603   \n43                             CUSTID01                          21777476   \n44                             CUSTID01                          22200563   \n45                             CUSTID01                          31003849   \n46                             CUSTID01                          27749030   \n47                             CUSTID01                          22694091   \n48                             CUSTID01                           9723854   \n49                             CUSTID01                          22210392   \n50                             CUSTID01                        6012573200   \n\n   PERSONAL_IDENTIFICATION_NUMBER NATIONALITY GENDER FIRST_NAME MIDDLE_NAME  \\\n0                            None          KE   None     VIOLET        None   \n1                            None          KE   None  CATHERINE        None   \n2                            None          KE   None     JEYJEY         AND   \n3                            None          KE   None   CAROLINE        None   \n4                            None          KE   None       PAUL        None   \n5                            None          KE   None    WILLIAM        None   \n6                            None          KE   None     DANIEL        None   \n7                            None          KE   None     DOREEN        None   \n8                            None          KE   None    VINCENT        None   \n9                            None          KE   None      JAMES        None   \n10                           None          KE   None     ROBERT        None   \n11                           None          KE   None        BSL        None   \n12                           None          KE   None    BRANDON        None   \n13                           None          KE   None      JAMES        None   \n14                           None          KE   None     VICTOR        None   \n15                           None          KE   None   GEOFFREY        None   \n16                           None          KE   None    VINCENT        None   \n17                           None          KE   None      JESSE        None   \n18                           None          KE   None    PATRICK        None   \n19                           None          KE   None       HAWA        None   \n20                           None          KE   None    BONFACE        None   \n21                           None          KE   None   GEOFFREY        None   \n22                           None          KE   None     PAMELA        None   \n23                           None          KE   None   PHILEMON        None   \n24                           None          KE   None     GEORGE        None   \n25                           None          KE   None     EDWARD        None   \n26                           None          KE   None    UPLANDS        None   \n27                           None          KE   None     DANIEL        None   \n28                           None          KE   None      EDITH        None   \n29                           None          KE   None     GEORGE        None   \n30                           None          KE   None     JOSEPH        None   \n31                           None          KE   None       JUDY     NTHENYA   \n32                           None          KE   None       ERIC        None   \n33                           None          KE   None   PRUDENCE        None   \n34                           None          KE   None    CLEMENT        None   \n35                           None          KE   None     WINNIE        None   \n36                           None          KE   None   LAWRENCE        None   \n37                           None          KE   None     SOPHIA        None   \n38                           None          KE   None       ROSE        None   \n39                           None          KE   None      JAMES        None   \n40                           None          KE   None      PERIS        None   \n41                           None          KE   None   MARGARET        None   \n42                           None          KE   None   NGARUIYA        None   \n43                           None          KE   None       LUCY        None   \n44                           None          KE   None    STEPHEN        None   \n45                           None          KE   None   CAROLINE        None   \n46                           None          KE   None   EVERLYNE        None   \n47                           None          KE   None     JEDIEL        None   \n48                           None          KE   None  KINYANJUI        None   \n49                           None          KE   None     KELVIN        None   \n50                           None          KE   None     HILDAH        None   \n\n                SURNAME DATE_OF_BIRTH_REGISTRATION ONBOARDING_DATE  \\\n0                 QUAIL                       None     14-Apr-2022   \n1                WAWERU                       None     11-Jul-2020   \n2   COMPANY LIMITED A/A                       None     02-Aug-2022   \n3               WANJIKU                       None     09-Sep-2020   \n4                NDUNGU                       None     09-Mar-2021   \n5                IRUNGU                       None     05-Apr-2021   \n6                MWANGI                       None     25-May-2021   \n7                  MBAE                       None     05-Jun-2021   \n8              ODHIAMBO                       None     09-Jun-2021   \n9                MUTURI                       None     11-Jun-2021   \n10              MBURUGU                       None     18-Jun-2021   \n11            GOVERNORS                       None     25-Jun-2021   \n12               NGAIRA                       None     05-Jul-2021   \n13                NTELE                       None     08-Jul-2021   \n14              MWENDWA                       None     19-Jun-2020   \n15              NYAMORI                       None     02-Aug-2021   \n16                KASII                       None     20-Sep-2021   \n17               MBITHI                       None     20-Sep-2021   \n18                NJOKI                       None     06-Oct-2021   \n19                RAJAB                       None     13-Oct-2021   \n20               GATOBU                       None     27-Oct-2021   \n21              ONDONGO                       None     17-Nov-2021   \n22             ODHIAMBO                       None     03-Dec-2021   \n23              WANDERA                       None     07-Dec-2021   \n24               ROBERT                       None     08-Dec-2021   \n25               NDUATI                       None     16-Dec-2021   \n26                KENYA                       None     24-Dec-2021   \n27               WAWERU                       None     31-Jan-2022   \n28              ANYANGO                       None     15-Feb-2022   \n29              NJOROGE                       None     21-Mar-2022   \n30                NGUGI                       None     01-Apr-2022   \n31              COMPANY                       None     06-May-2022   \n32             ODHIAMBO                       None     22-Jun-2022   \n33              KHAMATI                       None     29-Jun-2022   \n34             MURIITHI                       None     31-Jul-2022   \n35               MBUGUA                       None     23-Sep-2022   \n36               MUTURI                       None     10-Nov-2022   \n37            KINYANJUI                       None     02-Dec-2022   \n38              OMARIBA                       None     13-Dec-2022   \n39                MASAI                       None     15-Dec-2022   \n40               KIRUGA                       None     19-Dec-2022   \n41               RUTERE                       None     20-Dec-2022   \n42                SIMON                       None     25-Jan-2023   \n43               WAFULA                       None     30-Jan-2023   \n44               MUSILA                       None     02-Aug-2020   \n45             MACHARIA                       None     19-Aug-2020   \n46               ALUOCH                       None     21-Aug-2020   \n47              MURIUKI                       None     01-Sep-2020   \n48                CHEGE                       None     02-Sep-2020   \n49                MUTUA                       None     26-Nov-2020   \n50               MAKENA                       None     11-Jan-2021   \n\n   MOBILE_NUMBER  \n0   254723522131  \n1   254722519526  \n2   254724542602  \n3   254729840520  \n4   254722923009  \n5   254702878743  \n6   254722141401  \n7   254726150076  \n8   254729377006  \n9   254721913852  \n10  254721572454  \n11  254723533270  \n12  254711618301  \n13  254722281215  \n14  254701687386  \n15  254709901552  \n16  254728148398  \n17  254726285699  \n18  254725208114  \n19  254719649965  \n20  254722747805  \n21  254722851455  \n22  254727964113  \n23  254721825357  \n24  254720471572  \n25  254712381729  \n26  254721267158  \n27  254721994329  \n28  254727298013  \n29  254726399968  \n30  254722475224  \n31  254725035590  \n32  254724567287  \n33  254722738206  \n34  254729373177  \n35  254722607245  \n36  254721241806  \n37  254714356133  \n38  254724871391  \n39  254719466568  \n40  254716747709  \n41  254727890001  \n42  254729647030  \n43  254794507191  \n44  254723548246  \n45  254721244530  \n46  254724157091  \n47  254723663635  \n48  254723719315  \n49  254720737107  \n50  254728872930  ",
      "text/html": "<div>\n<style scoped>\n    .dataframe tbody tr th:only-of-type {\n        vertical-align: middle;\n    }\n\n    .dataframe tbody tr th {\n        vertical-align: top;\n    }\n\n    .dataframe thead th {\n        text-align: right;\n    }\n</style>\n<table border=\"1\" class=\"dataframe\">\n  <thead>\n    <tr style=\"text-align: right;\">\n      <th></th>\n      <th>ROW_ID</th>\n      <th>DIGITAL_CREDIT_PROVIDER_CODE</th>\n      <th>REPORTING_DATE</th>\n      <th>CUSTOMER_ID</th>\n      <th>PRIMARY_IDENTIFICATION_DOCUMENT_TYPE</th>\n      <th>NATIONAL_IDENTITY_PASSPORT_NUMBER</th>\n      <th>PERSONAL_IDENTIFICATION_NUMBER</th>\n      <th>NATIONALITY</th>\n      <th>GENDER</th>\n      <th>FIRST_NAME</th>\n      <th>MIDDLE_NAME</th>\n      <th>SURNAME</th>\n      <th>DATE_OF_BIRTH_REGISTRATION</th>\n      <th>ONBOARDING_DATE</th>\n      <th>MOBILE_NUMBER</th>\n    </tr>\n  </thead>\n  <tbody>\n    <tr>\n      <th>0</th>\n      <td>1</td>\n      <td>0900024</td>\n      <td>05-Jul-2023</td>\n      <td>J_300</td>\n      <td>CUSTID02</td>\n      <td>PT8535766</td>\n      <td>None</td>\n      <td>KE</td>\n      <td>None</td>\n      <td>VIOLET</td>\n      <td>None</td>\n      <td>QUAIL</td>\n      <td>None</td>\n      <td>14-Apr-2022</td>\n      <td>254723522131</td>\n    </tr>\n    <tr>\n      <th>1</th>\n      <td>2</td>\n      <td>0900024</td>\n      <td>05-Jul-2023</td>\n      <td>J_33</td>\n      <td>CUSTID02</td>\n      <td>C026065</td>\n      <td>None</td>\n      <td>KE</td>\n      <td>None</td>\n      <td>CATHERINE</td>\n      <td>None</td>\n      <td>WAWERU</td>\n      <td>None</td>\n      <td>11-Jul-2020</td>\n      <td>254722519526</td>\n    </tr>\n    <tr>\n      <th>2</th>\n      <td>3</td>\n      <td>0900024</td>\n      <td>05-Jul-2023</td>\n      <td>J_330</td>\n      <td>CUSTID02</td>\n      <td>N/A</td>\n      <td>None</td>\n      <td>KE</td>\n      <td>None</td>\n      <td>JEYJEY</td>\n      <td>AND</td>\n      <td>COMPANY LIMITED A/A</td>\n      <td>None</td>\n      <td>02-Aug-2022</td>\n      <td>254724542602</td>\n    </tr>\n    <tr>\n      <th>3</th>\n      <td>4</td>\n      <td>0900024</td>\n      <td>05-Jul-2023</td>\n      <td>J_72</td>\n      <td>CUSTID02</td>\n      <td>A003173667R</td>\n      <td>None</td>\n      <td>KE</td>\n      <td>None</td>\n      <td>CAROLINE</td>\n      <td>None</td>\n      <td>WANJIKU</td>\n      <td>None</td>\n      <td>09-Sep-2020</td>\n      <td>254729840520</td>\n    </tr>\n    <tr>\n      <th>4</th>\n      <td>5</td>\n      <td>0900024</td>\n      <td>05-Jul-2023</td>\n      <td>J_107</td>\n      <td>CUSTID01</td>\n      <td>25629107</td>\n      <td>None</td>\n      <td>KE</td>\n      <td>None</td>\n      <td>PAUL</td>\n      <td>None</td>\n      <td>NDUNGU</td>\n      <td>None</td>\n      <td>09-Mar-2021</td>\n      <td>254722923009</td>\n    </tr>\n    <tr>\n      <th>5</th>\n      <td>6</td>\n      <td>0900024</td>\n      <td>05-Jul-2023</td>\n      <td>J_115</td>\n      <td>CUSTID01</td>\n      <td>27455988</td>\n      <td>None</td>\n      <td>KE</td>\n      <td>None</td>\n      <td>WILLIAM</td>\n      <td>None</td>\n      <td>IRUNGU</td>\n      <td>None</td>\n      <td>05-Apr-2021</td>\n      <td>254702878743</td>\n    </tr>\n    <tr>\n      <th>6</th>\n      <td>7</td>\n      <td>0900024</td>\n      <td>05-Jul-2023</td>\n      <td>J_139</td>\n      <td>CUSTID01</td>\n      <td>22009321</td>\n      <td>None</td>\n      <td>KE</td>\n      <td>None</td>\n      <td>DANIEL</td>\n      <td>None</td>\n      <td>MWANGI</td>\n      <td>None</td>\n      <td>25-May-2021</td>\n      <td>254722141401</td>\n    </tr>\n    <tr>\n      <th>7</th>\n      <td>8</td>\n      <td>0900024</td>\n      <td>05-Jul-2023</td>\n      <td>J_143</td>\n      <td>CUSTID01</td>\n      <td>24726334</td>\n      <td>None</td>\n      <td>KE</td>\n      <td>None</td>\n      <td>DOREEN</td>\n      <td>None</td>\n      <td>MBAE</td>\n      <td>None</td>\n      <td>05-Jun-2021</td>\n      <td>254726150076</td>\n    </tr>\n    <tr>\n      <th>8</th>\n      <td>9</td>\n      <td>0900024</td>\n      <td>05-Jul-2023</td>\n      <td>J_146</td>\n      <td>CUSTID01</td>\n      <td>26578880</td>\n      <td>None</td>\n      <td>KE</td>\n      <td>None</td>\n      <td>VINCENT</td>\n      <td>None</td>\n      <td>ODHIAMBO</td>\n      <td>None</td>\n      <td>09-Jun-2021</td>\n      <td>254729377006</td>\n    </tr>\n    <tr>\n      <th>9</th>\n      <td>10</td>\n      <td>0900024</td>\n      <td>05-Jul-2023</td>\n      <td>J_150</td>\n      <td>CUSTID01</td>\n      <td>14569256</td>\n      <td>None</td>\n      <td>KE</td>\n      <td>None</td>\n      <td>JAMES</td>\n      <td>None</td>\n      <td>MUTURI</td>\n      <td>None</td>\n      <td>11-Jun-2021</td>\n      <td>254721913852</td>\n    </tr>\n    <tr>\n      <th>10</th>\n      <td>11</td>\n      <td>0900024</td>\n      <td>05-Jul-2023</td>\n      <td>J_154</td>\n      <td>CUSTID01</td>\n      <td>3159178</td>\n      <td>None</td>\n      <td>KE</td>\n      <td>None</td>\n      <td>ROBERT</td>\n      <td>None</td>\n      <td>MBURUGU</td>\n      <td>None</td>\n      <td>18-Jun-2021</td>\n      <td>254721572454</td>\n    </tr>\n    <tr>\n      <th>11</th>\n      <td>12</td>\n      <td>0900024</td>\n      <td>05-Jul-2023</td>\n      <td>J_156</td>\n      <td>CUSTID01</td>\n      <td>28129478</td>\n      <td>None</td>\n      <td>KE</td>\n      <td>None</td>\n      <td>BSL</td>\n      <td>None</td>\n      <td>GOVERNORS</td>\n      <td>None</td>\n      <td>25-Jun-2021</td>\n      <td>254723533270</td>\n    </tr>\n    <tr>\n      <th>12</th>\n      <td>13</td>\n      <td>0900024</td>\n      <td>05-Jul-2023</td>\n      <td>J_162</td>\n      <td>CUSTID01</td>\n      <td>30181237</td>\n      <td>None</td>\n      <td>KE</td>\n      <td>None</td>\n      <td>BRANDON</td>\n      <td>None</td>\n      <td>NGAIRA</td>\n      <td>None</td>\n      <td>05-Jul-2021</td>\n      <td>254711618301</td>\n    </tr>\n    <tr>\n      <th>13</th>\n      <td>14</td>\n      <td>0900024</td>\n      <td>05-Jul-2023</td>\n      <td>J_164</td>\n      <td>CUSTID01</td>\n      <td>22155291</td>\n      <td>None</td>\n      <td>KE</td>\n      <td>None</td>\n      <td>JAMES</td>\n      <td>None</td>\n      <td>NTELE</td>\n      <td>None</td>\n      <td>08-Jul-2021</td>\n      <td>254722281215</td>\n    </tr>\n    <tr>\n      <th>14</th>\n      <td>15</td>\n      <td>0900024</td>\n      <td>05-Jul-2023</td>\n      <td>J_17</td>\n      <td>CUSTID01</td>\n      <td>30522478</td>\n      <td>None</td>\n      <td>KE</td>\n      <td>None</td>\n      <td>VICTOR</td>\n      <td>None</td>\n      <td>MWENDWA</td>\n      <td>None</td>\n      <td>19-Jun-2020</td>\n      <td>254701687386</td>\n    </tr>\n    <tr>\n      <th>15</th>\n      <td>16</td>\n      <td>0900024</td>\n      <td>05-Jul-2023</td>\n      <td>J_174</td>\n      <td>CUSTID01</td>\n      <td>27509599</td>\n      <td>None</td>\n      <td>KE</td>\n      <td>None</td>\n      <td>GEOFFREY</td>\n      <td>None</td>\n      <td>NYAMORI</td>\n      <td>None</td>\n      <td>02-Aug-2021</td>\n      <td>254709901552</td>\n    </tr>\n    <tr>\n      <th>16</th>\n      <td>17</td>\n      <td>0900024</td>\n      <td>05-Jul-2023</td>\n      <td>J_198</td>\n      <td>CUSTID01</td>\n      <td>28658187</td>\n      <td>None</td>\n      <td>KE</td>\n      <td>None</td>\n      <td>VINCENT</td>\n      <td>None</td>\n      <td>KASII</td>\n      <td>None</td>\n      <td>20-Sep-2021</td>\n      <td>254728148398</td>\n    </tr>\n    <tr>\n      <th>17</th>\n      <td>18</td>\n      <td>0900024</td>\n      <td>05-Jul-2023</td>\n      <td>J_199</td>\n      <td>CUSTID01</td>\n      <td>23972546</td>\n      <td>None</td>\n      <td>KE</td>\n      <td>None</td>\n      <td>JESSE</td>\n      <td>None</td>\n      <td>MBITHI</td>\n      <td>None</td>\n      <td>20-Sep-2021</td>\n      <td>254726285699</td>\n    </tr>\n    <tr>\n      <th>18</th>\n      <td>19</td>\n      <td>0900024</td>\n      <td>05-Jul-2023</td>\n      <td>J_215</td>\n      <td>CUSTID01</td>\n      <td>24083405</td>\n      <td>None</td>\n      <td>KE</td>\n      <td>None</td>\n      <td>PATRICK</td>\n      <td>None</td>\n      <td>NJOKI</td>\n      <td>None</td>\n      <td>06-Oct-2021</td>\n      <td>254725208114</td>\n    </tr>\n    <tr>\n      <th>19</th>\n      <td>20</td>\n      <td>0900024</td>\n      <td>05-Jul-2023</td>\n      <td>J_224</td>\n      <td>CUSTID01</td>\n      <td>27937011</td>\n      <td>None</td>\n      <td>KE</td>\n      <td>None</td>\n      <td>HAWA</td>\n      <td>None</td>\n      <td>RAJAB</td>\n      <td>None</td>\n      <td>13-Oct-2021</td>\n      <td>254719649965</td>\n    </tr>\n    <tr>\n      <th>20</th>\n      <td>21</td>\n      <td>0900024</td>\n      <td>05-Jul-2023</td>\n      <td>J_234</td>\n      <td>CUSTID01</td>\n      <td>24750826</td>\n      <td>None</td>\n      <td>KE</td>\n      <td>None</td>\n      <td>BONFACE</td>\n      <td>None</td>\n      <td>GATOBU</td>\n      <td>None</td>\n      <td>27-Oct-2021</td>\n      <td>254722747805</td>\n    </tr>\n    <tr>\n      <th>21</th>\n      <td>22</td>\n      <td>0900024</td>\n      <td>05-Jul-2023</td>\n      <td>J_244</td>\n      <td>CUSTID01</td>\n      <td>20554685</td>\n      <td>None</td>\n      <td>KE</td>\n      <td>None</td>\n      <td>GEOFFREY</td>\n      <td>None</td>\n      <td>ONDONGO</td>\n      <td>None</td>\n      <td>17-Nov-2021</td>\n      <td>254722851455</td>\n    </tr>\n    <tr>\n      <th>22</th>\n      <td>23</td>\n      <td>0900024</td>\n      <td>05-Jul-2023</td>\n      <td>J_251</td>\n      <td>CUSTID01</td>\n      <td>21550130</td>\n      <td>None</td>\n      <td>KE</td>\n      <td>None</td>\n      <td>PAMELA</td>\n      <td>None</td>\n      <td>ODHIAMBO</td>\n      <td>None</td>\n      <td>03-Dec-2021</td>\n      <td>254727964113</td>\n    </tr>\n    <tr>\n      <th>23</th>\n      <td>24</td>\n      <td>0900024</td>\n      <td>05-Jul-2023</td>\n      <td>J_252</td>\n      <td>CUSTID01</td>\n      <td>23079127</td>\n      <td>None</td>\n      <td>KE</td>\n      <td>None</td>\n      <td>PHILEMON</td>\n      <td>None</td>\n      <td>WANDERA</td>\n      <td>None</td>\n      <td>07-Dec-2021</td>\n      <td>254721825357</td>\n    </tr>\n    <tr>\n      <th>24</th>\n      <td>25</td>\n      <td>0900024</td>\n      <td>05-Jul-2023</td>\n      <td>J_254</td>\n      <td>CUSTID01</td>\n      <td>27735594</td>\n      <td>None</td>\n      <td>KE</td>\n      <td>None</td>\n      <td>GEORGE</td>\n      <td>None</td>\n      <td>ROBERT</td>\n      <td>None</td>\n      <td>08-Dec-2021</td>\n      <td>254720471572</td>\n    </tr>\n    <tr>\n      <th>25</th>\n      <td>26</td>\n      <td>0900024</td>\n      <td>05-Jul-2023</td>\n      <td>J_257</td>\n      <td>CUSTID01</td>\n      <td>22223457</td>\n      <td>None</td>\n      <td>KE</td>\n      <td>None</td>\n      <td>EDWARD</td>\n      <td>None</td>\n      <td>NDUATI</td>\n      <td>None</td>\n      <td>16-Dec-2021</td>\n      <td>254712381729</td>\n    </tr>\n    <tr>\n      <th>26</th>\n      <td>27</td>\n      <td>0900024</td>\n      <td>05-Jul-2023</td>\n      <td>J_267</td>\n      <td>CUSTID01</td>\n      <td>21600927</td>\n      <td>None</td>\n      <td>KE</td>\n      <td>None</td>\n      <td>UPLANDS</td>\n      <td>None</td>\n      <td>KENYA</td>\n      <td>None</td>\n      <td>24-Dec-2021</td>\n      <td>254721267158</td>\n    </tr>\n    <tr>\n      <th>27</th>\n      <td>28</td>\n      <td>0900024</td>\n      <td>05-Jul-2023</td>\n      <td>J_279</td>\n      <td>CUSTID01</td>\n      <td>24011545</td>\n      <td>None</td>\n      <td>KE</td>\n      <td>None</td>\n      <td>DANIEL</td>\n      <td>None</td>\n      <td>WAWERU</td>\n      <td>None</td>\n      <td>31-Jan-2022</td>\n      <td>254721994329</td>\n    </tr>\n    <tr>\n      <th>28</th>\n      <td>29</td>\n      <td>0900024</td>\n      <td>05-Jul-2023</td>\n      <td>J_285</td>\n      <td>CUSTID01</td>\n      <td>31791865</td>\n      <td>None</td>\n      <td>KE</td>\n      <td>None</td>\n      <td>EDITH</td>\n      <td>None</td>\n      <td>ANYANGO</td>\n      <td>None</td>\n      <td>15-Feb-2022</td>\n      <td>254727298013</td>\n    </tr>\n    <tr>\n      <th>29</th>\n      <td>30</td>\n      <td>0900024</td>\n      <td>05-Jul-2023</td>\n      <td>J_292</td>\n      <td>CUSTID01</td>\n      <td>23325039</td>\n      <td>None</td>\n      <td>KE</td>\n      <td>None</td>\n      <td>GEORGE</td>\n      <td>None</td>\n      <td>NJOROGE</td>\n      <td>None</td>\n      <td>21-Mar-2022</td>\n      <td>254726399968</td>\n    </tr>\n    <tr>\n      <th>30</th>\n      <td>31</td>\n      <td>0900024</td>\n      <td>05-Jul-2023</td>\n      <td>J_296</td>\n      <td>CUSTID01</td>\n      <td>10767082</td>\n      <td>None</td>\n      <td>KE</td>\n      <td>None</td>\n      <td>JOSEPH</td>\n      <td>None</td>\n      <td>NGUGI</td>\n      <td>None</td>\n      <td>01-Apr-2022</td>\n      <td>254722475224</td>\n    </tr>\n    <tr>\n      <th>31</th>\n      <td>32</td>\n      <td>0900024</td>\n      <td>05-Jul-2023</td>\n      <td>J_302</td>\n      <td>CUSTID01</td>\n      <td>25275815</td>\n      <td>None</td>\n      <td>KE</td>\n      <td>None</td>\n      <td>JUDY</td>\n      <td>NTHENYA</td>\n      <td>COMPANY</td>\n      <td>None</td>\n      <td>06-May-2022</td>\n      <td>254725035590</td>\n    </tr>\n    <tr>\n      <th>32</th>\n      <td>33</td>\n      <td>0900024</td>\n      <td>05-Jul-2023</td>\n      <td>J_316</td>\n      <td>CUSTID01</td>\n      <td>10567854</td>\n      <td>None</td>\n      <td>KE</td>\n      <td>None</td>\n      <td>ERIC</td>\n      <td>None</td>\n      <td>ODHIAMBO</td>\n      <td>None</td>\n      <td>22-Jun-2022</td>\n      <td>254724567287</td>\n    </tr>\n    <tr>\n      <th>33</th>\n      <td>34</td>\n      <td>0900024</td>\n      <td>05-Jul-2023</td>\n      <td>J_321</td>\n      <td>CUSTID01</td>\n      <td>25198643</td>\n      <td>None</td>\n      <td>KE</td>\n      <td>None</td>\n      <td>PRUDENCE</td>\n      <td>None</td>\n      <td>KHAMATI</td>\n      <td>None</td>\n      <td>29-Jun-2022</td>\n      <td>254722738206</td>\n    </tr>\n    <tr>\n      <th>34</th>\n      <td>35</td>\n      <td>0900024</td>\n      <td>05-Jul-2023</td>\n      <td>J_329</td>\n      <td>CUSTID01</td>\n      <td>25041101</td>\n      <td>None</td>\n      <td>KE</td>\n      <td>None</td>\n      <td>CLEMENT</td>\n      <td>None</td>\n      <td>MURIITHI</td>\n      <td>None</td>\n      <td>31-Jul-2022</td>\n      <td>254729373177</td>\n    </tr>\n    <tr>\n      <th>35</th>\n      <td>36</td>\n      <td>0900024</td>\n      <td>05-Jul-2023</td>\n      <td>J_342</td>\n      <td>CUSTID01</td>\n      <td>205198827</td>\n      <td>None</td>\n      <td>KE</td>\n      <td>None</td>\n      <td>WINNIE</td>\n      <td>None</td>\n      <td>MBUGUA</td>\n      <td>None</td>\n      <td>23-Sep-2022</td>\n      <td>254722607245</td>\n    </tr>\n    <tr>\n      <th>36</th>\n      <td>37</td>\n      <td>0900024</td>\n      <td>05-Jul-2023</td>\n      <td>J_359</td>\n      <td>CUSTID01</td>\n      <td>3414798</td>\n      <td>None</td>\n      <td>KE</td>\n      <td>None</td>\n      <td>LAWRENCE</td>\n      <td>None</td>\n      <td>MUTURI</td>\n      <td>None</td>\n      <td>10-Nov-2022</td>\n      <td>254721241806</td>\n    </tr>\n    <tr>\n      <th>37</th>\n      <td>38</td>\n      <td>0900024</td>\n      <td>05-Jul-2023</td>\n      <td>J_367</td>\n      <td>CUSTID01</td>\n      <td>24922947</td>\n      <td>None</td>\n      <td>KE</td>\n      <td>None</td>\n      <td>SOPHIA</td>\n      <td>None</td>\n      <td>KINYANJUI</td>\n      <td>None</td>\n      <td>02-Dec-2022</td>\n      <td>254714356133</td>\n    </tr>\n    <tr>\n      <th>38</th>\n      <td>39</td>\n      <td>0900024</td>\n      <td>05-Jul-2023</td>\n      <td>J_369</td>\n      <td>CUSTID01</td>\n      <td>22612694</td>\n      <td>None</td>\n      <td>KE</td>\n      <td>None</td>\n      <td>ROSE</td>\n      <td>None</td>\n      <td>OMARIBA</td>\n      <td>None</td>\n      <td>13-Dec-2022</td>\n      <td>254724871391</td>\n    </tr>\n    <tr>\n      <th>39</th>\n      <td>40</td>\n      <td>0900024</td>\n      <td>05-Jul-2023</td>\n      <td>J_371</td>\n      <td>CUSTID01</td>\n      <td>11035328</td>\n      <td>None</td>\n      <td>KE</td>\n      <td>None</td>\n      <td>JAMES</td>\n      <td>None</td>\n      <td>MASAI</td>\n      <td>None</td>\n      <td>15-Dec-2022</td>\n      <td>254719466568</td>\n    </tr>\n    <tr>\n      <th>40</th>\n      <td>41</td>\n      <td>0900024</td>\n      <td>05-Jul-2023</td>\n      <td>J_377</td>\n      <td>CUSTID01</td>\n      <td>24815856</td>\n      <td>None</td>\n      <td>KE</td>\n      <td>None</td>\n      <td>PERIS</td>\n      <td>None</td>\n      <td>KIRUGA</td>\n      <td>None</td>\n      <td>19-Dec-2022</td>\n      <td>254716747709</td>\n    </tr>\n    <tr>\n      <th>41</th>\n      <td>42</td>\n      <td>0900024</td>\n      <td>05-Jul-2023</td>\n      <td>J_383</td>\n      <td>CUSTID01</td>\n      <td>8610159</td>\n      <td>None</td>\n      <td>KE</td>\n      <td>None</td>\n      <td>MARGARET</td>\n      <td>None</td>\n      <td>RUTERE</td>\n      <td>None</td>\n      <td>20-Dec-2022</td>\n      <td>254727890001</td>\n    </tr>\n    <tr>\n      <th>42</th>\n      <td>43</td>\n      <td>0900024</td>\n      <td>05-Jul-2023</td>\n      <td>J_397</td>\n      <td>CUSTID01</td>\n      <td>23230603</td>\n      <td>None</td>\n      <td>KE</td>\n      <td>None</td>\n      <td>NGARUIYA</td>\n      <td>None</td>\n      <td>SIMON</td>\n      <td>None</td>\n      <td>25-Jan-2023</td>\n      <td>254729647030</td>\n    </tr>\n    <tr>\n      <th>43</th>\n      <td>44</td>\n      <td>0900024</td>\n      <td>05-Jul-2023</td>\n      <td>J_399</td>\n      <td>CUSTID01</td>\n      <td>21777476</td>\n      <td>None</td>\n      <td>KE</td>\n      <td>None</td>\n      <td>LUCY</td>\n      <td>None</td>\n      <td>WAFULA</td>\n      <td>None</td>\n      <td>30-Jan-2023</td>\n      <td>254794507191</td>\n    </tr>\n    <tr>\n      <th>44</th>\n      <td>45</td>\n      <td>0900024</td>\n      <td>05-Jul-2023</td>\n      <td>J_46</td>\n      <td>CUSTID01</td>\n      <td>22200563</td>\n      <td>None</td>\n      <td>KE</td>\n      <td>None</td>\n      <td>STEPHEN</td>\n      <td>None</td>\n      <td>MUSILA</td>\n      <td>None</td>\n      <td>02-Aug-2020</td>\n      <td>254723548246</td>\n    </tr>\n    <tr>\n      <th>45</th>\n      <td>46</td>\n      <td>0900024</td>\n      <td>05-Jul-2023</td>\n      <td>J_55</td>\n      <td>CUSTID01</td>\n      <td>31003849</td>\n      <td>None</td>\n      <td>KE</td>\n      <td>None</td>\n      <td>CAROLINE</td>\n      <td>None</td>\n      <td>MACHARIA</td>\n      <td>None</td>\n      <td>19-Aug-2020</td>\n      <td>254721244530</td>\n    </tr>\n    <tr>\n      <th>46</th>\n      <td>47</td>\n      <td>0900024</td>\n      <td>05-Jul-2023</td>\n      <td>J_57</td>\n      <td>CUSTID01</td>\n      <td>27749030</td>\n      <td>None</td>\n      <td>KE</td>\n      <td>None</td>\n      <td>EVERLYNE</td>\n      <td>None</td>\n      <td>ALUOCH</td>\n      <td>None</td>\n      <td>21-Aug-2020</td>\n      <td>254724157091</td>\n    </tr>\n    <tr>\n      <th>47</th>\n      <td>48</td>\n      <td>0900024</td>\n      <td>05-Jul-2023</td>\n      <td>J_66</td>\n      <td>CUSTID01</td>\n      <td>22694091</td>\n      <td>None</td>\n      <td>KE</td>\n      <td>None</td>\n      <td>JEDIEL</td>\n      <td>None</td>\n      <td>MURIUKI</td>\n      <td>None</td>\n      <td>01-Sep-2020</td>\n      <td>254723663635</td>\n    </tr>\n    <tr>\n      <th>48</th>\n      <td>49</td>\n      <td>0900024</td>\n      <td>05-Jul-2023</td>\n      <td>J_67</td>\n      <td>CUSTID01</td>\n      <td>9723854</td>\n      <td>None</td>\n      <td>KE</td>\n      <td>None</td>\n      <td>KINYANJUI</td>\n      <td>None</td>\n      <td>CHEGE</td>\n      <td>None</td>\n      <td>02-Sep-2020</td>\n      <td>254723719315</td>\n    </tr>\n    <tr>\n      <th>49</th>\n      <td>50</td>\n      <td>0900024</td>\n      <td>05-Jul-2023</td>\n      <td>J_91</td>\n      <td>CUSTID01</td>\n      <td>22210392</td>\n      <td>None</td>\n      <td>KE</td>\n      <td>None</td>\n      <td>KELVIN</td>\n      <td>None</td>\n      <td>MUTUA</td>\n      <td>None</td>\n      <td>26-Nov-2020</td>\n      <td>254720737107</td>\n    </tr>\n    <tr>\n      <th>50</th>\n      <td>51</td>\n      <td>0900024</td>\n      <td>05-Jul-2023</td>\n      <td>J_97</td>\n      <td>CUSTID01</td>\n      <td>6012573200</td>\n      <td>None</td>\n      <td>KE</td>\n      <td>None</td>\n      <td>HILDAH</td>\n      <td>None</td>\n      <td>MAKENA</td>\n      <td>None</td>\n      <td>11-Jan-2021</td>\n      <td>254728872930</td>\n    </tr>\n  </tbody>\n</table>\n</div>"
     },
     "execution_count": 34,
     "metadata": {},
     "output_type": "execute_result"
    }
   ],
   "source": [
    "warehouse_hook.get_pandas_df(\n",
    "    sql=\"\"\"\n",
    "    -- Customer Data\n",
    "    with cust_dt as (\n",
    "        select\n",
    "            distinct\n",
    "            '0900024' as \"DIGITAL_CREDIT_PROVIDER_CODE\",\n",
    "            to_char(current_date, 'DD-Mon-YYYY') as \"REPORTING_DATE\", -- cannot be in format 'DD-Mon-YYYY' and still be dtype date\n",
    "            concat('J_', cmsv.mifos_id) as \"CUSTOMER_ID\", -- store number vs national_id\n",
    "            CASE WHEN cmsv.national_id ~ '[a-zA-Z]' THEN 'Passport' ELSE 'National Identity Card' END AS \"PRIMARY_IDENTIFICATION_DOCUMENT_TYPE\", -- how to distinguish huduma number from national ID number\n",
    "            cmsv.national_id as \"NATIONAL_IDENTITY_PASSPORT_NUMBER\", -- column name in template has slash\n",
    "            null as \"PERSONAL_IDENTIFICATION_NUMBER\", --kra pin\n",
    "            cmsv.gender,\n",
    "            cmsv.first_name as \"FIRST_NAME\",\n",
    "            cmsv.middle_name as \"MIDDLE_NAME\",\n",
    "            cmsv.last_name as \"SURNAME\",\n",
    "            to_char(cmsv.date_of_birth, 'DD-Mon-YYYY') as \"DATE_OF_BIRTH_REGISTRATION\", -- cannot be in format 'DD-MM-YYYY' and still be dtype date\n",
    "            to_char(cmsv.submitted_on_date, 'DD-Mon-YYYY') as \"ONBOARDING_DATE\",\n",
    "            cmsv.mobile_number as \"MOBILE_NUMBER\"\n",
    "        from jubilee.client_summary_view cmsv\n",
    "        inner join jubilee.loans_fact_table_summary_view lftmsv on cmsv.surrogate_id = lftmsv.client_surrogate_id\n",
    "    ) select\n",
    "        row_number() over () as \"ROW_ID\", \"DIGITAL_CREDIT_PROVIDER_CODE\", \"REPORTING_DATE\", \"CUSTOMER_ID\", cpdt.code as \"PRIMARY_IDENTIFICATION_DOCUMENT_TYPE\",\n",
    "        \"NATIONAL_IDENTITY_PASSPORT_NUMBER\", \"PERSONAL_IDENTIFICATION_NUMBER\", icc.country_code as \"NATIONALITY\", gt.code as \"GENDER\", \"FIRST_NAME\",\n",
    "        case when \"SURNAME\" is null and \"MIDDLE_NAME\" is not null then null else \"MIDDLE_NAME\" end as \"MIDDLE_NAME\",\n",
    "        case when \"SURNAME\" is null then \"MIDDLE_NAME\" else \"SURNAME\" end as \"SURNAME\",\n",
    "        \"DATE_OF_BIRTH_REGISTRATION\", \"ONBOARDING_DATE\", \"MOBILE_NUMBER\"\n",
    "    from cust_dt\n",
    "    left join central_bank_of_kenya.cust_primary_doc_types cpdt on cpdt.\"type\" = cust_dt.\"PRIMARY_IDENTIFICATION_DOCUMENT_TYPE\"\n",
    "    left join central_bank_of_kenya.gender_types gt on gt.\"type\" = cust_dt.gender\n",
    "    left join central_bank_of_kenya.iso_country_codes icc on icc.country_description = 'Kenya'\n",
    "    limit 100\n",
    "    \"\"\"\n",
    ")##.to_csv(f'~/data/CBK Customer Data Sample SOLV {datetime.datetime.now()}.csv', index=False)"
   ],
   "metadata": {
    "collapsed": false
   }
  },
  {
   "cell_type": "markdown",
   "source": [
    "# KENYA AIRWAYS"
   ],
   "metadata": {
    "collapsed": false
   }
  },
  {
   "cell_type": "markdown",
   "source": [
    "### Digital Loans Account Data"
   ],
   "metadata": {
    "collapsed": false
   }
  },
  {
   "cell_type": "code",
   "execution_count": 38,
   "outputs": [
    {
     "name": "stdout",
     "output_type": "stream",
     "text": [
      "[\u001B[34m2023-07-05 12:24:14,979\u001B[0m] {\u001B[34mbase.py:\u001B[0m73} INFO\u001B[0m - Using connection ID 'rds_afsg_ds_prod_postgresql_dwh' for task execution.\u001B[0m\n"
     ]
    },
    {
     "data": {
      "text/plain": "\u001B[1;33m/home/henrykuria/airflow_venv/lib/python3.10/site-packages/pandas/io/\u001B[0m\u001B[1;33msql.py\u001B[0m\u001B[1;33m:\u001B[0m\u001B[1;33m761\u001B[0m\u001B[1;33m UserWarning\u001B[0m\u001B[33m: pandas only support SQLAlchemy \u001B[0m\u001B[1;33mconnectable\u001B[0m\u001B[1;33m(\u001B[0m\u001B[33mengine/connection\u001B[0m\u001B[1;33m)\u001B[0m\u001B[33m ordatabase string URI or sqlite3 DBAPI2 connectionother DBAPI2 objects are not tested, please consider using SQLAlchemy\u001B[0m\n",
      "text/html": "<pre style=\"white-space:pre;overflow-x:auto;line-height:normal;font-family:Menlo,'DejaVu Sans Mono',consolas,'Courier New',monospace\"><span style=\"color: #808000; text-decoration-color: #808000; font-weight: bold\">/home/henrykuria/airflow_venv/lib/python3.10/site-packages/pandas/io/sql.py:</span><span style=\"color: #808000; text-decoration-color: #808000; font-weight: bold\">761</span><span style=\"color: #808000; text-decoration-color: #808000; font-weight: bold\"> UserWarning</span><span style=\"color: #808000; text-decoration-color: #808000\">: pandas only support SQLAlchemy </span><span style=\"color: #808000; text-decoration-color: #808000; font-weight: bold\">connectable(</span><span style=\"color: #808000; text-decoration-color: #808000\">engine/connection</span><span style=\"color: #808000; text-decoration-color: #808000; font-weight: bold\">)</span><span style=\"color: #808000; text-decoration-color: #808000\"> ordatabase string URI or sqlite3 DBAPI2 connectionother DBAPI2 objects are not tested, please consider using SQLAlchemy</span>\n</pre>\n"
     },
     "metadata": {},
     "output_type": "display_data"
    },
    {
     "data": {
      "text/plain": "   ROW_ID DIGITAL_CREDIT_PROVIDER_CODE REPORTING_DATE CUSTOMER_ID  \\\n0       1                      0900024    05-Jul-2023     KQ_1437   \n1       2                      0900024    05-Jul-2023     KQ_1679   \n2       3                      0900024    05-Jul-2023     KQ_1894   \n3       4                      0900024    05-Jul-2023      KQ_640   \n4       5                      0900024    05-Jul-2023     KQ_1106   \n5       6                      0900024    05-Jul-2023     KQ_1424   \n6       7                      0900024    05-Jul-2023     KQ_1437   \n7       8                      0900024    05-Jul-2023     KQ_1438   \n8       9                      0900024    05-Jul-2023     KQ_1909   \n\n  LOAN_ACCOUNT_CONTRACT_NUMBER      ACCOUNT_NAME DISBURSEMENT_DATE  \\\n0                       KQ_560   ZAWADI  BUSHOKI       28-Apr-2022   \n1                       KQ_661      FIONA  KAMAU       06-Jun-2022   \n2                       KQ_769   KALUTU  FRANCIS       13-Jul-2022   \n3                       KQ_502  CAROLINE  KAVITA       22-Mar-2022   \n4                       KQ_511   MARTIN  NJOROGE       23-Mar-2022   \n5                       KQ_556     DENNIS  BUNDI       26-Apr-2022   \n6                       KQ_563   ZAWADI  BUSHOKI       28-Apr-2022   \n7                       KQ_566      MERCY  MAINA       28-Apr-2022   \n8                       KQ_777   CAROLINE  MIBEI       14-Jul-2022   \n\n   PRINCIPAL_LOAN_AMOUNT_DISBURSED  OUTSTANDING_LOAN_BALANCE  \\\n0                            100.0                       0.0   \n1                            100.0                       0.0   \n2                            100.0                       0.0   \n3                            100.0                       0.0   \n4                            100.0                       0.0   \n5                            100.0                       0.0   \n6                            100.0                       0.0   \n7                            100.0                       0.0   \n8                            100.0                       0.0   \n\n   DEBIT_INTEREST_RATE  FACILITY_ARRANGEMENT_FEE_CHARGE  \\\n0                    0                              3.0   \n1                    0                              3.0   \n2                    0                              3.0   \n3                    0                              4.0   \n4                    0                              3.0   \n5                    0                              3.0   \n6                    0                              3.0   \n7                    0                              3.0   \n8                    0                              3.0   \n\n   UPFRONT_INTEREST_FEES_CHARGE  COST_OF_WALLET_TRANSFER  \\\n0                             0                        0   \n1                             0                        0   \n2                             0                        0   \n3                             0                        0   \n4                             0                        0   \n5                             0                        0   \n6                             0                        0   \n7                             0                        0   \n8                             0                        0   \n\n   INSURANCE_FEE_CHARGE  OTHER_CHARGE CHANNEL_TYPE_USED  DIGITAL_LOAN_TENOR  \\\n0                     0           0.0             CHN02                  14   \n1                     0           0.0             CHN02                  14   \n2                     0           3.0             CHN02                  14   \n3                     0           0.0             CHN02                  14   \n4                     0          10.0             CHN02                  14   \n5                     0           3.0             CHN02                  14   \n6                     0           3.0             CHN02                  14   \n7                     0           2.0             CHN02                  14   \n8                     0           3.0             CHN02                  14   \n\n   INSTALMENT_AMOUNT ACCOUNT_STATUS  \n0              103.0         CLOSED  \n1              103.0         CLOSED  \n2              106.0         CLOSED  \n3              104.0         CLOSED  \n4              113.0         CLOSED  \n5              106.0         CLOSED  \n6              106.0         CLOSED  \n7              105.0         CLOSED  \n8              106.0         CLOSED  ",
      "text/html": "<div>\n<style scoped>\n    .dataframe tbody tr th:only-of-type {\n        vertical-align: middle;\n    }\n\n    .dataframe tbody tr th {\n        vertical-align: top;\n    }\n\n    .dataframe thead th {\n        text-align: right;\n    }\n</style>\n<table border=\"1\" class=\"dataframe\">\n  <thead>\n    <tr style=\"text-align: right;\">\n      <th></th>\n      <th>ROW_ID</th>\n      <th>DIGITAL_CREDIT_PROVIDER_CODE</th>\n      <th>REPORTING_DATE</th>\n      <th>CUSTOMER_ID</th>\n      <th>LOAN_ACCOUNT_CONTRACT_NUMBER</th>\n      <th>ACCOUNT_NAME</th>\n      <th>DISBURSEMENT_DATE</th>\n      <th>PRINCIPAL_LOAN_AMOUNT_DISBURSED</th>\n      <th>OUTSTANDING_LOAN_BALANCE</th>\n      <th>DEBIT_INTEREST_RATE</th>\n      <th>FACILITY_ARRANGEMENT_FEE_CHARGE</th>\n      <th>UPFRONT_INTEREST_FEES_CHARGE</th>\n      <th>COST_OF_WALLET_TRANSFER</th>\n      <th>INSURANCE_FEE_CHARGE</th>\n      <th>OTHER_CHARGE</th>\n      <th>CHANNEL_TYPE_USED</th>\n      <th>DIGITAL_LOAN_TENOR</th>\n      <th>INSTALMENT_AMOUNT</th>\n      <th>ACCOUNT_STATUS</th>\n    </tr>\n  </thead>\n  <tbody>\n    <tr>\n      <th>0</th>\n      <td>1</td>\n      <td>0900024</td>\n      <td>05-Jul-2023</td>\n      <td>KQ_1437</td>\n      <td>KQ_560</td>\n      <td>ZAWADI  BUSHOKI</td>\n      <td>28-Apr-2022</td>\n      <td>100.0</td>\n      <td>0.0</td>\n      <td>0</td>\n      <td>3.0</td>\n      <td>0</td>\n      <td>0</td>\n      <td>0</td>\n      <td>0.0</td>\n      <td>CHN02</td>\n      <td>14</td>\n      <td>103.0</td>\n      <td>CLOSED</td>\n    </tr>\n    <tr>\n      <th>1</th>\n      <td>2</td>\n      <td>0900024</td>\n      <td>05-Jul-2023</td>\n      <td>KQ_1679</td>\n      <td>KQ_661</td>\n      <td>FIONA  KAMAU</td>\n      <td>06-Jun-2022</td>\n      <td>100.0</td>\n      <td>0.0</td>\n      <td>0</td>\n      <td>3.0</td>\n      <td>0</td>\n      <td>0</td>\n      <td>0</td>\n      <td>0.0</td>\n      <td>CHN02</td>\n      <td>14</td>\n      <td>103.0</td>\n      <td>CLOSED</td>\n    </tr>\n    <tr>\n      <th>2</th>\n      <td>3</td>\n      <td>0900024</td>\n      <td>05-Jul-2023</td>\n      <td>KQ_1894</td>\n      <td>KQ_769</td>\n      <td>KALUTU  FRANCIS</td>\n      <td>13-Jul-2022</td>\n      <td>100.0</td>\n      <td>0.0</td>\n      <td>0</td>\n      <td>3.0</td>\n      <td>0</td>\n      <td>0</td>\n      <td>0</td>\n      <td>3.0</td>\n      <td>CHN02</td>\n      <td>14</td>\n      <td>106.0</td>\n      <td>CLOSED</td>\n    </tr>\n    <tr>\n      <th>3</th>\n      <td>4</td>\n      <td>0900024</td>\n      <td>05-Jul-2023</td>\n      <td>KQ_640</td>\n      <td>KQ_502</td>\n      <td>CAROLINE  KAVITA</td>\n      <td>22-Mar-2022</td>\n      <td>100.0</td>\n      <td>0.0</td>\n      <td>0</td>\n      <td>4.0</td>\n      <td>0</td>\n      <td>0</td>\n      <td>0</td>\n      <td>0.0</td>\n      <td>CHN02</td>\n      <td>14</td>\n      <td>104.0</td>\n      <td>CLOSED</td>\n    </tr>\n    <tr>\n      <th>4</th>\n      <td>5</td>\n      <td>0900024</td>\n      <td>05-Jul-2023</td>\n      <td>KQ_1106</td>\n      <td>KQ_511</td>\n      <td>MARTIN  NJOROGE</td>\n      <td>23-Mar-2022</td>\n      <td>100.0</td>\n      <td>0.0</td>\n      <td>0</td>\n      <td>3.0</td>\n      <td>0</td>\n      <td>0</td>\n      <td>0</td>\n      <td>10.0</td>\n      <td>CHN02</td>\n      <td>14</td>\n      <td>113.0</td>\n      <td>CLOSED</td>\n    </tr>\n    <tr>\n      <th>5</th>\n      <td>6</td>\n      <td>0900024</td>\n      <td>05-Jul-2023</td>\n      <td>KQ_1424</td>\n      <td>KQ_556</td>\n      <td>DENNIS  BUNDI</td>\n      <td>26-Apr-2022</td>\n      <td>100.0</td>\n      <td>0.0</td>\n      <td>0</td>\n      <td>3.0</td>\n      <td>0</td>\n      <td>0</td>\n      <td>0</td>\n      <td>3.0</td>\n      <td>CHN02</td>\n      <td>14</td>\n      <td>106.0</td>\n      <td>CLOSED</td>\n    </tr>\n    <tr>\n      <th>6</th>\n      <td>7</td>\n      <td>0900024</td>\n      <td>05-Jul-2023</td>\n      <td>KQ_1437</td>\n      <td>KQ_563</td>\n      <td>ZAWADI  BUSHOKI</td>\n      <td>28-Apr-2022</td>\n      <td>100.0</td>\n      <td>0.0</td>\n      <td>0</td>\n      <td>3.0</td>\n      <td>0</td>\n      <td>0</td>\n      <td>0</td>\n      <td>3.0</td>\n      <td>CHN02</td>\n      <td>14</td>\n      <td>106.0</td>\n      <td>CLOSED</td>\n    </tr>\n    <tr>\n      <th>7</th>\n      <td>8</td>\n      <td>0900024</td>\n      <td>05-Jul-2023</td>\n      <td>KQ_1438</td>\n      <td>KQ_566</td>\n      <td>MERCY  MAINA</td>\n      <td>28-Apr-2022</td>\n      <td>100.0</td>\n      <td>0.0</td>\n      <td>0</td>\n      <td>3.0</td>\n      <td>0</td>\n      <td>0</td>\n      <td>0</td>\n      <td>2.0</td>\n      <td>CHN02</td>\n      <td>14</td>\n      <td>105.0</td>\n      <td>CLOSED</td>\n    </tr>\n    <tr>\n      <th>8</th>\n      <td>9</td>\n      <td>0900024</td>\n      <td>05-Jul-2023</td>\n      <td>KQ_1909</td>\n      <td>KQ_777</td>\n      <td>CAROLINE  MIBEI</td>\n      <td>14-Jul-2022</td>\n      <td>100.0</td>\n      <td>0.0</td>\n      <td>0</td>\n      <td>3.0</td>\n      <td>0</td>\n      <td>0</td>\n      <td>0</td>\n      <td>3.0</td>\n      <td>CHN02</td>\n      <td>14</td>\n      <td>106.0</td>\n      <td>CLOSED</td>\n    </tr>\n  </tbody>\n</table>\n</div>"
     },
     "execution_count": 38,
     "metadata": {},
     "output_type": "execute_result"
    }
   ],
   "source": [
    "warehouse_hook.get_pandas_df(\n",
    "    sql=\"\"\"\n",
    "    -- Digital Loans Account Data\n",
    "    select\n",
    "        row_number() over () as \"ROW_ID\",\n",
    "        '0900024' as \"DIGITAL_CREDIT_PROVIDER_CODE\",\n",
    "        to_char(current_date, 'DD-Mon-YYYY') as \"REPORTING_DATE\", -- cannot be in format 'DD-Mon-YYYY' and still be dtype date\n",
    "        concat('KQ_', cmsv.mifos_id) as \"CUSTOMER_ID\",\n",
    "        concat('KQ_', lftmsv.loan_mifos_id) as \"LOAN_ACCOUNT_CONTRACT_NUMBER\",\n",
    "        concat(cmsv.first_name, ' ', cmsv.middle_name, ' ', cmsv.last_name) as \"ACCOUNT_NAME\",\n",
    "        to_char(disbursed_on_date, 'DD-Mon-YYYY') as \"DISBURSEMENT_DATE\", -- cannot be in format 'DD-Mon-YYYY' and still be dtype date\n",
    "        coalesce(principal_disbursed, 0) as \"PRINCIPAL_LOAN_AMOUNT_DISBURSED\",\n",
    "        coalesce(total_outstanding, 0) as \"OUTSTANDING_LOAN_BALANCE\",\n",
    "        0 as \"DEBIT_INTEREST_RATE\",\n",
    "        coalesce(interest_charged, 0) as \"FACILITY_ARRANGEMENT_FEE_CHARGE\",\n",
    "        0 as \"UPFRONT_INTEREST_FEES_CHARGE\",\n",
    "        0 as \"COST_OF_WALLET_TRANSFER\", --except for Solv\n",
    "        0 as \"INSURANCE_FEE_CHARGE\",\n",
    "        coalesce(fee_charges_charged + penalty_charges_charged, 0) as \"OTHER_CHARGE\",\n",
    "        dct.code as \"CHANNEL_TYPE_USED\",\n",
    "        pd.repay_every as \"DIGITAL_LOAN_TENOR\",\n",
    "        coalesce(total_expected_repayment, 0) as \"INSTALMENT_AMOUNT\",\n",
    "        ast.code as \"ACCOUNT_STATUS\"\n",
    "    from kenya_airways.loans_fact_table_summary_view lftmsv\n",
    "    inner join kenya_airways.client_summary_view cmsv on lftmsv.client_surrogate_id = cmsv.surrogate_id\n",
    "    inner join kenya_airways.product_summary_view pd on lftmsv.product_surrogate_id = pd.surrogate_id\n",
    "    inner join kenya_airways.loan_status_view lsd on lftmsv.loan_status_surrogate_id = lsd.surrogate_id\n",
    "    inner join central_bank_of_kenya.digital_channel_types dct on dct.\"type\" = 'USSD'\n",
    "    inner join central_bank_of_kenya.account_status_types ast on ast.\"type\" = lsd.message\n",
    "    where loan_status in (300, 600, 700)\n",
    "    limit 100\n",
    "    \"\"\"\n",
    ")#.to_csv('~/data/Digital Loans Account Data Sample TANDA.csv', index=False)"
   ],
   "metadata": {
    "collapsed": false
   }
  },
  {
   "cell_type": "markdown",
   "source": [
    "### Overdue (Non-Performing) Digital Loans"
   ],
   "metadata": {
    "collapsed": false
   }
  },
  {
   "cell_type": "code",
   "execution_count": 40,
   "outputs": [
    {
     "name": "stdout",
     "output_type": "stream",
     "text": [
      "[\u001B[34m2023-07-05 12:24:53,326\u001B[0m] {\u001B[34mbase.py:\u001B[0m73} INFO\u001B[0m - Using connection ID 'rds_afsg_ds_prod_postgresql_dwh' for task execution.\u001B[0m\n"
     ]
    },
    {
     "data": {
      "text/plain": "\u001B[1;33m/home/henrykuria/airflow_venv/lib/python3.10/site-packages/pandas/io/\u001B[0m\u001B[1;33msql.py\u001B[0m\u001B[1;33m:\u001B[0m\u001B[1;33m761\u001B[0m\u001B[1;33m UserWarning\u001B[0m\u001B[33m: pandas only support SQLAlchemy \u001B[0m\u001B[1;33mconnectable\u001B[0m\u001B[1;33m(\u001B[0m\u001B[33mengine/connection\u001B[0m\u001B[1;33m)\u001B[0m\u001B[33m ordatabase string URI or sqlite3 DBAPI2 connectionother DBAPI2 objects are not tested, please consider using SQLAlchemy\u001B[0m\n",
      "text/html": "<pre style=\"white-space:pre;overflow-x:auto;line-height:normal;font-family:Menlo,'DejaVu Sans Mono',consolas,'Courier New',monospace\"><span style=\"color: #808000; text-decoration-color: #808000; font-weight: bold\">/home/henrykuria/airflow_venv/lib/python3.10/site-packages/pandas/io/sql.py:</span><span style=\"color: #808000; text-decoration-color: #808000; font-weight: bold\">761</span><span style=\"color: #808000; text-decoration-color: #808000; font-weight: bold\"> UserWarning</span><span style=\"color: #808000; text-decoration-color: #808000\">: pandas only support SQLAlchemy </span><span style=\"color: #808000; text-decoration-color: #808000; font-weight: bold\">connectable(</span><span style=\"color: #808000; text-decoration-color: #808000\">engine/connection</span><span style=\"color: #808000; text-decoration-color: #808000; font-weight: bold\">)</span><span style=\"color: #808000; text-decoration-color: #808000\"> ordatabase string URI or sqlite3 DBAPI2 connectionother DBAPI2 objects are not tested, please consider using SQLAlchemy</span>\n</pre>\n"
     },
     "metadata": {},
     "output_type": "display_data"
    },
    {
     "data": {
      "text/plain": "Empty DataFrame\nColumns: [ROW_ID, DIGITAL_CREDIT_PROVIDER_CODE, REPORTING_DATE, CUSTOMER_ID, LOAN_ACCOUNT_CONTRACT_NUMBER, OVERDUE_DATE, PRINCIPAL_ARREARS_AMOUNT, TOTAL_OUTSTANDING_AMOUNT]\nIndex: []",
      "text/html": "<div>\n<style scoped>\n    .dataframe tbody tr th:only-of-type {\n        vertical-align: middle;\n    }\n\n    .dataframe tbody tr th {\n        vertical-align: top;\n    }\n\n    .dataframe thead th {\n        text-align: right;\n    }\n</style>\n<table border=\"1\" class=\"dataframe\">\n  <thead>\n    <tr style=\"text-align: right;\">\n      <th></th>\n      <th>ROW_ID</th>\n      <th>DIGITAL_CREDIT_PROVIDER_CODE</th>\n      <th>REPORTING_DATE</th>\n      <th>CUSTOMER_ID</th>\n      <th>LOAN_ACCOUNT_CONTRACT_NUMBER</th>\n      <th>OVERDUE_DATE</th>\n      <th>PRINCIPAL_ARREARS_AMOUNT</th>\n      <th>TOTAL_OUTSTANDING_AMOUNT</th>\n    </tr>\n  </thead>\n  <tbody>\n  </tbody>\n</table>\n</div>"
     },
     "execution_count": 40,
     "metadata": {},
     "output_type": "execute_result"
    }
   ],
   "source": [
    "warehouse_hook.get_pandas_df(\n",
    "    sql=\"\"\"\n",
    "    -- Overdue (Non-Performing) Digital Loans\n",
    "    select\n",
    "        row_number() over () as \"ROW_ID\",\n",
    "        '0900024' as \"DIGITAL_CREDIT_PROVIDER_CODE\",\n",
    "        to_char(current_date, 'DD-Mon-YYYY') as \"REPORTING_DATE\", -- cannot be in format 'DD-Mon-YYYY' and still be dtype date\n",
    "        concat('C_', cmsv.mifos_id) as \"CUSTOMER_ID\",\n",
    "        concat('C_', lftmsv.loan_mifos_id) as \"LOAN_ACCOUNT_CONTRACT_NUMBER\",\n",
    "        to_char(expected_matured_on_date + '90 day'::interval, 'DD-Mon-YYYY') as \"OVERDUE_DATE\", -- cannot be in format 'DD-Mon-YYYY' and still be dtype date\n",
    "        coalesce(principal_outstanding, 0) as \"PRINCIPAL_ARREARS_AMOUNT\",\n",
    "        coalesce(total_outstanding, 0) as \"TOTAL_OUTSTANDING_AMOUNT\"\n",
    "    from kenya_airways.loans_fact_table_summary_view lftmsv\n",
    "    inner join kenya_airways.client_summary_view cmsv on lftmsv.client_surrogate_id = cmsv.surrogate_id\n",
    "    where current_date - (expected_matured_on_date + '90 day'::interval)::date >= 1 and loan_status = 300\n",
    "    limit 100\n",
    "    \"\"\"\n",
    ")##.to_csv('~/data/Overdue (Non-Performing) Digital Loans Sample TANDA.csv', index=False)"
   ],
   "metadata": {
    "collapsed": false
   }
  },
  {
   "cell_type": "markdown",
   "source": [
    "### Digital Loan Repayments Data"
   ],
   "metadata": {
    "collapsed": false
   }
  },
  {
   "cell_type": "code",
   "execution_count": 44,
   "outputs": [
    {
     "name": "stdout",
     "output_type": "stream",
     "text": [
      "[\u001B[34m2023-07-05 12:28:04,507\u001B[0m] {\u001B[34mbase.py:\u001B[0m73} INFO\u001B[0m - Using connection ID 'rds_afsg_ds_prod_postgresql_dwh' for task execution.\u001B[0m\n"
     ]
    },
    {
     "data": {
      "text/plain": "\u001B[1;33m/home/henrykuria/airflow_venv/lib/python3.10/site-packages/pandas/io/\u001B[0m\u001B[1;33msql.py\u001B[0m\u001B[1;33m:\u001B[0m\u001B[1;33m761\u001B[0m\u001B[1;33m UserWarning\u001B[0m\u001B[33m: pandas only support SQLAlchemy \u001B[0m\u001B[1;33mconnectable\u001B[0m\u001B[1;33m(\u001B[0m\u001B[33mengine/connection\u001B[0m\u001B[1;33m)\u001B[0m\u001B[33m ordatabase string URI or sqlite3 DBAPI2 connectionother DBAPI2 objects are not tested, please consider using SQLAlchemy\u001B[0m\n",
      "text/html": "<pre style=\"white-space:pre;overflow-x:auto;line-height:normal;font-family:Menlo,'DejaVu Sans Mono',consolas,'Courier New',monospace\"><span style=\"color: #808000; text-decoration-color: #808000; font-weight: bold\">/home/henrykuria/airflow_venv/lib/python3.10/site-packages/pandas/io/sql.py:</span><span style=\"color: #808000; text-decoration-color: #808000; font-weight: bold\">761</span><span style=\"color: #808000; text-decoration-color: #808000; font-weight: bold\"> UserWarning</span><span style=\"color: #808000; text-decoration-color: #808000\">: pandas only support SQLAlchemy </span><span style=\"color: #808000; text-decoration-color: #808000; font-weight: bold\">connectable(</span><span style=\"color: #808000; text-decoration-color: #808000\">engine/connection</span><span style=\"color: #808000; text-decoration-color: #808000; font-weight: bold\">)</span><span style=\"color: #808000; text-decoration-color: #808000\"> ordatabase string URI or sqlite3 DBAPI2 connectionother DBAPI2 objects are not tested, please consider using SQLAlchemy</span>\n</pre>\n"
     },
     "metadata": {},
     "output_type": "display_data"
    },
    {
     "data": {
      "text/plain": "    ROW_ID DIGITAL_CREDIT_PROVIDER_CODE REPORTING_DATE CUSTOMER_ID  \\\n0        1                      0900024    05-Jul-2023     KQ_1437   \n1        2                      0900024    05-Jul-2023     KQ_1679   \n2        3                      0900024    05-Jul-2023     KQ_1894   \n3        4                      0900024    05-Jul-2023      KQ_640   \n4        5                      0900024    05-Jul-2023      KQ_640   \n5        6                      0900024    05-Jul-2023     KQ_1106   \n6        7                      0900024    05-Jul-2023     KQ_1424   \n7        8                      0900024    05-Jul-2023     KQ_1437   \n8        9                      0900024    05-Jul-2023     KQ_1438   \n9       10                      0900024    05-Jul-2023     KQ_1438   \n10      11                      0900024    05-Jul-2023     KQ_1438   \n11      12                      0900024    05-Jul-2023     KQ_1438   \n12      13                      0900024    05-Jul-2023     KQ_1438   \n13      14                      0900024    05-Jul-2023     KQ_1438   \n14      15                      0900024    05-Jul-2023     KQ_1438   \n15      16                      0900024    05-Jul-2023     KQ_1438   \n16      17                      0900024    05-Jul-2023     KQ_1909   \n\n   LOAN_ACCOUNT_CONTRACT_NUMBER  OUTSTANDING_LOAN_BALANCE  \\\n0                        KQ_560                       0.0   \n1                        KQ_661                       0.0   \n2                        KQ_769                       0.0   \n3                        KQ_502                       0.0   \n4                        KQ_502                     100.0   \n5                        KQ_511                       0.0   \n6                        KQ_556                       0.0   \n7                        KQ_563                       0.0   \n8                        KQ_566                      16.0   \n9                        KQ_566                      18.0   \n10                       KQ_566                      28.0   \n11                       KQ_566                      41.0   \n12                       KQ_566                     100.0   \n13                       KQ_566                      52.0   \n14                       KQ_566                      11.0   \n15                       KQ_566                       0.0   \n16                       KQ_777                       0.0   \n\n    ACCRUED_INTEREST_BALANCE  INTEREST_CHARGED_ON_REPAYMENT  \\\n0                        0.0                              0   \n1                        0.0                              0   \n2                        0.0                              0   \n3                        0.0                              0   \n4                        0.0                              0   \n5                        0.0                              0   \n6                        0.0                              0   \n7                        0.0                              0   \n8                        0.0                              0   \n9                        0.0                              0   \n10                       0.0                              0   \n11                       0.0                              0   \n12                       0.0                              0   \n13                       0.0                              0   \n14                       0.0                              0   \n15                       0.0                              0   \n16                       0.0                              0   \n\n    LATE_PAYMENT_FEE_CHARGE LOAN_REPAYMENT_DATE  PRINCIPAL_LOAN_AMOUNT_REPAID  \n0                       0.0         28-Apr-2022                         100.0  \n1                       0.0         06-Jun-2022                         100.0  \n2                       0.0         28-Jul-2022                         100.0  \n3                       0.0         05-Apr-2022                         100.0  \n4                       0.0         22-Mar-2022                           0.0  \n5                       0.0         06-Apr-2022                         100.0  \n6                       0.0         10-May-2022                         100.0  \n7                       0.0         12-May-2022                         100.0  \n8                       0.0         25-May-2022                           2.0  \n9                       0.0         25-May-2022                          10.0  \n10                      0.0         24-May-2022                          13.0  \n11                      0.0         24-May-2022                          11.0  \n12                      0.0         28-Apr-2022                           0.0  \n13                      0.0         24-May-2022                          48.0  \n14                      0.0         23-Jun-2022                           5.0  \n15                      0.0         23-Jun-2022                          11.0  \n16                      0.0         28-Jul-2022                         100.0  ",
      "text/html": "<div>\n<style scoped>\n    .dataframe tbody tr th:only-of-type {\n        vertical-align: middle;\n    }\n\n    .dataframe tbody tr th {\n        vertical-align: top;\n    }\n\n    .dataframe thead th {\n        text-align: right;\n    }\n</style>\n<table border=\"1\" class=\"dataframe\">\n  <thead>\n    <tr style=\"text-align: right;\">\n      <th></th>\n      <th>ROW_ID</th>\n      <th>DIGITAL_CREDIT_PROVIDER_CODE</th>\n      <th>REPORTING_DATE</th>\n      <th>CUSTOMER_ID</th>\n      <th>LOAN_ACCOUNT_CONTRACT_NUMBER</th>\n      <th>OUTSTANDING_LOAN_BALANCE</th>\n      <th>ACCRUED_INTEREST_BALANCE</th>\n      <th>INTEREST_CHARGED_ON_REPAYMENT</th>\n      <th>LATE_PAYMENT_FEE_CHARGE</th>\n      <th>LOAN_REPAYMENT_DATE</th>\n      <th>PRINCIPAL_LOAN_AMOUNT_REPAID</th>\n    </tr>\n  </thead>\n  <tbody>\n    <tr>\n      <th>0</th>\n      <td>1</td>\n      <td>0900024</td>\n      <td>05-Jul-2023</td>\n      <td>KQ_1437</td>\n      <td>KQ_560</td>\n      <td>0.0</td>\n      <td>0.0</td>\n      <td>0</td>\n      <td>0.0</td>\n      <td>28-Apr-2022</td>\n      <td>100.0</td>\n    </tr>\n    <tr>\n      <th>1</th>\n      <td>2</td>\n      <td>0900024</td>\n      <td>05-Jul-2023</td>\n      <td>KQ_1679</td>\n      <td>KQ_661</td>\n      <td>0.0</td>\n      <td>0.0</td>\n      <td>0</td>\n      <td>0.0</td>\n      <td>06-Jun-2022</td>\n      <td>100.0</td>\n    </tr>\n    <tr>\n      <th>2</th>\n      <td>3</td>\n      <td>0900024</td>\n      <td>05-Jul-2023</td>\n      <td>KQ_1894</td>\n      <td>KQ_769</td>\n      <td>0.0</td>\n      <td>0.0</td>\n      <td>0</td>\n      <td>0.0</td>\n      <td>28-Jul-2022</td>\n      <td>100.0</td>\n    </tr>\n    <tr>\n      <th>3</th>\n      <td>4</td>\n      <td>0900024</td>\n      <td>05-Jul-2023</td>\n      <td>KQ_640</td>\n      <td>KQ_502</td>\n      <td>0.0</td>\n      <td>0.0</td>\n      <td>0</td>\n      <td>0.0</td>\n      <td>05-Apr-2022</td>\n      <td>100.0</td>\n    </tr>\n    <tr>\n      <th>4</th>\n      <td>5</td>\n      <td>0900024</td>\n      <td>05-Jul-2023</td>\n      <td>KQ_640</td>\n      <td>KQ_502</td>\n      <td>100.0</td>\n      <td>0.0</td>\n      <td>0</td>\n      <td>0.0</td>\n      <td>22-Mar-2022</td>\n      <td>0.0</td>\n    </tr>\n    <tr>\n      <th>5</th>\n      <td>6</td>\n      <td>0900024</td>\n      <td>05-Jul-2023</td>\n      <td>KQ_1106</td>\n      <td>KQ_511</td>\n      <td>0.0</td>\n      <td>0.0</td>\n      <td>0</td>\n      <td>0.0</td>\n      <td>06-Apr-2022</td>\n      <td>100.0</td>\n    </tr>\n    <tr>\n      <th>6</th>\n      <td>7</td>\n      <td>0900024</td>\n      <td>05-Jul-2023</td>\n      <td>KQ_1424</td>\n      <td>KQ_556</td>\n      <td>0.0</td>\n      <td>0.0</td>\n      <td>0</td>\n      <td>0.0</td>\n      <td>10-May-2022</td>\n      <td>100.0</td>\n    </tr>\n    <tr>\n      <th>7</th>\n      <td>8</td>\n      <td>0900024</td>\n      <td>05-Jul-2023</td>\n      <td>KQ_1437</td>\n      <td>KQ_563</td>\n      <td>0.0</td>\n      <td>0.0</td>\n      <td>0</td>\n      <td>0.0</td>\n      <td>12-May-2022</td>\n      <td>100.0</td>\n    </tr>\n    <tr>\n      <th>8</th>\n      <td>9</td>\n      <td>0900024</td>\n      <td>05-Jul-2023</td>\n      <td>KQ_1438</td>\n      <td>KQ_566</td>\n      <td>16.0</td>\n      <td>0.0</td>\n      <td>0</td>\n      <td>0.0</td>\n      <td>25-May-2022</td>\n      <td>2.0</td>\n    </tr>\n    <tr>\n      <th>9</th>\n      <td>10</td>\n      <td>0900024</td>\n      <td>05-Jul-2023</td>\n      <td>KQ_1438</td>\n      <td>KQ_566</td>\n      <td>18.0</td>\n      <td>0.0</td>\n      <td>0</td>\n      <td>0.0</td>\n      <td>25-May-2022</td>\n      <td>10.0</td>\n    </tr>\n    <tr>\n      <th>10</th>\n      <td>11</td>\n      <td>0900024</td>\n      <td>05-Jul-2023</td>\n      <td>KQ_1438</td>\n      <td>KQ_566</td>\n      <td>28.0</td>\n      <td>0.0</td>\n      <td>0</td>\n      <td>0.0</td>\n      <td>24-May-2022</td>\n      <td>13.0</td>\n    </tr>\n    <tr>\n      <th>11</th>\n      <td>12</td>\n      <td>0900024</td>\n      <td>05-Jul-2023</td>\n      <td>KQ_1438</td>\n      <td>KQ_566</td>\n      <td>41.0</td>\n      <td>0.0</td>\n      <td>0</td>\n      <td>0.0</td>\n      <td>24-May-2022</td>\n      <td>11.0</td>\n    </tr>\n    <tr>\n      <th>12</th>\n      <td>13</td>\n      <td>0900024</td>\n      <td>05-Jul-2023</td>\n      <td>KQ_1438</td>\n      <td>KQ_566</td>\n      <td>100.0</td>\n      <td>0.0</td>\n      <td>0</td>\n      <td>0.0</td>\n      <td>28-Apr-2022</td>\n      <td>0.0</td>\n    </tr>\n    <tr>\n      <th>13</th>\n      <td>14</td>\n      <td>0900024</td>\n      <td>05-Jul-2023</td>\n      <td>KQ_1438</td>\n      <td>KQ_566</td>\n      <td>52.0</td>\n      <td>0.0</td>\n      <td>0</td>\n      <td>0.0</td>\n      <td>24-May-2022</td>\n      <td>48.0</td>\n    </tr>\n    <tr>\n      <th>14</th>\n      <td>15</td>\n      <td>0900024</td>\n      <td>05-Jul-2023</td>\n      <td>KQ_1438</td>\n      <td>KQ_566</td>\n      <td>11.0</td>\n      <td>0.0</td>\n      <td>0</td>\n      <td>0.0</td>\n      <td>23-Jun-2022</td>\n      <td>5.0</td>\n    </tr>\n    <tr>\n      <th>15</th>\n      <td>16</td>\n      <td>0900024</td>\n      <td>05-Jul-2023</td>\n      <td>KQ_1438</td>\n      <td>KQ_566</td>\n      <td>0.0</td>\n      <td>0.0</td>\n      <td>0</td>\n      <td>0.0</td>\n      <td>23-Jun-2022</td>\n      <td>11.0</td>\n    </tr>\n    <tr>\n      <th>16</th>\n      <td>17</td>\n      <td>0900024</td>\n      <td>05-Jul-2023</td>\n      <td>KQ_1909</td>\n      <td>KQ_777</td>\n      <td>0.0</td>\n      <td>0.0</td>\n      <td>0</td>\n      <td>0.0</td>\n      <td>28-Jul-2022</td>\n      <td>100.0</td>\n    </tr>\n  </tbody>\n</table>\n</div>"
     },
     "execution_count": 44,
     "metadata": {},
     "output_type": "execute_result"
    }
   ],
   "source": [
    "warehouse_hook.get_pandas_df(\n",
    "    sql=\"\"\"\n",
    "    -- Digital Loan Repayments Data\n",
    "    select\n",
    "        row_number() over () as \"ROW_ID\",\n",
    "        '0900024' as \"DIGITAL_CREDIT_PROVIDER_CODE\",\n",
    "        to_char(current_date, 'DD-Mon-YYYY') as \"REPORTING_DATE\", -- cannot be in format 'DD-Mon-YYYY' and still be dtype date\n",
    "        concat('KQ_', cmsv.mifos_id) as \"CUSTOMER_ID\",\n",
    "        concat('KQ_', lftmsv.loan_mifos_id) as \"LOAN_ACCOUNT_CONTRACT_NUMBER\",\n",
    "        coalesce(td.outstanding_loan_balance_derived, 0) as \"OUTSTANDING_LOAN_BALANCE\", -- data quality issue\n",
    "        coalesce(lftmsv.interest_outstanding, 0) as \"ACCRUED_INTEREST_BALANCE\",  -- data quality issue\n",
    "        0 as \"INTEREST_CHARGED_ON_REPAYMENT\",\n",
    "        coalesce(td.fee_charges_portion_derived + td.penalty_charges_portion_derived, 0) as \"LATE_PAYMENT_FEE_CHARGE\",\n",
    "        to_char(td.transaction_date, 'DD-Mon-YYYY') as \"LOAN_REPAYMENT_DATE\",\n",
    "        coalesce(td.principal_portion_derived, 0) as \"PRINCIPAL_LOAN_AMOUNT_REPAID\"\n",
    "    from kenya_airways.transactions_dimension_view td\n",
    "    inner join kenya_airways.loans_fact_table_summary_view lftmsv on lftmsv.loan_mifos_id::varchar = td.mifos_loan_id\n",
    "    inner join kenya_airways.client_summary_view cmsv on lftmsv.client_surrogate_id = cmsv.surrogate_id\n",
    "    where td.transaction_type_enum = 2 and lower(td.receipt_number) not like '%waiv%'\n",
    "    limit 100\n",
    "    \"\"\"\n",
    ")#.to_csv('~/data/Digital Loan Repayments Data Sample TANDA.csv', index=False)"
   ],
   "metadata": {
    "collapsed": false
   }
  },
  {
   "cell_type": "markdown",
   "source": [
    "### Customer Data"
   ],
   "metadata": {
    "collapsed": false
   }
  },
  {
   "cell_type": "code",
   "execution_count": 45,
   "outputs": [
    {
     "name": "stdout",
     "output_type": "stream",
     "text": [
      "[\u001B[34m2023-07-05 12:29:08,913\u001B[0m] {\u001B[34mbase.py:\u001B[0m73} INFO\u001B[0m - Using connection ID 'rds_afsg_ds_prod_postgresql_dwh' for task execution.\u001B[0m\n"
     ]
    },
    {
     "data": {
      "text/plain": "\u001B[1;33m/home/henrykuria/airflow_venv/lib/python3.10/site-packages/pandas/io/\u001B[0m\u001B[1;33msql.py\u001B[0m\u001B[1;33m:\u001B[0m\u001B[1;33m761\u001B[0m\u001B[1;33m UserWarning\u001B[0m\u001B[33m: pandas only support SQLAlchemy \u001B[0m\u001B[1;33mconnectable\u001B[0m\u001B[1;33m(\u001B[0m\u001B[33mengine/connection\u001B[0m\u001B[1;33m)\u001B[0m\u001B[33m ordatabase string URI or sqlite3 DBAPI2 connectionother DBAPI2 objects are not tested, please consider using SQLAlchemy\u001B[0m\n",
      "text/html": "<pre style=\"white-space:pre;overflow-x:auto;line-height:normal;font-family:Menlo,'DejaVu Sans Mono',consolas,'Courier New',monospace\"><span style=\"color: #808000; text-decoration-color: #808000; font-weight: bold\">/home/henrykuria/airflow_venv/lib/python3.10/site-packages/pandas/io/sql.py:</span><span style=\"color: #808000; text-decoration-color: #808000; font-weight: bold\">761</span><span style=\"color: #808000; text-decoration-color: #808000; font-weight: bold\"> UserWarning</span><span style=\"color: #808000; text-decoration-color: #808000\">: pandas only support SQLAlchemy </span><span style=\"color: #808000; text-decoration-color: #808000; font-weight: bold\">connectable(</span><span style=\"color: #808000; text-decoration-color: #808000\">engine/connection</span><span style=\"color: #808000; text-decoration-color: #808000; font-weight: bold\">)</span><span style=\"color: #808000; text-decoration-color: #808000\"> ordatabase string URI or sqlite3 DBAPI2 connectionother DBAPI2 objects are not tested, please consider using SQLAlchemy</span>\n</pre>\n"
     },
     "metadata": {},
     "output_type": "display_data"
    },
    {
     "data": {
      "text/plain": "   ROW_ID DIGITAL_CREDIT_PROVIDER_CODE REPORTING_DATE CUSTOMER_ID  \\\n0       1                      0900024    05-Jul-2023      J_1106   \n1       2                      0900024    05-Jul-2023      J_1424   \n2       3                      0900024    05-Jul-2023      J_1437   \n3       4                      0900024    05-Jul-2023      J_1438   \n4       5                      0900024    05-Jul-2023      J_1679   \n5       6                      0900024    05-Jul-2023      J_1894   \n6       7                      0900024    05-Jul-2023      J_1909   \n7       8                      0900024    05-Jul-2023      J_1969   \n8       9                      0900024    05-Jul-2023       J_640   \n\n  PRIMARY_IDENTIFICATION_DOCUMENT_TYPE NATIONAL_IDENTITY_PASSPORT_NUMBER  \\\n0                             CUSTID01                          23937032   \n1                             CUSTID01                          29933266   \n2                             CUSTID01                          36073675   \n3                             CUSTID01                          27414260   \n4                             CUSTID01                          35706057   \n5                             CUSTID01                          13094244   \n6                             CUSTID01                          32883455   \n7                             CUSTID01                          24003271   \n8                             CUSTID01                          27353072   \n\n  PERSONAL_IDENTIFICATION_NUMBER NATIONALITY GENDER FIRST_NAME MIDDLE_NAME  \\\n0                           None          KE   None     MARTIN        None   \n1                           None          KE   None     DENNIS        None   \n2                           None          KE   None     ZAWADI        None   \n3                           None          KE   None      MERCY        None   \n4                           None          KE   None      FIONA        None   \n5                           None          KE   None     KALUTU        None   \n6                           None          KE   None   CAROLINE        None   \n7                           None          KE   None      FRIDA        None   \n8                           None          KE   None   CAROLINE        None   \n\n   SURNAME DATE_OF_BIRTH_REGISTRATION ONBOARDING_DATE MOBILE_NUMBER  \n0  NJOROGE                10-Jan-1984     23-Mar-2022  254720807716  \n1    BUNDI                27-Nov-1993     26-Apr-2022  254715367066  \n2  BUSHOKI                08-Apr-1992     27-Apr-2022  254707513122  \n3    MAINA                27-Apr-2022     27-Apr-2022  254723579395  \n4    KAMAU                27-Jun-1998     03-Jun-2022  254741863223  \n5  FRANCIS                13-Apr-2022     13-Jul-2022  254701674030  \n6    MIBEI                14-Jul-2022     14-Jul-2022  254720632728  \n7    OWEGI                24-Mar-1985     26-Jul-2022  254723365660  \n8   KAVITA                01-Jan-1980     27-Oct-2021  254726662669  ",
      "text/html": "<div>\n<style scoped>\n    .dataframe tbody tr th:only-of-type {\n        vertical-align: middle;\n    }\n\n    .dataframe tbody tr th {\n        vertical-align: top;\n    }\n\n    .dataframe thead th {\n        text-align: right;\n    }\n</style>\n<table border=\"1\" class=\"dataframe\">\n  <thead>\n    <tr style=\"text-align: right;\">\n      <th></th>\n      <th>ROW_ID</th>\n      <th>DIGITAL_CREDIT_PROVIDER_CODE</th>\n      <th>REPORTING_DATE</th>\n      <th>CUSTOMER_ID</th>\n      <th>PRIMARY_IDENTIFICATION_DOCUMENT_TYPE</th>\n      <th>NATIONAL_IDENTITY_PASSPORT_NUMBER</th>\n      <th>PERSONAL_IDENTIFICATION_NUMBER</th>\n      <th>NATIONALITY</th>\n      <th>GENDER</th>\n      <th>FIRST_NAME</th>\n      <th>MIDDLE_NAME</th>\n      <th>SURNAME</th>\n      <th>DATE_OF_BIRTH_REGISTRATION</th>\n      <th>ONBOARDING_DATE</th>\n      <th>MOBILE_NUMBER</th>\n    </tr>\n  </thead>\n  <tbody>\n    <tr>\n      <th>0</th>\n      <td>1</td>\n      <td>0900024</td>\n      <td>05-Jul-2023</td>\n      <td>J_1106</td>\n      <td>CUSTID01</td>\n      <td>23937032</td>\n      <td>None</td>\n      <td>KE</td>\n      <td>None</td>\n      <td>MARTIN</td>\n      <td>None</td>\n      <td>NJOROGE</td>\n      <td>10-Jan-1984</td>\n      <td>23-Mar-2022</td>\n      <td>254720807716</td>\n    </tr>\n    <tr>\n      <th>1</th>\n      <td>2</td>\n      <td>0900024</td>\n      <td>05-Jul-2023</td>\n      <td>J_1424</td>\n      <td>CUSTID01</td>\n      <td>29933266</td>\n      <td>None</td>\n      <td>KE</td>\n      <td>None</td>\n      <td>DENNIS</td>\n      <td>None</td>\n      <td>BUNDI</td>\n      <td>27-Nov-1993</td>\n      <td>26-Apr-2022</td>\n      <td>254715367066</td>\n    </tr>\n    <tr>\n      <th>2</th>\n      <td>3</td>\n      <td>0900024</td>\n      <td>05-Jul-2023</td>\n      <td>J_1437</td>\n      <td>CUSTID01</td>\n      <td>36073675</td>\n      <td>None</td>\n      <td>KE</td>\n      <td>None</td>\n      <td>ZAWADI</td>\n      <td>None</td>\n      <td>BUSHOKI</td>\n      <td>08-Apr-1992</td>\n      <td>27-Apr-2022</td>\n      <td>254707513122</td>\n    </tr>\n    <tr>\n      <th>3</th>\n      <td>4</td>\n      <td>0900024</td>\n      <td>05-Jul-2023</td>\n      <td>J_1438</td>\n      <td>CUSTID01</td>\n      <td>27414260</td>\n      <td>None</td>\n      <td>KE</td>\n      <td>None</td>\n      <td>MERCY</td>\n      <td>None</td>\n      <td>MAINA</td>\n      <td>27-Apr-2022</td>\n      <td>27-Apr-2022</td>\n      <td>254723579395</td>\n    </tr>\n    <tr>\n      <th>4</th>\n      <td>5</td>\n      <td>0900024</td>\n      <td>05-Jul-2023</td>\n      <td>J_1679</td>\n      <td>CUSTID01</td>\n      <td>35706057</td>\n      <td>None</td>\n      <td>KE</td>\n      <td>None</td>\n      <td>FIONA</td>\n      <td>None</td>\n      <td>KAMAU</td>\n      <td>27-Jun-1998</td>\n      <td>03-Jun-2022</td>\n      <td>254741863223</td>\n    </tr>\n    <tr>\n      <th>5</th>\n      <td>6</td>\n      <td>0900024</td>\n      <td>05-Jul-2023</td>\n      <td>J_1894</td>\n      <td>CUSTID01</td>\n      <td>13094244</td>\n      <td>None</td>\n      <td>KE</td>\n      <td>None</td>\n      <td>KALUTU</td>\n      <td>None</td>\n      <td>FRANCIS</td>\n      <td>13-Apr-2022</td>\n      <td>13-Jul-2022</td>\n      <td>254701674030</td>\n    </tr>\n    <tr>\n      <th>6</th>\n      <td>7</td>\n      <td>0900024</td>\n      <td>05-Jul-2023</td>\n      <td>J_1909</td>\n      <td>CUSTID01</td>\n      <td>32883455</td>\n      <td>None</td>\n      <td>KE</td>\n      <td>None</td>\n      <td>CAROLINE</td>\n      <td>None</td>\n      <td>MIBEI</td>\n      <td>14-Jul-2022</td>\n      <td>14-Jul-2022</td>\n      <td>254720632728</td>\n    </tr>\n    <tr>\n      <th>7</th>\n      <td>8</td>\n      <td>0900024</td>\n      <td>05-Jul-2023</td>\n      <td>J_1969</td>\n      <td>CUSTID01</td>\n      <td>24003271</td>\n      <td>None</td>\n      <td>KE</td>\n      <td>None</td>\n      <td>FRIDA</td>\n      <td>None</td>\n      <td>OWEGI</td>\n      <td>24-Mar-1985</td>\n      <td>26-Jul-2022</td>\n      <td>254723365660</td>\n    </tr>\n    <tr>\n      <th>8</th>\n      <td>9</td>\n      <td>0900024</td>\n      <td>05-Jul-2023</td>\n      <td>J_640</td>\n      <td>CUSTID01</td>\n      <td>27353072</td>\n      <td>None</td>\n      <td>KE</td>\n      <td>None</td>\n      <td>CAROLINE</td>\n      <td>None</td>\n      <td>KAVITA</td>\n      <td>01-Jan-1980</td>\n      <td>27-Oct-2021</td>\n      <td>254726662669</td>\n    </tr>\n  </tbody>\n</table>\n</div>"
     },
     "execution_count": 45,
     "metadata": {},
     "output_type": "execute_result"
    }
   ],
   "source": [
    "warehouse_hook.get_pandas_df(\n",
    "    sql=\"\"\"\n",
    "    -- Customer Data\n",
    "    with cust_dt as (\n",
    "        select\n",
    "            distinct\n",
    "            '0900024' as \"DIGITAL_CREDIT_PROVIDER_CODE\",\n",
    "            to_char(current_date, 'DD-Mon-YYYY') as \"REPORTING_DATE\", -- cannot be in format 'DD-Mon-YYYY' and still be dtype date\n",
    "            concat('J_', cmsv.mifos_id) as \"CUSTOMER_ID\", -- store number vs national_id\n",
    "            CASE WHEN cmsv.national_id ~ '[a-zA-Z]' THEN 'Passport' ELSE 'National Identity Card' END AS \"PRIMARY_IDENTIFICATION_DOCUMENT_TYPE\", -- how to distinguish huduma number from national ID number\n",
    "            cmsv.national_id as \"NATIONAL_IDENTITY_PASSPORT_NUMBER\", -- column name in template has slash\n",
    "            null as \"PERSONAL_IDENTIFICATION_NUMBER\", --kra pin\n",
    "            cmsv.gender,\n",
    "            cmsv.first_name as \"FIRST_NAME\",\n",
    "            cmsv.middle_name as \"MIDDLE_NAME\",\n",
    "            cmsv.last_name as \"SURNAME\",\n",
    "            to_char(cmsv.date_of_birth, 'DD-Mon-YYYY') as \"DATE_OF_BIRTH_REGISTRATION\", -- cannot be in format 'DD-MM-YYYY' and still be dtype date\n",
    "            to_char(cmsv.submitted_on_date, 'DD-Mon-YYYY') as \"ONBOARDING_DATE\",\n",
    "            cmsv.mobile_number as \"MOBILE_NUMBER\"\n",
    "        from kenya_airways.client_summary_view cmsv\n",
    "        inner join kenya_airways.loans_fact_table_summary_view lftmsv on cmsv.surrogate_id = lftmsv.client_surrogate_id\n",
    "    ) select\n",
    "        row_number() over () as \"ROW_ID\", \"DIGITAL_CREDIT_PROVIDER_CODE\", \"REPORTING_DATE\", \"CUSTOMER_ID\", cpdt.code as \"PRIMARY_IDENTIFICATION_DOCUMENT_TYPE\",\n",
    "        \"NATIONAL_IDENTITY_PASSPORT_NUMBER\", \"PERSONAL_IDENTIFICATION_NUMBER\", icc.country_code as \"NATIONALITY\", gt.code as \"GENDER\", \"FIRST_NAME\",\n",
    "        case when \"SURNAME\" is null and \"MIDDLE_NAME\" is not null then null else \"MIDDLE_NAME\" end as \"MIDDLE_NAME\",\n",
    "        case when \"SURNAME\" is null then \"MIDDLE_NAME\" else \"SURNAME\" end as \"SURNAME\",\n",
    "        \"DATE_OF_BIRTH_REGISTRATION\", \"ONBOARDING_DATE\", \"MOBILE_NUMBER\"\n",
    "    from cust_dt\n",
    "    left join central_bank_of_kenya.cust_primary_doc_types cpdt on cpdt.\"type\" = cust_dt.\"PRIMARY_IDENTIFICATION_DOCUMENT_TYPE\"\n",
    "    left join central_bank_of_kenya.gender_types gt on gt.\"type\" = cust_dt.gender\n",
    "    left join central_bank_of_kenya.iso_country_codes icc on icc.country_description = 'Kenya'\n",
    "    limit 100\n",
    "    \"\"\"\n",
    ")##.to_csv(f'~/data/CBK Customer Data Sample SOLV {datetime.datetime.now()}.csv', index=False)"
   ],
   "metadata": {
    "collapsed": false
   }
  },
  {
   "cell_type": "markdown",
   "source": [
    "# TWIGA"
   ],
   "metadata": {
    "collapsed": false
   }
  },
  {
   "cell_type": "markdown",
   "source": [
    "### Digital Loans Account Data"
   ],
   "metadata": {
    "collapsed": false
   }
  },
  {
   "cell_type": "code",
   "execution_count": 65,
   "outputs": [
    {
     "name": "stdout",
     "output_type": "stream",
     "text": [
      "[\u001B[34m2023-07-06 10:16:41,017\u001B[0m] {\u001B[34mbase.py:\u001B[0m73} INFO\u001B[0m - Using connection ID 'rds_afsg_ds_prod_postgresql_dwh' for task execution.\u001B[0m\n"
     ]
    },
    {
     "data": {
      "text/plain": "\u001B[1;33m/home/henrykuria/airflow_venv/lib/python3.10/site-packages/pandas/io/\u001B[0m\u001B[1;33msql.py\u001B[0m\u001B[1;33m:\u001B[0m\u001B[1;33m761\u001B[0m\u001B[1;33m UserWarning\u001B[0m\u001B[33m: pandas only support SQLAlchemy \u001B[0m\u001B[1;33mconnectable\u001B[0m\u001B[1;33m(\u001B[0m\u001B[33mengine/connection\u001B[0m\u001B[1;33m)\u001B[0m\u001B[33m ordatabase string URI or sqlite3 DBAPI2 connectionother DBAPI2 objects are not tested, please consider using SQLAlchemy\u001B[0m\n",
      "text/html": "<pre style=\"white-space:pre;overflow-x:auto;line-height:normal;font-family:Menlo,'DejaVu Sans Mono',consolas,'Courier New',monospace\"><span style=\"color: #808000; text-decoration-color: #808000; font-weight: bold\">/home/henrykuria/airflow_venv/lib/python3.10/site-packages/pandas/io/sql.py:</span><span style=\"color: #808000; text-decoration-color: #808000; font-weight: bold\">761</span><span style=\"color: #808000; text-decoration-color: #808000; font-weight: bold\"> UserWarning</span><span style=\"color: #808000; text-decoration-color: #808000\">: pandas only support SQLAlchemy </span><span style=\"color: #808000; text-decoration-color: #808000; font-weight: bold\">connectable(</span><span style=\"color: #808000; text-decoration-color: #808000\">engine/connection</span><span style=\"color: #808000; text-decoration-color: #808000; font-weight: bold\">)</span><span style=\"color: #808000; text-decoration-color: #808000\"> ordatabase string URI or sqlite3 DBAPI2 connectionother DBAPI2 objects are not tested, please consider using SQLAlchemy</span>\n</pre>\n"
     },
     "metadata": {},
     "output_type": "display_data"
    },
    {
     "data": {
      "text/plain": "    ROW_ID DIGITAL_CREDIT_PROVIDER_CODE REPORTING_DATE CUSTOMER_ID  \\\n0        1                      0900024    06-Jul-2023      T_2201   \n1        2                      0900024    06-Jul-2023      T_1784   \n2        3                      0900024    06-Jul-2023      T_2111   \n3        4                      0900024    06-Jul-2023      T_2784   \n4        5                      0900024    06-Jul-2023      T_1817   \n..     ...                          ...            ...         ...   \n95      96                      0900024    06-Jul-2023      T_1705   \n96      97                      0900024    06-Jul-2023      T_2179   \n97      98                      0900024    06-Jul-2023      T_2874   \n98      99                      0900024    06-Jul-2023      T_2897   \n99     100                      0900024    06-Jul-2023      T_3116   \n\n   LOAN_ACCOUNT_CONTRACT_NUMBER              ACCOUNT_NAME DISBURSEMENT_DATE  \\\n0                        T_2235              FAITH NDANU        08-Nov-2021   \n1                        T_2025          PAUL THUO NDUNGU       29-Oct-2021   \n2                        T_1843        SERAH NJERI WAWERU       22-Oct-2021   \n3                        T_1826        EUNICE AKINYI OLOO       21-Oct-2021   \n4                        T_2178       DANIEL MWANGI MAINA       05-Nov-2021   \n..                          ...                       ...               ...   \n95                        T_593       JANET NJERI NJOROGE       13-Aug-2021   \n96                        T_594   JOSEPH GICHOYA MUKURURO       13-Aug-2021   \n97                        T_597       PAULINE NUNGA NGIGI       13-Aug-2021   \n98                        T_598     JULIET WANJIRU IRUNGU       13-Aug-2021   \n99                       T_2154  ELIZABETH WAIRIMU MBUGUA       04-Nov-2021   \n\n    PRINCIPAL_LOAN_AMOUNT_DISBURSED  OUTSTANDING_LOAN_BALANCE  \\\n0                            2470.0                       0.0   \n1                            1400.0                       0.0   \n2                            1700.0                       0.0   \n3                            1100.0                       0.0   \n4                            2000.0                       0.0   \n..                              ...                       ...   \n95                           1800.0                       0.0   \n96                           2900.0                       0.0   \n97                           2200.0                       0.0   \n98                           1540.0                       0.0   \n99                           1300.0                       0.0   \n\n    DEBIT_INTEREST_RATE  FACILITY_ARRANGEMENT_FEE_CHARGE  \\\n0                     0                             22.0   \n1                     0                             13.0   \n2                     0                             16.0   \n3                     0                             10.0   \n4                     0                             19.0   \n..                  ...                              ...   \n95                    0                             17.0   \n96                    0                             27.0   \n97                    0                             20.0   \n98                    0                             14.0   \n99                    0                             12.0   \n\n    UPFRONT_INTEREST_FEES_CHARGE  COST_OF_WALLET_TRANSFER  \\\n0                              0                        0   \n1                              0                        0   \n2                              0                        0   \n3                              0                        0   \n4                              0                        0   \n..                           ...                      ...   \n95                             0                        0   \n96                             0                        0   \n97                             0                        0   \n98                             0                        0   \n99                             0                        0   \n\n    INSURANCE_FEE_CHARGE  OTHER_CHARGE CHANNEL_TYPE_USED  DIGITAL_LOAN_TENOR  \\\n0                      0          23.0             CHN02                   7   \n1                      0          81.0             CHN02                   7   \n2                      0          54.0             CHN02                   7   \n3                      0          40.0             CHN02                   7   \n4                      0         157.0             CHN02                   7   \n..                   ...           ...               ...                 ...   \n95                     0         320.0             CHN02                   7   \n96                     0          54.0             CHN02                   7   \n97                     0          62.0             CHN02                   7   \n98                     0         106.0             CHN02                   7   \n99                     0          50.0             CHN02                   7   \n\n    INSTALMENT_AMOUNT ACCOUNT_STATUS  \n0              2515.0         CLOSED  \n1              1494.0         CLOSED  \n2              1770.0         CLOSED  \n3              1150.0         CLOSED  \n4              2176.0         CLOSED  \n..                ...            ...  \n95             2137.0         CLOSED  \n96             2981.0         CLOSED  \n97             2282.0         CLOSED  \n98             1660.0         CLOSED  \n99             1362.0         CLOSED  \n\n[100 rows x 19 columns]",
      "text/html": "<div>\n<style scoped>\n    .dataframe tbody tr th:only-of-type {\n        vertical-align: middle;\n    }\n\n    .dataframe tbody tr th {\n        vertical-align: top;\n    }\n\n    .dataframe thead th {\n        text-align: right;\n    }\n</style>\n<table border=\"1\" class=\"dataframe\">\n  <thead>\n    <tr style=\"text-align: right;\">\n      <th></th>\n      <th>ROW_ID</th>\n      <th>DIGITAL_CREDIT_PROVIDER_CODE</th>\n      <th>REPORTING_DATE</th>\n      <th>CUSTOMER_ID</th>\n      <th>LOAN_ACCOUNT_CONTRACT_NUMBER</th>\n      <th>ACCOUNT_NAME</th>\n      <th>DISBURSEMENT_DATE</th>\n      <th>PRINCIPAL_LOAN_AMOUNT_DISBURSED</th>\n      <th>OUTSTANDING_LOAN_BALANCE</th>\n      <th>DEBIT_INTEREST_RATE</th>\n      <th>FACILITY_ARRANGEMENT_FEE_CHARGE</th>\n      <th>UPFRONT_INTEREST_FEES_CHARGE</th>\n      <th>COST_OF_WALLET_TRANSFER</th>\n      <th>INSURANCE_FEE_CHARGE</th>\n      <th>OTHER_CHARGE</th>\n      <th>CHANNEL_TYPE_USED</th>\n      <th>DIGITAL_LOAN_TENOR</th>\n      <th>INSTALMENT_AMOUNT</th>\n      <th>ACCOUNT_STATUS</th>\n    </tr>\n  </thead>\n  <tbody>\n    <tr>\n      <th>0</th>\n      <td>1</td>\n      <td>0900024</td>\n      <td>06-Jul-2023</td>\n      <td>T_2201</td>\n      <td>T_2235</td>\n      <td>FAITH NDANU</td>\n      <td>08-Nov-2021</td>\n      <td>2470.0</td>\n      <td>0.0</td>\n      <td>0</td>\n      <td>22.0</td>\n      <td>0</td>\n      <td>0</td>\n      <td>0</td>\n      <td>23.0</td>\n      <td>CHN02</td>\n      <td>7</td>\n      <td>2515.0</td>\n      <td>CLOSED</td>\n    </tr>\n    <tr>\n      <th>1</th>\n      <td>2</td>\n      <td>0900024</td>\n      <td>06-Jul-2023</td>\n      <td>T_1784</td>\n      <td>T_2025</td>\n      <td>PAUL THUO NDUNGU</td>\n      <td>29-Oct-2021</td>\n      <td>1400.0</td>\n      <td>0.0</td>\n      <td>0</td>\n      <td>13.0</td>\n      <td>0</td>\n      <td>0</td>\n      <td>0</td>\n      <td>81.0</td>\n      <td>CHN02</td>\n      <td>7</td>\n      <td>1494.0</td>\n      <td>CLOSED</td>\n    </tr>\n    <tr>\n      <th>2</th>\n      <td>3</td>\n      <td>0900024</td>\n      <td>06-Jul-2023</td>\n      <td>T_2111</td>\n      <td>T_1843</td>\n      <td>SERAH NJERI WAWERU</td>\n      <td>22-Oct-2021</td>\n      <td>1700.0</td>\n      <td>0.0</td>\n      <td>0</td>\n      <td>16.0</td>\n      <td>0</td>\n      <td>0</td>\n      <td>0</td>\n      <td>54.0</td>\n      <td>CHN02</td>\n      <td>7</td>\n      <td>1770.0</td>\n      <td>CLOSED</td>\n    </tr>\n    <tr>\n      <th>3</th>\n      <td>4</td>\n      <td>0900024</td>\n      <td>06-Jul-2023</td>\n      <td>T_2784</td>\n      <td>T_1826</td>\n      <td>EUNICE AKINYI OLOO</td>\n      <td>21-Oct-2021</td>\n      <td>1100.0</td>\n      <td>0.0</td>\n      <td>0</td>\n      <td>10.0</td>\n      <td>0</td>\n      <td>0</td>\n      <td>0</td>\n      <td>40.0</td>\n      <td>CHN02</td>\n      <td>7</td>\n      <td>1150.0</td>\n      <td>CLOSED</td>\n    </tr>\n    <tr>\n      <th>4</th>\n      <td>5</td>\n      <td>0900024</td>\n      <td>06-Jul-2023</td>\n      <td>T_1817</td>\n      <td>T_2178</td>\n      <td>DANIEL MWANGI MAINA</td>\n      <td>05-Nov-2021</td>\n      <td>2000.0</td>\n      <td>0.0</td>\n      <td>0</td>\n      <td>19.0</td>\n      <td>0</td>\n      <td>0</td>\n      <td>0</td>\n      <td>157.0</td>\n      <td>CHN02</td>\n      <td>7</td>\n      <td>2176.0</td>\n      <td>CLOSED</td>\n    </tr>\n    <tr>\n      <th>...</th>\n      <td>...</td>\n      <td>...</td>\n      <td>...</td>\n      <td>...</td>\n      <td>...</td>\n      <td>...</td>\n      <td>...</td>\n      <td>...</td>\n      <td>...</td>\n      <td>...</td>\n      <td>...</td>\n      <td>...</td>\n      <td>...</td>\n      <td>...</td>\n      <td>...</td>\n      <td>...</td>\n      <td>...</td>\n      <td>...</td>\n      <td>...</td>\n    </tr>\n    <tr>\n      <th>95</th>\n      <td>96</td>\n      <td>0900024</td>\n      <td>06-Jul-2023</td>\n      <td>T_1705</td>\n      <td>T_593</td>\n      <td>JANET NJERI NJOROGE</td>\n      <td>13-Aug-2021</td>\n      <td>1800.0</td>\n      <td>0.0</td>\n      <td>0</td>\n      <td>17.0</td>\n      <td>0</td>\n      <td>0</td>\n      <td>0</td>\n      <td>320.0</td>\n      <td>CHN02</td>\n      <td>7</td>\n      <td>2137.0</td>\n      <td>CLOSED</td>\n    </tr>\n    <tr>\n      <th>96</th>\n      <td>97</td>\n      <td>0900024</td>\n      <td>06-Jul-2023</td>\n      <td>T_2179</td>\n      <td>T_594</td>\n      <td>JOSEPH GICHOYA MUKURURO</td>\n      <td>13-Aug-2021</td>\n      <td>2900.0</td>\n      <td>0.0</td>\n      <td>0</td>\n      <td>27.0</td>\n      <td>0</td>\n      <td>0</td>\n      <td>0</td>\n      <td>54.0</td>\n      <td>CHN02</td>\n      <td>7</td>\n      <td>2981.0</td>\n      <td>CLOSED</td>\n    </tr>\n    <tr>\n      <th>97</th>\n      <td>98</td>\n      <td>0900024</td>\n      <td>06-Jul-2023</td>\n      <td>T_2874</td>\n      <td>T_597</td>\n      <td>PAULINE NUNGA NGIGI</td>\n      <td>13-Aug-2021</td>\n      <td>2200.0</td>\n      <td>0.0</td>\n      <td>0</td>\n      <td>20.0</td>\n      <td>0</td>\n      <td>0</td>\n      <td>0</td>\n      <td>62.0</td>\n      <td>CHN02</td>\n      <td>7</td>\n      <td>2282.0</td>\n      <td>CLOSED</td>\n    </tr>\n    <tr>\n      <th>98</th>\n      <td>99</td>\n      <td>0900024</td>\n      <td>06-Jul-2023</td>\n      <td>T_2897</td>\n      <td>T_598</td>\n      <td>JULIET WANJIRU IRUNGU</td>\n      <td>13-Aug-2021</td>\n      <td>1540.0</td>\n      <td>0.0</td>\n      <td>0</td>\n      <td>14.0</td>\n      <td>0</td>\n      <td>0</td>\n      <td>0</td>\n      <td>106.0</td>\n      <td>CHN02</td>\n      <td>7</td>\n      <td>1660.0</td>\n      <td>CLOSED</td>\n    </tr>\n    <tr>\n      <th>99</th>\n      <td>100</td>\n      <td>0900024</td>\n      <td>06-Jul-2023</td>\n      <td>T_3116</td>\n      <td>T_2154</td>\n      <td>ELIZABETH WAIRIMU MBUGUA</td>\n      <td>04-Nov-2021</td>\n      <td>1300.0</td>\n      <td>0.0</td>\n      <td>0</td>\n      <td>12.0</td>\n      <td>0</td>\n      <td>0</td>\n      <td>0</td>\n      <td>50.0</td>\n      <td>CHN02</td>\n      <td>7</td>\n      <td>1362.0</td>\n      <td>CLOSED</td>\n    </tr>\n  </tbody>\n</table>\n<p>100 rows × 19 columns</p>\n</div>"
     },
     "execution_count": 65,
     "metadata": {},
     "output_type": "execute_result"
    }
   ],
   "source": [
    "warehouse_hook.get_pandas_df(\n",
    "    sql=\"\"\"\n",
    "    -- Digital Loans Account Data\n",
    "    select\n",
    "        row_number() over () as \"ROW_ID\",\n",
    "        '0900024' as \"DIGITAL_CREDIT_PROVIDER_CODE\",\n",
    "        to_char(current_date, 'DD-Mon-YYYY') as \"REPORTING_DATE\", -- cannot be in format 'DD-Mon-YYYY' and still be dtype date\n",
    "        concat('T_', cmsv.mifos_id) as \"CUSTOMER_ID\",\n",
    "        concat('T_', lftmsv.loan_mifos_id) as \"LOAN_ACCOUNT_CONTRACT_NUMBER\",\n",
    "        concat(cmsv.first_name, ' ', cmsv.middle_name, ' ', cmsv.last_name) as \"ACCOUNT_NAME\",\n",
    "        to_char(disbursed_on_date, 'DD-Mon-YYYY') as \"DISBURSEMENT_DATE\", -- cannot be in format 'DD-Mon-YYYY' and still be dtype date\n",
    "        coalesce(principal_disbursed, 0) as \"PRINCIPAL_LOAN_AMOUNT_DISBURSED\",\n",
    "        coalesce(total_outstanding, 0) as \"OUTSTANDING_LOAN_BALANCE\",\n",
    "        0 as \"DEBIT_INTEREST_RATE\",\n",
    "        coalesce(interest_charged, 0) as \"FACILITY_ARRANGEMENT_FEE_CHARGE\",\n",
    "        0 as \"UPFRONT_INTEREST_FEES_CHARGE\",\n",
    "        0 as \"COST_OF_WALLET_TRANSFER\", --except for Solv\n",
    "        0 as \"INSURANCE_FEE_CHARGE\",\n",
    "        coalesce(fee_charges_charged + penalty_charges_charged, 0) as \"OTHER_CHARGE\",\n",
    "        dct.code as \"CHANNEL_TYPE_USED\",\n",
    "        pd.repay_every as \"DIGITAL_LOAN_TENOR\",\n",
    "        coalesce(total_expected_repayment, 0) as \"INSTALMENT_AMOUNT\",\n",
    "        ast.code as \"ACCOUNT_STATUS\"\n",
    "    from twiga.loans_fact_table_summary_view lftmsv\n",
    "    inner join twiga.client_summary_view cmsv on lftmsv.client_surrogate_id = cmsv.surrogate_id\n",
    "    inner join twiga.product_dimension pd on lftmsv.product_surrogate_id = pd.surrogate_id\n",
    "    inner join twiga.loan_status_dimension lsd on lftmsv.loan_status_surrogate_id = lsd.surrogate_id\n",
    "    inner join central_bank_of_kenya.digital_channel_types dct on dct.\"type\" = 'USSD'\n",
    "    inner join central_bank_of_kenya.account_status_types ast on ast.\"type\" = lsd.message\n",
    "    where loan_status in (300, 600, 700)\n",
    "    limit 100\n",
    "    \"\"\"\n",
    ")#.to_csv('~/data/Digital Loans Account Data Sample TANDA.csv', index=False)"
   ],
   "metadata": {
    "collapsed": false
   }
  },
  {
   "cell_type": "markdown",
   "source": [
    "### Overdue (Non-Performing) Digital Loans"
   ],
   "metadata": {
    "collapsed": false
   }
  },
  {
   "cell_type": "code",
   "execution_count": 60,
   "outputs": [
    {
     "name": "stdout",
     "output_type": "stream",
     "text": [
      "[\u001B[34m2023-07-05 14:27:33,550\u001B[0m] {\u001B[34mbase.py:\u001B[0m73} INFO\u001B[0m - Using connection ID 'rds_afsg_ds_prod_postgresql_dwh' for task execution.\u001B[0m\n"
     ]
    },
    {
     "data": {
      "text/plain": "\u001B[1;33m/home/henrykuria/airflow_venv/lib/python3.10/site-packages/pandas/io/\u001B[0m\u001B[1;33msql.py\u001B[0m\u001B[1;33m:\u001B[0m\u001B[1;33m761\u001B[0m\u001B[1;33m UserWarning\u001B[0m\u001B[33m: pandas only support SQLAlchemy \u001B[0m\u001B[1;33mconnectable\u001B[0m\u001B[1;33m(\u001B[0m\u001B[33mengine/connection\u001B[0m\u001B[1;33m)\u001B[0m\u001B[33m ordatabase string URI or sqlite3 DBAPI2 connectionother DBAPI2 objects are not tested, please consider using SQLAlchemy\u001B[0m\n",
      "text/html": "<pre style=\"white-space:pre;overflow-x:auto;line-height:normal;font-family:Menlo,'DejaVu Sans Mono',consolas,'Courier New',monospace\"><span style=\"color: #808000; text-decoration-color: #808000; font-weight: bold\">/home/henrykuria/airflow_venv/lib/python3.10/site-packages/pandas/io/sql.py:</span><span style=\"color: #808000; text-decoration-color: #808000; font-weight: bold\">761</span><span style=\"color: #808000; text-decoration-color: #808000; font-weight: bold\"> UserWarning</span><span style=\"color: #808000; text-decoration-color: #808000\">: pandas only support SQLAlchemy </span><span style=\"color: #808000; text-decoration-color: #808000; font-weight: bold\">connectable(</span><span style=\"color: #808000; text-decoration-color: #808000\">engine/connection</span><span style=\"color: #808000; text-decoration-color: #808000; font-weight: bold\">)</span><span style=\"color: #808000; text-decoration-color: #808000\"> ordatabase string URI or sqlite3 DBAPI2 connectionother DBAPI2 objects are not tested, please consider using SQLAlchemy</span>\n</pre>\n"
     },
     "metadata": {},
     "output_type": "display_data"
    },
    {
     "data": {
      "text/plain": "Empty DataFrame\nColumns: [ROW_ID, DIGITAL_CREDIT_PROVIDER_CODE, REPORTING_DATE, CUSTOMER_ID, LOAN_ACCOUNT_CONTRACT_NUMBER, OVERDUE_DATE, PRINCIPAL_ARREARS_AMOUNT, TOTAL_OUTSTANDING_AMOUNT]\nIndex: []",
      "text/html": "<div>\n<style scoped>\n    .dataframe tbody tr th:only-of-type {\n        vertical-align: middle;\n    }\n\n    .dataframe tbody tr th {\n        vertical-align: top;\n    }\n\n    .dataframe thead th {\n        text-align: right;\n    }\n</style>\n<table border=\"1\" class=\"dataframe\">\n  <thead>\n    <tr style=\"text-align: right;\">\n      <th></th>\n      <th>ROW_ID</th>\n      <th>DIGITAL_CREDIT_PROVIDER_CODE</th>\n      <th>REPORTING_DATE</th>\n      <th>CUSTOMER_ID</th>\n      <th>LOAN_ACCOUNT_CONTRACT_NUMBER</th>\n      <th>OVERDUE_DATE</th>\n      <th>PRINCIPAL_ARREARS_AMOUNT</th>\n      <th>TOTAL_OUTSTANDING_AMOUNT</th>\n    </tr>\n  </thead>\n  <tbody>\n  </tbody>\n</table>\n</div>"
     },
     "execution_count": 60,
     "metadata": {},
     "output_type": "execute_result"
    }
   ],
   "source": [
    "warehouse_hook.get_pandas_df(\n",
    "    sql=\"\"\"\n",
    "    -- Overdue (Non-Performing) Digital Loans\n",
    "    select\n",
    "        row_number() over () as \"ROW_ID\",\n",
    "        '0900024' as \"DIGITAL_CREDIT_PROVIDER_CODE\",\n",
    "        to_char(current_date, 'DD-Mon-YYYY') as \"REPORTING_DATE\", -- cannot be in format 'DD-Mon-YYYY' and still be dtype date\n",
    "        concat('C_', cmsv.mifos_id) as \"CUSTOMER_ID\",\n",
    "        concat('C_', lftmsv.loan_mifos_id) as \"LOAN_ACCOUNT_CONTRACT_NUMBER\",\n",
    "        to_char(expected_matured_on_date + '90 day'::interval, 'DD-Mon-YYYY') as \"OVERDUE_DATE\", -- cannot be in format 'DD-Mon-YYYY' and still be dtype date\n",
    "        coalesce(principal_outstanding, 0) as \"PRINCIPAL_ARREARS_AMOUNT\",\n",
    "        coalesce(total_outstanding, 0) as \"TOTAL_OUTSTANDING_AMOUNT\"\n",
    "    from twiga.loans_fact_table_summary_view lftmsv\n",
    "    inner join twiga.client_summary_view cmsv on lftmsv.client_surrogate_id = cmsv.surrogate_id\n",
    "    where current_date - (expected_matured_on_date + '90 day'::interval)::date >= 1 and loan_status = 300\n",
    "    limit 100\n",
    "    \"\"\"\n",
    ")##.to_csv('~/data/Overdue (Non-Performing) Digital Loans Sample TANDA.csv', index=False)"
   ],
   "metadata": {
    "collapsed": false
   }
  },
  {
   "cell_type": "markdown",
   "source": [
    "### Digital Loan Repayments Data"
   ],
   "metadata": {
    "collapsed": false
   }
  },
  {
   "cell_type": "code",
   "execution_count": 62,
   "outputs": [
    {
     "name": "stdout",
     "output_type": "stream",
     "text": [
      "[\u001B[34m2023-07-05 14:31:32,796\u001B[0m] {\u001B[34mbase.py:\u001B[0m73} INFO\u001B[0m - Using connection ID 'rds_afsg_ds_prod_postgresql_dwh' for task execution.\u001B[0m\n"
     ]
    },
    {
     "data": {
      "text/plain": "Empty DataFrame\nColumns: [ROW_ID, DIGITAL_CREDIT_PROVIDER_CODE, REPORTING_DATE, CUSTOMER_ID, LOAN_ACCOUNT_CONTRACT_NUMBER, OUTSTANDING_LOAN_BALANCE, ACCRUED_INTEREST_BALANCE, INTEREST_CHARGED_ON_REPAYMENT, LATE_PAYMENT_FEE_CHARGE, LOAN_REPAYMENT_DATE, PRINCIPAL_LOAN_AMOUNT_REPAID]\nIndex: []",
      "text/html": "<div>\n<style scoped>\n    .dataframe tbody tr th:only-of-type {\n        vertical-align: middle;\n    }\n\n    .dataframe tbody tr th {\n        vertical-align: top;\n    }\n\n    .dataframe thead th {\n        text-align: right;\n    }\n</style>\n<table border=\"1\" class=\"dataframe\">\n  <thead>\n    <tr style=\"text-align: right;\">\n      <th></th>\n      <th>ROW_ID</th>\n      <th>DIGITAL_CREDIT_PROVIDER_CODE</th>\n      <th>REPORTING_DATE</th>\n      <th>CUSTOMER_ID</th>\n      <th>LOAN_ACCOUNT_CONTRACT_NUMBER</th>\n      <th>OUTSTANDING_LOAN_BALANCE</th>\n      <th>ACCRUED_INTEREST_BALANCE</th>\n      <th>INTEREST_CHARGED_ON_REPAYMENT</th>\n      <th>LATE_PAYMENT_FEE_CHARGE</th>\n      <th>LOAN_REPAYMENT_DATE</th>\n      <th>PRINCIPAL_LOAN_AMOUNT_REPAID</th>\n    </tr>\n  </thead>\n  <tbody>\n  </tbody>\n</table>\n</div>"
     },
     "execution_count": 62,
     "metadata": {},
     "output_type": "execute_result"
    }
   ],
   "source": [
    "warehouse_hook.get_pandas_df(\n",
    "    sql=\"\"\"\n",
    "    -- Digital Loan Repayments Data\n",
    "    select\n",
    "        row_number() over () as \"ROW_ID\",\n",
    "        '0900024' as \"DIGITAL_CREDIT_PROVIDER_CODE\",\n",
    "        to_char(current_date, 'DD-Mon-YYYY') as \"REPORTING_DATE\", -- cannot be in format 'DD-Mon-YYYY' and still be dtype date\n",
    "        concat('KQ_', cmsv.mifos_id) as \"CUSTOMER_ID\",\n",
    "        concat('KQ_', lftmsv.loan_mifos_id) as \"LOAN_ACCOUNT_CONTRACT_NUMBER\",\n",
    "        coalesce(td.outstanding_loan_balance_derived, 0) as \"OUTSTANDING_LOAN_BALANCE\", -- data quality issue\n",
    "        coalesce(lftmsv.interest_outstanding, 0) as \"ACCRUED_INTEREST_BALANCE\",  -- data quality issue\n",
    "        0 as \"INTEREST_CHARGED_ON_REPAYMENT\",\n",
    "        coalesce(td.fee_charges_portion_derived + td.penalty_charges_portion_derived, 0) as \"LATE_PAYMENT_FEE_CHARGE\",\n",
    "        to_char(td.transaction_date, 'DD-Mon-YYYY') as \"LOAN_REPAYMENT_DATE\",\n",
    "        coalesce(td.principal_portion_derived, 0) as \"PRINCIPAL_LOAN_AMOUNT_REPAID\"\n",
    "    from twiga.transactions_dimension td\n",
    "    inner join twiga.loans_fact_table_summary_view lftmsv on lftmsv.loan_mifos_id::varchar = td.mifos_loan_id\n",
    "    inner join twiga.client_summary_view cmsv on lftmsv.client_surrogate_id = cmsv.surrogate_id\n",
    "    where td.transaction_type_enum = 2 and lower(td.receipt_number) not like '%waiv%'\n",
    "    limit 100\n",
    "    \"\"\"\n",
    ")#.to_csv('~/data/Digital Loan Repayments Data Sample TANDA.csv', index=False)"
   ],
   "metadata": {
    "collapsed": false
   }
  },
  {
   "cell_type": "markdown",
   "source": [
    "### Customer Data"
   ],
   "metadata": {
    "collapsed": false
   }
  },
  {
   "cell_type": "code",
   "execution_count": 64,
   "outputs": [
    {
     "name": "stdout",
     "output_type": "stream",
     "text": [
      "[\u001B[34m2023-07-05 14:34:37,349\u001B[0m] {\u001B[34mbase.py:\u001B[0m73} INFO\u001B[0m - Using connection ID 'rds_afsg_ds_prod_postgresql_dwh' for task execution.\u001B[0m\n"
     ]
    },
    {
     "data": {
      "text/plain": "\u001B[1;33m/home/henrykuria/airflow_venv/lib/python3.10/site-packages/pandas/io/\u001B[0m\u001B[1;33msql.py\u001B[0m\u001B[1;33m:\u001B[0m\u001B[1;33m761\u001B[0m\u001B[1;33m UserWarning\u001B[0m\u001B[33m: pandas only support SQLAlchemy \u001B[0m\u001B[1;33mconnectable\u001B[0m\u001B[1;33m(\u001B[0m\u001B[33mengine/connection\u001B[0m\u001B[1;33m)\u001B[0m\u001B[33m ordatabase string URI or sqlite3 DBAPI2 connectionother DBAPI2 objects are not tested, please consider using SQLAlchemy\u001B[0m\n",
      "text/html": "<pre style=\"white-space:pre;overflow-x:auto;line-height:normal;font-family:Menlo,'DejaVu Sans Mono',consolas,'Courier New',monospace\"><span style=\"color: #808000; text-decoration-color: #808000; font-weight: bold\">/home/henrykuria/airflow_venv/lib/python3.10/site-packages/pandas/io/sql.py:</span><span style=\"color: #808000; text-decoration-color: #808000; font-weight: bold\">761</span><span style=\"color: #808000; text-decoration-color: #808000; font-weight: bold\"> UserWarning</span><span style=\"color: #808000; text-decoration-color: #808000\">: pandas only support SQLAlchemy </span><span style=\"color: #808000; text-decoration-color: #808000; font-weight: bold\">connectable(</span><span style=\"color: #808000; text-decoration-color: #808000\">engine/connection</span><span style=\"color: #808000; text-decoration-color: #808000; font-weight: bold\">)</span><span style=\"color: #808000; text-decoration-color: #808000\"> ordatabase string URI or sqlite3 DBAPI2 connectionother DBAPI2 objects are not tested, please consider using SQLAlchemy</span>\n</pre>\n"
     },
     "metadata": {},
     "output_type": "display_data"
    },
    {
     "data": {
      "text/plain": "    ROW_ID DIGITAL_CREDIT_PROVIDER_CODE REPORTING_DATE CUSTOMER_ID  \\\n0        1                      0900024    05-Jul-2023      T_1546   \n1        2                      0900024    05-Jul-2023      T_1553   \n2        3                      0900024    05-Jul-2023      T_1559   \n3        4                      0900024    05-Jul-2023      T_1583   \n4        5                      0900024    05-Jul-2023      T_1594   \n..     ...                          ...            ...         ...   \n95      96                      0900024    05-Jul-2023      T_2758   \n96      97                      0900024    05-Jul-2023      T_2773   \n97      98                      0900024    05-Jul-2023      T_2775   \n98      99                      0900024    05-Jul-2023      T_2784   \n99     100                      0900024    05-Jul-2023      T_2819   \n\n   PRIMARY_IDENTIFICATION_DOCUMENT_TYPE NATIONAL_IDENTITY_PASSPORT_NUMBER  \\\n0                              CUSTID01                          22468538   \n1                              CUSTID01                          22276954   \n2                              CUSTID01                           1892759   \n3                              CUSTID01                          25218514   \n4                              CUSTID01                          30076705   \n..                                  ...                               ...   \n95                             CUSTID01                           7235027   \n96                             CUSTID01                          11129272   \n97                             CUSTID01                          21971602   \n98                             CUSTID01                          23510022   \n99                             CUSTID01                          24971990   \n\n   PERSONAL_IDENTIFICATION_NUMBER NATIONALITY GENDER FIRST_NAME MIDDLE_NAME  \\\n0                            None          KE   None  ELIZABETH       NJERI   \n1                            None          KE   None   CAROLINE     MUHINYE   \n2                            None          KE   None       ROSE        None   \n3                            None          KE   None    NAZNEEN     MEHBOOB   \n4                            None          KE   None     SAMUEL       KIOKO   \n..                            ...         ...    ...        ...         ...   \n95                           None          KE   None      SARAH     KATHULE   \n96                           None          KE   None       JANE     WANGARI   \n97                           None          KE   None     MARTHA     WANJIRU   \n98                           None          KE   None     EUNICE      AKINYI   \n99                           None          KE   None    ANTHONY       MAINA   \n\n           SURNAME DATE_OF_BIRTH_REGISTRATION ONBOARDING_DATE  MOBILE_NUMBER  \n0           WAMBUI                06-Jun-1986     12-Jul-2021  +254723959262  \n1           KIMANI                06-Jun-1986     12-Jul-2021  +254758853339  \n2           MUTHEO                06-Jun-1986     12-Jul-2021  +254721303217  \n3   MOHAMMED SALEH                06-Jun-1986     12-Jul-2021  +254722724798  \n4            DAVID                06-Jun-1986     12-Jul-2021  +254708046057  \n..             ...                        ...             ...            ...  \n95          MUSILA                06-Jun-1986     07-Aug-2021  +254713479042  \n96         KIGOTHO                06-Jun-1986     09-Aug-2021  +254722466393  \n97          MUTURI                06-Jun-1986     09-Aug-2021  +254700829987  \n98            OLOO                06-Jun-1986     09-Aug-2021  +254724954862  \n99          IRUNGU                06-Jun-1986     10-Aug-2021  +254724830059  \n\n[100 rows x 15 columns]",
      "text/html": "<div>\n<style scoped>\n    .dataframe tbody tr th:only-of-type {\n        vertical-align: middle;\n    }\n\n    .dataframe tbody tr th {\n        vertical-align: top;\n    }\n\n    .dataframe thead th {\n        text-align: right;\n    }\n</style>\n<table border=\"1\" class=\"dataframe\">\n  <thead>\n    <tr style=\"text-align: right;\">\n      <th></th>\n      <th>ROW_ID</th>\n      <th>DIGITAL_CREDIT_PROVIDER_CODE</th>\n      <th>REPORTING_DATE</th>\n      <th>CUSTOMER_ID</th>\n      <th>PRIMARY_IDENTIFICATION_DOCUMENT_TYPE</th>\n      <th>NATIONAL_IDENTITY_PASSPORT_NUMBER</th>\n      <th>PERSONAL_IDENTIFICATION_NUMBER</th>\n      <th>NATIONALITY</th>\n      <th>GENDER</th>\n      <th>FIRST_NAME</th>\n      <th>MIDDLE_NAME</th>\n      <th>SURNAME</th>\n      <th>DATE_OF_BIRTH_REGISTRATION</th>\n      <th>ONBOARDING_DATE</th>\n      <th>MOBILE_NUMBER</th>\n    </tr>\n  </thead>\n  <tbody>\n    <tr>\n      <th>0</th>\n      <td>1</td>\n      <td>0900024</td>\n      <td>05-Jul-2023</td>\n      <td>T_1546</td>\n      <td>CUSTID01</td>\n      <td>22468538</td>\n      <td>None</td>\n      <td>KE</td>\n      <td>None</td>\n      <td>ELIZABETH</td>\n      <td>NJERI</td>\n      <td>WAMBUI</td>\n      <td>06-Jun-1986</td>\n      <td>12-Jul-2021</td>\n      <td>+254723959262</td>\n    </tr>\n    <tr>\n      <th>1</th>\n      <td>2</td>\n      <td>0900024</td>\n      <td>05-Jul-2023</td>\n      <td>T_1553</td>\n      <td>CUSTID01</td>\n      <td>22276954</td>\n      <td>None</td>\n      <td>KE</td>\n      <td>None</td>\n      <td>CAROLINE</td>\n      <td>MUHINYE</td>\n      <td>KIMANI</td>\n      <td>06-Jun-1986</td>\n      <td>12-Jul-2021</td>\n      <td>+254758853339</td>\n    </tr>\n    <tr>\n      <th>2</th>\n      <td>3</td>\n      <td>0900024</td>\n      <td>05-Jul-2023</td>\n      <td>T_1559</td>\n      <td>CUSTID01</td>\n      <td>1892759</td>\n      <td>None</td>\n      <td>KE</td>\n      <td>None</td>\n      <td>ROSE</td>\n      <td>None</td>\n      <td>MUTHEO</td>\n      <td>06-Jun-1986</td>\n      <td>12-Jul-2021</td>\n      <td>+254721303217</td>\n    </tr>\n    <tr>\n      <th>3</th>\n      <td>4</td>\n      <td>0900024</td>\n      <td>05-Jul-2023</td>\n      <td>T_1583</td>\n      <td>CUSTID01</td>\n      <td>25218514</td>\n      <td>None</td>\n      <td>KE</td>\n      <td>None</td>\n      <td>NAZNEEN</td>\n      <td>MEHBOOB</td>\n      <td>MOHAMMED SALEH</td>\n      <td>06-Jun-1986</td>\n      <td>12-Jul-2021</td>\n      <td>+254722724798</td>\n    </tr>\n    <tr>\n      <th>4</th>\n      <td>5</td>\n      <td>0900024</td>\n      <td>05-Jul-2023</td>\n      <td>T_1594</td>\n      <td>CUSTID01</td>\n      <td>30076705</td>\n      <td>None</td>\n      <td>KE</td>\n      <td>None</td>\n      <td>SAMUEL</td>\n      <td>KIOKO</td>\n      <td>DAVID</td>\n      <td>06-Jun-1986</td>\n      <td>12-Jul-2021</td>\n      <td>+254708046057</td>\n    </tr>\n    <tr>\n      <th>...</th>\n      <td>...</td>\n      <td>...</td>\n      <td>...</td>\n      <td>...</td>\n      <td>...</td>\n      <td>...</td>\n      <td>...</td>\n      <td>...</td>\n      <td>...</td>\n      <td>...</td>\n      <td>...</td>\n      <td>...</td>\n      <td>...</td>\n      <td>...</td>\n      <td>...</td>\n    </tr>\n    <tr>\n      <th>95</th>\n      <td>96</td>\n      <td>0900024</td>\n      <td>05-Jul-2023</td>\n      <td>T_2758</td>\n      <td>CUSTID01</td>\n      <td>7235027</td>\n      <td>None</td>\n      <td>KE</td>\n      <td>None</td>\n      <td>SARAH</td>\n      <td>KATHULE</td>\n      <td>MUSILA</td>\n      <td>06-Jun-1986</td>\n      <td>07-Aug-2021</td>\n      <td>+254713479042</td>\n    </tr>\n    <tr>\n      <th>96</th>\n      <td>97</td>\n      <td>0900024</td>\n      <td>05-Jul-2023</td>\n      <td>T_2773</td>\n      <td>CUSTID01</td>\n      <td>11129272</td>\n      <td>None</td>\n      <td>KE</td>\n      <td>None</td>\n      <td>JANE</td>\n      <td>WANGARI</td>\n      <td>KIGOTHO</td>\n      <td>06-Jun-1986</td>\n      <td>09-Aug-2021</td>\n      <td>+254722466393</td>\n    </tr>\n    <tr>\n      <th>97</th>\n      <td>98</td>\n      <td>0900024</td>\n      <td>05-Jul-2023</td>\n      <td>T_2775</td>\n      <td>CUSTID01</td>\n      <td>21971602</td>\n      <td>None</td>\n      <td>KE</td>\n      <td>None</td>\n      <td>MARTHA</td>\n      <td>WANJIRU</td>\n      <td>MUTURI</td>\n      <td>06-Jun-1986</td>\n      <td>09-Aug-2021</td>\n      <td>+254700829987</td>\n    </tr>\n    <tr>\n      <th>98</th>\n      <td>99</td>\n      <td>0900024</td>\n      <td>05-Jul-2023</td>\n      <td>T_2784</td>\n      <td>CUSTID01</td>\n      <td>23510022</td>\n      <td>None</td>\n      <td>KE</td>\n      <td>None</td>\n      <td>EUNICE</td>\n      <td>AKINYI</td>\n      <td>OLOO</td>\n      <td>06-Jun-1986</td>\n      <td>09-Aug-2021</td>\n      <td>+254724954862</td>\n    </tr>\n    <tr>\n      <th>99</th>\n      <td>100</td>\n      <td>0900024</td>\n      <td>05-Jul-2023</td>\n      <td>T_2819</td>\n      <td>CUSTID01</td>\n      <td>24971990</td>\n      <td>None</td>\n      <td>KE</td>\n      <td>None</td>\n      <td>ANTHONY</td>\n      <td>MAINA</td>\n      <td>IRUNGU</td>\n      <td>06-Jun-1986</td>\n      <td>10-Aug-2021</td>\n      <td>+254724830059</td>\n    </tr>\n  </tbody>\n</table>\n<p>100 rows × 15 columns</p>\n</div>"
     },
     "execution_count": 64,
     "metadata": {},
     "output_type": "execute_result"
    }
   ],
   "source": [
    "warehouse_hook.get_pandas_df(\n",
    "    sql=\"\"\"\n",
    "    -- Customer Data\n",
    "    with cust_dt as (\n",
    "        select\n",
    "            distinct\n",
    "            '0900024' as \"DIGITAL_CREDIT_PROVIDER_CODE\",\n",
    "            to_char(current_date, 'DD-Mon-YYYY') as \"REPORTING_DATE\", -- cannot be in format 'DD-Mon-YYYY' and still be dtype date\n",
    "            concat('T_', cmsv.mifos_id) as \"CUSTOMER_ID\", -- store number vs national_id\n",
    "            CASE WHEN cmsv.national_id ~ '[a-zA-Z]' THEN 'Passport' ELSE 'National Identity Card' END AS \"PRIMARY_IDENTIFICATION_DOCUMENT_TYPE\", -- how to distinguish huduma number from national ID number\n",
    "            cmsv.national_id as \"NATIONAL_IDENTITY_PASSPORT_NUMBER\", -- column name in template has slash\n",
    "            null as \"PERSONAL_IDENTIFICATION_NUMBER\", --kra pin\n",
    "            cmsv.gender,\n",
    "            cmsv.first_name as \"FIRST_NAME\",\n",
    "            cmsv.middle_name as \"MIDDLE_NAME\",\n",
    "            cmsv.last_name as \"SURNAME\",\n",
    "            to_char(cmsv.date_of_birth, 'DD-Mon-YYYY') as \"DATE_OF_BIRTH_REGISTRATION\", -- cannot be in format 'DD-MM-YYYY' and still be dtype date\n",
    "            to_char(cmsv.submitted_on_date, 'DD-Mon-YYYY') as \"ONBOARDING_DATE\",\n",
    "            cmsv.mobile_number as \"MOBILE_NUMBER\"\n",
    "        from twiga.client_summary_view cmsv\n",
    "        inner join twiga.loans_fact_table_summary_view lftmsv on cmsv.surrogate_id = lftmsv.client_surrogate_id\n",
    "    ) select\n",
    "        row_number() over () as \"ROW_ID\", \"DIGITAL_CREDIT_PROVIDER_CODE\", \"REPORTING_DATE\", \"CUSTOMER_ID\", cpdt.code as \"PRIMARY_IDENTIFICATION_DOCUMENT_TYPE\",\n",
    "        \"NATIONAL_IDENTITY_PASSPORT_NUMBER\", \"PERSONAL_IDENTIFICATION_NUMBER\", icc.country_code as \"NATIONALITY\", gt.code as \"GENDER\", \"FIRST_NAME\",\n",
    "        case when \"SURNAME\" is null and \"MIDDLE_NAME\" is not null then null else \"MIDDLE_NAME\" end as \"MIDDLE_NAME\",\n",
    "        case when \"SURNAME\" is null then \"MIDDLE_NAME\" else \"SURNAME\" end as \"SURNAME\",\n",
    "        \"DATE_OF_BIRTH_REGISTRATION\", \"ONBOARDING_DATE\", \"MOBILE_NUMBER\"\n",
    "    from cust_dt\n",
    "    left join central_bank_of_kenya.cust_primary_doc_types cpdt on cpdt.\"type\" = cust_dt.\"PRIMARY_IDENTIFICATION_DOCUMENT_TYPE\"\n",
    "    left join central_bank_of_kenya.gender_types gt on gt.\"type\" = cust_dt.gender\n",
    "    left join central_bank_of_kenya.iso_country_codes icc on icc.country_description = 'Kenya'\n",
    "    limit 100\n",
    "    \"\"\"\n",
    ")##.to_csv(f'~/data/CBK Customer Data Sample SOLV {datetime.datetime.now()}.csv', index=False)"
   ],
   "metadata": {
    "collapsed": false
   }
  },
  {
   "cell_type": "code",
   "execution_count": 8,
   "outputs": [
    {
     "ename": "KeyError",
     "evalue": "'surname'",
     "output_type": "error",
     "traceback": [
      "\u001B[0;31m---------------------------------------------------------------------------\u001B[0m",
      "\u001B[0;31mKeyError\u001B[0m                                  Traceback (most recent call last)",
      "File \u001B[0;32m~/airflow_venv/lib/python3.10/site-packages/pandas/core/indexes/base.py:3621\u001B[0m, in \u001B[0;36mIndex.get_loc\u001B[0;34m(self, key, method, tolerance)\u001B[0m\n\u001B[1;32m   3620\u001B[0m \u001B[38;5;28;01mtry\u001B[39;00m:\n\u001B[0;32m-> 3621\u001B[0m     \u001B[38;5;28;01mreturn\u001B[39;00m \u001B[38;5;28;43mself\u001B[39;49m\u001B[38;5;241;43m.\u001B[39;49m\u001B[43m_engine\u001B[49m\u001B[38;5;241;43m.\u001B[39;49m\u001B[43mget_loc\u001B[49m\u001B[43m(\u001B[49m\u001B[43mcasted_key\u001B[49m\u001B[43m)\u001B[49m\n\u001B[1;32m   3622\u001B[0m \u001B[38;5;28;01mexcept\u001B[39;00m \u001B[38;5;167;01mKeyError\u001B[39;00m \u001B[38;5;28;01mas\u001B[39;00m err:\n",
      "File \u001B[0;32m~/airflow_venv/lib/python3.10/site-packages/pandas/_libs/index.pyx:136\u001B[0m, in \u001B[0;36mpandas._libs.index.IndexEngine.get_loc\u001B[0;34m()\u001B[0m\n",
      "File \u001B[0;32m~/airflow_venv/lib/python3.10/site-packages/pandas/_libs/index.pyx:163\u001B[0m, in \u001B[0;36mpandas._libs.index.IndexEngine.get_loc\u001B[0;34m()\u001B[0m\n",
      "File \u001B[0;32mpandas/_libs/hashtable_class_helper.pxi:5198\u001B[0m, in \u001B[0;36mpandas._libs.hashtable.PyObjectHashTable.get_item\u001B[0;34m()\u001B[0m\n",
      "File \u001B[0;32mpandas/_libs/hashtable_class_helper.pxi:5206\u001B[0m, in \u001B[0;36mpandas._libs.hashtable.PyObjectHashTable.get_item\u001B[0;34m()\u001B[0m\n",
      "\u001B[0;31mKeyError\u001B[0m: 'surname'",
      "\nThe above exception was the direct cause of the following exception:\n",
      "\u001B[0;31mKeyError\u001B[0m                                  Traceback (most recent call last)",
      "Input \u001B[0;32mIn [8]\u001B[0m, in \u001B[0;36m<cell line: 1>\u001B[0;34m()\u001B[0m\n\u001B[0;32m----> 1\u001B[0m \u001B[43mpd\u001B[49m\u001B[38;5;241;43m.\u001B[39;49m\u001B[43mread_csv\u001B[49m\u001B[43m(\u001B[49m\u001B[38;5;124;43m'\u001B[39;49m\u001B[38;5;124;43m~/data/CBK Customer Data Sample Bloom 2.0 2023-06-27.csv\u001B[39;49m\u001B[38;5;124;43m'\u001B[39;49m\u001B[43m)\u001B[49m\u001B[43m[\u001B[49m\u001B[38;5;124;43m'\u001B[39;49m\u001B[38;5;124;43msurname\u001B[39;49m\u001B[38;5;124;43m'\u001B[39;49m\u001B[43m]\u001B[49m\u001B[38;5;241m.\u001B[39mnotna()\n",
      "File \u001B[0;32m~/airflow_venv/lib/python3.10/site-packages/pandas/core/frame.py:3505\u001B[0m, in \u001B[0;36mDataFrame.__getitem__\u001B[0;34m(self, key)\u001B[0m\n\u001B[1;32m   3503\u001B[0m \u001B[38;5;28;01mif\u001B[39;00m \u001B[38;5;28mself\u001B[39m\u001B[38;5;241m.\u001B[39mcolumns\u001B[38;5;241m.\u001B[39mnlevels \u001B[38;5;241m>\u001B[39m \u001B[38;5;241m1\u001B[39m:\n\u001B[1;32m   3504\u001B[0m     \u001B[38;5;28;01mreturn\u001B[39;00m \u001B[38;5;28mself\u001B[39m\u001B[38;5;241m.\u001B[39m_getitem_multilevel(key)\n\u001B[0;32m-> 3505\u001B[0m indexer \u001B[38;5;241m=\u001B[39m \u001B[38;5;28;43mself\u001B[39;49m\u001B[38;5;241;43m.\u001B[39;49m\u001B[43mcolumns\u001B[49m\u001B[38;5;241;43m.\u001B[39;49m\u001B[43mget_loc\u001B[49m\u001B[43m(\u001B[49m\u001B[43mkey\u001B[49m\u001B[43m)\u001B[49m\n\u001B[1;32m   3506\u001B[0m \u001B[38;5;28;01mif\u001B[39;00m is_integer(indexer):\n\u001B[1;32m   3507\u001B[0m     indexer \u001B[38;5;241m=\u001B[39m [indexer]\n",
      "File \u001B[0;32m~/airflow_venv/lib/python3.10/site-packages/pandas/core/indexes/base.py:3623\u001B[0m, in \u001B[0;36mIndex.get_loc\u001B[0;34m(self, key, method, tolerance)\u001B[0m\n\u001B[1;32m   3621\u001B[0m     \u001B[38;5;28;01mreturn\u001B[39;00m \u001B[38;5;28mself\u001B[39m\u001B[38;5;241m.\u001B[39m_engine\u001B[38;5;241m.\u001B[39mget_loc(casted_key)\n\u001B[1;32m   3622\u001B[0m \u001B[38;5;28;01mexcept\u001B[39;00m \u001B[38;5;167;01mKeyError\u001B[39;00m \u001B[38;5;28;01mas\u001B[39;00m err:\n\u001B[0;32m-> 3623\u001B[0m     \u001B[38;5;28;01mraise\u001B[39;00m \u001B[38;5;167;01mKeyError\u001B[39;00m(key) \u001B[38;5;28;01mfrom\u001B[39;00m \u001B[38;5;21;01merr\u001B[39;00m\n\u001B[1;32m   3624\u001B[0m \u001B[38;5;28;01mexcept\u001B[39;00m \u001B[38;5;167;01mTypeError\u001B[39;00m:\n\u001B[1;32m   3625\u001B[0m     \u001B[38;5;66;03m# If we have a listlike key, _check_indexing_error will raise\u001B[39;00m\n\u001B[1;32m   3626\u001B[0m     \u001B[38;5;66;03m#  InvalidIndexError. Otherwise we fall through and re-raise\u001B[39;00m\n\u001B[1;32m   3627\u001B[0m     \u001B[38;5;66;03m#  the TypeError.\u001B[39;00m\n\u001B[1;32m   3628\u001B[0m     \u001B[38;5;28mself\u001B[39m\u001B[38;5;241m.\u001B[39m_check_indexing_error(key)\n",
      "\u001B[0;31mKeyError\u001B[0m: 'surname'"
     ]
    }
   ],
   "source": [
    "pd.read_csv('~/data/CBK Customer Data Sample Bloom 2.0 2023-06-27.csv')['las'].notna()"
   ],
   "metadata": {
    "collapsed": false
   }
  },
  {
   "cell_type": "markdown",
   "source": [
    "#### Metadata"
   ],
   "metadata": {
    "collapsed": false
   }
  },
  {
   "cell_type": "code",
   "execution_count": 17,
   "outputs": [],
   "source": [
    "path = '~/data/DCP Standard Data.xlsx'"
   ],
   "metadata": {
    "collapsed": false
   }
  },
  {
   "cell_type": "code",
   "execution_count": 18,
   "outputs": [],
   "source": [
    "dt = pd.ExcelFile(path)"
   ],
   "metadata": {
    "collapsed": false
   }
  },
  {
   "cell_type": "code",
   "execution_count": 20,
   "outputs": [
    {
     "name": "stdout",
     "output_type": "stream",
     "text": [
      "[\u001B[34m2023-06-06 06:17:56,462\u001B[0m] {\u001B[34mbase.py:\u001B[0m73} INFO\u001B[0m - Using connection ID 'rds_afsg_ds_prod_postgresql_dwh' for task execution.\u001B[0m\n",
      "[\u001B[34m2023-06-06 06:18:07,460\u001B[0m] {\u001B[34msql.py:\u001B[0m462} INFO\u001B[0m - Done loading. Loaded a total of 40 rows into central_bank_of_kenya.general_ledgers\u001B[0m\n"
     ]
    }
   ],
   "source": [
    "#### DCPs - GL Codes\n",
    "gls = pd.read_excel(path, sheet_name='DCPs - GL Codes', skiprows=2).rename(columns={\n",
    "    'GL CODE': 'code', 'GL DESCRIPTION': 'description', 'GL TYPE': 'type'\n",
    "})[['code', 'description', 'type']]\n",
    "warehouse_hook.insert_rows(\n",
    "    table='central_bank_of_kenya.general_ledgers',\n",
    "    target_fields=gls.reindex().columns.tolist(),\n",
    "    replace=False,\n",
    "    rows=tuple(gls.reindex().replace({np.NAN: None}).itertuples(index=False)),\n",
    "    commit_every=100\n",
    ")"
   ],
   "metadata": {
    "collapsed": false
   }
  },
  {
   "cell_type": "code",
   "execution_count": 24,
   "outputs": [
    {
     "name": "stdout",
     "output_type": "stream",
     "text": [
      "[\u001B[34m2023-06-06 06:20:59,216\u001B[0m] {\u001B[34mbase.py:\u001B[0m73} INFO\u001B[0m - Using connection ID 'rds_afsg_ds_prod_postgresql_dwh' for task execution.\u001B[0m\n",
      "[\u001B[34m2023-06-06 06:21:02,002\u001B[0m] {\u001B[34msql.py:\u001B[0m462} INFO\u001B[0m - Done loading. Loaded a total of 2 rows into central_bank_of_kenya.complaints\u001B[0m\n"
     ]
    }
   ],
   "source": [
    "#### Classification of complaints\n",
    "ccc = pd.read_excel(path, sheet_name='Classification of complaints', skiprows=2)\n",
    "ccc.rename(columns={\n",
    "    'Customer Complaint Classification': 'classification',\n",
    "    'Customer Complaint Classification Type': 'type',\n",
    "    'Customer Complaint Calssification Type Details': 'details'\n",
    "}, inplace=True)\n",
    "ccc = ccc[['classification', 'type', 'details']]\n",
    "warehouse_hook.insert_rows(\n",
    "    table='central_bank_of_kenya.complaints',\n",
    "    target_fields=ccc.reindex().columns.tolist(),\n",
    "    replace=False,\n",
    "    rows=tuple(ccc.reindex().replace({np.NAN: None}).itertuples(index=False)),\n",
    "    commit_every=100\n",
    ")"
   ],
   "metadata": {
    "collapsed": false
   }
  },
  {
   "cell_type": "code",
   "execution_count": 28,
   "outputs": [
    {
     "name": "stdout",
     "output_type": "stream",
     "text": [
      "[\u001B[34m2023-06-06 06:24:08,856\u001B[0m] {\u001B[34mbase.py:\u001B[0m73} INFO\u001B[0m - Using connection ID 'rds_afsg_ds_prod_postgresql_dwh' for task execution.\u001B[0m\n",
      "[\u001B[34m2023-06-06 06:24:31,554\u001B[0m] {\u001B[34msql.py:\u001B[0m459} INFO\u001B[0m - Loaded 100 rows into central_bank_of_kenya.counties_sub_counties so far\u001B[0m\n",
      "[\u001B[34m2023-06-06 06:24:52,548\u001B[0m] {\u001B[34msql.py:\u001B[0m459} INFO\u001B[0m - Loaded 200 rows into central_bank_of_kenya.counties_sub_counties so far\u001B[0m\n",
      "[\u001B[34m2023-06-06 06:25:13,974\u001B[0m] {\u001B[34msql.py:\u001B[0m459} INFO\u001B[0m - Loaded 300 rows into central_bank_of_kenya.counties_sub_counties so far\u001B[0m\n",
      "[\u001B[34m2023-06-06 06:25:25,630\u001B[0m] {\u001B[34msql.py:\u001B[0m462} INFO\u001B[0m - Done loading. Loaded a total of 349 rows into central_bank_of_kenya.counties_sub_counties\u001B[0m\n"
     ]
    }
   ],
   "source": [
    "#### County & Sub Counties\n",
    "csc = pd.read_excel(path, sheet_name='County & Sub Counties', skiprows=2)\n",
    "csc.rename(columns={\n",
    "    'SUB-COUNTY CODE': 'sub_county_code',\n",
    "    'SUB-COUNTY NAME': 'sub_county_name',\n",
    "    'COUNTY CODE': 'county_code',\n",
    "    'COUNTY NAME': 'county_name',\n",
    "}, inplace=True)\n",
    "csc = csc[['sub_county_code', 'sub_county_name', 'county_code', 'county_name']]\n",
    "warehouse_hook.insert_rows(\n",
    "    table='central_bank_of_kenya.counties_sub_counties',\n",
    "    target_fields=csc.reindex().columns.tolist(),\n",
    "    replace=False,\n",
    "    rows=tuple(csc.reindex().replace({np.NAN: None}).itertuples(index=False)),\n",
    "    commit_every=100\n",
    ")"
   ],
   "metadata": {
    "collapsed": false
   }
  },
  {
   "cell_type": "code",
   "execution_count": 30,
   "outputs": [
    {
     "name": "stdout",
     "output_type": "stream",
     "text": [
      "[\u001B[34m2023-06-06 06:26:59,555\u001B[0m] {\u001B[34mbase.py:\u001B[0m73} INFO\u001B[0m - Using connection ID 'rds_afsg_ds_prod_postgresql_dwh' for task execution.\u001B[0m\n",
      "[\u001B[34m2023-06-06 06:27:03,630\u001B[0m] {\u001B[34msql.py:\u001B[0m462} INFO\u001B[0m - Done loading. Loaded a total of 9 rows into central_bank_of_kenya.nature_of_complaints\u001B[0m\n"
     ]
    }
   ],
   "source": [
    "#### Nature of Complaint\n",
    "noc = pd.read_excel(path, sheet_name='Nature of Complaint', skiprows=2)\n",
    "noc.rename(columns={\n",
    "    'Nature of Complaint': 'nature',\n",
    "    'Nature of Complaint Type': 'type',\n",
    "    'Nature of Complaint Type Details': 'details'\n",
    "}, inplace=True)\n",
    "noc = noc[['nature', 'type', 'details']]\n",
    "warehouse_hook.insert_rows(\n",
    "    table='central_bank_of_kenya.nature_of_complaints',\n",
    "    target_fields=noc.reindex().columns.tolist(),\n",
    "    replace=False,\n",
    "    rows=tuple(noc.reindex().replace({np.NAN: None}).itertuples(index=False)),\n",
    "    commit_every=100\n",
    ")"
   ],
   "metadata": {
    "collapsed": false
   }
  },
  {
   "cell_type": "code",
   "execution_count": 32,
   "outputs": [
    {
     "name": "stdout",
     "output_type": "stream",
     "text": [
      "[\u001B[34m2023-06-06 06:28:56,099\u001B[0m] {\u001B[34mbase.py:\u001B[0m73} INFO\u001B[0m - Using connection ID 'rds_afsg_ds_prod_postgresql_dwh' for task execution.\u001B[0m\n",
      "[\u001B[34m2023-06-06 06:28:59,460\u001B[0m] {\u001B[34msql.py:\u001B[0m462} INFO\u001B[0m - Done loading. Loaded a total of 6 rows into central_bank_of_kenya.cust_primary_doc_types\u001B[0m\n"
     ]
    }
   ],
   "source": [
    "#### Cust. Pri. ID. Doc. Types\n",
    "cpidt = pd.read_excel(path, sheet_name='Cust. Pri. ID. Doc. Types', skiprows=2)\n",
    "cpidt.rename(columns={\n",
    "    'Document Code': 'code',\n",
    "    'ID Document Type': 'type',\n",
    "    'Document Type Description': 'description'\n",
    "}, inplace=True)\n",
    "cpidt = cpidt[['code', 'type', 'description']]\n",
    "warehouse_hook.insert_rows(\n",
    "    table='central_bank_of_kenya.cust_primary_doc_types',\n",
    "    target_fields=cpidt.reindex().columns.tolist(),\n",
    "    replace=False,\n",
    "    rows=tuple(cpidt.reindex().replace({np.NAN: None}).itertuples(index=False)),\n",
    "    commit_every=100\n",
    ")"
   ],
   "metadata": {
    "collapsed": false
   }
  },
  {
   "cell_type": "code",
   "execution_count": 34,
   "outputs": [
    {
     "name": "stdout",
     "output_type": "stream",
     "text": [
      "[\u001B[34m2023-06-06 06:31:46,020\u001B[0m] {\u001B[34mbase.py:\u001B[0m73} INFO\u001B[0m - Using connection ID 'rds_afsg_ds_prod_postgresql_dwh' for task execution.\u001B[0m\n",
      "[\u001B[34m2023-06-06 06:31:49,280\u001B[0m] {\u001B[34msql.py:\u001B[0m462} INFO\u001B[0m - Done loading. Loaded a total of 4 rows into central_bank_of_kenya.gender_types\u001B[0m\n"
     ]
    }
   ],
   "source": [
    "#### Gender Types\n",
    "gt = pd.read_excel(path, sheet_name='Gender Types', skiprows=2)\n",
    "gt.rename(columns={\n",
    "    'Gender_Code': 'code',\n",
    "    'Gender_Type': 'type',\n",
    "    'Gender_Description': 'description'\n",
    "}, inplace=True)\n",
    "gt = gt[['code', 'type', 'description']]\n",
    "warehouse_hook.insert_rows(\n",
    "    table='central_bank_of_kenya.gender_types',\n",
    "    target_fields=gt.reindex().columns.tolist(),\n",
    "    replace=False,\n",
    "    rows=tuple(gt.reindex().replace({np.NAN: None}).itertuples(index=False)),\n",
    "    commit_every=100\n",
    ")"
   ],
   "metadata": {
    "collapsed": false
   }
  },
  {
   "cell_type": "code",
   "execution_count": 36,
   "outputs": [
    {
     "name": "stdout",
     "output_type": "stream",
     "text": [
      "[\u001B[34m2023-06-06 06:33:50,926\u001B[0m] {\u001B[34mbase.py:\u001B[0m73} INFO\u001B[0m - Using connection ID 'rds_afsg_ds_prod_postgresql_dwh' for task execution.\u001B[0m\n",
      "[\u001B[34m2023-06-06 06:33:54,237\u001B[0m] {\u001B[34msql.py:\u001B[0m462} INFO\u001B[0m - Done loading. Loaded a total of 5 rows into central_bank_of_kenya.occupation_types\u001B[0m\n"
     ]
    }
   ],
   "source": [
    "#### Occupation Types\n",
    "ot = pd.read_excel(path, sheet_name='Occupation Types', skiprows=2)\n",
    "ot.rename(columns={\n",
    "    'Occupation Code': 'code',\n",
    "    'Occupation Types': 'type',\n",
    "    'Occupation Type Details': 'details'\n",
    "}, inplace=True)\n",
    "ot = ot[['code', 'type', 'details']]\n",
    "warehouse_hook.insert_rows(\n",
    "    table='central_bank_of_kenya.occupation_types',\n",
    "    target_fields=ot.reindex().columns.tolist(),\n",
    "    replace=False,\n",
    "    rows=tuple(ot.reindex().replace({np.NAN: None}).itertuples(index=False)),\n",
    "    commit_every=100\n",
    ")"
   ],
   "metadata": {
    "collapsed": false
   }
  },
  {
   "cell_type": "code",
   "execution_count": 38,
   "outputs": [
    {
     "name": "stdout",
     "output_type": "stream",
     "text": [
      "[\u001B[34m2023-06-06 06:38:07,537\u001B[0m] {\u001B[34mbase.py:\u001B[0m73} INFO\u001B[0m - Using connection ID 'rds_afsg_ds_prod_postgresql_dwh' for task execution.\u001B[0m\n",
      "[\u001B[34m2023-06-06 06:38:33,964\u001B[0m] {\u001B[34msql.py:\u001B[0m459} INFO\u001B[0m - Loaded 100 rows into central_bank_of_kenya.iso_country_codes so far\u001B[0m\n",
      "[\u001B[34m2023-06-06 06:38:57,647\u001B[0m] {\u001B[34msql.py:\u001B[0m459} INFO\u001B[0m - Loaded 200 rows into central_bank_of_kenya.iso_country_codes so far\u001B[0m\n",
      "[\u001B[34m2023-06-06 06:39:10,112\u001B[0m] {\u001B[34msql.py:\u001B[0m462} INFO\u001B[0m - Done loading. Loaded a total of 249 rows into central_bank_of_kenya.iso_country_codes\u001B[0m\n"
     ]
    }
   ],
   "source": [
    "#### ISO Country Codes\n",
    "icc = pd.read_excel(path, sheet_name='ISO Country Codes', skiprows=2)\n",
    "icc.rename(columns={\n",
    "    'Country Code': 'country_code',\n",
    "    'Country Description': 'country_description',\n",
    "    'Continent Name': 'continent_name',\n",
    "    'Continent Code': 'continent_code',\n",
    "    'Sub-Region': 'sub_region'\n",
    "}, inplace=True)\n",
    "icc = icc[['country_code', 'country_description', 'sub_region', 'continent_name', 'continent_code']]\n",
    "warehouse_hook.insert_rows(\n",
    "    table='central_bank_of_kenya.iso_country_codes',\n",
    "    target_fields=icc.reindex().columns.tolist(),\n",
    "    replace=False,\n",
    "    rows=tuple(icc.reindex().replace({np.NAN: None}).itertuples(index=False)),\n",
    "    commit_every=100\n",
    ")"
   ],
   "metadata": {
    "collapsed": false
   }
  },
  {
   "cell_type": "code",
   "execution_count": 40,
   "outputs": [
    {
     "name": "stdout",
     "output_type": "stream",
     "text": [
      "[\u001B[34m2023-06-06 08:50:22,764\u001B[0m] {\u001B[34mbase.py:\u001B[0m73} INFO\u001B[0m - Using connection ID 'rds_afsg_ds_prod_postgresql_dwh' for task execution.\u001B[0m\n",
      "[\u001B[34m2023-06-06 08:50:25,817\u001B[0m] {\u001B[34msql.py:\u001B[0m462} INFO\u001B[0m - Done loading. Loaded a total of 6 rows into central_bank_of_kenya.marital_status_types\u001B[0m\n"
     ]
    }
   ],
   "source": [
    "#### Marital Status Types\n",
    "mst = pd.read_excel(path, sheet_name='Marital Status Types', skiprows=2)\n",
    "mst.rename(columns={\n",
    "    'Marital Status Code': 'code',\n",
    "    'Marital Status Type Details': 'details',\n",
    "    'Marital Status Types': 'type'\n",
    "}, inplace=True)\n",
    "mst = mst[['code', 'details', 'type']]\n",
    "warehouse_hook.insert_rows(\n",
    "    table='central_bank_of_kenya.marital_status_types',\n",
    "    target_fields=mst.reindex().columns.tolist(),\n",
    "    replace=False,\n",
    "    rows=tuple(mst.reindex().replace({np.NAN: None}).itertuples(index=False)),\n",
    "    commit_every=100\n",
    ")"
   ],
   "metadata": {
    "collapsed": false
   }
  },
  {
   "cell_type": "code",
   "execution_count": 44,
   "outputs": [
    {
     "name": "stdout",
     "output_type": "stream",
     "text": [
      "[\u001B[34m2023-06-06 08:53:16,726\u001B[0m] {\u001B[34mbase.py:\u001B[0m73} INFO\u001B[0m - Using connection ID 'rds_afsg_ds_prod_postgresql_dwh' for task execution.\u001B[0m\n",
      "[\u001B[34m2023-06-06 08:53:19,211\u001B[0m] {\u001B[34msql.py:\u001B[0m462} INFO\u001B[0m - Done loading. Loaded a total of 4 rows into central_bank_of_kenya.loan_application_statuses\u001B[0m\n"
     ]
    }
   ],
   "source": [
    "#### Loan Application Status\n",
    "las = pd.read_excel(path, sheet_name='Loan Application Status', skiprows=2)\n",
    "las.rename(columns={\n",
    "    'Loan Application Status Type Code': 'code',\n",
    "    'Loan Application Status  Details': 'details',\n",
    "    'Loan Application Status  Type': 'type'\n",
    "}, inplace=True)\n",
    "las = las[['code', 'details', 'type']]\n",
    "warehouse_hook.insert_rows(\n",
    "    table='central_bank_of_kenya.loan_application_statuses',\n",
    "    target_fields=las.reindex().columns.tolist(),\n",
    "    replace=False,\n",
    "    rows=tuple(las.reindex().replace({np.NAN: None}).itertuples(index=False)),\n",
    "    commit_every=100\n",
    ")"
   ],
   "metadata": {
    "collapsed": false
   }
  },
  {
   "cell_type": "code",
   "execution_count": 46,
   "outputs": [
    {
     "name": "stdout",
     "output_type": "stream",
     "text": [
      "[\u001B[34m2023-06-06 08:55:08,597\u001B[0m] {\u001B[34mbase.py:\u001B[0m73} INFO\u001B[0m - Using connection ID 'rds_afsg_ds_prod_postgresql_dwh' for task execution.\u001B[0m\n",
      "[\u001B[34m2023-06-06 08:55:14,101\u001B[0m] {\u001B[34msql.py:\u001B[0m462} INFO\u001B[0m - Done loading. Loaded a total of 21 rows into central_bank_of_kenya.economic_activities\u001B[0m\n"
     ]
    }
   ],
   "source": [
    "#### ISIC Economic Activies\n",
    "EA = pd.read_excel(path, sheet_name='ISIC Economic Activies', skiprows=2)\n",
    "EA.rename(columns={\n",
    "    'DIVISIONS': 'divisions',\n",
    "    'BUSINESS ECONOMIC ACTIVITY CODE': 'code',\n",
    "    'BUSINESS ECONOMIC ACTIVITY SECTION': 'section'\n",
    "}, inplace=True)\n",
    "EA = EA[['divisions', 'code', 'section']]\n",
    "warehouse_hook.insert_rows(\n",
    "    table='central_bank_of_kenya.economic_activities',\n",
    "    target_fields=EA.reindex().columns.tolist(),\n",
    "    replace=False,\n",
    "    rows=tuple(EA.reindex().replace({np.NAN: None}).itertuples(index=False)),\n",
    "    commit_every=100\n",
    ")"
   ],
   "metadata": {
    "collapsed": false
   }
  },
  {
   "cell_type": "code",
   "execution_count": 55,
   "outputs": [
    {
     "name": "stdout",
     "output_type": "stream",
     "text": [
      "[\u001B[34m2023-06-06 09:02:23,924\u001B[0m] {\u001B[34mbase.py:\u001B[0m73} INFO\u001B[0m - Using connection ID 'rds_afsg_ds_prod_postgresql_dwh' for task execution.\u001B[0m\n",
      "[\u001B[34m2023-06-06 09:02:43,542\u001B[0m] {\u001B[34msql.py:\u001B[0m459} INFO\u001B[0m - Loaded 100 rows into central_bank_of_kenya.currency_codes so far\u001B[0m\n",
      "[\u001B[34m2023-06-06 09:02:57,976\u001B[0m] {\u001B[34msql.py:\u001B[0m462} INFO\u001B[0m - Done loading. Loaded a total of 179 rows into central_bank_of_kenya.currency_codes\u001B[0m\n"
     ]
    }
   ],
   "source": [
    "#### ISO Currency Codes\n",
    "cc = pd.read_excel(path, sheet_name='ISO Currency Codes', skiprows=2)\n",
    "cc['Minor unit'] = cc['Minor unit'].apply(\n",
    "    lambda x: np.NAN if str(x) == 'N.A.' else x\n",
    ")\n",
    "cc.rename(columns={\n",
    "    'Alphabetic Code': 'alphabetic_code',\n",
    "    'Numeric Code': 'numeric_code',\n",
    "    'Minor unit': 'minor_unit',\n",
    "    'Currency': 'currency'\n",
    "}, inplace=True)\n",
    "cc = cc[['alphabetic_code', 'numeric_code', 'minor_unit', 'currency']]\n",
    "warehouse_hook.insert_rows(\n",
    "    table='central_bank_of_kenya.currency_codes',\n",
    "    target_fields=cc.reindex().columns.tolist(),\n",
    "    replace=False,\n",
    "    rows=tuple(cc.reindex().replace({np.NAN: None}).itertuples(index=False)),\n",
    "    commit_every=100\n",
    ")"
   ],
   "metadata": {
    "collapsed": false
   }
  },
  {
   "cell_type": "code",
   "execution_count": 54,
   "outputs": [
    {
     "name": "stdout",
     "output_type": "stream",
     "text": [
      "[\u001B[34m2023-06-06 09:02:20,683\u001B[0m] {\u001B[34mbase.py:\u001B[0m73} INFO\u001B[0m - Using connection ID 'rds_afsg_ds_prod_postgresql_dwh' for task execution.\u001B[0m\n",
      "[\u001B[34m2023-06-06 09:02:23,486\u001B[0m] {\u001B[34msql.py:\u001B[0m462} INFO\u001B[0m - Done loading. Loaded a total of 3 rows into central_bank_of_kenya.management_category_types\u001B[0m\n"
     ]
    }
   ],
   "source": [
    "#### Management Category Types\n",
    "mct = pd.read_excel(path, sheet_name='Management Category Types', skiprows=2)\n",
    "mct.rename(columns={\n",
    "    'Management Category Type Code': 'code',\n",
    "    'Management Category Type': 'type'\n",
    "}, inplace=True)\n",
    "mct = mct[['code', 'type']]\n",
    "warehouse_hook.insert_rows(\n",
    "    table='central_bank_of_kenya.management_category_types',\n",
    "    target_fields=mct.reindex().columns.tolist(),\n",
    "    replace=False,\n",
    "    rows=tuple(mct.reindex().replace({np.NAN: None}).itertuples(index=False)),\n",
    "    commit_every=100\n",
    ")"
   ],
   "metadata": {
    "collapsed": false
   }
  },
  {
   "cell_type": "code",
   "execution_count": 65,
   "outputs": [
    {
     "name": "stdout",
     "output_type": "stream",
     "text": [
      "[\u001B[34m2023-06-06 09:15:19,034\u001B[0m] {\u001B[34mbase.py:\u001B[0m73} INFO\u001B[0m - Using connection ID 'rds_afsg_ds_prod_postgresql_dwh' for task execution.\u001B[0m\n",
      "[\u001B[34m2023-06-06 09:15:21,471\u001B[0m] {\u001B[34msql.py:\u001B[0m462} INFO\u001B[0m - Done loading. Loaded a total of 4 rows into central_bank_of_kenya.executive_category_types\u001B[0m\n"
     ]
    }
   ],
   "source": [
    "#### Executive Category Types\n",
    "ect = pd.read_excel(path, sheet_name='Executive Category Types', skiprows=2)\n",
    "ect.rename(columns={\n",
    "    'Director Category Type Code': 'code',\n",
    "    'Director Category Type': 'type',\n",
    "    'Director Category Type Details *': 'details'\n",
    "}, inplace=True)\n",
    "ect = ect[['code', 'type', 'details']]\n",
    "warehouse_hook.insert_rows(\n",
    "    table='central_bank_of_kenya.executive_category_types',\n",
    "    target_fields=ect.reindex().columns.tolist(),\n",
    "    replace=False,\n",
    "    rows=tuple(ect.reindex().replace({np.NAN: None}).itertuples(index=False)),\n",
    "    commit_every=100\n",
    ")"
   ],
   "metadata": {
    "collapsed": false
   }
  },
  {
   "cell_type": "code",
   "execution_count": 64,
   "outputs": [
    {
     "name": "stdout",
     "output_type": "stream",
     "text": [
      "[\u001B[34m2023-06-06 09:15:15,190\u001B[0m] {\u001B[34mbase.py:\u001B[0m73} INFO\u001B[0m - Using connection ID 'rds_afsg_ds_prod_postgresql_dwh' for task execution.\u001B[0m\n",
      "[\u001B[34m2023-06-06 09:15:18,484\u001B[0m] {\u001B[34msql.py:\u001B[0m462} INFO\u001B[0m - Done loading. Loaded a total of 7 rows into central_bank_of_kenya.academic_qualifications\u001B[0m\n"
     ]
    }
   ],
   "source": [
    "#### Academic Qualifications\n",
    "aq = pd.read_excel(path, sheet_name='Academic Qualifications', skiprows=2)\n",
    "aq.rename(columns={\n",
    "    'Academic Qualifications Code': 'code',\n",
    "    'Academic Qualifications Type': 'type',\n",
    "    'Academic Qualifications Type Details': 'details'\n",
    "}, inplace=True)\n",
    "aq = aq[['code', 'type', 'details']]\n",
    "warehouse_hook.insert_rows(\n",
    "    table='central_bank_of_kenya.academic_qualifications',\n",
    "    target_fields=aq.reindex().columns.tolist(),\n",
    "    replace=False,\n",
    "    rows=tuple(aq.reindex().replace({np.NAN: None}).itertuples(index=False)),\n",
    "    commit_every=100\n",
    ")"
   ],
   "metadata": {
    "collapsed": false
   }
  },
  {
   "cell_type": "code",
   "execution_count": 63,
   "outputs": [
    {
     "name": "stdout",
     "output_type": "stream",
     "text": [
      "[\u001B[34m2023-06-06 09:14:41,759\u001B[0m] {\u001B[34mbase.py:\u001B[0m73} INFO\u001B[0m - Using connection ID 'rds_afsg_ds_prod_postgresql_dwh' for task execution.\u001B[0m\n",
      "[\u001B[34m2023-06-06 09:14:45,382\u001B[0m] {\u001B[34msql.py:\u001B[0m462} INFO\u001B[0m - Done loading. Loaded a total of 9 rows into central_bank_of_kenya.professional_qualifications\u001B[0m\n"
     ]
    }
   ],
   "source": [
    "#### Professional Qualifications\n",
    "pq = pd.read_excel(path, sheet_name='Professional Qualifications', skiprows=2)\n",
    "pq.rename(columns={\n",
    "    'Professonal Qualifications Code': 'code',\n",
    "    'Professonal Qualifications Type': 'type',\n",
    "    'Professonal Qualifications Type Details': 'details'\n",
    "}, inplace=True)\n",
    "pq = pq[['code', 'type', 'details']]\n",
    "warehouse_hook.insert_rows(\n",
    "    table='central_bank_of_kenya.professional_qualifications',\n",
    "    target_fields=pq.reindex().columns.tolist(),\n",
    "    replace=False,\n",
    "    rows=tuple(pq.reindex().replace({np.NAN: None}).itertuples(index=False)),\n",
    "    commit_every=100\n",
    ")"
   ],
   "metadata": {
    "collapsed": false
   }
  },
  {
   "cell_type": "code",
   "execution_count": 68,
   "outputs": [
    {
     "name": "stdout",
     "output_type": "stream",
     "text": [
      "[\u001B[34m2023-06-06 09:17:32,685\u001B[0m] {\u001B[34mbase.py:\u001B[0m73} INFO\u001B[0m - Using connection ID 'rds_afsg_ds_prod_postgresql_dwh' for task execution.\u001B[0m\n",
      "[\u001B[34m2023-06-06 09:17:36,104\u001B[0m] {\u001B[34msql.py:\u001B[0m462} INFO\u001B[0m - Done loading. Loaded a total of 5 rows into central_bank_of_kenya.digital_channel_types\u001B[0m\n"
     ]
    }
   ],
   "source": [
    "#### Digital Channel Types\n",
    "dct = pd.read_excel(path, sheet_name='Digital Channel Types', skiprows=2)\n",
    "dct.rename(columns={\n",
    "    'Channels Type Code': 'code',\n",
    "    'Channels Type': 'type',\n",
    "    'Channels Type Code Details': 'details'\n",
    "}, inplace=True)\n",
    "dct = dct[['code', 'type', 'details']]\n",
    "warehouse_hook.insert_rows(\n",
    "    table='central_bank_of_kenya.digital_channel_types',\n",
    "    target_fields=dct.reindex().columns.tolist(),\n",
    "    replace=False,\n",
    "    rows=tuple(dct.reindex().replace({np.NAN: None}).itertuples(index=False)),\n",
    "    commit_every=100\n",
    ")"
   ],
   "metadata": {
    "collapsed": false
   }
  },
  {
   "cell_type": "code",
   "execution_count": 73,
   "outputs": [
    {
     "name": "stdout",
     "output_type": "stream",
     "text": [
      "[\u001B[34m2023-06-06 09:20:36,291\u001B[0m] {\u001B[34mbase.py:\u001B[0m73} INFO\u001B[0m - Using connection ID 'rds_afsg_ds_prod_postgresql_dwh' for task execution.\u001B[0m\n",
      "[\u001B[34m2023-06-06 09:20:38,807\u001B[0m] {\u001B[34msql.py:\u001B[0m462} INFO\u001B[0m - Done loading. Loaded a total of 2 rows into central_bank_of_kenya.shareholding_flags\u001B[0m\n"
     ]
    }
   ],
   "source": [
    "#### Shareholding Flag\n",
    "sf = pd.read_excel(path, sheet_name='Shareholding Flag', skiprows=2)\n",
    "sf.rename(columns={\n",
    "    'Shareholding Flag Type Code': 'code',\n",
    "    'Committee Type Description': 'description',\n",
    "    'Shareholding Flag Type Details': 'details'\n",
    "}, inplace=True)\n",
    "sf = sf[['code', 'description', 'details']]\n",
    "warehouse_hook.insert_rows(\n",
    "    table='central_bank_of_kenya.shareholding_flags',\n",
    "    target_fields=sf.reindex().columns.tolist(),\n",
    "    replace=False,\n",
    "    rows=tuple(sf.reindex().replace({np.NAN: None}).itertuples(index=False)),\n",
    "    commit_every=100\n",
    ")"
   ],
   "metadata": {
    "collapsed": false
   }
  },
  {
   "cell_type": "code",
   "execution_count": 76,
   "outputs": [
    {
     "name": "stdout",
     "output_type": "stream",
     "text": [
      "[\u001B[34m2023-06-06 09:22:13,169\u001B[0m] {\u001B[34mbase.py:\u001B[0m73} INFO\u001B[0m - Using connection ID 'rds_afsg_ds_prod_postgresql_dwh' for task execution.\u001B[0m\n",
      "[\u001B[34m2023-06-06 09:22:15,659\u001B[0m] {\u001B[34msql.py:\u001B[0m462} INFO\u001B[0m - Done loading. Loaded a total of 3 rows into central_bank_of_kenya.shareholder_types\u001B[0m\n"
     ]
    }
   ],
   "source": [
    "#### Shareholder Types\n",
    "st = pd.read_excel(path, sheet_name='Shareholder Types', skiprows=2)\n",
    "st.rename(columns={\n",
    "    'Shareholder Type Code': 'code',\n",
    "    'Shareholder Type': 'type'\n",
    "}, inplace=True)\n",
    "st = st[['code', 'type']]\n",
    "warehouse_hook.insert_rows(\n",
    "    table='central_bank_of_kenya.shareholder_types',\n",
    "    target_fields=st.reindex().columns.tolist(),\n",
    "    replace=False,\n",
    "    rows=tuple(st.reindex().replace({np.NAN: None}).itertuples(index=False)),\n",
    "    commit_every=100\n",
    ")"
   ],
   "metadata": {
    "collapsed": false
   }
  },
  {
   "cell_type": "code",
   "execution_count": 78,
   "outputs": [
    {
     "name": "stdout",
     "output_type": "stream",
     "text": [
      "[\u001B[34m2023-06-06 09:24:31,386\u001B[0m] {\u001B[34mbase.py:\u001B[0m73} INFO\u001B[0m - Using connection ID 'rds_afsg_ds_prod_postgresql_dwh' for task execution.\u001B[0m\n",
      "[\u001B[34m2023-06-06 09:24:33,964\u001B[0m] {\u001B[34msql.py:\u001B[0m462} INFO\u001B[0m - Done loading. Loaded a total of 4 rows into central_bank_of_kenya.customer_complaint_status_types\u001B[0m\n"
     ]
    }
   ],
   "source": [
    "#### Customer Complaint Status Types\n",
    "ccst = pd.read_excel(path, sheet_name='Customer Complaint Status Types', skiprows=2)\n",
    "ccst.rename(columns={\n",
    "    'Customer Complaint Status Type Code': 'code',\n",
    "    'Customer Complaint Status Type Details': 'details',\n",
    "    'Customer Complaint Status Type': 'type'\n",
    "}, inplace=True)\n",
    "ccst = ccst[['code', 'type', 'details']]\n",
    "warehouse_hook.insert_rows(\n",
    "    table='central_bank_of_kenya.customer_complaint_status_types',\n",
    "    target_fields=ccst.reindex().columns.tolist(),\n",
    "    replace=False,\n",
    "    rows=tuple(ccst.reindex().replace({np.NAN: None}).itertuples(index=False)),\n",
    "    commit_every=100\n",
    ")"
   ],
   "metadata": {
    "collapsed": false
   }
  },
  {
   "cell_type": "code",
   "execution_count": 81,
   "outputs": [
    {
     "name": "stdout",
     "output_type": "stream",
     "text": [
      "[\u001B[34m2023-06-06 09:26:49,199\u001B[0m] {\u001B[34mbase.py:\u001B[0m73} INFO\u001B[0m - Using connection ID 'rds_afsg_ds_prod_postgresql_dwh' for task execution.\u001B[0m\n",
      "[\u001B[34m2023-06-06 09:26:52,527\u001B[0m] {\u001B[34msql.py:\u001B[0m462} INFO\u001B[0m - Done loading. Loaded a total of 2 rows into central_bank_of_kenya.account_status_types\u001B[0m\n"
     ]
    }
   ],
   "source": [
    "#### Account Status Types\n",
    "ast = pd.read_excel(path, sheet_name='Account Status Types', skiprows=2)\n",
    "ast.rename(columns={\n",
    "    'Account Status Code': 'code',\n",
    "    'Account Status Type Description': 'description',\n",
    "    'Account Status Type': 'type'\n",
    "}, inplace=True)\n",
    "ast = ast[['code', 'type', 'description']]\n",
    "warehouse_hook.insert_rows(\n",
    "    table='central_bank_of_kenya.account_status_types',\n",
    "    target_fields=ast.reindex().columns.tolist(),\n",
    "    replace=False,\n",
    "    rows=tuple(ast.reindex().replace({np.NAN: None}).itertuples(index=False)),\n",
    "    commit_every=100\n",
    ")"
   ],
   "metadata": {
    "collapsed": false
   }
  },
  {
   "cell_type": "code",
   "execution_count": 84,
   "outputs": [
    {
     "name": "stdout",
     "output_type": "stream",
     "text": [
      "[\u001B[34m2023-06-06 09:36:18,889\u001B[0m] {\u001B[34mbase.py:\u001B[0m73} INFO\u001B[0m - Using connection ID 'rds_afsg_ds_prod_postgresql_dwh' for task execution.\u001B[0m\n",
      "[\u001B[34m2023-06-06 09:36:22,117\u001B[0m] {\u001B[34msql.py:\u001B[0m462} INFO\u001B[0m - Done loading. Loaded a total of 4 rows into central_bank_of_kenya.service_status_flags\u001B[0m\n"
     ]
    }
   ],
   "source": [
    "#### Service Status Flag\n",
    "sst = pd.read_excel(path, sheet_name='Service Status Flag', skiprows=2)\n",
    "sst.rename(columns={\n",
    "    'Service Status Type Code': 'code',\n",
    "    'Service Status Type Details': 'details',\n",
    "    'Service Status Type': 'type'\n",
    "}, inplace=True)\n",
    "sst = sst[['code', 'type', 'details']]\n",
    "warehouse_hook.insert_rows(\n",
    "    table='central_bank_of_kenya.service_status_flags',\n",
    "    target_fields=sst.reindex().columns.tolist(),\n",
    "    replace=False,\n",
    "    rows=tuple(sst.reindex().replace({np.NAN: None}).itertuples(index=False)),\n",
    "    commit_every=100\n",
    ")"
   ],
   "metadata": {
    "collapsed": false
   }
  }
 ],
 "metadata": {
  "kernelspec": {
   "display_name": "Python 3",
   "language": "python",
   "name": "python3"
  },
  "language_info": {
   "codemirror_mode": {
    "name": "ipython",
    "version": 2
   },
   "file_extension": ".py",
   "mimetype": "text/x-python",
   "name": "python",
   "nbconvert_exporter": "python",
   "pygments_lexer": "ipython2",
   "version": "2.7.6"
  }
 },
 "nbformat": 4,
 "nbformat_minor": 0
}
