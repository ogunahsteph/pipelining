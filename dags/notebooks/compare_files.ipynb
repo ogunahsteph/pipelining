{
 "cells": [
  {
   "cell_type": "code",
   "execution_count": 1,
   "metadata": {
    "collapsed": true
   },
   "outputs": [],
   "source": [
    "import filecmp"
   ]
  },
  {
   "cell_type": "code",
   "execution_count": 99,
   "outputs": [],
   "source": [
    "dir1 = \"/home/henrykuria/legacy/DataPipelines/bash/scoring\"\n",
    "dir2 = \"/home/henrykuria/airflow/dags/DataPipelines/bash/scoring\"\n",
    "\n",
    "def compare(dir1, dir2, common):\n",
    "    match, mismatch, errors = filecmp.cmpfiles(dir1, dir2, common, shallow = False)\n",
    "\n",
    "    print(\"Deep comparison:\")\n",
    "    print(\"Mismatch :\", mismatch)\n",
    "    print(\"Errors :\", errors)"
   ],
   "metadata": {
    "collapsed": false
   }
  },
  {
   "cell_type": "code",
   "execution_count": 100,
   "outputs": [],
   "source": [
    "# Common files\n",
    "common1 = [\n",
    "    \"isw_uganda.sh\",\n",
    "]"
   ],
   "metadata": {
    "collapsed": false
   }
  },
  {
   "cell_type": "code",
   "execution_count": 101,
   "outputs": [
    {
     "name": "stdout",
     "output_type": "stream",
     "text": [
      "Deep comparison:\n",
      "Mismatch : []\n",
      "Errors : []\n"
     ]
    }
   ],
   "source": [
    "compare(dir1, dir2, common1)"
   ],
   "metadata": {
    "collapsed": false
   }
  }
 ],
 "metadata": {
  "kernelspec": {
   "display_name": "Python 3",
   "language": "python",
   "name": "python3"
  },
  "language_info": {
   "codemirror_mode": {
    "name": "ipython",
    "version": 2
   },
   "file_extension": ".py",
   "mimetype": "text/x-python",
   "name": "python",
   "nbconvert_exporter": "python",
   "pygments_lexer": "ipython2",
   "version": "2.7.6"
  }
 },
 "nbformat": 4,
 "nbformat_minor": 0
}
