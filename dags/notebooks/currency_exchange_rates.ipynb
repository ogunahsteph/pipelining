{
 "cells": [
  {
   "cell_type": "code",
   "execution_count": 1,
   "metadata": {
    "collapsed": true
   },
   "outputs": [
    {
     "data": {
      "text/plain": "\u001B[1;33m/tmp/ipykernel_28591/\u001B[0m\u001B[1;33m2123065259.py\u001B[0m\u001B[1;33m:\u001B[0m\u001B[1;33m8\u001B[0m\u001B[1;33m DeprecationWarning\u001B[0m\u001B[33m: The \u001B[0m\u001B[33m\"schema\"\u001B[0m\u001B[33m arg has been renamed to \u001B[0m\u001B[33m\"database\"\u001B[0m\u001B[33m as it contained the database name.Please use \u001B[0m\u001B[33m\"database\"\u001B[0m\u001B[33m to set the database name.\u001B[0m\n",
      "text/html": "<pre style=\"white-space:pre;overflow-x:auto;line-height:normal;font-family:Menlo,'DejaVu Sans Mono',consolas,'Courier New',monospace\"><span style=\"color: #808000; text-decoration-color: #808000; font-weight: bold\">/tmp/ipykernel_28591/2123065259.py:</span><span style=\"color: #808000; text-decoration-color: #808000; font-weight: bold\">8</span><span style=\"color: #808000; text-decoration-color: #808000; font-weight: bold\"> DeprecationWarning</span><span style=\"color: #808000; text-decoration-color: #808000\">: The </span><span style=\"color: #808000; text-decoration-color: #808000\">\"schema\"</span><span style=\"color: #808000; text-decoration-color: #808000\"> arg has been renamed to </span><span style=\"color: #808000; text-decoration-color: #808000\">\"database\"</span><span style=\"color: #808000; text-decoration-color: #808000\"> as it contained the database name.Please use </span><span style=\"color: #808000; text-decoration-color: #808000\">\"database\"</span><span style=\"color: #808000; text-decoration-color: #808000\"> to set the database name.</span>\n</pre>\n"
     },
     "metadata": {},
     "output_type": "display_data"
    },
    {
     "data": {
      "text/plain": "\u001B[1;33m/tmp/ipykernel_28591/\u001B[0m\u001B[1;33m2123065259.py\u001B[0m\u001B[1;33m:\u001B[0m\u001B[1;33m12\u001B[0m\u001B[1;33m DeprecationWarning\u001B[0m\u001B[33m: The \u001B[0m\u001B[33m\"schema\"\u001B[0m\u001B[33m arg has been renamed to \u001B[0m\u001B[33m\"database\"\u001B[0m\u001B[33m as it contained the database name.Please use \u001B[0m\u001B[33m\"database\"\u001B[0m\u001B[33m to set the database name.\u001B[0m\n",
      "text/html": "<pre style=\"white-space:pre;overflow-x:auto;line-height:normal;font-family:Menlo,'DejaVu Sans Mono',consolas,'Courier New',monospace\"><span style=\"color: #808000; text-decoration-color: #808000; font-weight: bold\">/tmp/ipykernel_28591/2123065259.py:</span><span style=\"color: #808000; text-decoration-color: #808000; font-weight: bold\">12</span><span style=\"color: #808000; text-decoration-color: #808000; font-weight: bold\"> DeprecationWarning</span><span style=\"color: #808000; text-decoration-color: #808000\">: The </span><span style=\"color: #808000; text-decoration-color: #808000\">\"schema\"</span><span style=\"color: #808000; text-decoration-color: #808000\"> arg has been renamed to </span><span style=\"color: #808000; text-decoration-color: #808000\">\"database\"</span><span style=\"color: #808000; text-decoration-color: #808000\"> as it contained the database name.Please use </span><span style=\"color: #808000; text-decoration-color: #808000\">\"database\"</span><span style=\"color: #808000; text-decoration-color: #808000\"> to set the database name.</span>\n</pre>\n"
     },
     "metadata": {},
     "output_type": "display_data"
    }
   ],
   "source": [
    "import os\n",
    "import sys\n",
    "import numpy as np\n",
    "import pandas as pd\n",
    "from airflow.providers.mysql.hooks.mysql import MySqlHook\n",
    "from airflow.providers.postgres.hooks.postgres import PostgresHook\n",
    "\n",
    "warehouse_hook = PostgresHook(postgres_conn_id='airflow_warehouse_user', schema='ubuntu')\n",
    "mifos_hook = MySqlHook(mysql_conn_id='mifos_db', schema='mifostenant-safaricom')\n",
    "mifos1_hook = MySqlHook(mysql_conn_id='mifos_db', schema='mifostenant-default')\n",
    "airflow_hook = MySqlHook(mysql_conn_id='airflow_server_admin', schema='monitoring')\n",
    "middleware_hook = PostgresHook(postgres_conn_id='asante_mfs_middleware', schema='asante_datawarehouse')\n",
    "jubilee_hook = MySqlHook(mysql_conn_id='mifos_db', schema='mifostenant-jubilee')"
   ]
  },
  {
   "cell_type": "markdown",
   "source": [
    "## From exchangerates api"
   ],
   "metadata": {
    "collapsed": false
   }
  },
  {
   "cell_type": "code",
   "execution_count": 2,
   "outputs": [],
   "source": [
    "import os\n",
    "import importlib\n",
    "\n",
    "current_dir = os.getcwd()\n",
    "parent_dir = os.path.abspath(os.path.join(current_dir, '..'))\n",
    "sys.path.insert(0, parent_dir)\n",
    "\n",
    "# Import the module using importlib\n",
    "# exchange_rates_api = importlib.import_module('utils.exchange_rates_api')\n",
    "\n",
    "# Reload the module\n",
    "# exchange_rates_api = importlib.reload(exchange_rates_api)\n",
    "\n",
    "from utils.exchange_rates_api import ExchangeRatesApi"
   ],
   "metadata": {
    "collapsed": false
   }
  },
  {
   "cell_type": "code",
   "execution_count": 3,
   "outputs": [],
   "source": [
    "exchange_rates_api = ExchangeRatesApi()\n",
    "# Convert the dictionary to a list of dictionaries with 'code' and 'Description' keys"
   ],
   "metadata": {
    "collapsed": false
   }
  },
  {
   "cell_type": "markdown",
   "source": [
    "## Currencies"
   ],
   "metadata": {
    "collapsed": false
   }
  },
  {
   "cell_type": "code",
   "execution_count": 4,
   "outputs": [],
   "source": [
    "def get_symbols():\n",
    "    symbols = pd.DataFrame([\n",
    "        {'code': key, 'description': value} for key, value in exchange_rates_api.get_symbols()['symbols'].items()\n",
    "    ])\n",
    "    already_existing = warehouse_hook.get_pandas_df(\n",
    "        sql=\"\"\"\n",
    "            select name from currency_conversion_rates.currency_dimension where name in %(cn)s\n",
    "        \"\"\",\n",
    "        parameters={'cn': tuple(symbols['code'].tolist())}\n",
    "    )['code'].tolist()\n",
    "\n",
    "    symbols = symbols[~symbols['code'].isin(already_existing)]\n",
    "\n",
    "    warehouse_hook.insert_rows(\n",
    "        table='currency_conversion_rates.currency_dimension',\n",
    "        target_fields=['code', 'description'],\n",
    "        replace=False,\n",
    "        rows=tuple(symbols[['code', 'description']].replace({np.nan: None}).itertuples(index=False, name=None)),\n",
    "        commit_every=100\n",
    "    )"
   ],
   "metadata": {
    "collapsed": false
   }
  },
  {
   "cell_type": "code",
   "execution_count": 29,
   "outputs": [
    {
     "name": "stdout",
     "output_type": "stream",
     "text": [
      "[\u001B[34m2023-04-23 12:01:37,906\u001B[0m] {\u001B[34mbase.py:\u001B[0m73} INFO\u001B[0m - Using connection ID 'airflow_warehouse_user' for task execution.\u001B[0m\n"
     ]
    },
    {
     "data": {
      "text/plain": "\u001B[1;33m/home/henrykuria/airflow_venv/lib/python3.10/site-packages/pandas/io/\u001B[0m\u001B[1;33msql.py\u001B[0m\u001B[1;33m:\u001B[0m\u001B[1;33m761\u001B[0m\u001B[1;33m UserWarning\u001B[0m\u001B[33m: pandas only support SQLAlchemy \u001B[0m\u001B[1;33mconnectable\u001B[0m\u001B[1;33m(\u001B[0m\u001B[33mengine/connection\u001B[0m\u001B[1;33m)\u001B[0m\u001B[33m ordatabase string URI or sqlite3 DBAPI2 connectionother DBAPI2 objects are not tested, please consider using SQLAlchemy\u001B[0m\n",
      "text/html": "<pre style=\"white-space:pre;overflow-x:auto;line-height:normal;font-family:Menlo,'DejaVu Sans Mono',consolas,'Courier New',monospace\"><span style=\"color: #808000; text-decoration-color: #808000; font-weight: bold\">/home/henrykuria/airflow_venv/lib/python3.10/site-packages/pandas/io/sql.py:</span><span style=\"color: #808000; text-decoration-color: #808000; font-weight: bold\">761</span><span style=\"color: #808000; text-decoration-color: #808000; font-weight: bold\"> UserWarning</span><span style=\"color: #808000; text-decoration-color: #808000\">: pandas only support SQLAlchemy </span><span style=\"color: #808000; text-decoration-color: #808000; font-weight: bold\">connectable(</span><span style=\"color: #808000; text-decoration-color: #808000\">engine/connection</span><span style=\"color: #808000; text-decoration-color: #808000; font-weight: bold\">)</span><span style=\"color: #808000; text-decoration-color: #808000\"> ordatabase string URI or sqlite3 DBAPI2 connectionother DBAPI2 objects are not tested, please consider using SQLAlchemy</span>\n</pre>\n"
     },
     "metadata": {},
     "output_type": "display_data"
    },
    {
     "name": "stdout",
     "output_type": "stream",
     "text": [
      "[\u001B[34m2023-04-23 12:01:44,380\u001B[0m] {\u001B[34mbase.py:\u001B[0m73} INFO\u001B[0m - Using connection ID 'airflow_warehouse_user' for task execution.\u001B[0m\n"
     ]
    },
    {
     "data": {
      "text/plain": "\u001B[1;33m/home/henrykuria/airflow_venv/lib/python3.10/site-packages/pandas/io/\u001B[0m\u001B[1;33msql.py\u001B[0m\u001B[1;33m:\u001B[0m\u001B[1;33m761\u001B[0m\u001B[1;33m UserWarning\u001B[0m\u001B[33m: pandas only support SQLAlchemy \u001B[0m\u001B[1;33mconnectable\u001B[0m\u001B[1;33m(\u001B[0m\u001B[33mengine/connection\u001B[0m\u001B[1;33m)\u001B[0m\u001B[33m ordatabase string URI or sqlite3 DBAPI2 connectionother DBAPI2 objects are not tested, please consider using SQLAlchemy\u001B[0m\n",
      "text/html": "<pre style=\"white-space:pre;overflow-x:auto;line-height:normal;font-family:Menlo,'DejaVu Sans Mono',consolas,'Courier New',monospace\"><span style=\"color: #808000; text-decoration-color: #808000; font-weight: bold\">/home/henrykuria/airflow_venv/lib/python3.10/site-packages/pandas/io/sql.py:</span><span style=\"color: #808000; text-decoration-color: #808000; font-weight: bold\">761</span><span style=\"color: #808000; text-decoration-color: #808000; font-weight: bold\"> UserWarning</span><span style=\"color: #808000; text-decoration-color: #808000\">: pandas only support SQLAlchemy </span><span style=\"color: #808000; text-decoration-color: #808000; font-weight: bold\">connectable(</span><span style=\"color: #808000; text-decoration-color: #808000\">engine/connection</span><span style=\"color: #808000; text-decoration-color: #808000; font-weight: bold\">)</span><span style=\"color: #808000; text-decoration-color: #808000\"> ordatabase string URI or sqlite3 DBAPI2 connectionother DBAPI2 objects are not tested, please consider using SQLAlchemy</span>\n</pre>\n"
     },
     "metadata": {},
     "output_type": "display_data"
    }
   ],
   "source": [
    "all_rates_ = []\n",
    "def get_exchange_rates(base_codes: list):\n",
    "    exchange_rates_api = ExchangeRatesApi()\n",
    "    warehoused_codes = warehouse_hook.get_pandas_df(\n",
    "        sql=\"\"\"select code from currency_exchange_rates.currency_dimension\"\"\"\n",
    "    )['code'].tolist()\n",
    "    all_base_code_rates = []\n",
    "\n",
    "    for base_code in base_codes:\n",
    "        all_base_code_rates.append(exchange_rates_api.get_latest(\n",
    "            currency_codes=warehoused_codes,\n",
    "            base_code=base_code\n",
    "        ))\n",
    "\n",
    "    all_rates = []\n",
    "    for base_code in all_base_code_rates:\n",
    "        base = base_code['base']\n",
    "        date = base_code['date']\n",
    "        timestamp = base_code['timestamp']\n",
    "        rates = base_code['rates']\n",
    "        all_rates.extend(\n",
    "            [{'code': key, 'rate': value, 'base': base, 'date': date, 'timestamp': timestamp} for key, value in\n",
    "             rates.items()])\n",
    "\n",
    "    latest = pd.DataFrame(all_rates, columns=['base', 'date', 'timestamp', 'code', 'rate'])\n",
    "    currency_keys = warehouse_hook.get_pandas_df(\n",
    "        sql=\"\"\"\n",
    "            select code as code_, id as currency_key from currency_exchange_rates.currency_dimension\n",
    "            where code in %(currency_codes)s\n",
    "        \"\"\",\n",
    "        parameters={'currency_codes': tuple(latest['code'].unique().tolist())}\n",
    "    )\n",
    "    latest = latest.merge(\n",
    "        currency_keys,\n",
    "        left_on='base',\n",
    "        right_on='code_',\n",
    "        how='inner'\n",
    "    ).rename(columns={'currency_key': 'base2'}).drop(columns=['code_']).merge(\n",
    "        currency_keys,\n",
    "        left_on='code',\n",
    "        right_on='code_',\n",
    "        how='inner'\n",
    "    ).rename(columns={'currency_key': 'code2'}).drop(columns=['code_'])\n",
    "\n",
    "    return latest.dropna()\n",
    "\n",
    "    # warehouse_hook.insert_rows(\n",
    "    #     table='currency_exchange_rates.rates_fact_table',\n",
    "    #     target_fields=[\n",
    "    #         'currency_key_1', 'currency_key_2', 'conversion_rate', 'retrieved_on_timestamp', 'retrieved_on_date'\n",
    "    #     ],\n",
    "    #     replace=False,\n",
    "    #     rows=tuple(latest[[\n",
    "    #         'base', 'code', 'rate', 'timestamp', 'date'\n",
    "    #     ]].dropna().replace({np.nan: None}).itertuples(index=False, name=None)),\n",
    "    #     commit_every=0\n",
    "    # )\n",
    "\n",
    "conversion_rates = get_exchange_rates(base_codes=['KES', 'USD'])"
   ],
   "metadata": {
    "collapsed": false
   }
  },
  {
   "cell_type": "code",
   "execution_count": 23,
   "outputs": [
    {
     "name": "stdout",
     "output_type": "stream",
     "text": [
      "[\u001B[34m2023-04-23 11:55:08,673\u001B[0m] {\u001B[34mbase.py:\u001B[0m73} INFO\u001B[0m - Using connection ID 'airflow_warehouse_user' for task execution.\u001B[0m\n"
     ]
    },
    {
     "data": {
      "text/plain": "\u001B[1;33m/home/henrykuria/airflow_venv/lib/python3.10/site-packages/pandas/io/\u001B[0m\u001B[1;33msql.py\u001B[0m\u001B[1;33m:\u001B[0m\u001B[1;33m761\u001B[0m\u001B[1;33m UserWarning\u001B[0m\u001B[33m: pandas only support SQLAlchemy \u001B[0m\u001B[1;33mconnectable\u001B[0m\u001B[1;33m(\u001B[0m\u001B[33mengine/connection\u001B[0m\u001B[1;33m)\u001B[0m\u001B[33m ordatabase string URI or sqlite3 DBAPI2 connectionother DBAPI2 objects are not tested, please consider using SQLAlchemy\u001B[0m\n",
      "text/html": "<pre style=\"white-space:pre;overflow-x:auto;line-height:normal;font-family:Menlo,'DejaVu Sans Mono',consolas,'Courier New',monospace\"><span style=\"color: #808000; text-decoration-color: #808000; font-weight: bold\">/home/henrykuria/airflow_venv/lib/python3.10/site-packages/pandas/io/sql.py:</span><span style=\"color: #808000; text-decoration-color: #808000; font-weight: bold\">761</span><span style=\"color: #808000; text-decoration-color: #808000; font-weight: bold\"> UserWarning</span><span style=\"color: #808000; text-decoration-color: #808000\">: pandas only support SQLAlchemy </span><span style=\"color: #808000; text-decoration-color: #808000; font-weight: bold\">connectable(</span><span style=\"color: #808000; text-decoration-color: #808000\">engine/connection</span><span style=\"color: #808000; text-decoration-color: #808000; font-weight: bold\">)</span><span style=\"color: #808000; text-decoration-color: #808000\"> ordatabase string URI or sqlite3 DBAPI2 connectionother DBAPI2 objects are not tested, please consider using SQLAlchemy</span>\n</pre>\n"
     },
     "metadata": {},
     "output_type": "display_data"
    },
    {
     "data": {
      "text/plain": "  code_  currency_key\n1   NGN             2",
      "text/html": "<div>\n<style scoped>\n    .dataframe tbody tr th:only-of-type {\n        vertical-align: middle;\n    }\n\n    .dataframe tbody tr th {\n        vertical-align: top;\n    }\n\n    .dataframe thead th {\n        text-align: right;\n    }\n</style>\n<table border=\"1\" class=\"dataframe\">\n  <thead>\n    <tr style=\"text-align: right;\">\n      <th></th>\n      <th>code_</th>\n      <th>currency_key</th>\n    </tr>\n  </thead>\n  <tbody>\n    <tr>\n      <th>1</th>\n      <td>NGN</td>\n      <td>2</td>\n    </tr>\n  </tbody>\n</table>\n</div>"
     },
     "execution_count": 23,
     "metadata": {},
     "output_type": "execute_result"
    }
   ],
   "source": [
    "currency_keys = warehouse_hook.get_pandas_df(\n",
    "    sql=\"\"\"\n",
    "        select code as code_, id as currency_key from currency_exchange_rates.currency_dimension\n",
    "        where code in %(currency_codes)s\n",
    "    \"\"\",\n",
    "    parameters={'currency_codes': tuple(conversion_rates['code'].unique().tolist())}\n",
    ")\n",
    "currency_keys[currency_keys['code_'] == 'NGN']"
   ],
   "metadata": {
    "collapsed": false
   }
  },
  {
   "cell_type": "code",
   "execution_count": 30,
   "outputs": [
    {
     "data": {
      "text/plain": "    base        date   timestamp code         rate  base2  code2\n0    KES  2023-04-23  1682240463  RWF     8.297844      3      1\n1    USD  2023-04-23  1682240463  RWF  1113.000000      5      1\n2    KES  2023-04-23  1682240463  NGN     3.433432      3      2\n3    USD  2023-04-23  1682240463  NGN   460.530377      5      2\n4    KES  2023-04-23  1682240463  KES     1.000000      3      3\n..   ...         ...         ...  ...          ...    ...    ...\n335  USD  2023-04-23  1682240463  ZMK  9001.203589      5    169\n336  KES  2023-04-23  1682240463  ZMW     0.130214      3    170\n337  USD  2023-04-23  1682240463  ZMW    17.465772      5    170\n338  KES  2023-04-23  1682240463  ZWL     2.400631      3    171\n339  USD  2023-04-23  1682240463  ZWL   321.999592      5    171\n\n[340 rows x 7 columns]",
      "text/html": "<div>\n<style scoped>\n    .dataframe tbody tr th:only-of-type {\n        vertical-align: middle;\n    }\n\n    .dataframe tbody tr th {\n        vertical-align: top;\n    }\n\n    .dataframe thead th {\n        text-align: right;\n    }\n</style>\n<table border=\"1\" class=\"dataframe\">\n  <thead>\n    <tr style=\"text-align: right;\">\n      <th></th>\n      <th>base</th>\n      <th>date</th>\n      <th>timestamp</th>\n      <th>code</th>\n      <th>rate</th>\n      <th>base2</th>\n      <th>code2</th>\n    </tr>\n  </thead>\n  <tbody>\n    <tr>\n      <th>0</th>\n      <td>KES</td>\n      <td>2023-04-23</td>\n      <td>1682240463</td>\n      <td>RWF</td>\n      <td>8.297844</td>\n      <td>3</td>\n      <td>1</td>\n    </tr>\n    <tr>\n      <th>1</th>\n      <td>USD</td>\n      <td>2023-04-23</td>\n      <td>1682240463</td>\n      <td>RWF</td>\n      <td>1113.000000</td>\n      <td>5</td>\n      <td>1</td>\n    </tr>\n    <tr>\n      <th>2</th>\n      <td>KES</td>\n      <td>2023-04-23</td>\n      <td>1682240463</td>\n      <td>NGN</td>\n      <td>3.433432</td>\n      <td>3</td>\n      <td>2</td>\n    </tr>\n    <tr>\n      <th>3</th>\n      <td>USD</td>\n      <td>2023-04-23</td>\n      <td>1682240463</td>\n      <td>NGN</td>\n      <td>460.530377</td>\n      <td>5</td>\n      <td>2</td>\n    </tr>\n    <tr>\n      <th>4</th>\n      <td>KES</td>\n      <td>2023-04-23</td>\n      <td>1682240463</td>\n      <td>KES</td>\n      <td>1.000000</td>\n      <td>3</td>\n      <td>3</td>\n    </tr>\n    <tr>\n      <th>...</th>\n      <td>...</td>\n      <td>...</td>\n      <td>...</td>\n      <td>...</td>\n      <td>...</td>\n      <td>...</td>\n      <td>...</td>\n    </tr>\n    <tr>\n      <th>335</th>\n      <td>USD</td>\n      <td>2023-04-23</td>\n      <td>1682240463</td>\n      <td>ZMK</td>\n      <td>9001.203589</td>\n      <td>5</td>\n      <td>169</td>\n    </tr>\n    <tr>\n      <th>336</th>\n      <td>KES</td>\n      <td>2023-04-23</td>\n      <td>1682240463</td>\n      <td>ZMW</td>\n      <td>0.130214</td>\n      <td>3</td>\n      <td>170</td>\n    </tr>\n    <tr>\n      <th>337</th>\n      <td>USD</td>\n      <td>2023-04-23</td>\n      <td>1682240463</td>\n      <td>ZMW</td>\n      <td>17.465772</td>\n      <td>5</td>\n      <td>170</td>\n    </tr>\n    <tr>\n      <th>338</th>\n      <td>KES</td>\n      <td>2023-04-23</td>\n      <td>1682240463</td>\n      <td>ZWL</td>\n      <td>2.400631</td>\n      <td>3</td>\n      <td>171</td>\n    </tr>\n    <tr>\n      <th>339</th>\n      <td>USD</td>\n      <td>2023-04-23</td>\n      <td>1682240463</td>\n      <td>ZWL</td>\n      <td>321.999592</td>\n      <td>5</td>\n      <td>171</td>\n    </tr>\n  </tbody>\n</table>\n<p>340 rows × 7 columns</p>\n</div>"
     },
     "execution_count": 30,
     "metadata": {},
     "output_type": "execute_result"
    }
   ],
   "source": [
    "# conversion_rates['base2'] = conversion_rates.merge(currency_keys, left_on='base', right_on='code_', how='inner')['currency_key']\n",
    "# conversion_rates['code3'] = conversion_rates.merge(currency_keys, left_on='code', right_on='code_', how='inner')['currency_key'].tolist()\n",
    "#\n",
    "# # conversion_rates.merge(currency_keys, left_on='code', right_on='code_', how='inner')\n",
    "#\n",
    "# # conversion_rates[conversion_rates['code'] == 1]\n",
    "# conversion_rates[conversion_rates['code2'] == 1]\n",
    "conversion_rates[conversion_rates['code'] == 'NGN']\n",
    "# conversion_rates.merge(\n",
    "#     currency_keys,\n",
    "#     left_on='code',\n",
    "#     right_on='code_',\n",
    "#     how='inner'\n",
    "# ).rename(columns={'currency_key': 'base3'})"
   ],
   "metadata": {
    "collapsed": false
   }
  }
 ],
 "metadata": {
  "kernelspec": {
   "display_name": "Python 3",
   "language": "python",
   "name": "python3"
  },
  "language_info": {
   "codemirror_mode": {
    "name": "ipython",
    "version": 2
   },
   "file_extension": ".py",
   "mimetype": "text/x-python",
   "name": "python",
   "nbconvert_exporter": "python",
   "pygments_lexer": "ipython2",
   "version": "2.7.6"
  }
 },
 "nbformat": 4,
 "nbformat_minor": 0
}
