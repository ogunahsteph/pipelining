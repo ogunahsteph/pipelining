{
 "cells": [
  {
   "cell_type": "code",
   "execution_count": 1,
   "metadata": {
    "collapsed": true
   },
   "outputs": [
    {
     "data": {
      "text/plain": "\u001B[1;33m/tmp/ipykernel_17801/\u001B[0m\u001B[1;33m100039020.py\u001B[0m\u001B[1;33m:\u001B[0m\u001B[1;33m10\u001B[0m\u001B[1;33m DeprecationWarning\u001B[0m\u001B[33m: The \u001B[0m\u001B[33m\"schema\"\u001B[0m\u001B[33m arg has been renamed to \u001B[0m\u001B[33m\"database\"\u001B[0m\u001B[33m as it contained the database name.Please use \u001B[0m\u001B[33m\"database\"\u001B[0m\u001B[33m to set the database name.\u001B[0m\n",
      "text/html": "<pre style=\"white-space:pre;overflow-x:auto;line-height:normal;font-family:Menlo,'DejaVu Sans Mono',consolas,'Courier New',monospace\"><span style=\"color: #808000; text-decoration-color: #808000; font-weight: bold\">/tmp/ipykernel_17801/100039020.py:</span><span style=\"color: #808000; text-decoration-color: #808000; font-weight: bold\">10</span><span style=\"color: #808000; text-decoration-color: #808000; font-weight: bold\"> DeprecationWarning</span><span style=\"color: #808000; text-decoration-color: #808000\">: The </span><span style=\"color: #808000; text-decoration-color: #808000\">\"schema\"</span><span style=\"color: #808000; text-decoration-color: #808000\"> arg has been renamed to </span><span style=\"color: #808000; text-decoration-color: #808000\">\"database\"</span><span style=\"color: #808000; text-decoration-color: #808000\"> as it contained the database name.Please use </span><span style=\"color: #808000; text-decoration-color: #808000\">\"database\"</span><span style=\"color: #808000; text-decoration-color: #808000\"> to set the database name.</span>\n</pre>\n"
     },
     "metadata": {},
     "output_type": "display_data"
    }
   ],
   "source": [
    "import json\n",
    "import pandas as pd\n",
    "import numpy as np\n",
    "import datetime\n",
    "from airflow.providers.postgres.hooks.postgres import PostgresHook\n",
    "from airflow.providers.mysql.hooks.mysql import MySqlHook\n",
    "from fuzzywuzzy import fuzz\n",
    "import seaborn as sns\n",
    "\n",
    "warehouse_hook = PostgresHook(postgres_conn_id='airflow_warehouse_user', schema='ubuntu')\n",
    "mifos_hook = MySqlHook(mysql_conn_id='mifos_db', schema='mifostenant-safaricom')\n",
    "local_airflow_hook_hook = MySqlHook(mysql_conn_id='local_airflow_db', schema='airflow_db')"
   ]
  },
  {
   "cell_type": "code",
   "execution_count": 3,
   "outputs": [],
   "source": [
    "dt = pd.read_excel('~/data/ORG_4018601_Loan Repayment Account_Completed_20230221103517 (1).xls', skiprows=6)\n",
    "dt2 = pd.read_excel('~/data/ORG_4018601_Loan Disbursement Account_Completed_20230221103434 (1).xls', skiprows=6)"
   ],
   "metadata": {
    "collapsed": false
   }
  },
  {
   "cell_type": "code",
   "execution_count": 6,
   "outputs": [
    {
     "name": "stdout",
     "output_type": "stream",
     "text": [
      "[\u001B[34m2023-06-12 16:29:04,791\u001B[0m] {\u001B[34mbase.py:\u001B[0m73} INFO\u001B[0m - Using connection ID 'airflow_warehouse_user' for task execution.\u001B[0m\n"
     ]
    },
    {
     "ename": "OperationalError",
     "evalue": "connection to server at \"157.245.248.249\", port 5432 failed: Connection timed out\n\tIs the server running on that host and accepting TCP/IP connections?\n",
     "output_type": "error",
     "traceback": [
      "\u001B[0;31m---------------------------------------------------------------------------\u001B[0m",
      "\u001B[0;31mOperationalError\u001B[0m                          Traceback (most recent call last)",
      "Input \u001B[0;32mIn [6]\u001B[0m, in \u001B[0;36m<cell line: 1>\u001B[0;34m()\u001B[0m\n\u001B[0;32m----> 1\u001B[0m existing_disb \u001B[38;5;241m=\u001B[39m \u001B[43mwarehouse_hook\u001B[49m\u001B[38;5;241;43m.\u001B[39;49m\u001B[43mget_pandas_df\u001B[49m\u001B[43m(\u001B[49m\n\u001B[1;32m      2\u001B[0m \u001B[43m    \u001B[49m\u001B[43msql\u001B[49m\u001B[38;5;241;43m=\u001B[39;49m\u001B[38;5;124;43m\"\"\"\u001B[39;49m\n\u001B[1;32m      3\u001B[0m \u001B[38;5;124;43m        select fund_movement_transaction_id from bloomlive.raw_tep_disbursements where fund_movement_transaction_id in \u001B[39;49m\u001B[38;5;132;43;01m%(fmti)s\u001B[39;49;00m\n\u001B[1;32m      4\u001B[0m \u001B[38;5;124;43m    \u001B[39;49m\u001B[38;5;124;43m\"\"\"\u001B[39;49m\u001B[43m,\u001B[49m\n\u001B[1;32m      5\u001B[0m \u001B[43m    \u001B[49m\u001B[43mparameters\u001B[49m\u001B[38;5;241;43m=\u001B[39;49m\u001B[43m{\u001B[49m\u001B[38;5;124;43m'\u001B[39;49m\u001B[38;5;124;43mfmti\u001B[39;49m\u001B[38;5;124;43m'\u001B[39;49m\u001B[43m:\u001B[49m\u001B[43m \u001B[49m\u001B[38;5;28;43mtuple\u001B[39;49m\u001B[43m(\u001B[49m\u001B[43mdt2\u001B[49m\u001B[43m[\u001B[49m\u001B[38;5;124;43m'\u001B[39;49m\u001B[38;5;124;43mReceipt No.\u001B[39;49m\u001B[38;5;124;43m'\u001B[39;49m\u001B[43m]\u001B[49m\u001B[38;5;241;43m.\u001B[39;49m\u001B[43mtolist\u001B[49m\u001B[43m(\u001B[49m\u001B[43m)\u001B[49m\u001B[43m)\u001B[49m\u001B[43m}\u001B[49m\n\u001B[1;32m      6\u001B[0m \u001B[43m)\u001B[49m\n\u001B[1;32m      7\u001B[0m missing_disb \u001B[38;5;241m=\u001B[39m dt2[\u001B[38;5;241m~\u001B[39mdt2[\u001B[38;5;124m'\u001B[39m\u001B[38;5;124mReceipt No.\u001B[39m\u001B[38;5;124m'\u001B[39m]\u001B[38;5;241m.\u001B[39misin(existing_disb[\u001B[38;5;124m'\u001B[39m\u001B[38;5;124mfund_movement_transaction_id\u001B[39m\u001B[38;5;124m'\u001B[39m]\u001B[38;5;241m.\u001B[39mtolist())]\n\u001B[1;32m      8\u001B[0m existing_rep \u001B[38;5;241m=\u001B[39m warehouse_hook\u001B[38;5;241m.\u001B[39mget_pandas_df(\n\u001B[1;32m      9\u001B[0m     sql\u001B[38;5;241m=\u001B[39m\u001B[38;5;124m\"\"\"\u001B[39m\n\u001B[1;32m     10\u001B[0m \u001B[38;5;124m        select fund_movement_transaction_id from bloomlive.raw_tep_repayments where fund_movement_transaction_id in \u001B[39m\u001B[38;5;132;01m%(fmti)s\u001B[39;00m\n\u001B[1;32m     11\u001B[0m \u001B[38;5;124m    \u001B[39m\u001B[38;5;124m\"\"\"\u001B[39m,\n\u001B[1;32m     12\u001B[0m     parameters\u001B[38;5;241m=\u001B[39m{\u001B[38;5;124m'\u001B[39m\u001B[38;5;124mfmti\u001B[39m\u001B[38;5;124m'\u001B[39m: \u001B[38;5;28mtuple\u001B[39m(dt[\u001B[38;5;124m'\u001B[39m\u001B[38;5;124mReceipt No.\u001B[39m\u001B[38;5;124m'\u001B[39m]\u001B[38;5;241m.\u001B[39mtolist())}\n\u001B[1;32m     13\u001B[0m )\n",
      "File \u001B[0;32m~/airflow_venv/lib/python3.10/site-packages/airflow/providers/common/sql/hooks/sql.py:189\u001B[0m, in \u001B[0;36mDbApiHook.get_pandas_df\u001B[0;34m(self, sql, parameters, **kwargs)\u001B[0m\n\u001B[1;32m    183\u001B[0m \u001B[38;5;28;01mexcept\u001B[39;00m \u001B[38;5;167;01mImportError\u001B[39;00m:\n\u001B[1;32m    184\u001B[0m     \u001B[38;5;28;01mraise\u001B[39;00m \u001B[38;5;167;01mException\u001B[39;00m(\n\u001B[1;32m    185\u001B[0m         \u001B[38;5;124m\"\u001B[39m\u001B[38;5;124mpandas library not installed, run: pip install \u001B[39m\u001B[38;5;124m\"\u001B[39m\n\u001B[1;32m    186\u001B[0m         \u001B[38;5;124m\"\u001B[39m\u001B[38;5;124m'\u001B[39m\u001B[38;5;124mapache-airflow-providers-common-sql[pandas]\u001B[39m\u001B[38;5;124m'\u001B[39m\u001B[38;5;124m.\u001B[39m\u001B[38;5;124m\"\u001B[39m\n\u001B[1;32m    187\u001B[0m     )\n\u001B[0;32m--> 189\u001B[0m \u001B[38;5;28;01mwith\u001B[39;00m closing(\u001B[38;5;28;43mself\u001B[39;49m\u001B[38;5;241;43m.\u001B[39;49m\u001B[43mget_conn\u001B[49m\u001B[43m(\u001B[49m\u001B[43m)\u001B[49m) \u001B[38;5;28;01mas\u001B[39;00m conn:\n\u001B[1;32m    190\u001B[0m     \u001B[38;5;28;01mreturn\u001B[39;00m psql\u001B[38;5;241m.\u001B[39mread_sql(sql, con\u001B[38;5;241m=\u001B[39mconn, params\u001B[38;5;241m=\u001B[39mparameters, \u001B[38;5;241m*\u001B[39m\u001B[38;5;241m*\u001B[39mkwargs)\n",
      "File \u001B[0;32m~/airflow_venv/lib/python3.10/site-packages/airflow/providers/postgres/hooks/postgres.py:144\u001B[0m, in \u001B[0;36mPostgresHook.get_conn\u001B[0;34m(self)\u001B[0m\n\u001B[1;32m    135\u001B[0m     \u001B[38;5;28;01mif\u001B[39;00m arg_name \u001B[38;5;129;01mnot\u001B[39;00m \u001B[38;5;129;01min\u001B[39;00m [\n\u001B[1;32m    136\u001B[0m         \u001B[38;5;124m\"\u001B[39m\u001B[38;5;124miam\u001B[39m\u001B[38;5;124m\"\u001B[39m,\n\u001B[1;32m    137\u001B[0m         \u001B[38;5;124m\"\u001B[39m\u001B[38;5;124mredshift\u001B[39m\u001B[38;5;124m\"\u001B[39m,\n\u001B[0;32m   (...)\u001B[0m\n\u001B[1;32m    140\u001B[0m         \u001B[38;5;124m\"\u001B[39m\u001B[38;5;124maws_conn_id\u001B[39m\u001B[38;5;124m\"\u001B[39m,\n\u001B[1;32m    141\u001B[0m     ]:\n\u001B[1;32m    142\u001B[0m         conn_args[arg_name] \u001B[38;5;241m=\u001B[39m arg_val\n\u001B[0;32m--> 144\u001B[0m \u001B[38;5;28mself\u001B[39m\u001B[38;5;241m.\u001B[39mconn \u001B[38;5;241m=\u001B[39m \u001B[43mpsycopg2\u001B[49m\u001B[38;5;241;43m.\u001B[39;49m\u001B[43mconnect\u001B[49m\u001B[43m(\u001B[49m\u001B[38;5;241;43m*\u001B[39;49m\u001B[38;5;241;43m*\u001B[39;49m\u001B[43mconn_args\u001B[49m\u001B[43m)\u001B[49m\n\u001B[1;32m    145\u001B[0m \u001B[38;5;28;01mreturn\u001B[39;00m \u001B[38;5;28mself\u001B[39m\u001B[38;5;241m.\u001B[39mconn\n",
      "File \u001B[0;32m~/airflow_venv/lib/python3.10/site-packages/psycopg2/__init__.py:122\u001B[0m, in \u001B[0;36mconnect\u001B[0;34m(dsn, connection_factory, cursor_factory, **kwargs)\u001B[0m\n\u001B[1;32m    119\u001B[0m     kwasync[\u001B[38;5;124m'\u001B[39m\u001B[38;5;124masync_\u001B[39m\u001B[38;5;124m'\u001B[39m] \u001B[38;5;241m=\u001B[39m kwargs\u001B[38;5;241m.\u001B[39mpop(\u001B[38;5;124m'\u001B[39m\u001B[38;5;124masync_\u001B[39m\u001B[38;5;124m'\u001B[39m)\n\u001B[1;32m    121\u001B[0m dsn \u001B[38;5;241m=\u001B[39m _ext\u001B[38;5;241m.\u001B[39mmake_dsn(dsn, \u001B[38;5;241m*\u001B[39m\u001B[38;5;241m*\u001B[39mkwargs)\n\u001B[0;32m--> 122\u001B[0m conn \u001B[38;5;241m=\u001B[39m \u001B[43m_connect\u001B[49m\u001B[43m(\u001B[49m\u001B[43mdsn\u001B[49m\u001B[43m,\u001B[49m\u001B[43m \u001B[49m\u001B[43mconnection_factory\u001B[49m\u001B[38;5;241;43m=\u001B[39;49m\u001B[43mconnection_factory\u001B[49m\u001B[43m,\u001B[49m\u001B[43m \u001B[49m\u001B[38;5;241;43m*\u001B[39;49m\u001B[38;5;241;43m*\u001B[39;49m\u001B[43mkwasync\u001B[49m\u001B[43m)\u001B[49m\n\u001B[1;32m    123\u001B[0m \u001B[38;5;28;01mif\u001B[39;00m cursor_factory \u001B[38;5;129;01mis\u001B[39;00m \u001B[38;5;129;01mnot\u001B[39;00m \u001B[38;5;28;01mNone\u001B[39;00m:\n\u001B[1;32m    124\u001B[0m     conn\u001B[38;5;241m.\u001B[39mcursor_factory \u001B[38;5;241m=\u001B[39m cursor_factory\n",
      "\u001B[0;31mOperationalError\u001B[0m: connection to server at \"157.245.248.249\", port 5432 failed: Connection timed out\n\tIs the server running on that host and accepting TCP/IP connections?\n"
     ]
    }
   ],
   "source": [
    "existing_disb = warehouse_hook.get_pandas_df(\n",
    "    sql=\"\"\"\n",
    "        select fund_movement_transaction_id from bloomlive.raw_tep_disbursements where fund_movement_transaction_id in %(fmti)s\n",
    "    \"\"\",\n",
    "    parameters={'fmti': tuple(dt2['Receipt No.'].tolist())}\n",
    ")\n",
    "missing_disb = dt2[~dt2['Receipt No.'].isin(existing_disb['fund_movement_transaction_id'].tolist())]\n",
    "existing_rep = warehouse_hook.get_pandas_df(\n",
    "    sql=\"\"\"\n",
    "        select fund_movement_transaction_id from bloomlive.raw_tep_repayments where fund_movement_transaction_id in %(fmti)s\n",
    "    \"\"\",\n",
    "    parameters={'fmti': tuple(dt['Receipt No.'].tolist())}\n",
    ")\n",
    "missing_rep = dt[~dt['Receipt No.'].isin(existing_rep['fund_movement_transaction_id'].tolist())]"
   ],
   "metadata": {
    "collapsed": false
   }
  },
  {
   "cell_type": "code",
   "execution_count": 23,
   "outputs": [
    {
     "data": {
      "text/plain": "  Receipt No.      Completion Time      Initiation Time  \\\n2  RBL25CWF1M  21-02-2023 09:59:14  21-02-2023 09:58:25   \n\n                                             Details Transaction Status  \\\n2  Faraja Term Loan Principal to Disbursement Tra...          Completed   \n\n      Paid In  Withdrawn     Balance  Balance Confirmed  \\\n2  7454603.13        NaN  12298224.7               True   \n\n                                  Reason Type  \\\n2  Faraja Term Loan Principal to Disbursement   \n\n                        Other Party Info  Linked Transaction ID  A/C No.  \n2  4018601 - Asante Financial Services 1                    NaN      NaN  ",
      "text/html": "<div>\n<style scoped>\n    .dataframe tbody tr th:only-of-type {\n        vertical-align: middle;\n    }\n\n    .dataframe tbody tr th {\n        vertical-align: top;\n    }\n\n    .dataframe thead th {\n        text-align: right;\n    }\n</style>\n<table border=\"1\" class=\"dataframe\">\n  <thead>\n    <tr style=\"text-align: right;\">\n      <th></th>\n      <th>Receipt No.</th>\n      <th>Completion Time</th>\n      <th>Initiation Time</th>\n      <th>Details</th>\n      <th>Transaction Status</th>\n      <th>Paid In</th>\n      <th>Withdrawn</th>\n      <th>Balance</th>\n      <th>Balance Confirmed</th>\n      <th>Reason Type</th>\n      <th>Other Party Info</th>\n      <th>Linked Transaction ID</th>\n      <th>A/C No.</th>\n    </tr>\n  </thead>\n  <tbody>\n    <tr>\n      <th>2</th>\n      <td>RBL25CWF1M</td>\n      <td>21-02-2023 09:59:14</td>\n      <td>21-02-2023 09:58:25</td>\n      <td>Faraja Term Loan Principal to Disbursement Tra...</td>\n      <td>Completed</td>\n      <td>7454603.13</td>\n      <td>NaN</td>\n      <td>12298224.7</td>\n      <td>True</td>\n      <td>Faraja Term Loan Principal to Disbursement</td>\n      <td>4018601 - Asante Financial Services 1</td>\n      <td>NaN</td>\n      <td>NaN</td>\n    </tr>\n  </tbody>\n</table>\n</div>"
     },
     "execution_count": 23,
     "metadata": {},
     "output_type": "execute_result"
    }
   ],
   "source": [
    "missing_disb.drop_duplicates(subset=['Receipt No.'])"
   ],
   "metadata": {
    "collapsed": false
   }
  },
  {
   "cell_type": "code",
   "execution_count": 25,
   "outputs": [
    {
     "data": {
      "text/plain": "    Receipt No.      Completion Time      Initiation Time  \\\n101  RBL94XA697  21-02-2023 01:00:43  21-02-2023 01:00:43   \n102  RBL64XAICO  21-02-2023 01:00:43  21-02-2023 01:00:43   \n103  RBL64XACAM  21-02-2023 01:00:43  21-02-2023 01:00:43   \n104  RBL64XA69E  21-02-2023 01:00:43  21-02-2023 01:00:43   \n105  RBL14XAAS1  21-02-2023 01:00:43  21-02-2023 01:00:43   \n106  RBL04X9ZIQ  21-02-2023 01:00:43  21-02-2023 01:00:43   \n\n                                 Details Transaction Status  Paid In  \\\n101       Loan Soko Principal Settlement          Completed      NaN   \n102  Asante Term Loan Revenue Settlement          Completed      NaN   \n103  Asante Term Loan Revenue Settlement          Completed      NaN   \n104       Loan Soko Principal Settlement          Completed      NaN   \n105       Loan Soko Principal Settlement          Completed      NaN   \n106  Asante Term Loan Revenue Settlement          Completed      NaN   \n\n      Withdrawn     Balance  Balance Confirmed  \\\n101 -2718998.58   652043.94               True   \n102  -220603.96   111104.82               True   \n103      -62.31   111042.51               True   \n104    -7340.00   644703.94               True   \n105 -4728264.55  3371042.52               True   \n106  -312995.16   331708.78               True   \n\n                             Reason Type  \\\n101       Term Loan Principal Settlement   \n102  Asante Term Loan Revenue Settlement   \n103  Asante Term Loan Revenue Settlement   \n104       Term Loan Principal Settlement   \n105       Term Loan Principal Settlement   \n106  Asante Term Loan Revenue Settlement   \n\n                          Other Party Info  Linked Transaction ID  A/C No.  \n101  4018601 - Asante Financial Services 1                    NaN      NaN  \n102  4018601 - Asante Financial Services 1                    NaN      NaN  \n103  4018601 - Asante Financial Services 1                    NaN      NaN  \n104  4018601 - Asante Financial Services 1                    NaN      NaN  \n105  4018601 - Asante Financial Services 1                    NaN      NaN  \n106  4018601 - Asante Financial Services 1                    NaN      NaN  ",
      "text/html": "<div>\n<style scoped>\n    .dataframe tbody tr th:only-of-type {\n        vertical-align: middle;\n    }\n\n    .dataframe tbody tr th {\n        vertical-align: top;\n    }\n\n    .dataframe thead th {\n        text-align: right;\n    }\n</style>\n<table border=\"1\" class=\"dataframe\">\n  <thead>\n    <tr style=\"text-align: right;\">\n      <th></th>\n      <th>Receipt No.</th>\n      <th>Completion Time</th>\n      <th>Initiation Time</th>\n      <th>Details</th>\n      <th>Transaction Status</th>\n      <th>Paid In</th>\n      <th>Withdrawn</th>\n      <th>Balance</th>\n      <th>Balance Confirmed</th>\n      <th>Reason Type</th>\n      <th>Other Party Info</th>\n      <th>Linked Transaction ID</th>\n      <th>A/C No.</th>\n    </tr>\n  </thead>\n  <tbody>\n    <tr>\n      <th>101</th>\n      <td>RBL94XA697</td>\n      <td>21-02-2023 01:00:43</td>\n      <td>21-02-2023 01:00:43</td>\n      <td>Loan Soko Principal Settlement</td>\n      <td>Completed</td>\n      <td>NaN</td>\n      <td>-2718998.58</td>\n      <td>652043.94</td>\n      <td>True</td>\n      <td>Term Loan Principal Settlement</td>\n      <td>4018601 - Asante Financial Services 1</td>\n      <td>NaN</td>\n      <td>NaN</td>\n    </tr>\n    <tr>\n      <th>102</th>\n      <td>RBL64XAICO</td>\n      <td>21-02-2023 01:00:43</td>\n      <td>21-02-2023 01:00:43</td>\n      <td>Asante Term Loan Revenue Settlement</td>\n      <td>Completed</td>\n      <td>NaN</td>\n      <td>-220603.96</td>\n      <td>111104.82</td>\n      <td>True</td>\n      <td>Asante Term Loan Revenue Settlement</td>\n      <td>4018601 - Asante Financial Services 1</td>\n      <td>NaN</td>\n      <td>NaN</td>\n    </tr>\n    <tr>\n      <th>103</th>\n      <td>RBL64XACAM</td>\n      <td>21-02-2023 01:00:43</td>\n      <td>21-02-2023 01:00:43</td>\n      <td>Asante Term Loan Revenue Settlement</td>\n      <td>Completed</td>\n      <td>NaN</td>\n      <td>-62.31</td>\n      <td>111042.51</td>\n      <td>True</td>\n      <td>Asante Term Loan Revenue Settlement</td>\n      <td>4018601 - Asante Financial Services 1</td>\n      <td>NaN</td>\n      <td>NaN</td>\n    </tr>\n    <tr>\n      <th>104</th>\n      <td>RBL64XA69E</td>\n      <td>21-02-2023 01:00:43</td>\n      <td>21-02-2023 01:00:43</td>\n      <td>Loan Soko Principal Settlement</td>\n      <td>Completed</td>\n      <td>NaN</td>\n      <td>-7340.00</td>\n      <td>644703.94</td>\n      <td>True</td>\n      <td>Term Loan Principal Settlement</td>\n      <td>4018601 - Asante Financial Services 1</td>\n      <td>NaN</td>\n      <td>NaN</td>\n    </tr>\n    <tr>\n      <th>105</th>\n      <td>RBL14XAAS1</td>\n      <td>21-02-2023 01:00:43</td>\n      <td>21-02-2023 01:00:43</td>\n      <td>Loan Soko Principal Settlement</td>\n      <td>Completed</td>\n      <td>NaN</td>\n      <td>-4728264.55</td>\n      <td>3371042.52</td>\n      <td>True</td>\n      <td>Term Loan Principal Settlement</td>\n      <td>4018601 - Asante Financial Services 1</td>\n      <td>NaN</td>\n      <td>NaN</td>\n    </tr>\n    <tr>\n      <th>106</th>\n      <td>RBL04X9ZIQ</td>\n      <td>21-02-2023 01:00:43</td>\n      <td>21-02-2023 01:00:43</td>\n      <td>Asante Term Loan Revenue Settlement</td>\n      <td>Completed</td>\n      <td>NaN</td>\n      <td>-312995.16</td>\n      <td>331708.78</td>\n      <td>True</td>\n      <td>Asante Term Loan Revenue Settlement</td>\n      <td>4018601 - Asante Financial Services 1</td>\n      <td>NaN</td>\n      <td>NaN</td>\n    </tr>\n  </tbody>\n</table>\n</div>"
     },
     "execution_count": 25,
     "metadata": {},
     "output_type": "execute_result"
    }
   ],
   "source": [
    "missing_rep.drop_duplicates(subset=['Receipt No.'])"
   ],
   "metadata": {
    "collapsed": false
   }
  },
  {
   "cell_type": "code",
   "execution_count": 26,
   "outputs": [
    {
     "name": "stdout",
     "output_type": "stream",
     "text": [
      "[\u001B[34m2023-02-23 08:10:57,331\u001B[0m] {\u001B[34mbase.py:\u001B[0m73} INFO\u001B[0m - Using connection ID 'airflow_warehouse_user' for task execution.\u001B[0m\n"
     ]
    },
    {
     "data": {
      "text/plain": "\u001B[1;33m/home/henrykuria/airflow_venv/lib/python3.10/site-packages/airflow/providers/common/sql/hooks/\u001B[0m\u001B[1;33msql.py\u001B[0m\u001B[1;33m:\u001B[0m\u001B[1;33m190\u001B[0m\u001B[1;33m UserWarning\u001B[0m\u001B[33m: pandas only supports SQLAlchemy connectable \u001B[0m\u001B[1;33m(\u001B[0m\u001B[33mengine/connection\u001B[0m\u001B[1;33m)\u001B[0m\u001B[33m or database string URI or sqlite3 DBAPI2 connection. Other DBAPI2 objects are not tested. Please consider using SQLAlchemy.\u001B[0m\n",
      "text/html": "<pre style=\"white-space:pre;overflow-x:auto;line-height:normal;font-family:Menlo,'DejaVu Sans Mono',consolas,'Courier New',monospace\"><span style=\"color: #808000; text-decoration-color: #808000; font-weight: bold\">/home/henrykuria/airflow_venv/lib/python3.10/site-packages/airflow/providers/common/sql/hooks/sql.py:</span><span style=\"color: #808000; text-decoration-color: #808000; font-weight: bold\">190</span><span style=\"color: #808000; text-decoration-color: #808000; font-weight: bold\"> UserWarning</span><span style=\"color: #808000; text-decoration-color: #808000\">: pandas only supports SQLAlchemy connectable </span><span style=\"color: #808000; text-decoration-color: #808000; font-weight: bold\">(</span><span style=\"color: #808000; text-decoration-color: #808000\">engine/connection</span><span style=\"color: #808000; text-decoration-color: #808000; font-weight: bold\">)</span><span style=\"color: #808000; text-decoration-color: #808000\"> or database string URI or sqlite3 DBAPI2 connection. Other DBAPI2 objects are not tested. Please consider using SQLAlchemy.</span>\n</pre>\n"
     },
     "metadata": {},
     "output_type": "display_data"
    }
   ],
   "source": [
    "in_mifos = warehouse_hook.get_pandas_df(\n",
    "    sql=\"\"\"\n",
    "    select * from bloomlive.transactions_dimension where receipt_number in %(refs)s\"\"\",\n",
    "    parameters={'refs': tuple(missing_disb['Receipt No.'].tolist())}\n",
    ")"
   ],
   "metadata": {
    "collapsed": false
   }
  },
  {
   "cell_type": "code",
   "execution_count": 27,
   "outputs": [
    {
     "data": {
      "text/plain": "  Receipt No.      Completion Time      Initiation Time  \\\n2  RBL25CWF1M  21-02-2023 09:59:14  21-02-2023 09:58:25   \n\n                                             Details Transaction Status  \\\n2  Faraja Term Loan Principal to Disbursement Tra...          Completed   \n\n      Paid In  Withdrawn     Balance  Balance Confirmed  \\\n2  7454603.13        NaN  12298224.7               True   \n\n                                  Reason Type  \\\n2  Faraja Term Loan Principal to Disbursement   \n\n                        Other Party Info  Linked Transaction ID  A/C No.  \n2  4018601 - Asante Financial Services 1                    NaN      NaN  ",
      "text/html": "<div>\n<style scoped>\n    .dataframe tbody tr th:only-of-type {\n        vertical-align: middle;\n    }\n\n    .dataframe tbody tr th {\n        vertical-align: top;\n    }\n\n    .dataframe thead th {\n        text-align: right;\n    }\n</style>\n<table border=\"1\" class=\"dataframe\">\n  <thead>\n    <tr style=\"text-align: right;\">\n      <th></th>\n      <th>Receipt No.</th>\n      <th>Completion Time</th>\n      <th>Initiation Time</th>\n      <th>Details</th>\n      <th>Transaction Status</th>\n      <th>Paid In</th>\n      <th>Withdrawn</th>\n      <th>Balance</th>\n      <th>Balance Confirmed</th>\n      <th>Reason Type</th>\n      <th>Other Party Info</th>\n      <th>Linked Transaction ID</th>\n      <th>A/C No.</th>\n    </tr>\n  </thead>\n  <tbody>\n    <tr>\n      <th>2</th>\n      <td>RBL25CWF1M</td>\n      <td>21-02-2023 09:59:14</td>\n      <td>21-02-2023 09:58:25</td>\n      <td>Faraja Term Loan Principal to Disbursement Tra...</td>\n      <td>Completed</td>\n      <td>7454603.13</td>\n      <td>NaN</td>\n      <td>12298224.7</td>\n      <td>True</td>\n      <td>Faraja Term Loan Principal to Disbursement</td>\n      <td>4018601 - Asante Financial Services 1</td>\n      <td>NaN</td>\n      <td>NaN</td>\n    </tr>\n  </tbody>\n</table>\n</div>"
     },
     "execution_count": 27,
     "metadata": {},
     "output_type": "execute_result"
    }
   ],
   "source": [
    "missing_disb[~missing_disb['Receipt No.'].isin(in_mifos['receipt_number'].tolist())]"
   ],
   "metadata": {
    "collapsed": false
   }
  },
  {
   "cell_type": "code",
   "execution_count": 28,
   "outputs": [
    {
     "name": "stdout",
     "output_type": "stream",
     "text": [
      "[\u001B[34m2023-02-23 08:11:12,103\u001B[0m] {\u001B[34mbase.py:\u001B[0m73} INFO\u001B[0m - Using connection ID 'airflow_warehouse_user' for task execution.\u001B[0m\n"
     ]
    },
    {
     "data": {
      "text/plain": "\u001B[1;33m/home/henrykuria/airflow_venv/lib/python3.10/site-packages/airflow/providers/common/sql/hooks/\u001B[0m\u001B[1;33msql.py\u001B[0m\u001B[1;33m:\u001B[0m\u001B[1;33m190\u001B[0m\u001B[1;33m UserWarning\u001B[0m\u001B[33m: pandas only supports SQLAlchemy connectable \u001B[0m\u001B[1;33m(\u001B[0m\u001B[33mengine/connection\u001B[0m\u001B[1;33m)\u001B[0m\u001B[33m or database string URI or sqlite3 DBAPI2 connection. Other DBAPI2 objects are not tested. Please consider using SQLAlchemy.\u001B[0m\n",
      "text/html": "<pre style=\"white-space:pre;overflow-x:auto;line-height:normal;font-family:Menlo,'DejaVu Sans Mono',consolas,'Courier New',monospace\"><span style=\"color: #808000; text-decoration-color: #808000; font-weight: bold\">/home/henrykuria/airflow_venv/lib/python3.10/site-packages/airflow/providers/common/sql/hooks/sql.py:</span><span style=\"color: #808000; text-decoration-color: #808000; font-weight: bold\">190</span><span style=\"color: #808000; text-decoration-color: #808000; font-weight: bold\"> UserWarning</span><span style=\"color: #808000; text-decoration-color: #808000\">: pandas only supports SQLAlchemy connectable </span><span style=\"color: #808000; text-decoration-color: #808000; font-weight: bold\">(</span><span style=\"color: #808000; text-decoration-color: #808000\">engine/connection</span><span style=\"color: #808000; text-decoration-color: #808000; font-weight: bold\">)</span><span style=\"color: #808000; text-decoration-color: #808000\"> or database string URI or sqlite3 DBAPI2 connection. Other DBAPI2 objects are not tested. Please consider using SQLAlchemy.</span>\n</pre>\n"
     },
     "metadata": {},
     "output_type": "display_data"
    }
   ],
   "source": [
    "in_mifos_reps = warehouse_hook.get_pandas_df(\n",
    "    sql=\"\"\"\n",
    "    select * from bloomlive.transactions_dimension where receipt_number in %(refs)s\"\"\",\n",
    "    parameters={'refs': tuple(missing_rep['Receipt No.'].tolist())}\n",
    ")"
   ],
   "metadata": {
    "collapsed": false
   }
  },
  {
   "cell_type": "code",
   "execution_count": 29,
   "outputs": [
    {
     "data": {
      "text/plain": "    Receipt No.      Completion Time      Initiation Time  \\\n101  RBL94XA697  21-02-2023 01:00:43  21-02-2023 01:00:43   \n102  RBL64XAICO  21-02-2023 01:00:43  21-02-2023 01:00:43   \n103  RBL64XACAM  21-02-2023 01:00:43  21-02-2023 01:00:43   \n104  RBL64XA69E  21-02-2023 01:00:43  21-02-2023 01:00:43   \n105  RBL14XAAS1  21-02-2023 01:00:43  21-02-2023 01:00:43   \n106  RBL04X9ZIQ  21-02-2023 01:00:43  21-02-2023 01:00:43   \n\n                                 Details Transaction Status  Paid In  \\\n101       Loan Soko Principal Settlement          Completed      NaN   \n102  Asante Term Loan Revenue Settlement          Completed      NaN   \n103  Asante Term Loan Revenue Settlement          Completed      NaN   \n104       Loan Soko Principal Settlement          Completed      NaN   \n105       Loan Soko Principal Settlement          Completed      NaN   \n106  Asante Term Loan Revenue Settlement          Completed      NaN   \n\n      Withdrawn     Balance  Balance Confirmed  \\\n101 -2718998.58   652043.94               True   \n102  -220603.96   111104.82               True   \n103      -62.31   111042.51               True   \n104    -7340.00   644703.94               True   \n105 -4728264.55  3371042.52               True   \n106  -312995.16   331708.78               True   \n\n                             Reason Type  \\\n101       Term Loan Principal Settlement   \n102  Asante Term Loan Revenue Settlement   \n103  Asante Term Loan Revenue Settlement   \n104       Term Loan Principal Settlement   \n105       Term Loan Principal Settlement   \n106  Asante Term Loan Revenue Settlement   \n\n                          Other Party Info  Linked Transaction ID  A/C No.  \n101  4018601 - Asante Financial Services 1                    NaN      NaN  \n102  4018601 - Asante Financial Services 1                    NaN      NaN  \n103  4018601 - Asante Financial Services 1                    NaN      NaN  \n104  4018601 - Asante Financial Services 1                    NaN      NaN  \n105  4018601 - Asante Financial Services 1                    NaN      NaN  \n106  4018601 - Asante Financial Services 1                    NaN      NaN  ",
      "text/html": "<div>\n<style scoped>\n    .dataframe tbody tr th:only-of-type {\n        vertical-align: middle;\n    }\n\n    .dataframe tbody tr th {\n        vertical-align: top;\n    }\n\n    .dataframe thead th {\n        text-align: right;\n    }\n</style>\n<table border=\"1\" class=\"dataframe\">\n  <thead>\n    <tr style=\"text-align: right;\">\n      <th></th>\n      <th>Receipt No.</th>\n      <th>Completion Time</th>\n      <th>Initiation Time</th>\n      <th>Details</th>\n      <th>Transaction Status</th>\n      <th>Paid In</th>\n      <th>Withdrawn</th>\n      <th>Balance</th>\n      <th>Balance Confirmed</th>\n      <th>Reason Type</th>\n      <th>Other Party Info</th>\n      <th>Linked Transaction ID</th>\n      <th>A/C No.</th>\n    </tr>\n  </thead>\n  <tbody>\n    <tr>\n      <th>101</th>\n      <td>RBL94XA697</td>\n      <td>21-02-2023 01:00:43</td>\n      <td>21-02-2023 01:00:43</td>\n      <td>Loan Soko Principal Settlement</td>\n      <td>Completed</td>\n      <td>NaN</td>\n      <td>-2718998.58</td>\n      <td>652043.94</td>\n      <td>True</td>\n      <td>Term Loan Principal Settlement</td>\n      <td>4018601 - Asante Financial Services 1</td>\n      <td>NaN</td>\n      <td>NaN</td>\n    </tr>\n    <tr>\n      <th>102</th>\n      <td>RBL64XAICO</td>\n      <td>21-02-2023 01:00:43</td>\n      <td>21-02-2023 01:00:43</td>\n      <td>Asante Term Loan Revenue Settlement</td>\n      <td>Completed</td>\n      <td>NaN</td>\n      <td>-220603.96</td>\n      <td>111104.82</td>\n      <td>True</td>\n      <td>Asante Term Loan Revenue Settlement</td>\n      <td>4018601 - Asante Financial Services 1</td>\n      <td>NaN</td>\n      <td>NaN</td>\n    </tr>\n    <tr>\n      <th>103</th>\n      <td>RBL64XACAM</td>\n      <td>21-02-2023 01:00:43</td>\n      <td>21-02-2023 01:00:43</td>\n      <td>Asante Term Loan Revenue Settlement</td>\n      <td>Completed</td>\n      <td>NaN</td>\n      <td>-62.31</td>\n      <td>111042.51</td>\n      <td>True</td>\n      <td>Asante Term Loan Revenue Settlement</td>\n      <td>4018601 - Asante Financial Services 1</td>\n      <td>NaN</td>\n      <td>NaN</td>\n    </tr>\n    <tr>\n      <th>104</th>\n      <td>RBL64XA69E</td>\n      <td>21-02-2023 01:00:43</td>\n      <td>21-02-2023 01:00:43</td>\n      <td>Loan Soko Principal Settlement</td>\n      <td>Completed</td>\n      <td>NaN</td>\n      <td>-7340.00</td>\n      <td>644703.94</td>\n      <td>True</td>\n      <td>Term Loan Principal Settlement</td>\n      <td>4018601 - Asante Financial Services 1</td>\n      <td>NaN</td>\n      <td>NaN</td>\n    </tr>\n    <tr>\n      <th>105</th>\n      <td>RBL14XAAS1</td>\n      <td>21-02-2023 01:00:43</td>\n      <td>21-02-2023 01:00:43</td>\n      <td>Loan Soko Principal Settlement</td>\n      <td>Completed</td>\n      <td>NaN</td>\n      <td>-4728264.55</td>\n      <td>3371042.52</td>\n      <td>True</td>\n      <td>Term Loan Principal Settlement</td>\n      <td>4018601 - Asante Financial Services 1</td>\n      <td>NaN</td>\n      <td>NaN</td>\n    </tr>\n    <tr>\n      <th>106</th>\n      <td>RBL04X9ZIQ</td>\n      <td>21-02-2023 01:00:43</td>\n      <td>21-02-2023 01:00:43</td>\n      <td>Asante Term Loan Revenue Settlement</td>\n      <td>Completed</td>\n      <td>NaN</td>\n      <td>-312995.16</td>\n      <td>331708.78</td>\n      <td>True</td>\n      <td>Asante Term Loan Revenue Settlement</td>\n      <td>4018601 - Asante Financial Services 1</td>\n      <td>NaN</td>\n      <td>NaN</td>\n    </tr>\n  </tbody>\n</table>\n</div>"
     },
     "execution_count": 29,
     "metadata": {},
     "output_type": "execute_result"
    }
   ],
   "source": [
    "missing_rep[~missing_rep['Receipt No.'].isin(in_mifos['receipt_number'].tolist())]"
   ],
   "metadata": {
    "collapsed": false
   }
  },
  {
   "cell_type": "code",
   "execution_count": 29,
   "outputs": [
    {
     "name": "stdout",
     "output_type": "stream",
     "text": [
      "[\u001B[34m2023-02-08 09:17:08,064\u001B[0m] {\u001B[34mbase.py:\u001B[0m73} INFO\u001B[0m - Using connection ID 'airflow_warehouse_user' for task execution.\u001B[0m\n"
     ]
    },
    {
     "data": {
      "text/plain": "\u001B[1;33m/home/henrykuria/airflow_venv/lib/python3.10/site-packages/airflow/providers/common/sql/hooks/\u001B[0m\u001B[1;33msql.py\u001B[0m\u001B[1;33m:\u001B[0m\u001B[1;33m190\u001B[0m\u001B[1;33m UserWarning\u001B[0m\u001B[33m: pandas only supports SQLAlchemy connectable \u001B[0m\u001B[1;33m(\u001B[0m\u001B[33mengine/connection\u001B[0m\u001B[1;33m)\u001B[0m\u001B[33m or database string URI or sqlite3 DBAPI2 connection. Other DBAPI2 objects are not tested. Please consider using SQLAlchemy.\u001B[0m\n",
      "text/html": "<pre style=\"white-space:pre;overflow-x:auto;line-height:normal;font-family:Menlo,'DejaVu Sans Mono',consolas,'Courier New',monospace\"><span style=\"color: #808000; text-decoration-color: #808000; font-weight: bold\">/home/henrykuria/airflow_venv/lib/python3.10/site-packages/airflow/providers/common/sql/hooks/sql.py:</span><span style=\"color: #808000; text-decoration-color: #808000; font-weight: bold\">190</span><span style=\"color: #808000; text-decoration-color: #808000; font-weight: bold\"> UserWarning</span><span style=\"color: #808000; text-decoration-color: #808000\">: pandas only supports SQLAlchemy connectable </span><span style=\"color: #808000; text-decoration-color: #808000; font-weight: bold\">(</span><span style=\"color: #808000; text-decoration-color: #808000\">engine/connection</span><span style=\"color: #808000; text-decoration-color: #808000; font-weight: bold\">)</span><span style=\"color: #808000; text-decoration-color: #808000\"> or database string URI or sqlite3 DBAPI2 connection. Other DBAPI2 objects are not tested. Please consider using SQLAlchemy.</span>\n</pre>\n"
     },
     "metadata": {},
     "output_type": "display_data"
    }
   ],
   "source": [
    "warehouse_trxns = warehouse_hook.get_pandas_df(\n",
    "    sql=\"\"\"\n",
    "        select * from bloomlive.transactions_dimension\n",
    "        where transaction_date between '2023-01-01' and '2023-01-31'\n",
    "    \"\"\"\n",
    ")"
   ],
   "metadata": {
    "collapsed": false
   }
  },
  {
   "cell_type": "code",
   "execution_count": 28,
   "outputs": [
    {
     "name": "stdout",
     "output_type": "stream",
     "text": [
      "[\u001B[34m2023-02-08 09:16:52,279\u001B[0m] {\u001B[34mbase.py:\u001B[0m73} INFO\u001B[0m - Using connection ID 'mifos_db' for task execution.\u001B[0m\n"
     ]
    },
    {
     "data": {
      "text/plain": "\u001B[1;33m/home/henrykuria/airflow_venv/lib/python3.10/site-packages/airflow/providers/common/sql/hooks/\u001B[0m\u001B[1;33msql.py\u001B[0m\u001B[1;33m:\u001B[0m\u001B[1;33m190\u001B[0m\u001B[1;33m UserWarning\u001B[0m\u001B[33m: pandas only supports SQLAlchemy connectable \u001B[0m\u001B[1;33m(\u001B[0m\u001B[33mengine/connection\u001B[0m\u001B[1;33m)\u001B[0m\u001B[33m or database string URI or sqlite3 DBAPI2 connection. Other DBAPI2 objects are not tested. Please consider using SQLAlchemy.\u001B[0m\n",
      "text/html": "<pre style=\"white-space:pre;overflow-x:auto;line-height:normal;font-family:Menlo,'DejaVu Sans Mono',consolas,'Courier New',monospace\"><span style=\"color: #808000; text-decoration-color: #808000; font-weight: bold\">/home/henrykuria/airflow_venv/lib/python3.10/site-packages/airflow/providers/common/sql/hooks/sql.py:</span><span style=\"color: #808000; text-decoration-color: #808000; font-weight: bold\">190</span><span style=\"color: #808000; text-decoration-color: #808000; font-weight: bold\"> UserWarning</span><span style=\"color: #808000; text-decoration-color: #808000\">: pandas only supports SQLAlchemy connectable </span><span style=\"color: #808000; text-decoration-color: #808000; font-weight: bold\">(</span><span style=\"color: #808000; text-decoration-color: #808000\">engine/connection</span><span style=\"color: #808000; text-decoration-color: #808000; font-weight: bold\">)</span><span style=\"color: #808000; text-decoration-color: #808000\"> or database string URI or sqlite3 DBAPI2 connection. Other DBAPI2 objects are not tested. Please consider using SQLAlchemy.</span>\n</pre>\n"
     },
     "metadata": {},
     "output_type": "display_data"
    }
   ],
   "source": [
    "mifos_trxns = mifos_hook.get_pandas_df(\n",
    "    sql=\"\"\"\n",
    "        select\n",
    "            ml.id as loan_id, mpd.id as payment_id, mpd.account_number, mpt.value as payment_detail_id,\n",
    "            mpd.receipt_number, mlt.id as transaction_id, mlt.office_id,\n",
    "            mlt.is_reversed, mlt.transaction_type_enum, mlt.transaction_date, mlt.amount,\n",
    "            mlt.principal_portion_derived, mlt.interest_portion_derived, mlt.fee_charges_portion_derived,\n",
    "            mlt.submitted_on_date, mlt.created_date, mlt.appuser_id, mlt.outstanding_loan_balance_derived\n",
    "        from `mifostenant-safaricom`.m_loan ml\n",
    "        inner join `mifostenant-safaricom`.m_loan_transaction mlt on mlt.loan_id = ml.id\n",
    "        inner join `mifostenant-safaricom`.m_payment_detail mpd on mpd.id = mlt.payment_detail_id\n",
    "        left join `mifostenant-safaricom`.m_payment_type mpt on mpt.id = mpd.payment_type_id\n",
    "        where mlt.transaction_type_enum in (1, 2) and mlt.is_reversed = 0 and date(mlt.transaction_date) between '2023-01-01' and '2023-01-31'\n",
    "    \"\"\"\n",
    ")"
   ],
   "metadata": {
    "collapsed": false
   }
  },
  {
   "cell_type": "code",
   "execution_count": 30,
   "outputs": [],
   "source": [
    "extra_trxns = warehouse_trxns[~warehouse_trxns['transaction_id'].isin(mifos_trxns['transaction_id'].tolist())]\n",
    "\n",
    "# extra_trxns = mifos_trxns[~mifos_trxns['transaction_id'].isin(warehouse_trxns['transaction_id'].tolist())]"
   ],
   "metadata": {
    "collapsed": false
   }
  },
  {
   "cell_type": "code",
   "execution_count": 32,
   "outputs": [
    {
     "data": {
      "text/plain": "       surrogate_id mifos_loan_id  payment_id  account_number  \\\n6272        9490747        294577      822636        294577.0   \n6450        9490925        294549      822873        294549.0   \n7970        9492445        294819      824155        294819.0   \n8264        9492739        294530      824703        294530.0   \n8299        9492774        295359      824812        295359.0   \n...             ...           ...         ...             ...   \n22108       9507221        295523      844458        295523.0   \n22109       9507222        296748      844459        296748.0   \n22136       9507249        296098      844487        296098.0   \n22138       9507251        298725      844489        298725.0   \n22152       9507265        295245      844503        295245.0   \n\n      payment_detail_id receipt_number  transaction_id  is_reversed  \\\n6272     MpesaRepayment     RA60TZEBRO         3663299        False   \n6450     MpesaRepayment     RA66UAYFKC         3663286        False   \n7970     MpesaRepayment     RA80Z166IE         3663369        False   \n8264     MpesaRepayment     RA90ZM8YPQ         3663276        False   \n8299     MpesaRepayment     RA93ZRKOVL         3663592        False   \n...                 ...            ...             ...          ...   \n22108    MpesaRepayment     RAF1GVDNDZ         3656571        False   \n22109    MpesaRepayment     RAF4GTDI1M         3663937        False   \n22136    MpesaRepayment     RAD7AXU6HV         3663843        False   \n22138    MpesaRepayment     RAC78J16PD         3664377        False   \n22152    MpesaRepayment     RA85X6FFW9         3663544        False   \n\n       transaction_type_enum transaction_date  ...  \\\n6272                       2       2023-01-06  ...   \n6450                       2       2023-01-06  ...   \n7970                       2       2023-01-08  ...   \n8264                       2       2023-01-09  ...   \n8299                       2       2023-01-09  ...   \n...                      ...              ...  ...   \n22108                      2       2023-01-15  ...   \n22109                      2       2023-01-15  ...   \n22136                      2       2023-01-13  ...   \n22138                      2       2023-01-12  ...   \n22152                      2       2023-01-08  ...   \n\n       fee_charges_portion_derived  submitted_on_date        created_date  \\\n6272                        178.08         2023-02-07 2023-01-06 17:35:32   \n6450                         91.71         2023-02-07 2023-01-06 20:25:07   \n7970                         96.88         2023-02-07 2023-01-08 19:52:32   \n8264                         49.97         2023-02-07 2023-01-09 08:00:02   \n8299                         67.67         2023-02-07 2023-01-09 09:20:17   \n...                            ...                ...                 ...   \n22108                          NaN         2023-02-06 2023-01-26 09:55:55   \n22109                         6.27         2023-02-07 2023-01-26 09:56:10   \n22136                       464.04         2023-02-07 2023-01-26 10:06:01   \n22138                          NaN         2023-02-07 2023-01-26 10:07:31   \n22152                       309.36         2023-02-07 2023-01-26 10:09:22   \n\n       outstanding_loan_balance_derived appuser_id  \\\n6272                           27629.74          1   \n6450                            7844.37          1   \n7970                            4627.14          1   \n8264                            2100.00          1   \n8299                            6585.94          1   \n...                                 ...        ...   \n22108                           7000.00          1   \n22109                            113.16          1   \n22136                           1073.27          1   \n22138                            122.33          1   \n22152                           1197.68          1   \n\n      record_added_to_warehouse_on_timestamp  bloom_version  is_disbursement  \\\n6272              2023-02-08 08:29:32.592503              2            False   \n6450              2023-02-08 08:29:32.592503              2            False   \n7970              2023-02-08 08:29:32.592503              2            False   \n8264              2023-02-08 08:29:32.592503              2            False   \n8299              2023-02-08 08:29:32.592503              2            False   \n...                                      ...            ...              ...   \n22108             2023-02-08 08:29:51.797608              2            False   \n22109             2023-02-08 08:29:51.797608              2            False   \n22136             2023-02-08 08:29:51.797608              2            False   \n22138             2023-02-08 08:29:51.797608              2            False   \n22152             2023-02-08 08:29:51.797608              2            False   \n\n      is_repayment  office_id  \n6272          True          1  \n6450          True          1  \n7970          True          1  \n8264          True          1  \n8299          True          1  \n...            ...        ...  \n22108         True          1  \n22109         True          1  \n22136         True          1  \n22138         True          1  \n22152         True          1  \n\n[444 rows x 23 columns]",
      "text/html": "<div>\n<style scoped>\n    .dataframe tbody tr th:only-of-type {\n        vertical-align: middle;\n    }\n\n    .dataframe tbody tr th {\n        vertical-align: top;\n    }\n\n    .dataframe thead th {\n        text-align: right;\n    }\n</style>\n<table border=\"1\" class=\"dataframe\">\n  <thead>\n    <tr style=\"text-align: right;\">\n      <th></th>\n      <th>surrogate_id</th>\n      <th>mifos_loan_id</th>\n      <th>payment_id</th>\n      <th>account_number</th>\n      <th>payment_detail_id</th>\n      <th>receipt_number</th>\n      <th>transaction_id</th>\n      <th>is_reversed</th>\n      <th>transaction_type_enum</th>\n      <th>transaction_date</th>\n      <th>...</th>\n      <th>fee_charges_portion_derived</th>\n      <th>submitted_on_date</th>\n      <th>created_date</th>\n      <th>outstanding_loan_balance_derived</th>\n      <th>appuser_id</th>\n      <th>record_added_to_warehouse_on_timestamp</th>\n      <th>bloom_version</th>\n      <th>is_disbursement</th>\n      <th>is_repayment</th>\n      <th>office_id</th>\n    </tr>\n  </thead>\n  <tbody>\n    <tr>\n      <th>6272</th>\n      <td>9490747</td>\n      <td>294577</td>\n      <td>822636</td>\n      <td>294577.0</td>\n      <td>MpesaRepayment</td>\n      <td>RA60TZEBRO</td>\n      <td>3663299</td>\n      <td>False</td>\n      <td>2</td>\n      <td>2023-01-06</td>\n      <td>...</td>\n      <td>178.08</td>\n      <td>2023-02-07</td>\n      <td>2023-01-06 17:35:32</td>\n      <td>27629.74</td>\n      <td>1</td>\n      <td>2023-02-08 08:29:32.592503</td>\n      <td>2</td>\n      <td>False</td>\n      <td>True</td>\n      <td>1</td>\n    </tr>\n    <tr>\n      <th>6450</th>\n      <td>9490925</td>\n      <td>294549</td>\n      <td>822873</td>\n      <td>294549.0</td>\n      <td>MpesaRepayment</td>\n      <td>RA66UAYFKC</td>\n      <td>3663286</td>\n      <td>False</td>\n      <td>2</td>\n      <td>2023-01-06</td>\n      <td>...</td>\n      <td>91.71</td>\n      <td>2023-02-07</td>\n      <td>2023-01-06 20:25:07</td>\n      <td>7844.37</td>\n      <td>1</td>\n      <td>2023-02-08 08:29:32.592503</td>\n      <td>2</td>\n      <td>False</td>\n      <td>True</td>\n      <td>1</td>\n    </tr>\n    <tr>\n      <th>7970</th>\n      <td>9492445</td>\n      <td>294819</td>\n      <td>824155</td>\n      <td>294819.0</td>\n      <td>MpesaRepayment</td>\n      <td>RA80Z166IE</td>\n      <td>3663369</td>\n      <td>False</td>\n      <td>2</td>\n      <td>2023-01-08</td>\n      <td>...</td>\n      <td>96.88</td>\n      <td>2023-02-07</td>\n      <td>2023-01-08 19:52:32</td>\n      <td>4627.14</td>\n      <td>1</td>\n      <td>2023-02-08 08:29:32.592503</td>\n      <td>2</td>\n      <td>False</td>\n      <td>True</td>\n      <td>1</td>\n    </tr>\n    <tr>\n      <th>8264</th>\n      <td>9492739</td>\n      <td>294530</td>\n      <td>824703</td>\n      <td>294530.0</td>\n      <td>MpesaRepayment</td>\n      <td>RA90ZM8YPQ</td>\n      <td>3663276</td>\n      <td>False</td>\n      <td>2</td>\n      <td>2023-01-09</td>\n      <td>...</td>\n      <td>49.97</td>\n      <td>2023-02-07</td>\n      <td>2023-01-09 08:00:02</td>\n      <td>2100.00</td>\n      <td>1</td>\n      <td>2023-02-08 08:29:32.592503</td>\n      <td>2</td>\n      <td>False</td>\n      <td>True</td>\n      <td>1</td>\n    </tr>\n    <tr>\n      <th>8299</th>\n      <td>9492774</td>\n      <td>295359</td>\n      <td>824812</td>\n      <td>295359.0</td>\n      <td>MpesaRepayment</td>\n      <td>RA93ZRKOVL</td>\n      <td>3663592</td>\n      <td>False</td>\n      <td>2</td>\n      <td>2023-01-09</td>\n      <td>...</td>\n      <td>67.67</td>\n      <td>2023-02-07</td>\n      <td>2023-01-09 09:20:17</td>\n      <td>6585.94</td>\n      <td>1</td>\n      <td>2023-02-08 08:29:32.592503</td>\n      <td>2</td>\n      <td>False</td>\n      <td>True</td>\n      <td>1</td>\n    </tr>\n    <tr>\n      <th>...</th>\n      <td>...</td>\n      <td>...</td>\n      <td>...</td>\n      <td>...</td>\n      <td>...</td>\n      <td>...</td>\n      <td>...</td>\n      <td>...</td>\n      <td>...</td>\n      <td>...</td>\n      <td>...</td>\n      <td>...</td>\n      <td>...</td>\n      <td>...</td>\n      <td>...</td>\n      <td>...</td>\n      <td>...</td>\n      <td>...</td>\n      <td>...</td>\n      <td>...</td>\n      <td>...</td>\n    </tr>\n    <tr>\n      <th>22108</th>\n      <td>9507221</td>\n      <td>295523</td>\n      <td>844458</td>\n      <td>295523.0</td>\n      <td>MpesaRepayment</td>\n      <td>RAF1GVDNDZ</td>\n      <td>3656571</td>\n      <td>False</td>\n      <td>2</td>\n      <td>2023-01-15</td>\n      <td>...</td>\n      <td>NaN</td>\n      <td>2023-02-06</td>\n      <td>2023-01-26 09:55:55</td>\n      <td>7000.00</td>\n      <td>1</td>\n      <td>2023-02-08 08:29:51.797608</td>\n      <td>2</td>\n      <td>False</td>\n      <td>True</td>\n      <td>1</td>\n    </tr>\n    <tr>\n      <th>22109</th>\n      <td>9507222</td>\n      <td>296748</td>\n      <td>844459</td>\n      <td>296748.0</td>\n      <td>MpesaRepayment</td>\n      <td>RAF4GTDI1M</td>\n      <td>3663937</td>\n      <td>False</td>\n      <td>2</td>\n      <td>2023-01-15</td>\n      <td>...</td>\n      <td>6.27</td>\n      <td>2023-02-07</td>\n      <td>2023-01-26 09:56:10</td>\n      <td>113.16</td>\n      <td>1</td>\n      <td>2023-02-08 08:29:51.797608</td>\n      <td>2</td>\n      <td>False</td>\n      <td>True</td>\n      <td>1</td>\n    </tr>\n    <tr>\n      <th>22136</th>\n      <td>9507249</td>\n      <td>296098</td>\n      <td>844487</td>\n      <td>296098.0</td>\n      <td>MpesaRepayment</td>\n      <td>RAD7AXU6HV</td>\n      <td>3663843</td>\n      <td>False</td>\n      <td>2</td>\n      <td>2023-01-13</td>\n      <td>...</td>\n      <td>464.04</td>\n      <td>2023-02-07</td>\n      <td>2023-01-26 10:06:01</td>\n      <td>1073.27</td>\n      <td>1</td>\n      <td>2023-02-08 08:29:51.797608</td>\n      <td>2</td>\n      <td>False</td>\n      <td>True</td>\n      <td>1</td>\n    </tr>\n    <tr>\n      <th>22138</th>\n      <td>9507251</td>\n      <td>298725</td>\n      <td>844489</td>\n      <td>298725.0</td>\n      <td>MpesaRepayment</td>\n      <td>RAC78J16PD</td>\n      <td>3664377</td>\n      <td>False</td>\n      <td>2</td>\n      <td>2023-01-12</td>\n      <td>...</td>\n      <td>NaN</td>\n      <td>2023-02-07</td>\n      <td>2023-01-26 10:07:31</td>\n      <td>122.33</td>\n      <td>1</td>\n      <td>2023-02-08 08:29:51.797608</td>\n      <td>2</td>\n      <td>False</td>\n      <td>True</td>\n      <td>1</td>\n    </tr>\n    <tr>\n      <th>22152</th>\n      <td>9507265</td>\n      <td>295245</td>\n      <td>844503</td>\n      <td>295245.0</td>\n      <td>MpesaRepayment</td>\n      <td>RA85X6FFW9</td>\n      <td>3663544</td>\n      <td>False</td>\n      <td>2</td>\n      <td>2023-01-08</td>\n      <td>...</td>\n      <td>309.36</td>\n      <td>2023-02-07</td>\n      <td>2023-01-26 10:09:22</td>\n      <td>1197.68</td>\n      <td>1</td>\n      <td>2023-02-08 08:29:51.797608</td>\n      <td>2</td>\n      <td>False</td>\n      <td>True</td>\n      <td>1</td>\n    </tr>\n  </tbody>\n</table>\n<p>444 rows × 23 columns</p>\n</div>"
     },
     "execution_count": 32,
     "metadata": {},
     "output_type": "execute_result"
    }
   ],
   "source": [
    "extra_trxns"
   ],
   "metadata": {
    "collapsed": false
   }
  },
  {
   "cell_type": "code",
   "execution_count": 7,
   "outputs": [
    {
     "ename": "NameError",
     "evalue": "name 'extra_trxns' is not defined",
     "output_type": "error",
     "traceback": [
      "\u001B[0;31m---------------------------------------------------------------------------\u001B[0m",
      "\u001B[0;31mNameError\u001B[0m                                 Traceback (most recent call last)",
      "Input \u001B[0;32mIn [7]\u001B[0m, in \u001B[0;36m<cell line: 1>\u001B[0;34m()\u001B[0m\n\u001B[1;32m      1\u001B[0m traced_transactions \u001B[38;5;241m=\u001B[39m mifos_hook\u001B[38;5;241m.\u001B[39mget_pandas_df(\n\u001B[1;32m      2\u001B[0m     sql\u001B[38;5;241m=\u001B[39m\u001B[38;5;124m\"\"\"\u001B[39m\n\u001B[1;32m      3\u001B[0m \u001B[38;5;124m        select\u001B[39m\n\u001B[1;32m      4\u001B[0m \u001B[38;5;124m            mlt.*\u001B[39m\n\u001B[1;32m      5\u001B[0m \u001B[38;5;124m        from `mifostenant-safaricom`.m_loan ml\u001B[39m\n\u001B[1;32m      6\u001B[0m \u001B[38;5;124m        inner join `mifostenant-safaricom`.m_loan_transaction mlt on mlt.loan_id = ml.id\u001B[39m\n\u001B[1;32m      7\u001B[0m \u001B[38;5;124m        inner join `mifostenant-safaricom`.m_payment_detail mpd on mpd.id = mlt.payment_detail_id\u001B[39m\n\u001B[1;32m      8\u001B[0m \u001B[38;5;124m        left join `mifostenant-safaricom`.m_payment_type mpt on mpt.id = mpd.payment_type_id\u001B[39m\n\u001B[1;32m      9\u001B[0m \u001B[38;5;124m        where mlt.transaction_type_enum in (1, 2) and date(mlt.transaction_date) -- between \u001B[39m\u001B[38;5;124m'\u001B[39m\u001B[38;5;124m2022-11-01\u001B[39m\u001B[38;5;124m'\u001B[39m\u001B[38;5;124m and \u001B[39m\u001B[38;5;124m'\u001B[39m\u001B[38;5;124m2022-11-30\u001B[39m\u001B[38;5;124m'\u001B[39m\n\u001B[1;32m     10\u001B[0m \u001B[38;5;124m        and mlt.id in \u001B[39m\u001B[38;5;132;01m%(extra_trxns)s\u001B[39;00m\n\u001B[1;32m     11\u001B[0m \u001B[38;5;124m    \u001B[39m\u001B[38;5;124m\"\"\"\u001B[39m,\n\u001B[0;32m---> 12\u001B[0m     parameters\u001B[38;5;241m=\u001B[39m{\u001B[38;5;124m'\u001B[39m\u001B[38;5;124mextra_trxns\u001B[39m\u001B[38;5;124m'\u001B[39m: \u001B[38;5;28mtuple\u001B[39m(\u001B[43mextra_trxns\u001B[49m[\u001B[38;5;124m'\u001B[39m\u001B[38;5;124mtransaction_id\u001B[39m\u001B[38;5;124m'\u001B[39m]\u001B[38;5;241m.\u001B[39mtolist())}\n\u001B[1;32m     13\u001B[0m )\n",
      "\u001B[0;31mNameError\u001B[0m: name 'extra_trxns' is not defined"
     ]
    }
   ],
   "source": [
    "traced_transactions = mifos_hook.get_pandas_df(\n",
    "    sql=\"\"\"\n",
    "        select\n",
    "            mlt.*\n",
    "        from `mifostenant-safaricom`.m_loan ml\n",
    "        inner join `mifostenant-safaricom`.m_loan_transaction mlt on mlt.loan_id = ml.id\n",
    "        inner join `mifostenant-safaricom`.m_payment_detail mpd on mpd.id = mlt.payment_detail_id\n",
    "        left join `mifostenant-safaricom`.m_payment_type mpt on mpt.id = mpd.payment_type_id\n",
    "        where mlt.transaction_type_enum in (1, 2) and date(mlt.transaction_date) -- between '2022-11-01' and '2022-11-30'\n",
    "        and mlt.id in %(extra_trxns)s\n",
    "    \"\"\",\n",
    "    parameters={'extra_trxns': tuple(extra_trxns['transaction_id'].tolist())}\n",
    ")"
   ],
   "metadata": {
    "collapsed": false
   }
  },
  {
   "cell_type": "code",
   "execution_count": 37,
   "outputs": [
    {
     "name": "stdout",
     "output_type": "stream",
     "text": [
      "Column 'A' does not exist in the Series\n"
     ]
    }
   ],
   "source": [
    "traced_transactions"
   ],
   "metadata": {
    "collapsed": false
   }
  },
  {
   "cell_type": "code",
   "execution_count": 7,
   "outputs": [],
   "source": [
    "existing_records = warehouse_hook.get_pandas_df(\n",
    "    sql=\"\"\"\n",
    "        SELECT receipt_number FROM bloomlive.transactions_dimension\n",
    "        WHERE bloom_version = 2;\n",
    "    \"\"\"\n",
    ")\n",
    "\n",
    "if len(existing_records) > 0:\n",
    "    # extract only those records that are not already stored in the warehouse\n",
    "    transactions = mifos_hook.get_pandas_df(\n",
    "        sql=f\"\"\"\n",
    "            select\n",
    "                ml.id as loan_id, mpd.id as payment_id, mpd.account_number, mpt.value as payment_detail_id,\n",
    "                mpd.receipt_number, mlt.id as transaction_id,\n",
    "                mlt.is_reversed, mlt.transaction_type_enum, mlt.transaction_date, mlt.amount,\n",
    "                mlt.principal_portion_derived, mlt.interest_portion_derived, mlt.fee_charges_portion_derived,\n",
    "                mlt.submitted_on_date, mlt.created_date, mlt.appuser_id, mlt.outstanding_loan_balance_derived\n",
    "            from `mifostenant-safaricom`.m_loan ml\n",
    "            inner join `mifostenant-safaricom`.m_loan_transaction mlt on mlt.loan_id = ml.id\n",
    "            inner join `mifostenant-safaricom`.m_payment_detail mpd on mpd.id = mlt.payment_detail_id\n",
    "            left join `mifostenant-safaricom`.m_payment_type mpt on mpt.id = mpd.payment_type_id\n",
    "            where mlt.transaction_type_enum in (1, 2) and mlt.is_reversed = 0 and mpd.receipt_number not in %(rns)s\n",
    "        \"\"\",\n",
    "        parameters={'rns': tuple(existing_records['receipt_number'].tolist())}\n",
    "    )"
   ],
   "metadata": {
    "collapsed": false
   }
  },
  {
   "cell_type": "code",
   "execution_count": 8,
   "outputs": [
    {
     "data": {
      "text/plain": "      loan_id  payment_id account_number payment_detail_id receipt_number  \\\n0      240795      730474         240795    MpesaRepayment     QKN2ISPA06   \n1      206190      619089         206190    MpesaRepayment     QIM1HE6WZ7   \n2      206190      619099         206190    MpesaRepayment     QIM5GZOVUT   \n3      252468      739407         252468    MpesaRepayment     QKT5VPN9HP   \n4      153111      755917         153111    MpesaRepayment     QL93QZ9JR7   \n...       ...         ...            ...               ...            ...   \n3480   291551      822044         291551    MpesaRepayment     RA65T1DHR3   \n3481   291665      830178         291665    MpesaRepayment     RAC29OK5MM   \n3482   291694      824013         291694    MpesaRepayment     RA89YS3TAF   \n3483   295345      833392         295345    MpesaRepayment     RAG0JI0MQ0   \n3484   298562      841029         298562    MpesaRepayment     RAN729NKCL   \n\n      transaction_id  is_reversed  transaction_type_enum transaction_date  \\\n0            3037098            1                      2       2022-11-23   \n1            3066705            1                      2       2022-09-22   \n2            3073085            1                      2       2022-09-22   \n3            3077984            1                      2       2022-11-29   \n4            3165377            1                      2       2022-12-09   \n...              ...          ...                    ...              ...   \n3480         3553349            1                      2       2023-01-06   \n3481         3553371            1                      2       2023-01-12   \n3482         3553376            1                      2       2023-01-08   \n3483         3554222            1                      2       2023-01-16   \n3484         3554288            1                      2       2023-01-23   \n\n        amount  principal_portion_derived  interest_portion_derived  \\\n0      5600.00                    5600.00                       NaN   \n1      8500.00                    8500.00                       NaN   \n2      4400.00                    2720.83                   1679.17   \n3       400.00                     400.00                       NaN   \n4      5000.00                        NaN                       NaN   \n...        ...                        ...                       ...   \n3480   8497.08                    7724.31                    249.60   \n3481   9290.97                    8207.61                    265.20   \n3482   4673.39                    4248.32                    137.28   \n3483  40000.00                   38402.10                   1560.00   \n3484   1548.00                     300.00                   1248.00   \n\n      fee_charges_portion_derived submitted_on_date        created_date  \\\n0                             NaN        2022-11-23 2022-11-23 15:41:54   \n1                             NaN        2022-11-28 2022-10-06 08:21:48   \n2                             NaN        2022-11-29 2022-10-06 08:22:28   \n3                             NaN        2022-11-29 2022-11-29 08:09:00   \n4                          136.97        2022-12-12 2022-12-12 06:30:27   \n...                           ...               ...                 ...   \n3480                       494.98        2023-01-24 2023-01-06 13:24:59   \n3481                       525.92        2023-01-24 2023-01-12 18:18:17   \n3482                       272.24        2023-01-24 2023-01-08 17:45:54   \n3483                        16.80        2023-01-24 2023-01-16 19:47:09   \n3484                          NaN        2023-01-24 2023-01-23 21:05:38   \n\n      appuser_id  outstanding_loan_balance_derived  \n0              1                          46170.06  \n1              1                          86500.00  \n2              1                          83779.17  \n3              1                          14509.68  \n4              1                           9700.00  \n...          ...                               ...  \n3480           1                            275.69  \n3481           1                            292.39  \n3482           1                            151.68  \n3483           1                            597.90  \n3484           1                          38152.00  \n\n[3485 rows x 17 columns]",
      "text/html": "<div>\n<style scoped>\n    .dataframe tbody tr th:only-of-type {\n        vertical-align: middle;\n    }\n\n    .dataframe tbody tr th {\n        vertical-align: top;\n    }\n\n    .dataframe thead th {\n        text-align: right;\n    }\n</style>\n<table border=\"1\" class=\"dataframe\">\n  <thead>\n    <tr style=\"text-align: right;\">\n      <th></th>\n      <th>loan_id</th>\n      <th>payment_id</th>\n      <th>account_number</th>\n      <th>payment_detail_id</th>\n      <th>receipt_number</th>\n      <th>transaction_id</th>\n      <th>is_reversed</th>\n      <th>transaction_type_enum</th>\n      <th>transaction_date</th>\n      <th>amount</th>\n      <th>principal_portion_derived</th>\n      <th>interest_portion_derived</th>\n      <th>fee_charges_portion_derived</th>\n      <th>submitted_on_date</th>\n      <th>created_date</th>\n      <th>appuser_id</th>\n      <th>outstanding_loan_balance_derived</th>\n    </tr>\n  </thead>\n  <tbody>\n    <tr>\n      <th>0</th>\n      <td>240795</td>\n      <td>730474</td>\n      <td>240795</td>\n      <td>MpesaRepayment</td>\n      <td>QKN2ISPA06</td>\n      <td>3037098</td>\n      <td>1</td>\n      <td>2</td>\n      <td>2022-11-23</td>\n      <td>5600.00</td>\n      <td>5600.00</td>\n      <td>NaN</td>\n      <td>NaN</td>\n      <td>2022-11-23</td>\n      <td>2022-11-23 15:41:54</td>\n      <td>1</td>\n      <td>46170.06</td>\n    </tr>\n    <tr>\n      <th>1</th>\n      <td>206190</td>\n      <td>619089</td>\n      <td>206190</td>\n      <td>MpesaRepayment</td>\n      <td>QIM1HE6WZ7</td>\n      <td>3066705</td>\n      <td>1</td>\n      <td>2</td>\n      <td>2022-09-22</td>\n      <td>8500.00</td>\n      <td>8500.00</td>\n      <td>NaN</td>\n      <td>NaN</td>\n      <td>2022-11-28</td>\n      <td>2022-10-06 08:21:48</td>\n      <td>1</td>\n      <td>86500.00</td>\n    </tr>\n    <tr>\n      <th>2</th>\n      <td>206190</td>\n      <td>619099</td>\n      <td>206190</td>\n      <td>MpesaRepayment</td>\n      <td>QIM5GZOVUT</td>\n      <td>3073085</td>\n      <td>1</td>\n      <td>2</td>\n      <td>2022-09-22</td>\n      <td>4400.00</td>\n      <td>2720.83</td>\n      <td>1679.17</td>\n      <td>NaN</td>\n      <td>2022-11-29</td>\n      <td>2022-10-06 08:22:28</td>\n      <td>1</td>\n      <td>83779.17</td>\n    </tr>\n    <tr>\n      <th>3</th>\n      <td>252468</td>\n      <td>739407</td>\n      <td>252468</td>\n      <td>MpesaRepayment</td>\n      <td>QKT5VPN9HP</td>\n      <td>3077984</td>\n      <td>1</td>\n      <td>2</td>\n      <td>2022-11-29</td>\n      <td>400.00</td>\n      <td>400.00</td>\n      <td>NaN</td>\n      <td>NaN</td>\n      <td>2022-11-29</td>\n      <td>2022-11-29 08:09:00</td>\n      <td>1</td>\n      <td>14509.68</td>\n    </tr>\n    <tr>\n      <th>4</th>\n      <td>153111</td>\n      <td>755917</td>\n      <td>153111</td>\n      <td>MpesaRepayment</td>\n      <td>QL93QZ9JR7</td>\n      <td>3165377</td>\n      <td>1</td>\n      <td>2</td>\n      <td>2022-12-09</td>\n      <td>5000.00</td>\n      <td>NaN</td>\n      <td>NaN</td>\n      <td>136.97</td>\n      <td>2022-12-12</td>\n      <td>2022-12-12 06:30:27</td>\n      <td>1</td>\n      <td>9700.00</td>\n    </tr>\n    <tr>\n      <th>...</th>\n      <td>...</td>\n      <td>...</td>\n      <td>...</td>\n      <td>...</td>\n      <td>...</td>\n      <td>...</td>\n      <td>...</td>\n      <td>...</td>\n      <td>...</td>\n      <td>...</td>\n      <td>...</td>\n      <td>...</td>\n      <td>...</td>\n      <td>...</td>\n      <td>...</td>\n      <td>...</td>\n      <td>...</td>\n    </tr>\n    <tr>\n      <th>3480</th>\n      <td>291551</td>\n      <td>822044</td>\n      <td>291551</td>\n      <td>MpesaRepayment</td>\n      <td>RA65T1DHR3</td>\n      <td>3553349</td>\n      <td>1</td>\n      <td>2</td>\n      <td>2023-01-06</td>\n      <td>8497.08</td>\n      <td>7724.31</td>\n      <td>249.60</td>\n      <td>494.98</td>\n      <td>2023-01-24</td>\n      <td>2023-01-06 13:24:59</td>\n      <td>1</td>\n      <td>275.69</td>\n    </tr>\n    <tr>\n      <th>3481</th>\n      <td>291665</td>\n      <td>830178</td>\n      <td>291665</td>\n      <td>MpesaRepayment</td>\n      <td>RAC29OK5MM</td>\n      <td>3553371</td>\n      <td>1</td>\n      <td>2</td>\n      <td>2023-01-12</td>\n      <td>9290.97</td>\n      <td>8207.61</td>\n      <td>265.20</td>\n      <td>525.92</td>\n      <td>2023-01-24</td>\n      <td>2023-01-12 18:18:17</td>\n      <td>1</td>\n      <td>292.39</td>\n    </tr>\n    <tr>\n      <th>3482</th>\n      <td>291694</td>\n      <td>824013</td>\n      <td>291694</td>\n      <td>MpesaRepayment</td>\n      <td>RA89YS3TAF</td>\n      <td>3553376</td>\n      <td>1</td>\n      <td>2</td>\n      <td>2023-01-08</td>\n      <td>4673.39</td>\n      <td>4248.32</td>\n      <td>137.28</td>\n      <td>272.24</td>\n      <td>2023-01-24</td>\n      <td>2023-01-08 17:45:54</td>\n      <td>1</td>\n      <td>151.68</td>\n    </tr>\n    <tr>\n      <th>3483</th>\n      <td>295345</td>\n      <td>833392</td>\n      <td>295345</td>\n      <td>MpesaRepayment</td>\n      <td>RAG0JI0MQ0</td>\n      <td>3554222</td>\n      <td>1</td>\n      <td>2</td>\n      <td>2023-01-16</td>\n      <td>40000.00</td>\n      <td>38402.10</td>\n      <td>1560.00</td>\n      <td>16.80</td>\n      <td>2023-01-24</td>\n      <td>2023-01-16 19:47:09</td>\n      <td>1</td>\n      <td>597.90</td>\n    </tr>\n    <tr>\n      <th>3484</th>\n      <td>298562</td>\n      <td>841029</td>\n      <td>298562</td>\n      <td>MpesaRepayment</td>\n      <td>RAN729NKCL</td>\n      <td>3554288</td>\n      <td>1</td>\n      <td>2</td>\n      <td>2023-01-23</td>\n      <td>1548.00</td>\n      <td>300.00</td>\n      <td>1248.00</td>\n      <td>NaN</td>\n      <td>2023-01-24</td>\n      <td>2023-01-23 21:05:38</td>\n      <td>1</td>\n      <td>38152.00</td>\n    </tr>\n  </tbody>\n</table>\n<p>3485 rows × 17 columns</p>\n</div>"
     },
     "execution_count": 8,
     "metadata": {},
     "output_type": "execute_result"
    }
   ],
   "source": [
    "extra_trxns2"
   ],
   "metadata": {
    "collapsed": false
   }
  },
  {
   "cell_type": "code",
   "execution_count": 10,
   "outputs": [],
   "source": [
    "extra_trxns3 = warehouse_hook.get_pandas_df(\n",
    "    sql=\"\"\"\n",
    "        select * from bloomlive.transactions_dimension where transaction_id in %(ti)s\n",
    "    \"\"\",\n",
    "    parameters={'ti': tuple(extra_trxns['transaction_id'].tolist())}\n",
    ")"
   ],
   "metadata": {
    "collapsed": false
   }
  },
  {
   "cell_type": "code",
   "execution_count": 12,
   "outputs": [],
   "source": [
    "extra_trxns3"
   ],
   "metadata": {
    "collapsed": false
   }
  },
  {
   "cell_type": "code",
   "execution_count": 59,
   "outputs": [],
   "source": [
    "mrged[mrged['transaction_id'] == 3477261]"
   ],
   "metadata": {
    "collapsed": false
   }
  }
 ],
 "metadata": {
  "kernelspec": {
   "display_name": "Python 3",
   "language": "python",
   "name": "python3"
  },
  "language_info": {
   "codemirror_mode": {
    "name": "ipython",
    "version": 2
   },
   "file_extension": ".py",
   "mimetype": "text/x-python",
   "name": "python",
   "nbconvert_exporter": "python",
   "pygments_lexer": "ipython2",
   "version": "2.7.6"
  }
 },
 "nbformat": 4,
 "nbformat_minor": 0
}
